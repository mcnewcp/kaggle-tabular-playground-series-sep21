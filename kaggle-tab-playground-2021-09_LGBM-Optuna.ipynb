{
 "cells": [
  {
   "cell_type": "markdown",
   "source": [
    "# Tabular Playground September 2021\r\n",
    "\r\n",
    "This notebook handles model tuning for the logistic regression model developed for the Kaggle Tabular Playground September 2021 Competition.  For EDA, FE, and initial model development, see the previous notebooks [here](https://github.com/mcnewcp/kaggle-tabular-playground-series-sep21/blob/coy/kaggle-tab-playground-2021-09_MI-PCA.ipynb) and [here](https://github.com/mcnewcp/kaggle-tabular-playground-series-sep21/blob/coy/kaggle-tab-playground-2021-09_FE%2BLogReg-RF-XGB.ipynb).\r\n",
    "\r\n",
    "# Load Data"
   ],
   "metadata": {}
  },
  {
   "cell_type": "code",
   "execution_count": 1,
   "source": [
    "import numpy as np\r\n",
    "import pandas as pd\r\n",
    "\r\n",
    "test = pd.read_csv('datasets/test.csv')\r\n",
    "train = pd.read_csv('datasets/train.csv')\r\n",
    "\r\n",
    "# ######TEMP REDUCE DATA SIZE\r\n",
    "# train = train.sample(1000)\r\n",
    "\r\n",
    "X_train = train.drop(['id', 'claim'], axis=1)\r\n",
    "y_train = train.claim"
   ],
   "outputs": [],
   "metadata": {}
  },
  {
   "cell_type": "markdown",
   "source": [
    "# Model Pipeline\r\n",
    "\r\n",
    "## Feature Engineering"
   ],
   "metadata": {}
  },
  {
   "cell_type": "code",
   "execution_count": 2,
   "source": [
    "from sklearn.base import BaseEstimator, TransformerMixin\r\n",
    "from sklearn.preprocessing import StandardScaler\r\n",
    "from scipy import stats\r\n",
    "\r\n",
    "class CombinedAttributesAdder(BaseEstimator, TransformerMixin):\r\n",
    "    #one hyperparameter per new feature\r\n",
    "    def __init__(\r\n",
    "        self, \r\n",
    "        add_sum = True, \r\n",
    "        add_num_nan = True,\r\n",
    "        add_abs_sum = True, \r\n",
    "        add_sem = True\r\n",
    "    ): #no *args or **kargs\r\n",
    "        self.add_sum = add_sum\r\n",
    "        self.add_num_nan = add_num_nan\r\n",
    "        self.add_abs_sum = add_abs_sum\r\n",
    "        self.add_sem = add_sem\r\n",
    "    def fit(self, X, y=None):\r\n",
    "        return self #nothing to fit\r\n",
    "    def transform(self, X):\r\n",
    "        #generate additional features\r\n",
    "        if self.add_sum:\r\n",
    "            std_scaler = StandardScaler()\r\n",
    "            sum_col = X.copy()\r\n",
    "            sum_col[np.isnan(sum_col)] = 0\r\n",
    "            sum_col = std_scaler.fit_transform(sum_col)\r\n",
    "            sum_col = sum_col.sum(axis=1)\r\n",
    "            X = np.c_[X, sum_col]\r\n",
    "        if self.add_num_nan:\r\n",
    "            num_nan = np.isnan(X).sum(axis=1)\r\n",
    "            X = np.c_[X, num_nan]\r\n",
    "        if self.add_abs_sum:\r\n",
    "            abs_sum = X.copy()\r\n",
    "            abs_sum[np.isnan(abs_sum)] = 0\r\n",
    "            abs_sum = np.abs(abs_sum).sum(axis=1)\r\n",
    "            X = np.c_[X, abs_sum]\r\n",
    "        if self.add_sem:\r\n",
    "            sem_col = stats.sem(X, nan_policy = 'omit', axis=1)\r\n",
    "            X = np.c_[X, sem_col]\r\n",
    "        return X\r\n"
   ],
   "outputs": [],
   "metadata": {}
  },
  {
   "cell_type": "markdown",
   "source": [
    "## Preprocessing"
   ],
   "metadata": {}
  },
  {
   "cell_type": "code",
   "execution_count": 3,
   "source": [
    "from sklearn.impute import SimpleImputer\r\n",
    "from sklearn.preprocessing import StandardScaler\r\n",
    "\r\n",
    "scaler = StandardScaler()"
   ],
   "outputs": [],
   "metadata": {}
  },
  {
   "cell_type": "markdown",
   "source": [
    "## Model"
   ],
   "metadata": {}
  },
  {
   "cell_type": "code",
   "execution_count": 4,
   "source": [
    "from sklearn.pipeline import Pipeline\r\n",
    "from lightgbm import LGBMClassifier\r\n",
    "\r\n",
    "model = Pipeline([\r\n",
    "    ('attr_adder', CombinedAttributesAdder()),\r\n",
    "    ('imputer', SimpleImputer()),\r\n",
    "    ('std_scaler', scaler),\r\n",
    "    ('lgbm', LGBMClassifier(silent=False, objective='binary'))\r\n",
    "])"
   ],
   "outputs": [],
   "metadata": {}
  },
  {
   "cell_type": "markdown",
   "source": [
    "# Tuning\r\n",
    "\r\n",
    "For tuning I'm going to use the `Optuna` package.  Optuna provides a number of really cool features when it comes to tuning hyperparameters and processing steps, including built in plotly diagnostic plots.  A pretty good intro to Optuna can be found [here](https://towardsdatascience.com/how-to-make-your-model-awesome-with-optuna-b56d490368af). \r\n",
    "\r\n",
    "The package works by minimizing an objective function.  The objective function must be defined so that it returns a single value which is the score minimized by the optuna study.  It is suggested to use cv score when scoring inside the objective function.  All possible hyperparameters must be chosen using the built in `trial.suggest_**` functions.  5 possible distributions options are provided:\r\n",
    "\r\n",
    "* uniform — float values\r\n",
    "* log-uniform — float values\r\n",
    "* discrete uniform — float values with intervals\r\n",
    "* integer — integer values\r\n",
    "* categorical — categorical values from a list\r\n",
    "\r\n",
    "Of course you can access any hyperparameters along the pipeline using the `step__hyperparam` nomenclature.  I'm also including a pickling step in the objective below, so that I can load intermediate results in case the process is interrupted or if I want to add onto the study."
   ],
   "metadata": {}
  },
  {
   "cell_type": "code",
   "execution_count": 5,
   "source": [
    "import optuna\r\n",
    "import joblib\r\n",
    "from sklearn.metrics import roc_auc_score\r\n",
    "from sklearn.model_selection import cross_val_predict\r\n",
    "\r\n",
    "def objective(trial):\r\n",
    "\r\n",
    "    joblib.dump(study, 'study-lgbm.pkl')\r\n",
    "\r\n",
    "    attr_adder__add_sum = trial.suggest_categorical('attr_adder__add_sum', [False, True])\r\n",
    "    attr_adder__add_num_nan = trial.suggest_categorical('attr_adder__add_num_nan', [False, True])\r\n",
    "    attr_adder__add_abs_sum = trial.suggest_categorical('attr_adder__add_abs_sum', [False, True])\r\n",
    "    attr_adder__add_sem = trial.suggest_categorical('attr_adder__add_sem', [False, True])\r\n",
    "    imputer__strategy = trial.suggest_categorical('imputer__strategy', ['median', 'mean', 'constant', 'most_frequent'])\r\n",
    "    lgbm__boosting_type = trial.suggest_categorical('lgbm__boosting_type', ['gbdt', 'goss'])\r\n",
    "    lgbm__num_leaves = trial.suggest_int('lgbm__num_leaves', 2, 200)\r\n",
    "    lgbm__max_depth = trial.suggest_int('lgbm__max_depth', -1, 50)\r\n",
    "    lgbm__learning_rate = trial.suggest_uniform('lgbm__learning_rate', 0.01, 1)\r\n",
    "    lgbm__n_estimators = trial.suggest_int('lgbm__n_estimators', 10, 500)\r\n",
    "    lgbm__reg_alpha = trial.suggest_loguniform('lgbm__reg_alpha', 0.1, 100)\r\n",
    "    lgbm__reg_lambda = trial.suggest_loguniform('lgbm__reg_lambda', 0.1, 100)\r\n",
    "\r\n",
    "\r\n",
    "    params = {\r\n",
    "        'attr_adder__add_sum': attr_adder__add_sum,\r\n",
    "        'attr_adder__add_num_nan': attr_adder__add_num_nan,\r\n",
    "        'attr_adder__add_abs_sum': attr_adder__add_abs_sum, \r\n",
    "        'attr_adder__add_sem': attr_adder__add_sem, \r\n",
    "        'imputer__strategy': imputer__strategy,\r\n",
    "        'lgbm__boosting_type': lgbm__boosting_type,\r\n",
    "        'lgbm__num_leaves': lgbm__num_leaves,\r\n",
    "        'lgbm__max_depth': lgbm__max_depth,\r\n",
    "        'lgbm__learning_rate': lgbm__learning_rate, \r\n",
    "        'lgbm__n_estimators': lgbm__n_estimators, \r\n",
    "        'lgbm__reg_alpha': lgbm__reg_alpha, \r\n",
    "        'lgbm__reg_lambda': lgbm__reg_lambda\r\n",
    "    }\r\n",
    "\r\n",
    "    model.set_params(**params)\r\n",
    "\r\n",
    "    preds = cross_val_predict(\r\n",
    "        model, X_train, y_train, cv=3, method=\"predict_proba\", n_jobs = -1\r\n",
    "    )\r\n",
    "    preds = preds[:,1].reshape(len(preds))\r\n",
    "    \r\n",
    "    return roc_auc_score(y_train, preds)"
   ],
   "outputs": [],
   "metadata": {}
  },
  {
   "cell_type": "markdown",
   "source": [
    "Now all that's left to do is create the study (or load a previously pickled version) and optimize the objective.  You can specify how long the study lasts in number of trials (`n_trials`) or in time in seconds (`timeout`).  Setting `timeout` defines the time which the last trial must start before, and therefore the study last longer than the `timeout`."
   ],
   "metadata": {}
  },
  {
   "cell_type": "code",
   "execution_count": 6,
   "source": [
    "study = optuna.create_study(direction='maximize')\r\n",
    "study.optimize(objective, timeout=14400)"
   ],
   "outputs": [
    {
     "output_type": "stream",
     "name": "stderr",
     "text": [
      "\u001b[32m[I 2021-09-30 09:18:55,358]\u001b[0m A new study created in memory with name: no-name-8fd4da59-824f-4d81-80b6-d60e31f2a277\u001b[0m\n",
      "\u001b[32m[I 2021-09-30 09:21:12,091]\u001b[0m Trial 0 finished with value: 0.7673510365180414 and parameters: {'attr_adder__add_sum': False, 'attr_adder__add_num_nan': False, 'attr_adder__add_abs_sum': True, 'attr_adder__add_sem': False, 'imputer__strategy': 'mean', 'lgbm__boosting_type': 'gbdt', 'lgbm__num_leaves': 32, 'lgbm__max_depth': 33, 'lgbm__learning_rate': 0.5380267755835213, 'lgbm__n_estimators': 412, 'lgbm__reg_alpha': 20.248625850287084, 'lgbm__reg_lambda': 3.604256929806227}. Best is trial 0 with value: 0.7673510365180414.\u001b[0m\n",
      "\u001b[32m[I 2021-09-30 09:24:42,169]\u001b[0m Trial 1 finished with value: 0.7276432144757129 and parameters: {'attr_adder__add_sum': False, 'attr_adder__add_num_nan': False, 'attr_adder__add_abs_sum': True, 'attr_adder__add_sem': True, 'imputer__strategy': 'median', 'lgbm__boosting_type': 'gbdt', 'lgbm__num_leaves': 130, 'lgbm__max_depth': 15, 'lgbm__learning_rate': 0.4845814080886115, 'lgbm__n_estimators': 369, 'lgbm__reg_alpha': 0.2223840641433471, 'lgbm__reg_lambda': 4.911012683746909}. Best is trial 0 with value: 0.7673510365180414.\u001b[0m\n",
      "\u001b[32m[I 2021-09-30 09:26:18,960]\u001b[0m Trial 2 finished with value: 0.7262375924405623 and parameters: {'attr_adder__add_sum': False, 'attr_adder__add_num_nan': False, 'attr_adder__add_abs_sum': False, 'attr_adder__add_sem': True, 'imputer__strategy': 'most_frequent', 'lgbm__boosting_type': 'gbdt', 'lgbm__num_leaves': 75, 'lgbm__max_depth': 24, 'lgbm__learning_rate': 0.8509495279169017, 'lgbm__n_estimators': 186, 'lgbm__reg_alpha': 2.749656236916535, 'lgbm__reg_lambda': 7.430817852547188}. Best is trial 0 with value: 0.7673510365180414.\u001b[0m\n",
      "\u001b[32m[I 2021-09-30 09:26:55,979]\u001b[0m Trial 3 finished with value: 0.8056343055125654 and parameters: {'attr_adder__add_sum': True, 'attr_adder__add_num_nan': True, 'attr_adder__add_abs_sum': False, 'attr_adder__add_sem': False, 'imputer__strategy': 'most_frequent', 'lgbm__boosting_type': 'gbdt', 'lgbm__num_leaves': 97, 'lgbm__max_depth': 34, 'lgbm__learning_rate': 0.8812249187288045, 'lgbm__n_estimators': 10, 'lgbm__reg_alpha': 17.825047654589575, 'lgbm__reg_lambda': 21.89867260943545}. Best is trial 3 with value: 0.8056343055125654.\u001b[0m\n",
      "\u001b[32m[I 2021-09-30 09:30:18,344]\u001b[0m Trial 4 finished with value: 0.7911816984544554 and parameters: {'attr_adder__add_sum': False, 'attr_adder__add_num_nan': True, 'attr_adder__add_abs_sum': True, 'attr_adder__add_sem': False, 'imputer__strategy': 'median', 'lgbm__boosting_type': 'gbdt', 'lgbm__num_leaves': 65, 'lgbm__max_depth': 8, 'lgbm__learning_rate': 0.6403423918708918, 'lgbm__n_estimators': 486, 'lgbm__reg_alpha': 3.956419348213724, 'lgbm__reg_lambda': 45.00271700345013}. Best is trial 3 with value: 0.8056343055125654.\u001b[0m\n",
      "\u001b[32m[I 2021-09-30 09:31:39,851]\u001b[0m Trial 5 finished with value: 0.7051130826223873 and parameters: {'attr_adder__add_sum': True, 'attr_adder__add_num_nan': False, 'attr_adder__add_abs_sum': False, 'attr_adder__add_sem': False, 'imputer__strategy': 'constant', 'lgbm__boosting_type': 'goss', 'lgbm__num_leaves': 116, 'lgbm__max_depth': 39, 'lgbm__learning_rate': 0.5039944976154377, 'lgbm__n_estimators': 168, 'lgbm__reg_alpha': 97.06927135296716, 'lgbm__reg_lambda': 2.749696281626448}. Best is trial 3 with value: 0.8056343055125654.\u001b[0m\n",
      "\u001b[32m[I 2021-09-30 09:32:54,531]\u001b[0m Trial 6 finished with value: 0.7823086845913428 and parameters: {'attr_adder__add_sum': True, 'attr_adder__add_num_nan': False, 'attr_adder__add_abs_sum': True, 'attr_adder__add_sem': False, 'imputer__strategy': 'mean', 'lgbm__boosting_type': 'gbdt', 'lgbm__num_leaves': 38, 'lgbm__max_depth': 3, 'lgbm__learning_rate': 0.8948501226812009, 'lgbm__n_estimators': 304, 'lgbm__reg_alpha': 6.966744563854174, 'lgbm__reg_lambda': 1.3505775504900244}. Best is trial 3 with value: 0.8056343055125654.\u001b[0m\n",
      "\u001b[32m[I 2021-09-30 09:37:07,403]\u001b[0m Trial 7 finished with value: 0.6623510420555276 and parameters: {'attr_adder__add_sum': False, 'attr_adder__add_num_nan': False, 'attr_adder__add_abs_sum': False, 'attr_adder__add_sem': False, 'imputer__strategy': 'median', 'lgbm__boosting_type': 'goss', 'lgbm__num_leaves': 198, 'lgbm__max_depth': 36, 'lgbm__learning_rate': 0.2555745016286542, 'lgbm__n_estimators': 483, 'lgbm__reg_alpha': 4.612681086452187, 'lgbm__reg_lambda': 0.3097750334831438}. Best is trial 3 with value: 0.8056343055125654.\u001b[0m\n",
      "\u001b[32m[I 2021-09-30 09:39:33,945]\u001b[0m Trial 8 finished with value: 0.7919246648701979 and parameters: {'attr_adder__add_sum': True, 'attr_adder__add_num_nan': True, 'attr_adder__add_abs_sum': True, 'attr_adder__add_sem': False, 'imputer__strategy': 'mean', 'lgbm__boosting_type': 'gbdt', 'lgbm__num_leaves': 184, 'lgbm__max_depth': 46, 'lgbm__learning_rate': 0.4521228269547619, 'lgbm__n_estimators': 239, 'lgbm__reg_alpha': 3.309047472086247, 'lgbm__reg_lambda': 0.613929274449566}. Best is trial 3 with value: 0.8056343055125654.\u001b[0m\n",
      "\u001b[32m[I 2021-09-30 09:43:24,096]\u001b[0m Trial 9 finished with value: 0.741895123747393 and parameters: {'attr_adder__add_sum': True, 'attr_adder__add_num_nan': False, 'attr_adder__add_abs_sum': False, 'attr_adder__add_sem': True, 'imputer__strategy': 'median', 'lgbm__boosting_type': 'gbdt', 'lgbm__num_leaves': 173, 'lgbm__max_depth': 10, 'lgbm__learning_rate': 0.3081977573636695, 'lgbm__n_estimators': 383, 'lgbm__reg_alpha': 0.8249874924637818, 'lgbm__reg_lambda': 0.5896691248770605}. Best is trial 3 with value: 0.8056343055125654.\u001b[0m\n",
      "\u001b[32m[I 2021-09-30 09:43:55,996]\u001b[0m Trial 10 finished with value: 0.7961549621240414 and parameters: {'attr_adder__add_sum': True, 'attr_adder__add_num_nan': True, 'attr_adder__add_abs_sum': False, 'attr_adder__add_sem': False, 'imputer__strategy': 'most_frequent', 'lgbm__boosting_type': 'goss', 'lgbm__num_leaves': 2, 'lgbm__max_depth': 22, 'lgbm__learning_rate': 0.04685379284201513, 'lgbm__n_estimators': 33, 'lgbm__reg_alpha': 53.134316120531544, 'lgbm__reg_lambda': 94.99561308769171}. Best is trial 3 with value: 0.8056343055125654.\u001b[0m\n",
      "\u001b[32m[I 2021-09-30 09:44:26,633]\u001b[0m Trial 11 finished with value: 0.7961549621240414 and parameters: {'attr_adder__add_sum': True, 'attr_adder__add_num_nan': True, 'attr_adder__add_abs_sum': False, 'attr_adder__add_sem': False, 'imputer__strategy': 'most_frequent', 'lgbm__boosting_type': 'goss', 'lgbm__num_leaves': 2, 'lgbm__max_depth': 23, 'lgbm__learning_rate': 0.05419861727859543, 'lgbm__n_estimators': 21, 'lgbm__reg_alpha': 61.72253595199875, 'lgbm__reg_lambda': 72.10840463209955}. Best is trial 3 with value: 0.8056343055125654.\u001b[0m\n",
      "\u001b[32m[I 2021-09-30 09:45:00,282]\u001b[0m Trial 12 finished with value: 0.800803834815636 and parameters: {'attr_adder__add_sum': True, 'attr_adder__add_num_nan': True, 'attr_adder__add_abs_sum': False, 'attr_adder__add_sem': False, 'imputer__strategy': 'most_frequent', 'lgbm__boosting_type': 'goss', 'lgbm__num_leaves': 137, 'lgbm__max_depth': 27, 'lgbm__learning_rate': 0.02617869704733936, 'lgbm__n_estimators': 13, 'lgbm__reg_alpha': 21.600019223998377, 'lgbm__reg_lambda': 21.476392441331132}. Best is trial 3 with value: 0.8056343055125654.\u001b[0m\n",
      "\u001b[32m[I 2021-09-30 09:45:57,037]\u001b[0m Trial 13 finished with value: 0.7186022898693036 and parameters: {'attr_adder__add_sum': True, 'attr_adder__add_num_nan': True, 'attr_adder__add_abs_sum': False, 'attr_adder__add_sem': False, 'imputer__strategy': 'most_frequent', 'lgbm__boosting_type': 'goss', 'lgbm__num_leaves': 145, 'lgbm__max_depth': 31, 'lgbm__learning_rate': 0.7348710751288283, 'lgbm__n_estimators': 99, 'lgbm__reg_alpha': 17.48265086862227, 'lgbm__reg_lambda': 19.30491390016257}. Best is trial 3 with value: 0.8056343055125654.\u001b[0m\n",
      "\u001b[32m[I 2021-09-30 09:46:48,256]\u001b[0m Trial 14 finished with value: 0.7189246899721035 and parameters: {'attr_adder__add_sum': True, 'attr_adder__add_num_nan': True, 'attr_adder__add_abs_sum': False, 'attr_adder__add_sem': False, 'imputer__strategy': 'most_frequent', 'lgbm__boosting_type': 'goss', 'lgbm__num_leaves': 94, 'lgbm__max_depth': 48, 'lgbm__learning_rate': 0.9686329679316699, 'lgbm__n_estimators': 104, 'lgbm__reg_alpha': 23.911106801788097, 'lgbm__reg_lambda': 17.44078868891814}. Best is trial 3 with value: 0.8056343055125654.\u001b[0m\n",
      "\u001b[32m[I 2021-09-30 09:47:46,968]\u001b[0m Trial 15 finished with value: 0.8033778563381255 and parameters: {'attr_adder__add_sum': True, 'attr_adder__add_num_nan': True, 'attr_adder__add_abs_sum': False, 'attr_adder__add_sem': True, 'imputer__strategy': 'constant', 'lgbm__boosting_type': 'goss', 'lgbm__num_leaves': 153, 'lgbm__max_depth': 29, 'lgbm__learning_rate': 0.18683257839406414, 'lgbm__n_estimators': 87, 'lgbm__reg_alpha': 11.357132700453123, 'lgbm__reg_lambda': 18.167757540921052}. Best is trial 3 with value: 0.8056343055125654.\u001b[0m\n",
      "\u001b[32m[I 2021-09-30 09:49:21,411]\u001b[0m Trial 16 finished with value: 0.8091861050604212 and parameters: {'attr_adder__add_sum': True, 'attr_adder__add_num_nan': True, 'attr_adder__add_abs_sum': False, 'attr_adder__add_sem': True, 'imputer__strategy': 'constant', 'lgbm__boosting_type': 'gbdt', 'lgbm__num_leaves': 162, 'lgbm__max_depth': 40, 'lgbm__learning_rate': 0.18292171910264343, 'lgbm__n_estimators': 103, 'lgbm__reg_alpha': 1.3649339608272046, 'lgbm__reg_lambda': 7.648526516735626}. Best is trial 16 with value: 0.8091861050604212.\u001b[0m\n",
      "\u001b[32m[I 2021-09-30 09:50:59,474]\u001b[0m Trial 17 finished with value: 0.7860702263020467 and parameters: {'attr_adder__add_sum': True, 'attr_adder__add_num_nan': True, 'attr_adder__add_abs_sum': False, 'attr_adder__add_sem': True, 'imputer__strategy': 'constant', 'lgbm__boosting_type': 'gbdt', 'lgbm__num_leaves': 100, 'lgbm__max_depth': 42, 'lgbm__learning_rate': 0.7867829237833903, 'lgbm__n_estimators': 173, 'lgbm__reg_alpha': 1.0815970312535805, 'lgbm__reg_lambda': 9.800031891566853}. Best is trial 16 with value: 0.8091861050604212.\u001b[0m\n",
      "\u001b[32m[I 2021-09-30 09:52:21,289]\u001b[0m Trial 18 finished with value: 0.804858027982464 and parameters: {'attr_adder__add_sum': True, 'attr_adder__add_num_nan': True, 'attr_adder__add_abs_sum': False, 'attr_adder__add_sem': True, 'imputer__strategy': 'constant', 'lgbm__boosting_type': 'gbdt', 'lgbm__num_leaves': 167, 'lgbm__max_depth': 44, 'lgbm__learning_rate': 0.3643549410677219, 'lgbm__n_estimators': 75, 'lgbm__reg_alpha': 0.10196528651842948, 'lgbm__reg_lambda': 39.951846983244685}. Best is trial 16 with value: 0.8091861050604212.\u001b[0m\n",
      "\u001b[32m[I 2021-09-30 09:53:41,510]\u001b[0m Trial 19 finished with value: 0.7904840111657614 and parameters: {'attr_adder__add_sum': True, 'attr_adder__add_num_nan': True, 'attr_adder__add_abs_sum': False, 'attr_adder__add_sem': True, 'imputer__strategy': 'constant', 'lgbm__boosting_type': 'gbdt', 'lgbm__num_leaves': 117, 'lgbm__max_depth': 39, 'lgbm__learning_rate': 0.6570397219064138, 'lgbm__n_estimators': 134, 'lgbm__reg_alpha': 1.0247204707195554, 'lgbm__reg_lambda': 1.3661250886320206}. Best is trial 16 with value: 0.8091861050604212.\u001b[0m\n",
      "\u001b[32m[I 2021-09-30 09:55:13,475]\u001b[0m Trial 20 finished with value: 0.8094358350910068 and parameters: {'attr_adder__add_sum': True, 'attr_adder__add_num_nan': True, 'attr_adder__add_abs_sum': False, 'attr_adder__add_sem': True, 'imputer__strategy': 'constant', 'lgbm__boosting_type': 'gbdt', 'lgbm__num_leaves': 64, 'lgbm__max_depth': 18, 'lgbm__learning_rate': 0.18530103684628177, 'lgbm__n_estimators': 218, 'lgbm__reg_alpha': 0.4533539692733736, 'lgbm__reg_lambda': 0.13862594475666934}. Best is trial 20 with value: 0.8094358350910068.\u001b[0m\n",
      "\u001b[32m[I 2021-09-30 09:56:57,734]\u001b[0m Trial 21 finished with value: 0.8098390526115063 and parameters: {'attr_adder__add_sum': True, 'attr_adder__add_num_nan': True, 'attr_adder__add_abs_sum': False, 'attr_adder__add_sem': True, 'imputer__strategy': 'constant', 'lgbm__boosting_type': 'gbdt', 'lgbm__num_leaves': 68, 'lgbm__max_depth': 16, 'lgbm__learning_rate': 0.15374524046647942, 'lgbm__n_estimators': 255, 'lgbm__reg_alpha': 0.4019416690133097, 'lgbm__reg_lambda': 0.11612430566735722}. Best is trial 21 with value: 0.8098390526115063.\u001b[0m\n",
      "\u001b[32m[I 2021-09-30 09:58:37,798]\u001b[0m Trial 22 finished with value: 0.8090114619186124 and parameters: {'attr_adder__add_sum': True, 'attr_adder__add_num_nan': True, 'attr_adder__add_abs_sum': False, 'attr_adder__add_sem': True, 'imputer__strategy': 'constant', 'lgbm__boosting_type': 'gbdt', 'lgbm__num_leaves': 65, 'lgbm__max_depth': 17, 'lgbm__learning_rate': 0.17887326329570016, 'lgbm__n_estimators': 252, 'lgbm__reg_alpha': 0.4131618018096192, 'lgbm__reg_lambda': 0.11017084966623686}. Best is trial 21 with value: 0.8098390526115063.\u001b[0m\n",
      "\u001b[32m[I 2021-09-30 10:00:17,635]\u001b[0m Trial 23 finished with value: 0.8111023704074058 and parameters: {'attr_adder__add_sum': True, 'attr_adder__add_num_nan': True, 'attr_adder__add_abs_sum': False, 'attr_adder__add_sem': True, 'imputer__strategy': 'constant', 'lgbm__boosting_type': 'gbdt', 'lgbm__num_leaves': 44, 'lgbm__max_depth': 17, 'lgbm__learning_rate': 0.14831374924531313, 'lgbm__n_estimators': 279, 'lgbm__reg_alpha': 0.3908963705586139, 'lgbm__reg_lambda': 0.16887325889988505}. Best is trial 23 with value: 0.8111023704074058.\u001b[0m\n",
      "\u001b[32m[I 2021-09-30 10:02:02,040]\u001b[0m Trial 24 finished with value: 0.8121521806870876 and parameters: {'attr_adder__add_sum': True, 'attr_adder__add_num_nan': True, 'attr_adder__add_abs_sum': False, 'attr_adder__add_sem': True, 'imputer__strategy': 'constant', 'lgbm__boosting_type': 'gbdt', 'lgbm__num_leaves': 37, 'lgbm__max_depth': 17, 'lgbm__learning_rate': 0.12339256218413341, 'lgbm__n_estimators': 301, 'lgbm__reg_alpha': 0.3631523744288472, 'lgbm__reg_lambda': 0.10988357618078116}. Best is trial 24 with value: 0.8121521806870876.\u001b[0m\n",
      "\u001b[32m[I 2021-09-30 10:03:46,750]\u001b[0m Trial 25 finished with value: 0.8128791572416958 and parameters: {'attr_adder__add_sum': True, 'attr_adder__add_num_nan': True, 'attr_adder__add_abs_sum': False, 'attr_adder__add_sem': True, 'imputer__strategy': 'constant', 'lgbm__boosting_type': 'gbdt', 'lgbm__num_leaves': 36, 'lgbm__max_depth': 9, 'lgbm__learning_rate': 0.09378573281147412, 'lgbm__n_estimators': 304, 'lgbm__reg_alpha': 0.14437981443920067, 'lgbm__reg_lambda': 0.21998107079855125}. Best is trial 25 with value: 0.8128791572416958.\u001b[0m\n",
      "\u001b[32m[I 2021-09-30 10:05:26,935]\u001b[0m Trial 26 finished with value: 0.8124874108269882 and parameters: {'attr_adder__add_sum': True, 'attr_adder__add_num_nan': True, 'attr_adder__add_abs_sum': False, 'attr_adder__add_sem': True, 'imputer__strategy': 'constant', 'lgbm__boosting_type': 'gbdt', 'lgbm__num_leaves': 30, 'lgbm__max_depth': -1, 'lgbm__learning_rate': 0.11141799685987772, 'lgbm__n_estimators': 303, 'lgbm__reg_alpha': 0.10377317015234704, 'lgbm__reg_lambda': 0.2681338914179325}. Best is trial 25 with value: 0.8128791572416958.\u001b[0m\n",
      "\u001b[32m[I 2021-09-30 10:07:02,346]\u001b[0m Trial 27 finished with value: 0.8130849584714895 and parameters: {'attr_adder__add_sum': False, 'attr_adder__add_num_nan': True, 'attr_adder__add_abs_sum': True, 'attr_adder__add_sem': True, 'imputer__strategy': 'constant', 'lgbm__boosting_type': 'gbdt', 'lgbm__num_leaves': 25, 'lgbm__max_depth': -1, 'lgbm__learning_rate': 0.09542946407352634, 'lgbm__n_estimators': 314, 'lgbm__reg_alpha': 0.11124162336271096, 'lgbm__reg_lambda': 0.2821755588868324}. Best is trial 27 with value: 0.8130849584714895.\u001b[0m\n",
      "\u001b[32m[I 2021-09-30 10:08:28,355]\u001b[0m Trial 28 finished with value: 0.8091443154128628 and parameters: {'attr_adder__add_sum': False, 'attr_adder__add_num_nan': True, 'attr_adder__add_abs_sum': True, 'attr_adder__add_sem': True, 'imputer__strategy': 'constant', 'lgbm__boosting_type': 'gbdt', 'lgbm__num_leaves': 23, 'lgbm__max_depth': -1, 'lgbm__learning_rate': 0.27319263636243485, 'lgbm__n_estimators': 352, 'lgbm__reg_alpha': 0.1063713850293904, 'lgbm__reg_lambda': 0.29295537463467736}. Best is trial 27 with value: 0.8130849584714895.\u001b[0m\n",
      "\u001b[32m[I 2021-09-30 10:10:04,273]\u001b[0m Trial 29 finished with value: 0.8053156025460817 and parameters: {'attr_adder__add_sum': False, 'attr_adder__add_num_nan': True, 'attr_adder__add_abs_sum': True, 'attr_adder__add_sem': True, 'imputer__strategy': 'mean', 'lgbm__boosting_type': 'gbdt', 'lgbm__num_leaves': 22, 'lgbm__max_depth': -1, 'lgbm__learning_rate': 0.38984831451046287, 'lgbm__n_estimators': 426, 'lgbm__reg_alpha': 0.17479711540589088, 'lgbm__reg_lambda': 0.2657322117505907}. Best is trial 27 with value: 0.8130849584714895.\u001b[0m\n",
      "\u001b[32m[I 2021-09-30 10:11:24,256]\u001b[0m Trial 30 finished with value: 0.8135475157178522 and parameters: {'attr_adder__add_sum': False, 'attr_adder__add_num_nan': True, 'attr_adder__add_abs_sum': True, 'attr_adder__add_sem': True, 'imputer__strategy': 'constant', 'lgbm__boosting_type': 'gbdt', 'lgbm__num_leaves': 50, 'lgbm__max_depth': 4, 'lgbm__learning_rate': 0.11463432289749975, 'lgbm__n_estimators': 334, 'lgbm__reg_alpha': 0.1857265560523445, 'lgbm__reg_lambda': 0.540899507198121}. Best is trial 30 with value: 0.8135475157178522.\u001b[0m\n",
      "\u001b[32m[I 2021-09-30 10:12:55,852]\u001b[0m Trial 31 finished with value: 0.8132613004921251 and parameters: {'attr_adder__add_sum': False, 'attr_adder__add_num_nan': True, 'attr_adder__add_abs_sum': True, 'attr_adder__add_sem': True, 'imputer__strategy': 'constant', 'lgbm__boosting_type': 'gbdt', 'lgbm__num_leaves': 52, 'lgbm__max_depth': 5, 'lgbm__learning_rate': 0.09087650691546345, 'lgbm__n_estimators': 327, 'lgbm__reg_alpha': 0.1639469705218204, 'lgbm__reg_lambda': 0.5488608997257647}. Best is trial 30 with value: 0.8135475157178522.\u001b[0m\n",
      "\u001b[32m[I 2021-09-30 10:14:47,380]\u001b[0m Trial 32 finished with value: 0.813130148945575 and parameters: {'attr_adder__add_sum': False, 'attr_adder__add_num_nan': True, 'attr_adder__add_abs_sum': True, 'attr_adder__add_sem': True, 'imputer__strategy': 'constant', 'lgbm__boosting_type': 'gbdt', 'lgbm__num_leaves': 51, 'lgbm__max_depth': 6, 'lgbm__learning_rate': 0.07765449807240173, 'lgbm__n_estimators': 340, 'lgbm__reg_alpha': 0.20386252123935245, 'lgbm__reg_lambda': 0.6789138483710414}. Best is trial 30 with value: 0.8135475157178522.\u001b[0m\n",
      "\u001b[32m[I 2021-09-30 10:16:46,551]\u001b[0m Trial 33 finished with value: 0.8112857159467297 and parameters: {'attr_adder__add_sum': False, 'attr_adder__add_num_nan': True, 'attr_adder__add_abs_sum': True, 'attr_adder__add_sem': True, 'imputer__strategy': 'constant', 'lgbm__boosting_type': 'gbdt', 'lgbm__num_leaves': 51, 'lgbm__max_depth': 6, 'lgbm__learning_rate': 0.02176897379690343, 'lgbm__n_estimators': 351, 'lgbm__reg_alpha': 0.27730275073173877, 'lgbm__reg_lambda': 0.5170256633098339}. Best is trial 30 with value: 0.8135475157178522.\u001b[0m\n",
      "\u001b[32m[I 2021-09-30 10:18:02,928]\u001b[0m Trial 34 finished with value: 0.7947414171373633 and parameters: {'attr_adder__add_sum': False, 'attr_adder__add_num_nan': False, 'attr_adder__add_abs_sum': True, 'attr_adder__add_sem': True, 'imputer__strategy': 'constant', 'lgbm__boosting_type': 'gbdt', 'lgbm__num_leaves': 84, 'lgbm__max_depth': 3, 'lgbm__learning_rate': 0.2513893877996277, 'lgbm__n_estimators': 412, 'lgbm__reg_alpha': 0.2087226876425404, 'lgbm__reg_lambda': 1.042640180854397}. Best is trial 30 with value: 0.8135475157178522.\u001b[0m\n",
      "\u001b[32m[I 2021-09-30 10:20:00,986]\u001b[0m Trial 35 finished with value: 0.8125648535428207 and parameters: {'attr_adder__add_sum': False, 'attr_adder__add_num_nan': True, 'attr_adder__add_abs_sum': True, 'attr_adder__add_sem': True, 'imputer__strategy': 'constant', 'lgbm__boosting_type': 'gbdt', 'lgbm__num_leaves': 54, 'lgbm__max_depth': 12, 'lgbm__learning_rate': 0.09651610551159708, 'lgbm__n_estimators': 330, 'lgbm__reg_alpha': 0.7216516939120482, 'lgbm__reg_lambda': 3.043878913390772}. Best is trial 30 with value: 0.8135475157178522.\u001b[0m\n",
      "\u001b[32m[I 2021-09-30 10:21:40,579]\u001b[0m Trial 36 finished with value: 0.8116216603146911 and parameters: {'attr_adder__add_sum': False, 'attr_adder__add_num_nan': True, 'attr_adder__add_abs_sum': True, 'attr_adder__add_sem': True, 'imputer__strategy': 'median', 'lgbm__boosting_type': 'gbdt', 'lgbm__num_leaves': 14, 'lgbm__max_depth': 4, 'lgbm__learning_rate': 0.313606457556422, 'lgbm__n_estimators': 395, 'lgbm__reg_alpha': 0.2449181893170085, 'lgbm__reg_lambda': 0.7821967655221078}. Best is trial 30 with value: 0.8135475157178522.\u001b[0m\n",
      "\u001b[32m[I 2021-09-30 10:24:46,193]\u001b[0m Trial 37 finished with value: 0.7765803805452529 and parameters: {'attr_adder__add_sum': False, 'attr_adder__add_num_nan': False, 'attr_adder__add_abs_sum': True, 'attr_adder__add_sem': True, 'imputer__strategy': 'mean', 'lgbm__boosting_type': 'gbdt', 'lgbm__num_leaves': 84, 'lgbm__max_depth': 12, 'lgbm__learning_rate': 0.21854475556126934, 'lgbm__n_estimators': 456, 'lgbm__reg_alpha': 2.146448953323162, 'lgbm__reg_lambda': 1.9370863250907804}. Best is trial 30 with value: 0.8135475157178522.\u001b[0m\n",
      "\u001b[32m[I 2021-09-30 10:25:46,300]\u001b[0m Trial 38 finished with value: 0.8110396165507502 and parameters: {'attr_adder__add_sum': False, 'attr_adder__add_num_nan': True, 'attr_adder__add_abs_sum': True, 'attr_adder__add_sem': True, 'imputer__strategy': 'constant', 'lgbm__boosting_type': 'gbdt', 'lgbm__num_leaves': 51, 'lgbm__max_depth': 2, 'lgbm__learning_rate': 0.0733828582271801, 'lgbm__n_estimators': 335, 'lgbm__reg_alpha': 0.15087271122501583, 'lgbm__reg_lambda': 0.3788559511072662}. Best is trial 30 with value: 0.8135475157178522.\u001b[0m\n",
      "\u001b[32m[I 2021-09-30 10:26:43,372]\u001b[0m Trial 39 finished with value: 0.7047588481961119 and parameters: {'attr_adder__add_sum': False, 'attr_adder__add_num_nan': False, 'attr_adder__add_abs_sum': True, 'attr_adder__add_sem': True, 'imputer__strategy': 'constant', 'lgbm__boosting_type': 'gbdt', 'lgbm__num_leaves': 16, 'lgbm__max_depth': 6, 'lgbm__learning_rate': 0.013664374380923675, 'lgbm__n_estimators': 203, 'lgbm__reg_alpha': 0.566461624161835, 'lgbm__reg_lambda': 0.4293271131647964}. Best is trial 30 with value: 0.8135475157178522.\u001b[0m\n",
      "\u001b[32m[I 2021-09-30 10:28:39,357]\u001b[0m Trial 40 finished with value: 0.7925819619308521 and parameters: {'attr_adder__add_sum': False, 'attr_adder__add_num_nan': True, 'attr_adder__add_abs_sum': True, 'attr_adder__add_sem': True, 'imputer__strategy': 'median', 'lgbm__boosting_type': 'gbdt', 'lgbm__num_leaves': 79, 'lgbm__max_depth': 7, 'lgbm__learning_rate': 0.5640397562414403, 'lgbm__n_estimators': 280, 'lgbm__reg_alpha': 0.25310821069225636, 'lgbm__reg_lambda': 0.7781496987898597}. Best is trial 30 with value: 0.8135475157178522.\u001b[0m\n",
      "\u001b[32m[I 2021-09-30 10:30:30,417]\u001b[0m Trial 41 finished with value: 0.812294508592412 and parameters: {'attr_adder__add_sum': False, 'attr_adder__add_num_nan': True, 'attr_adder__add_abs_sum': True, 'attr_adder__add_sem': True, 'imputer__strategy': 'constant', 'lgbm__boosting_type': 'gbdt', 'lgbm__num_leaves': 44, 'lgbm__max_depth': 9, 'lgbm__learning_rate': 0.10254977844632206, 'lgbm__n_estimators': 365, 'lgbm__reg_alpha': 0.15218189809875166, 'lgbm__reg_lambda': 0.20111338817686047}. Best is trial 30 with value: 0.8135475157178522.\u001b[0m\n",
      "\u001b[32m[I 2021-09-30 10:31:56,301]\u001b[0m Trial 42 finished with value: 0.8091725483192416 and parameters: {'attr_adder__add_sum': False, 'attr_adder__add_num_nan': True, 'attr_adder__add_abs_sum': True, 'attr_adder__add_sem': True, 'imputer__strategy': 'constant', 'lgbm__boosting_type': 'gbdt', 'lgbm__num_leaves': 31, 'lgbm__max_depth': 13, 'lgbm__learning_rate': 0.23383717186462671, 'lgbm__n_estimators': 324, 'lgbm__reg_alpha': 0.1454399084979379, 'lgbm__reg_lambda': 0.18395889196435622}. Best is trial 30 with value: 0.8135475157178522.\u001b[0m\n",
      "\u001b[32m[I 2021-09-30 10:32:50,979]\u001b[0m Trial 43 finished with value: 0.8100232395932992 and parameters: {'attr_adder__add_sum': False, 'attr_adder__add_num_nan': True, 'attr_adder__add_abs_sum': True, 'attr_adder__add_sem': True, 'imputer__strategy': 'constant', 'lgbm__boosting_type': 'gbdt', 'lgbm__num_leaves': 58, 'lgbm__max_depth': 2, 'lgbm__learning_rate': 0.06216390614485022, 'lgbm__n_estimators': 281, 'lgbm__reg_alpha': 0.2755591424503138, 'lgbm__reg_lambda': 0.9068092257535257}. Best is trial 30 with value: 0.8135475157178522.\u001b[0m\n",
      "\u001b[32m[I 2021-09-30 10:34:14,138]\u001b[0m Trial 44 finished with value: 0.8135650163105677 and parameters: {'attr_adder__add_sum': False, 'attr_adder__add_num_nan': True, 'attr_adder__add_abs_sum': True, 'attr_adder__add_sem': True, 'imputer__strategy': 'mean', 'lgbm__boosting_type': 'gbdt', 'lgbm__num_leaves': 12, 'lgbm__max_depth': 5, 'lgbm__learning_rate': 0.12545592859911264, 'lgbm__n_estimators': 381, 'lgbm__reg_alpha': 0.18236644601977284, 'lgbm__reg_lambda': 0.39431022456776177}. Best is trial 44 with value: 0.8135650163105677.\u001b[0m\n",
      "\u001b[32m[I 2021-09-30 10:35:47,109]\u001b[0m Trial 45 finished with value: 0.7934697038618403 and parameters: {'attr_adder__add_sum': False, 'attr_adder__add_num_nan': False, 'attr_adder__add_abs_sum': True, 'attr_adder__add_sem': True, 'imputer__strategy': 'mean', 'lgbm__boosting_type': 'gbdt', 'lgbm__num_leaves': 8, 'lgbm__max_depth': 5, 'lgbm__learning_rate': 0.3028862413900848, 'lgbm__n_estimators': 447, 'lgbm__reg_alpha': 0.19913983649999903, 'lgbm__reg_lambda': 1.3461013581216783}. Best is trial 44 with value: 0.8135650163105677.\u001b[0m\n",
      "\u001b[32m[I 2021-09-30 10:37:24,870]\u001b[0m Trial 46 finished with value: 0.8124271786822215 and parameters: {'attr_adder__add_sum': False, 'attr_adder__add_num_nan': True, 'attr_adder__add_abs_sum': True, 'attr_adder__add_sem': True, 'imputer__strategy': 'mean', 'lgbm__boosting_type': 'gbdt', 'lgbm__num_leaves': 25, 'lgbm__max_depth': 20, 'lgbm__learning_rate': 0.1359347016259771, 'lgbm__n_estimators': 382, 'lgbm__reg_alpha': 0.29733157264357374, 'lgbm__reg_lambda': 0.3820481948701557}. Best is trial 44 with value: 0.8135650163105677.\u001b[0m\n",
      "\u001b[32m[I 2021-09-30 10:38:19,985]\u001b[0m Trial 47 finished with value: 0.8099053562396876 and parameters: {'attr_adder__add_sum': False, 'attr_adder__add_num_nan': True, 'attr_adder__add_abs_sum': True, 'attr_adder__add_sem': True, 'imputer__strategy': 'mean', 'lgbm__boosting_type': 'goss', 'lgbm__num_leaves': 43, 'lgbm__max_depth': 2, 'lgbm__learning_rate': 0.45296123686296563, 'lgbm__n_estimators': 407, 'lgbm__reg_alpha': 0.576305197261205, 'lgbm__reg_lambda': 4.058841111251535}. Best is trial 44 with value: 0.8135650163105677.\u001b[0m\n",
      "\u001b[32m[I 2021-09-30 10:39:15,832]\u001b[0m Trial 48 finished with value: 0.8118061088438667 and parameters: {'attr_adder__add_sum': False, 'attr_adder__add_num_nan': True, 'attr_adder__add_abs_sum': True, 'attr_adder__add_sem': True, 'imputer__strategy': 'mean', 'lgbm__boosting_type': 'gbdt', 'lgbm__num_leaves': 10, 'lgbm__max_depth': 1, 'lgbm__learning_rate': 0.21153732542874554, 'lgbm__n_estimators': 369, 'lgbm__reg_alpha': 0.125035476316805, 'lgbm__reg_lambda': 1.9975757332417323}. Best is trial 44 with value: 0.8135650163105677.\u001b[0m\n",
      "\u001b[32m[I 2021-09-30 10:42:04,004]\u001b[0m Trial 49 finished with value: 0.8123672437343404 and parameters: {'attr_adder__add_sum': False, 'attr_adder__add_num_nan': True, 'attr_adder__add_abs_sum': True, 'attr_adder__add_sem': False, 'imputer__strategy': 'median', 'lgbm__boosting_type': 'gbdt', 'lgbm__num_leaves': 111, 'lgbm__max_depth': 14, 'lgbm__learning_rate': 0.058434236588049485, 'lgbm__n_estimators': 323, 'lgbm__reg_alpha': 0.19637229139468831, 'lgbm__reg_lambda': 0.5750641028647736}. Best is trial 44 with value: 0.8135650163105677.\u001b[0m\n",
      "\u001b[32m[I 2021-09-30 10:43:22,465]\u001b[0m Trial 50 finished with value: 0.6980802214507825 and parameters: {'attr_adder__add_sum': False, 'attr_adder__add_num_nan': False, 'attr_adder__add_abs_sum': True, 'attr_adder__add_sem': True, 'imputer__strategy': 'mean', 'lgbm__boosting_type': 'goss', 'lgbm__num_leaves': 73, 'lgbm__max_depth': 11, 'lgbm__learning_rate': 0.33969098404360587, 'lgbm__n_estimators': 231, 'lgbm__reg_alpha': 0.3233523741396601, 'lgbm__reg_lambda': 0.47146217851414723}. Best is trial 44 with value: 0.8135650163105677.\u001b[0m\n",
      "\u001b[32m[I 2021-09-30 10:45:06,452]\u001b[0m Trial 51 finished with value: 0.8130164165881199 and parameters: {'attr_adder__add_sum': False, 'attr_adder__add_num_nan': True, 'attr_adder__add_abs_sum': True, 'attr_adder__add_sem': True, 'imputer__strategy': 'constant', 'lgbm__boosting_type': 'gbdt', 'lgbm__num_leaves': 33, 'lgbm__max_depth': 9, 'lgbm__learning_rate': 0.08229160870111851, 'lgbm__n_estimators': 348, 'lgbm__reg_alpha': 0.12833333162346325, 'lgbm__reg_lambda': 0.20345518190286055}. Best is trial 44 with value: 0.8135650163105677.\u001b[0m\n",
      "\u001b[32m[I 2021-09-30 10:46:48,621]\u001b[0m Trial 52 finished with value: 0.8133556756187459 and parameters: {'attr_adder__add_sum': False, 'attr_adder__add_num_nan': True, 'attr_adder__add_abs_sum': True, 'attr_adder__add_sem': True, 'imputer__strategy': 'constant', 'lgbm__boosting_type': 'gbdt', 'lgbm__num_leaves': 19, 'lgbm__max_depth': 7, 'lgbm__learning_rate': 0.053476999190696504, 'lgbm__n_estimators': 357, 'lgbm__reg_alpha': 0.1978606154243248, 'lgbm__reg_lambda': 0.33080146130559734}. Best is trial 44 with value: 0.8135650163105677.\u001b[0m\n",
      "\u001b[32m[I 2021-09-30 10:48:34,039]\u001b[0m Trial 53 finished with value: 0.8086768364340295 and parameters: {'attr_adder__add_sum': False, 'attr_adder__add_num_nan': True, 'attr_adder__add_abs_sum': True, 'attr_adder__add_sem': True, 'imputer__strategy': 'most_frequent', 'lgbm__boosting_type': 'gbdt', 'lgbm__num_leaves': 17, 'lgbm__max_depth': 5, 'lgbm__learning_rate': 0.013173959599376707, 'lgbm__n_estimators': 364, 'lgbm__reg_alpha': 0.20818840280029638, 'lgbm__reg_lambda': 0.6384373139049626}. Best is trial 44 with value: 0.8135650163105677.\u001b[0m\n",
      "\u001b[32m[I 2021-09-30 10:49:50,351]\u001b[0m Trial 54 finished with value: 0.8136064823663105 and parameters: {'attr_adder__add_sum': False, 'attr_adder__add_num_nan': True, 'attr_adder__add_abs_sum': True, 'attr_adder__add_sem': True, 'imputer__strategy': 'constant', 'lgbm__boosting_type': 'gbdt', 'lgbm__num_leaves': 6, 'lgbm__max_depth': 7, 'lgbm__learning_rate': 0.14938096583920565, 'lgbm__n_estimators': 390, 'lgbm__reg_alpha': 1.6229797034893978, 'lgbm__reg_lambda': 1.228574872291348}. Best is trial 54 with value: 0.8136064823663105.\u001b[0m\n",
      "\u001b[32m[I 2021-09-30 10:50:45,783]\u001b[0m Trial 55 finished with value: 0.8112470661275741 and parameters: {'attr_adder__add_sum': False, 'attr_adder__add_num_nan': True, 'attr_adder__add_abs_sum': True, 'attr_adder__add_sem': False, 'imputer__strategy': 'constant', 'lgbm__boosting_type': 'gbdt', 'lgbm__num_leaves': 2, 'lgbm__max_depth': 7, 'lgbm__learning_rate': 0.15415891257229278, 'lgbm__n_estimators': 431, 'lgbm__reg_alpha': 2.0980804795853643, 'lgbm__reg_lambda': 1.7324039355220706}. Best is trial 54 with value: 0.8136064823663105.\u001b[0m\n",
      "\u001b[32m[I 2021-09-30 10:52:14,170]\u001b[0m Trial 56 finished with value: 0.8125209193191897 and parameters: {'attr_adder__add_sum': False, 'attr_adder__add_num_nan': True, 'attr_adder__add_abs_sum': True, 'attr_adder__add_sem': True, 'imputer__strategy': 'constant', 'lgbm__boosting_type': 'gbdt', 'lgbm__num_leaves': 7, 'lgbm__max_depth': 8, 'lgbm__learning_rate': 0.04779846094403191, 'lgbm__n_estimators': 393, 'lgbm__reg_alpha': 0.5643602231726468, 'lgbm__reg_lambda': 1.0658067985198612}. Best is trial 54 with value: 0.8136064823663105.\u001b[0m\n",
      "\u001b[32m[I 2021-09-30 10:54:57,991]\u001b[0m Trial 57 finished with value: 0.8080801379695692 and parameters: {'attr_adder__add_sum': False, 'attr_adder__add_num_nan': True, 'attr_adder__add_abs_sum': True, 'attr_adder__add_sem': True, 'imputer__strategy': 'most_frequent', 'lgbm__boosting_type': 'gbdt', 'lgbm__num_leaves': 60, 'lgbm__max_depth': 26, 'lgbm__learning_rate': 0.19507180387575246, 'lgbm__n_estimators': 474, 'lgbm__reg_alpha': 6.102340378052804, 'lgbm__reg_lambda': 0.7299276333653771}. Best is trial 54 with value: 0.8136064823663105.\u001b[0m\n",
      "\u001b[32m[I 2021-09-30 10:56:28,122]\u001b[0m Trial 58 finished with value: 0.8058636709959125 and parameters: {'attr_adder__add_sum': False, 'attr_adder__add_num_nan': True, 'attr_adder__add_abs_sum': True, 'attr_adder__add_sem': True, 'imputer__strategy': 'constant', 'lgbm__boosting_type': 'goss', 'lgbm__num_leaves': 43, 'lgbm__max_depth': 10, 'lgbm__learning_rate': 0.13945185343370303, 'lgbm__n_estimators': 385, 'lgbm__reg_alpha': 12.444220026345148, 'lgbm__reg_lambda': 0.3434701259455807}. Best is trial 54 with value: 0.8136064823663105.\u001b[0m\n",
      "\u001b[32m[I 2021-09-30 10:57:33,342]\u001b[0m Trial 59 finished with value: 0.8135166373986881 and parameters: {'attr_adder__add_sum': False, 'attr_adder__add_num_nan': True, 'attr_adder__add_abs_sum': True, 'attr_adder__add_sem': False, 'imputer__strategy': 'mean', 'lgbm__boosting_type': 'gbdt', 'lgbm__num_leaves': 17, 'lgbm__max_depth': 4, 'lgbm__learning_rate': 0.166935995680487, 'lgbm__n_estimators': 286, 'lgbm__reg_alpha': 0.4950581418992044, 'lgbm__reg_lambda': 2.496795743588436}. Best is trial 54 with value: 0.8136064823663105.\u001b[0m\n",
      "\u001b[32m[I 2021-09-30 10:58:36,294]\u001b[0m Trial 60 finished with value: 0.8134097405521602 and parameters: {'attr_adder__add_sum': False, 'attr_adder__add_num_nan': True, 'attr_adder__add_abs_sum': True, 'attr_adder__add_sem': False, 'imputer__strategy': 'mean', 'lgbm__boosting_type': 'gbdt', 'lgbm__num_leaves': 18, 'lgbm__max_depth': 4, 'lgbm__learning_rate': 0.16869821444744562, 'lgbm__n_estimators': 275, 'lgbm__reg_alpha': 0.8025143289387182, 'lgbm__reg_lambda': 6.3618704799932235}. Best is trial 54 with value: 0.8136064823663105.\u001b[0m\n",
      "\u001b[32m[I 2021-09-30 10:59:47,967]\u001b[0m Trial 61 finished with value: 0.8132835321809646 and parameters: {'attr_adder__add_sum': False, 'attr_adder__add_num_nan': True, 'attr_adder__add_abs_sum': True, 'attr_adder__add_sem': False, 'imputer__strategy': 'mean', 'lgbm__boosting_type': 'gbdt', 'lgbm__num_leaves': 19, 'lgbm__max_depth': 5, 'lgbm__learning_rate': 0.16449756027518944, 'lgbm__n_estimators': 289, 'lgbm__reg_alpha': 1.3411539320107473, 'lgbm__reg_lambda': 12.065067863295594}. Best is trial 54 with value: 0.8136064823663105.\u001b[0m\n",
      "\u001b[32m[I 2021-09-30 11:00:30,727]\u001b[0m Trial 62 finished with value: 0.811567017691944 and parameters: {'attr_adder__add_sum': False, 'attr_adder__add_num_nan': True, 'attr_adder__add_abs_sum': True, 'attr_adder__add_sem': False, 'imputer__strategy': 'mean', 'lgbm__boosting_type': 'gbdt', 'lgbm__num_leaves': 27, 'lgbm__max_depth': 1, 'lgbm__learning_rate': 0.27321441471648333, 'lgbm__n_estimators': 265, 'lgbm__reg_alpha': 1.130440831363899, 'lgbm__reg_lambda': 5.905276230259246}. Best is trial 54 with value: 0.8136064823663105.\u001b[0m\n",
      "\u001b[32m[I 2021-09-30 11:01:41,441]\u001b[0m Trial 63 finished with value: 0.8136086734767976 and parameters: {'attr_adder__add_sum': False, 'attr_adder__add_num_nan': True, 'attr_adder__add_abs_sum': True, 'attr_adder__add_sem': False, 'imputer__strategy': 'mean', 'lgbm__boosting_type': 'gbdt', 'lgbm__num_leaves': 17, 'lgbm__max_depth': 4, 'lgbm__learning_rate': 0.1636986166387343, 'lgbm__n_estimators': 291, 'lgbm__reg_alpha': 1.6301998316028306, 'lgbm__reg_lambda': 13.24208293335452}. Best is trial 63 with value: 0.8136086734767976.\u001b[0m\n",
      "\u001b[32m[I 2021-09-30 11:02:42,914]\u001b[0m Trial 64 finished with value: 0.8131470824505213 and parameters: {'attr_adder__add_sum': False, 'attr_adder__add_num_nan': True, 'attr_adder__add_abs_sum': True, 'attr_adder__add_sem': False, 'imputer__strategy': 'mean', 'lgbm__boosting_type': 'gbdt', 'lgbm__num_leaves': 12, 'lgbm__max_depth': 34, 'lgbm__learning_rate': 0.2278361827518393, 'lgbm__n_estimators': 243, 'lgbm__reg_alpha': 2.2128127369038006, 'lgbm__reg_lambda': 27.96751557178717}. Best is trial 63 with value: 0.8136086734767976.\u001b[0m\n",
      "\u001b[32m[I 2021-09-30 11:03:39,129]\u001b[0m Trial 65 finished with value: 0.8130906369908486 and parameters: {'attr_adder__add_sum': False, 'attr_adder__add_num_nan': True, 'attr_adder__add_abs_sum': True, 'attr_adder__add_sem': False, 'imputer__strategy': 'mean', 'lgbm__boosting_type': 'gbdt', 'lgbm__num_leaves': 6, 'lgbm__max_depth': 3, 'lgbm__learning_rate': 0.1305315184415223, 'lgbm__n_estimators': 268, 'lgbm__reg_alpha': 1.665417157150863, 'lgbm__reg_lambda': 10.531069896240542}. Best is trial 63 with value: 0.8136086734767976.\u001b[0m\n",
      "\u001b[32m[I 2021-09-30 11:04:24,169]\u001b[0m Trial 66 finished with value: 0.8109270295545291 and parameters: {'attr_adder__add_sum': False, 'attr_adder__add_num_nan': True, 'attr_adder__add_abs_sum': True, 'attr_adder__add_sem': False, 'imputer__strategy': 'mean', 'lgbm__boosting_type': 'gbdt', 'lgbm__num_leaves': 19, 'lgbm__max_depth': 1, 'lgbm__learning_rate': 0.1806348324482034, 'lgbm__n_estimators': 297, 'lgbm__reg_alpha': 3.5556072346481233, 'lgbm__reg_lambda': 2.4365087890557655}. Best is trial 63 with value: 0.8136086734767976.\u001b[0m\n",
      "\u001b[32m[I 2021-09-30 11:05:35,347]\u001b[0m Trial 67 finished with value: 0.8100707805631441 and parameters: {'attr_adder__add_sum': False, 'attr_adder__add_num_nan': True, 'attr_adder__add_abs_sum': True, 'attr_adder__add_sem': False, 'imputer__strategy': 'mean', 'lgbm__boosting_type': 'gbdt', 'lgbm__num_leaves': 36, 'lgbm__max_depth': 4, 'lgbm__learning_rate': 0.4113737160220394, 'lgbm__n_estimators': 312, 'lgbm__reg_alpha': 0.7209575010248003, 'lgbm__reg_lambda': 4.17698431172278}. Best is trial 63 with value: 0.8136086734767976.\u001b[0m\n",
      "\u001b[32m[I 2021-09-30 11:06:18,671]\u001b[0m Trial 68 finished with value: 0.8080323070521815 and parameters: {'attr_adder__add_sum': False, 'attr_adder__add_num_nan': True, 'attr_adder__add_abs_sum': True, 'attr_adder__add_sem': False, 'imputer__strategy': 'mean', 'lgbm__boosting_type': 'goss', 'lgbm__num_leaves': 13, 'lgbm__max_depth': 8, 'lgbm__learning_rate': 0.27469374464519225, 'lgbm__n_estimators': 218, 'lgbm__reg_alpha': 0.7953429042575102, 'lgbm__reg_lambda': 6.25390623428455}. Best is trial 63 with value: 0.8136086734767976.\u001b[0m\n",
      "\u001b[32m[I 2021-09-30 11:08:17,749]\u001b[0m Trial 69 finished with value: 0.7988651910056929 and parameters: {'attr_adder__add_sum': False, 'attr_adder__add_num_nan': True, 'attr_adder__add_abs_sum': True, 'attr_adder__add_sem': False, 'imputer__strategy': 'mean', 'lgbm__boosting_type': 'gbdt', 'lgbm__num_leaves': 28, 'lgbm__max_depth': 15, 'lgbm__learning_rate': 0.5677468926983331, 'lgbm__n_estimators': 499, 'lgbm__reg_alpha': 2.8995863333151406, 'lgbm__reg_lambda': 7.981139814277889}. Best is trial 63 with value: 0.8136086734767976.\u001b[0m\n",
      "\u001b[32m[I 2021-09-30 11:09:09,344]\u001b[0m Trial 70 finished with value: 0.8130955174722505 and parameters: {'attr_adder__add_sum': False, 'attr_adder__add_num_nan': True, 'attr_adder__add_abs_sum': True, 'attr_adder__add_sem': False, 'imputer__strategy': 'mean', 'lgbm__boosting_type': 'gbdt', 'lgbm__num_leaves': 2, 'lgbm__max_depth': 11, 'lgbm__learning_rate': 0.9756965925994805, 'lgbm__n_estimators': 368, 'lgbm__reg_alpha': 0.9508721467336403, 'lgbm__reg_lambda': 2.6632150085802957}. Best is trial 63 with value: 0.8136086734767976.\u001b[0m\n",
      "\u001b[32m[I 2021-09-30 11:10:15,642]\u001b[0m Trial 71 finished with value: 0.8135046156349358 and parameters: {'attr_adder__add_sum': False, 'attr_adder__add_num_nan': True, 'attr_adder__add_abs_sum': True, 'attr_adder__add_sem': False, 'imputer__strategy': 'mean', 'lgbm__boosting_type': 'gbdt', 'lgbm__num_leaves': 20, 'lgbm__max_depth': 4, 'lgbm__learning_rate': 0.16982791194951535, 'lgbm__n_estimators': 288, 'lgbm__reg_alpha': 1.323909580503529, 'lgbm__reg_lambda': 12.958100158538684}. Best is trial 63 with value: 0.8136086734767976.\u001b[0m\n",
      "\u001b[32m[I 2021-09-30 11:11:31,575]\u001b[0m Trial 72 finished with value: 0.8135762096440502 and parameters: {'attr_adder__add_sum': False, 'attr_adder__add_num_nan': True, 'attr_adder__add_abs_sum': True, 'attr_adder__add_sem': False, 'imputer__strategy': 'mean', 'lgbm__boosting_type': 'gbdt', 'lgbm__num_leaves': 21, 'lgbm__max_depth': 7, 'lgbm__learning_rate': 0.11604265826377487, 'lgbm__n_estimators': 261, 'lgbm__reg_alpha': 1.5930026301937201, 'lgbm__reg_lambda': 15.355646841856716}. Best is trial 63 with value: 0.8136086734767976.\u001b[0m\n",
      "\u001b[32m[I 2021-09-30 11:12:34,717]\u001b[0m Trial 73 finished with value: 0.8134698274005747 and parameters: {'attr_adder__add_sum': False, 'attr_adder__add_num_nan': True, 'attr_adder__add_abs_sum': True, 'attr_adder__add_sem': False, 'imputer__strategy': 'mean', 'lgbm__boosting_type': 'gbdt', 'lgbm__num_leaves': 10, 'lgbm__max_depth': 0, 'lgbm__learning_rate': 0.2017795018135132, 'lgbm__n_estimators': 266, 'lgbm__reg_alpha': 1.516542268471597, 'lgbm__reg_lambda': 15.478581807639483}. Best is trial 63 with value: 0.8136086734767976.\u001b[0m\n",
      "\u001b[32m[I 2021-09-30 11:13:55,766]\u001b[0m Trial 74 finished with value: 0.8135118421221255 and parameters: {'attr_adder__add_sum': False, 'attr_adder__add_num_nan': True, 'attr_adder__add_abs_sum': True, 'attr_adder__add_sem': False, 'imputer__strategy': 'mean', 'lgbm__boosting_type': 'gbdt', 'lgbm__num_leaves': 24, 'lgbm__max_depth': 0, 'lgbm__learning_rate': 0.11752214564290676, 'lgbm__n_estimators': 252, 'lgbm__reg_alpha': 1.6534289326654033, 'lgbm__reg_lambda': 30.823612851015543}. Best is trial 63 with value: 0.8136086734767976.\u001b[0m\n",
      "\u001b[32m[I 2021-09-30 11:14:46,470]\u001b[0m Trial 75 finished with value: 0.7575706917277485 and parameters: {'attr_adder__add_sum': False, 'attr_adder__add_num_nan': False, 'attr_adder__add_abs_sum': True, 'attr_adder__add_sem': False, 'imputer__strategy': 'mean', 'lgbm__boosting_type': 'gbdt', 'lgbm__num_leaves': 24, 'lgbm__max_depth': 3, 'lgbm__learning_rate': 0.11272960243670013, 'lgbm__n_estimators': 193, 'lgbm__reg_alpha': 1.8482749281503597, 'lgbm__reg_lambda': 47.824032111026646}. Best is trial 63 with value: 0.8136086734767976.\u001b[0m\n",
      "\u001b[32m[I 2021-09-30 11:16:20,000]\u001b[0m Trial 76 finished with value: 0.8132637386207954 and parameters: {'attr_adder__add_sum': False, 'attr_adder__add_num_nan': True, 'attr_adder__add_abs_sum': True, 'attr_adder__add_sem': False, 'imputer__strategy': 'mean', 'lgbm__boosting_type': 'gbdt', 'lgbm__num_leaves': 40, 'lgbm__max_depth': 0, 'lgbm__learning_rate': 0.12853311478980262, 'lgbm__n_estimators': 243, 'lgbm__reg_alpha': 4.225333587590687, 'lgbm__reg_lambda': 23.901963851768507}. Best is trial 63 with value: 0.8136086734767976.\u001b[0m\n",
      "\u001b[32m[I 2021-09-30 11:17:10,812]\u001b[0m Trial 77 finished with value: 0.8135621309981651 and parameters: {'attr_adder__add_sum': False, 'attr_adder__add_num_nan': True, 'attr_adder__add_abs_sum': True, 'attr_adder__add_sem': False, 'imputer__strategy': 'mean', 'lgbm__boosting_type': 'gbdt', 'lgbm__num_leaves': 33, 'lgbm__max_depth': 3, 'lgbm__learning_rate': 0.24003875822365484, 'lgbm__n_estimators': 226, 'lgbm__reg_alpha': 2.4618292071963457, 'lgbm__reg_lambda': 33.660236570902406}. Best is trial 63 with value: 0.8136086734767976.\u001b[0m\n",
      "\u001b[32m[I 2021-09-30 11:17:42,990]\u001b[0m Trial 78 finished with value: 0.8097936328502657 and parameters: {'attr_adder__add_sum': False, 'attr_adder__add_num_nan': True, 'attr_adder__add_abs_sum': True, 'attr_adder__add_sem': False, 'imputer__strategy': 'mean', 'lgbm__boosting_type': 'gbdt', 'lgbm__num_leaves': 36, 'lgbm__max_depth': 1, 'lgbm__learning_rate': 0.2451586598342046, 'lgbm__n_estimators': 148, 'lgbm__reg_alpha': 2.5587377191388048, 'lgbm__reg_lambda': 36.55246640526843}. Best is trial 63 with value: 0.8136086734767976.\u001b[0m\n",
      "\u001b[32m[I 2021-09-30 11:18:56,923]\u001b[0m Trial 79 finished with value: 0.8134716661747098 and parameters: {'attr_adder__add_sum': False, 'attr_adder__add_num_nan': True, 'attr_adder__add_abs_sum': True, 'attr_adder__add_sem': False, 'imputer__strategy': 'mean', 'lgbm__boosting_type': 'gbdt', 'lgbm__num_leaves': 28, 'lgbm__max_depth': 6, 'lgbm__learning_rate': 0.11251169528784616, 'lgbm__n_estimators': 232, 'lgbm__reg_alpha': 5.6310167222331335, 'lgbm__reg_lambda': 62.44343375386033}. Best is trial 63 with value: 0.8136086734767976.\u001b[0m\n",
      "\u001b[32m[I 2021-09-30 11:21:54,083]\u001b[0m Trial 80 finished with value: 0.7833814331593324 and parameters: {'attr_adder__add_sum': False, 'attr_adder__add_num_nan': True, 'attr_adder__add_abs_sum': True, 'attr_adder__add_sem': False, 'imputer__strategy': 'median', 'lgbm__boosting_type': 'gbdt', 'lgbm__num_leaves': 189, 'lgbm__max_depth': -1, 'lgbm__learning_rate': 0.6994991635346829, 'lgbm__n_estimators': 216, 'lgbm__reg_alpha': 2.5864528881995823, 'lgbm__reg_lambda': 30.055427465057345}. Best is trial 63 with value: 0.8136086734767976.\u001b[0m\n",
      "\u001b[32m[I 2021-09-30 11:23:14,970]\u001b[0m Trial 81 finished with value: 0.812771921005627 and parameters: {'attr_adder__add_sum': False, 'attr_adder__add_num_nan': True, 'attr_adder__add_abs_sum': True, 'attr_adder__add_sem': False, 'imputer__strategy': 'mean', 'lgbm__boosting_type': 'gbdt', 'lgbm__num_leaves': 31, 'lgbm__max_depth': 50, 'lgbm__learning_rate': 0.15699198183703333, 'lgbm__n_estimators': 254, 'lgbm__reg_alpha': 1.386530336639247, 'lgbm__reg_lambda': 14.199088010813414}. Best is trial 63 with value: 0.8136086734767976.\u001b[0m\n",
      "\u001b[32m[I 2021-09-30 11:24:15,281]\u001b[0m Trial 82 finished with value: 0.8138176007773725 and parameters: {'attr_adder__add_sum': False, 'attr_adder__add_num_nan': True, 'attr_adder__add_abs_sum': True, 'attr_adder__add_sem': False, 'imputer__strategy': 'mean', 'lgbm__boosting_type': 'gbdt', 'lgbm__num_leaves': 13, 'lgbm__max_depth': 3, 'lgbm__learning_rate': 0.20742584179301313, 'lgbm__n_estimators': 315, 'lgbm__reg_alpha': 1.1063376490739907, 'lgbm__reg_lambda': 20.27414443007006}. Best is trial 82 with value: 0.8138176007773725.\u001b[0m\n",
      "\u001b[32m[I 2021-09-30 11:24:53,702]\u001b[0m Trial 83 finished with value: 0.8119738806465187 and parameters: {'attr_adder__add_sum': False, 'attr_adder__add_num_nan': True, 'attr_adder__add_abs_sum': True, 'attr_adder__add_sem': False, 'imputer__strategy': 'mean', 'lgbm__boosting_type': 'gbdt', 'lgbm__num_leaves': 6, 'lgbm__max_depth': 2, 'lgbm__learning_rate': 0.19851722977497238, 'lgbm__n_estimators': 178, 'lgbm__reg_alpha': 1.7939892534164674, 'lgbm__reg_lambda': 23.954579023997383}. Best is trial 82 with value: 0.8138176007773725.\u001b[0m\n",
      "\u001b[32m[I 2021-09-30 11:25:56,485]\u001b[0m Trial 84 finished with value: 0.8136268363969892 and parameters: {'attr_adder__add_sum': False, 'attr_adder__add_num_nan': True, 'attr_adder__add_abs_sum': True, 'attr_adder__add_sem': False, 'imputer__strategy': 'mean', 'lgbm__boosting_type': 'gbdt', 'lgbm__num_leaves': 12, 'lgbm__max_depth': 3, 'lgbm__learning_rate': 0.3034561224776356, 'lgbm__n_estimators': 317, 'lgbm__reg_alpha': 3.400092672300886, 'lgbm__reg_lambda': 19.549881776338392}. Best is trial 82 with value: 0.8138176007773725.\u001b[0m\n",
      "\u001b[32m[I 2021-09-30 11:27:06,406]\u001b[0m Trial 85 finished with value: 0.8131288925251121 and parameters: {'attr_adder__add_sum': False, 'attr_adder__add_num_nan': True, 'attr_adder__add_abs_sum': True, 'attr_adder__add_sem': False, 'imputer__strategy': 'mean', 'lgbm__boosting_type': 'gbdt', 'lgbm__num_leaves': 12, 'lgbm__max_depth': 9, 'lgbm__learning_rate': 0.29287561936813755, 'lgbm__n_estimators': 298, 'lgbm__reg_alpha': 8.40541439950129, 'lgbm__reg_lambda': 44.74605949903476}. Best is trial 82 with value: 0.8138176007773725.\u001b[0m\n",
      "\u001b[32m[I 2021-09-30 11:28:18,897]\u001b[0m Trial 86 finished with value: 0.8113823176415353 and parameters: {'attr_adder__add_sum': False, 'attr_adder__add_num_nan': True, 'attr_adder__add_abs_sum': True, 'attr_adder__add_sem': False, 'imputer__strategy': 'mean', 'lgbm__boosting_type': 'gbdt', 'lgbm__num_leaves': 14, 'lgbm__max_depth': 7, 'lgbm__learning_rate': 0.3387858781010621, 'lgbm__n_estimators': 314, 'lgbm__reg_alpha': 3.3112046597662017, 'lgbm__reg_lambda': 16.6844047525129}. Best is trial 82 with value: 0.8138176007773725.\u001b[0m\n",
      "\u001b[32m[I 2021-09-30 11:29:09,574]\u001b[0m Trial 87 finished with value: 0.779123797052712 and parameters: {'attr_adder__add_sum': False, 'attr_adder__add_num_nan': False, 'attr_adder__add_abs_sum': True, 'attr_adder__add_sem': False, 'imputer__strategy': 'mean', 'lgbm__boosting_type': 'goss', 'lgbm__num_leaves': 6, 'lgbm__max_depth': 3, 'lgbm__learning_rate': 0.25802929539290276, 'lgbm__n_estimators': 310, 'lgbm__reg_alpha': 1.142132450440736, 'lgbm__reg_lambda': 20.039979224655863}. Best is trial 82 with value: 0.8138176007773725.\u001b[0m\n",
      "\u001b[32m[I 2021-09-30 11:30:48,720]\u001b[0m Trial 88 finished with value: 0.8119030252202916 and parameters: {'attr_adder__add_sum': False, 'attr_adder__add_num_nan': True, 'attr_adder__add_abs_sum': True, 'attr_adder__add_sem': False, 'imputer__strategy': 'most_frequent', 'lgbm__boosting_type': 'gbdt', 'lgbm__num_leaves': 33, 'lgbm__max_depth': 6, 'lgbm__learning_rate': 0.22256040798788043, 'lgbm__n_estimators': 337, 'lgbm__reg_alpha': 0.4789274191557299, 'lgbm__reg_lambda': 62.13623297901107}. Best is trial 82 with value: 0.8138176007773725.\u001b[0m\n",
      "\u001b[32m[I 2021-09-30 11:32:17,061]\u001b[0m Trial 89 finished with value: 0.8111411181035825 and parameters: {'attr_adder__add_sum': False, 'attr_adder__add_num_nan': True, 'attr_adder__add_abs_sum': True, 'attr_adder__add_sem': False, 'imputer__strategy': 'mean', 'lgbm__boosting_type': 'gbdt', 'lgbm__num_leaves': 15, 'lgbm__max_depth': 4, 'lgbm__learning_rate': 0.3347088353771965, 'lgbm__n_estimators': 412, 'lgbm__reg_alpha': 2.295318938252388, 'lgbm__reg_lambda': 1.440836871334254}. Best is trial 82 with value: 0.8138176007773725.\u001b[0m\n",
      "\u001b[32m[I 2021-09-30 11:34:09,835]\u001b[0m Trial 90 finished with value: 0.8134186315197629 and parameters: {'attr_adder__add_sum': False, 'attr_adder__add_num_nan': True, 'attr_adder__add_abs_sum': True, 'attr_adder__add_sem': False, 'imputer__strategy': 'mean', 'lgbm__boosting_type': 'gbdt', 'lgbm__num_leaves': 22, 'lgbm__max_depth': 10, 'lgbm__learning_rate': 0.040099414056907895, 'lgbm__n_estimators': 345, 'lgbm__reg_alpha': 4.317523892877424, 'lgbm__reg_lambda': 35.6266131946745}. Best is trial 82 with value: 0.8138176007773725.\u001b[0m\n",
      "\u001b[32m[I 2021-09-30 11:35:06,150]\u001b[0m Trial 91 finished with value: 0.8120162390557774 and parameters: {'attr_adder__add_sum': False, 'attr_adder__add_num_nan': True, 'attr_adder__add_abs_sum': True, 'attr_adder__add_sem': False, 'imputer__strategy': 'mean', 'lgbm__boosting_type': 'gbdt', 'lgbm__num_leaves': 25, 'lgbm__max_depth': 3, 'lgbm__learning_rate': 0.0797955040759906, 'lgbm__n_estimators': 258, 'lgbm__reg_alpha': 0.9468737998342425, 'lgbm__reg_lambda': 31.631111142780167}. Best is trial 82 with value: 0.8138176007773725.\u001b[0m\n",
      "\u001b[32m[I 2021-09-30 11:36:17,920]\u001b[0m Trial 92 finished with value: 0.8140221948674109 and parameters: {'attr_adder__add_sum': False, 'attr_adder__add_num_nan': True, 'attr_adder__add_abs_sum': True, 'attr_adder__add_sem': False, 'imputer__strategy': 'mean', 'lgbm__boosting_type': 'gbdt', 'lgbm__num_leaves': 8, 'lgbm__max_depth': 0, 'lgbm__learning_rate': 0.1410109068211029, 'lgbm__n_estimators': 325, 'lgbm__reg_alpha': 1.9325648067508663, 'lgbm__reg_lambda': 92.87970908556592}. Best is trial 92 with value: 0.8140221948674109.\u001b[0m\n",
      "\u001b[32m[I 2021-09-30 11:37:13,549]\u001b[0m Trial 93 finished with value: 0.8125969534742702 and parameters: {'attr_adder__add_sum': False, 'attr_adder__add_num_nan': True, 'attr_adder__add_abs_sum': True, 'attr_adder__add_sem': False, 'imputer__strategy': 'mean', 'lgbm__boosting_type': 'gbdt', 'lgbm__num_leaves': 4, 'lgbm__max_depth': 2, 'lgbm__learning_rate': 0.1496938970931631, 'lgbm__n_estimators': 322, 'lgbm__reg_alpha': 3.199429464180098, 'lgbm__reg_lambda': 77.13969623712377}. Best is trial 92 with value: 0.8140221948674109.\u001b[0m\n",
      "\u001b[32m[I 2021-09-30 11:38:29,046]\u001b[0m Trial 94 finished with value: 0.8135454857755487 and parameters: {'attr_adder__add_sum': False, 'attr_adder__add_num_nan': True, 'attr_adder__add_abs_sum': True, 'attr_adder__add_sem': False, 'imputer__strategy': 'mean', 'lgbm__boosting_type': 'gbdt', 'lgbm__num_leaves': 10, 'lgbm__max_depth': 5, 'lgbm__learning_rate': 0.20864279244718478, 'lgbm__n_estimators': 376, 'lgbm__reg_alpha': 4.8961599327176994, 'lgbm__reg_lambda': 8.852717268089055}. Best is trial 92 with value: 0.8140221948674109.\u001b[0m\n",
      "\u001b[32m[I 2021-09-30 11:40:05,463]\u001b[0m Trial 95 finished with value: 0.814172456478399 and parameters: {'attr_adder__add_sum': False, 'attr_adder__add_num_nan': True, 'attr_adder__add_abs_sum': True, 'attr_adder__add_sem': False, 'imputer__strategy': 'median', 'lgbm__boosting_type': 'gbdt', 'lgbm__num_leaves': 9, 'lgbm__max_depth': 5, 'lgbm__learning_rate': 0.21209934144861917, 'lgbm__n_estimators': 385, 'lgbm__reg_alpha': 31.574584555036108, 'lgbm__reg_lambda': 9.296965783370265}. Best is trial 95 with value: 0.814172456478399.\u001b[0m\n",
      "\u001b[32m[I 2021-09-30 11:42:54,774]\u001b[0m Trial 96 finished with value: 0.81167027298844 and parameters: {'attr_adder__add_sum': False, 'attr_adder__add_num_nan': True, 'attr_adder__add_abs_sum': True, 'attr_adder__add_sem': False, 'imputer__strategy': 'median', 'lgbm__boosting_type': 'gbdt', 'lgbm__num_leaves': 47, 'lgbm__max_depth': 7, 'lgbm__learning_rate': 0.2394122338735972, 'lgbm__n_estimators': 400, 'lgbm__reg_alpha': 70.82617436836976, 'lgbm__reg_lambda': 92.90607846253403}. Best is trial 95 with value: 0.814172456478399.\u001b[0m\n",
      "\u001b[32m[I 2021-09-30 11:44:26,922]\u001b[0m Trial 97 finished with value: 0.8141402592802156 and parameters: {'attr_adder__add_sum': False, 'attr_adder__add_num_nan': True, 'attr_adder__add_abs_sum': True, 'attr_adder__add_sem': False, 'imputer__strategy': 'median', 'lgbm__boosting_type': 'gbdt', 'lgbm__num_leaves': 9, 'lgbm__max_depth': 0, 'lgbm__learning_rate': 0.18508183273788875, 'lgbm__n_estimators': 359, 'lgbm__reg_alpha': 20.833878811400286, 'lgbm__reg_lambda': 11.720180272198938}. Best is trial 95 with value: 0.814172456478399.\u001b[0m\n",
      "\u001b[32m[I 2021-09-30 11:45:44,152]\u001b[0m Trial 98 finished with value: 0.813640730840701 and parameters: {'attr_adder__add_sum': True, 'attr_adder__add_num_nan': True, 'attr_adder__add_abs_sum': False, 'attr_adder__add_sem': False, 'imputer__strategy': 'median', 'lgbm__boosting_type': 'gbdt', 'lgbm__num_leaves': 2, 'lgbm__max_depth': 0, 'lgbm__learning_rate': 0.8140225181389507, 'lgbm__n_estimators': 426, 'lgbm__reg_alpha': 33.373988795366564, 'lgbm__reg_lambda': 11.878127004194775}. Best is trial 95 with value: 0.814172456478399.\u001b[0m\n",
      "\u001b[32m[I 2021-09-30 11:47:15,700]\u001b[0m Trial 99 finished with value: 0.8098886669368845 and parameters: {'attr_adder__add_sum': True, 'attr_adder__add_num_nan': True, 'attr_adder__add_abs_sum': False, 'attr_adder__add_sem': False, 'imputer__strategy': 'median', 'lgbm__boosting_type': 'gbdt', 'lgbm__num_leaves': 6, 'lgbm__max_depth': -1, 'lgbm__learning_rate': 0.8247674581956237, 'lgbm__n_estimators': 359, 'lgbm__reg_alpha': 32.00946760866169, 'lgbm__reg_lambda': 10.98812788863332}. Best is trial 95 with value: 0.814172456478399.\u001b[0m\n",
      "\u001b[32m[I 2021-09-30 11:52:10,261]\u001b[0m Trial 100 finished with value: 0.7084290717337487 and parameters: {'attr_adder__add_sum': True, 'attr_adder__add_num_nan': False, 'attr_adder__add_abs_sum': False, 'attr_adder__add_sem': False, 'imputer__strategy': 'median', 'lgbm__boosting_type': 'gbdt', 'lgbm__num_leaves': 125, 'lgbm__max_depth': 0, 'lgbm__learning_rate': 0.7682828755809701, 'lgbm__n_estimators': 445, 'lgbm__reg_alpha': 31.675511279644283, 'lgbm__reg_lambda': 9.093352579307119}. Best is trial 95 with value: 0.814172456478399.\u001b[0m\n",
      "\u001b[32m[I 2021-09-30 11:53:31,913]\u001b[0m Trial 101 finished with value: 0.8133282210772741 and parameters: {'attr_adder__add_sum': True, 'attr_adder__add_num_nan': True, 'attr_adder__add_abs_sum': False, 'attr_adder__add_sem': False, 'imputer__strategy': 'median', 'lgbm__boosting_type': 'gbdt', 'lgbm__num_leaves': 11, 'lgbm__max_depth': 2, 'lgbm__learning_rate': 0.18764568037614174, 'lgbm__n_estimators': 388, 'lgbm__reg_alpha': 41.077601722408644, 'lgbm__reg_lambda': 18.658892083881238}. Best is trial 95 with value: 0.814172456478399.\u001b[0m\n",
      "\u001b[32m[I 2021-09-30 11:54:50,824]\u001b[0m Trial 102 finished with value: 0.8136568757279121 and parameters: {'attr_adder__add_sum': True, 'attr_adder__add_num_nan': True, 'attr_adder__add_abs_sum': False, 'attr_adder__add_sem': False, 'imputer__strategy': 'median', 'lgbm__boosting_type': 'gbdt', 'lgbm__num_leaves': 3, 'lgbm__max_depth': 1, 'lgbm__learning_rate': 0.8756881825512292, 'lgbm__n_estimators': 435, 'lgbm__reg_alpha': 22.058534884688616, 'lgbm__reg_lambda': 23.817232979246374}. Best is trial 95 with value: 0.814172456478399.\u001b[0m\n",
      "\u001b[32m[I 2021-09-30 11:56:08,686]\u001b[0m Trial 103 finished with value: 0.813605532092162 and parameters: {'attr_adder__add_sum': True, 'attr_adder__add_num_nan': True, 'attr_adder__add_abs_sum': False, 'attr_adder__add_sem': False, 'imputer__strategy': 'median', 'lgbm__boosting_type': 'gbdt', 'lgbm__num_leaves': 3, 'lgbm__max_depth': 1, 'lgbm__learning_rate': 0.9058389666446754, 'lgbm__n_estimators': 431, 'lgbm__reg_alpha': 18.471294384608857, 'lgbm__reg_lambda': 14.016875697394113}. Best is trial 95 with value: 0.814172456478399.\u001b[0m\n",
      "\u001b[32m[I 2021-09-30 11:57:26,893]\u001b[0m Trial 104 finished with value: 0.8136097074257078 and parameters: {'attr_adder__add_sum': True, 'attr_adder__add_num_nan': True, 'attr_adder__add_abs_sum': False, 'attr_adder__add_sem': False, 'imputer__strategy': 'median', 'lgbm__boosting_type': 'gbdt', 'lgbm__num_leaves': 2, 'lgbm__max_depth': 1, 'lgbm__learning_rate': 0.920264201567267, 'lgbm__n_estimators': 432, 'lgbm__reg_alpha': 11.912302169088468, 'lgbm__reg_lambda': 14.456292062671563}. Best is trial 95 with value: 0.814172456478399.\u001b[0m\n",
      "\u001b[32m[I 2021-09-30 11:58:43,358]\u001b[0m Trial 105 finished with value: 0.8135447807802648 and parameters: {'attr_adder__add_sum': True, 'attr_adder__add_num_nan': True, 'attr_adder__add_abs_sum': False, 'attr_adder__add_sem': False, 'imputer__strategy': 'median', 'lgbm__boosting_type': 'gbdt', 'lgbm__num_leaves': 2, 'lgbm__max_depth': 1, 'lgbm__learning_rate': 0.9434950395506081, 'lgbm__n_estimators': 426, 'lgbm__reg_alpha': 14.459605202454199, 'lgbm__reg_lambda': 13.651068568688057}. Best is trial 95 with value: 0.814172456478399.\u001b[0m\n",
      "\u001b[32m[I 2021-09-30 12:00:09,073]\u001b[0m Trial 106 finished with value: 0.7899223236077381 and parameters: {'attr_adder__add_sum': True, 'attr_adder__add_num_nan': True, 'attr_adder__add_abs_sum': False, 'attr_adder__add_sem': False, 'imputer__strategy': 'median', 'lgbm__boosting_type': 'goss', 'lgbm__num_leaves': 7, 'lgbm__max_depth': 0, 'lgbm__learning_rate': 0.8912455282403843, 'lgbm__n_estimators': 460, 'lgbm__reg_alpha': 20.22122449400383, 'lgbm__reg_lambda': 24.86730601920705}. Best is trial 95 with value: 0.814172456478399.\u001b[0m\n",
      "\u001b[32m[I 2021-09-30 12:01:55,142]\u001b[0m Trial 107 finished with value: 0.8042503833073257 and parameters: {'attr_adder__add_sum': True, 'attr_adder__add_num_nan': True, 'attr_adder__add_abs_sum': False, 'attr_adder__add_sem': False, 'imputer__strategy': 'median', 'lgbm__boosting_type': 'gbdt', 'lgbm__num_leaves': 9, 'lgbm__max_depth': 30, 'lgbm__learning_rate': 0.9330692795629151, 'lgbm__n_estimators': 434, 'lgbm__reg_alpha': 26.9081426241606, 'lgbm__reg_lambda': 12.219073453421322}. Best is trial 95 with value: 0.814172456478399.\u001b[0m\n",
      "\u001b[32m[I 2021-09-30 12:03:09,547]\u001b[0m Trial 108 finished with value: 0.8136036004061297 and parameters: {'attr_adder__add_sum': True, 'attr_adder__add_num_nan': True, 'attr_adder__add_abs_sum': False, 'attr_adder__add_sem': False, 'imputer__strategy': 'median', 'lgbm__boosting_type': 'gbdt', 'lgbm__num_leaves': 2, 'lgbm__max_depth': -1, 'lgbm__learning_rate': 0.8592727237204285, 'lgbm__n_estimators': 419, 'lgbm__reg_alpha': 17.189538904836656, 'lgbm__reg_lambda': 7.379642817094668}. Best is trial 95 with value: 0.814172456478399.\u001b[0m\n",
      "\u001b[32m[I 2021-09-30 12:04:27,865]\u001b[0m Trial 109 finished with value: 0.8134204710088062 and parameters: {'attr_adder__add_sum': True, 'attr_adder__add_num_nan': True, 'attr_adder__add_abs_sum': False, 'attr_adder__add_sem': False, 'imputer__strategy': 'median', 'lgbm__boosting_type': 'gbdt', 'lgbm__num_leaves': 16, 'lgbm__max_depth': 1, 'lgbm__learning_rate': 0.9954319862535673, 'lgbm__n_estimators': 440, 'lgbm__reg_alpha': 8.826373691657084, 'lgbm__reg_lambda': 20.930497837914103}. Best is trial 95 with value: 0.814172456478399.\u001b[0m\n",
      "\u001b[32m[I 2021-09-30 12:06:04,172]\u001b[0m Trial 110 finished with value: 0.8121530266587608 and parameters: {'attr_adder__add_sum': True, 'attr_adder__add_num_nan': True, 'attr_adder__add_abs_sum': False, 'attr_adder__add_sem': False, 'imputer__strategy': 'median', 'lgbm__boosting_type': 'gbdt', 'lgbm__num_leaves': 14, 'lgbm__max_depth': 2, 'lgbm__learning_rate': 0.9104932409490911, 'lgbm__n_estimators': 469, 'lgbm__reg_alpha': 24.251426786361485, 'lgbm__reg_lambda': 17.27231772300787}. Best is trial 95 with value: 0.814172456478399.\u001b[0m\n",
      "\u001b[32m[I 2021-09-30 12:07:39,673]\u001b[0m Trial 111 finished with value: 0.8097978018346432 and parameters: {'attr_adder__add_sum': True, 'attr_adder__add_num_nan': True, 'attr_adder__add_abs_sum': False, 'attr_adder__add_sem': False, 'imputer__strategy': 'median', 'lgbm__boosting_type': 'gbdt', 'lgbm__num_leaves': 5, 'lgbm__max_depth': -1, 'lgbm__learning_rate': 0.8601605852390538, 'lgbm__n_estimators': 420, 'lgbm__reg_alpha': 16.583605969745626, 'lgbm__reg_lambda': 6.992550329629751}. Best is trial 95 with value: 0.814172456478399.\u001b[0m\n",
      "\u001b[32m[I 2021-09-30 12:08:55,713]\u001b[0m Trial 112 finished with value: 0.8135339790158953 and parameters: {'attr_adder__add_sum': True, 'attr_adder__add_num_nan': True, 'attr_adder__add_abs_sum': False, 'attr_adder__add_sem': False, 'imputer__strategy': 'median', 'lgbm__boosting_type': 'gbdt', 'lgbm__num_leaves': 2, 'lgbm__max_depth': 0, 'lgbm__learning_rate': 0.8115197438790858, 'lgbm__n_estimators': 401, 'lgbm__reg_alpha': 40.11505748239464, 'lgbm__reg_lambda': 5.527001958489898}. Best is trial 95 with value: 0.814172456478399.\u001b[0m\n",
      "\u001b[32m[I 2021-09-30 12:10:15,172]\u001b[0m Trial 113 finished with value: 0.8137350511199213 and parameters: {'attr_adder__add_sum': True, 'attr_adder__add_num_nan': True, 'attr_adder__add_abs_sum': False, 'attr_adder__add_sem': False, 'imputer__strategy': 'median', 'lgbm__boosting_type': 'gbdt', 'lgbm__num_leaves': 9, 'lgbm__max_depth': 1, 'lgbm__learning_rate': 0.8594321344969966, 'lgbm__n_estimators': 456, 'lgbm__reg_alpha': 20.09511316960388, 'lgbm__reg_lambda': 11.365956114407126}. Best is trial 95 with value: 0.814172456478399.\u001b[0m\n",
      "\u001b[32m[I 2021-09-30 12:11:35,877]\u001b[0m Trial 114 finished with value: 0.8137226258036271 and parameters: {'attr_adder__add_sum': True, 'attr_adder__add_num_nan': True, 'attr_adder__add_abs_sum': False, 'attr_adder__add_sem': False, 'imputer__strategy': 'median', 'lgbm__boosting_type': 'gbdt', 'lgbm__num_leaves': 9, 'lgbm__max_depth': 1, 'lgbm__learning_rate': 0.9228374544351203, 'lgbm__n_estimators': 459, 'lgbm__reg_alpha': 20.91436785044235, 'lgbm__reg_lambda': 10.066239384710178}. Best is trial 95 with value: 0.814172456478399.\u001b[0m\n",
      "\u001b[32m[I 2021-09-30 12:13:23,112]\u001b[0m Trial 115 finished with value: 0.8084574009391197 and parameters: {'attr_adder__add_sum': True, 'attr_adder__add_num_nan': True, 'attr_adder__add_abs_sum': False, 'attr_adder__add_sem': False, 'imputer__strategy': 'median', 'lgbm__boosting_type': 'gbdt', 'lgbm__num_leaves': 9, 'lgbm__max_depth': 3, 'lgbm__learning_rate': 0.9294472302693038, 'lgbm__n_estimators': 456, 'lgbm__reg_alpha': 48.77244659695611, 'lgbm__reg_lambda': 10.42256575199613}. Best is trial 95 with value: 0.814172456478399.\u001b[0m\n",
      "\u001b[32m[I 2021-09-30 12:15:36,589]\u001b[0m Trial 116 finished with value: 0.8014375151445596 and parameters: {'attr_adder__add_sum': True, 'attr_adder__add_num_nan': True, 'attr_adder__add_abs_sum': False, 'attr_adder__add_sem': False, 'imputer__strategy': 'median', 'lgbm__boosting_type': 'gbdt', 'lgbm__num_leaves': 16, 'lgbm__max_depth': 5, 'lgbm__learning_rate': 0.8322803521561889, 'lgbm__n_estimators': 487, 'lgbm__reg_alpha': 28.549624264309607, 'lgbm__reg_lambda': 8.382925169302316}. Best is trial 95 with value: 0.814172456478399.\u001b[0m\n",
      "\u001b[32m[I 2021-09-30 12:17:09,782]\u001b[0m Trial 117 finished with value: 0.8127898853949691 and parameters: {'attr_adder__add_sum': True, 'attr_adder__add_num_nan': True, 'attr_adder__add_abs_sum': False, 'attr_adder__add_sem': False, 'imputer__strategy': 'median', 'lgbm__boosting_type': 'gbdt', 'lgbm__num_leaves': 10, 'lgbm__max_depth': 2, 'lgbm__learning_rate': 0.7878886526718063, 'lgbm__n_estimators': 473, 'lgbm__reg_alpha': 12.253533220509373, 'lgbm__reg_lambda': 11.72672502548519}. Best is trial 95 with value: 0.814172456478399.\u001b[0m\n",
      "\u001b[32m[I 2021-09-30 12:19:22,243]\u001b[0m Trial 118 finished with value: 0.7991031460640315 and parameters: {'attr_adder__add_sum': True, 'attr_adder__add_num_nan': True, 'attr_adder__add_abs_sum': False, 'attr_adder__add_sem': False, 'imputer__strategy': 'median', 'lgbm__boosting_type': 'gbdt', 'lgbm__num_leaves': 19, 'lgbm__max_depth': 21, 'lgbm__learning_rate': 0.8655723168566081, 'lgbm__n_estimators': 450, 'lgbm__reg_alpha': 38.15087960634576, 'lgbm__reg_lambda': 4.80463117203312}. Best is trial 95 with value: 0.814172456478399.\u001b[0m\n",
      "\u001b[32m[I 2021-09-30 12:20:45,913]\u001b[0m Trial 119 finished with value: 0.8137338734308922 and parameters: {'attr_adder__add_sum': True, 'attr_adder__add_num_nan': True, 'attr_adder__add_abs_sum': False, 'attr_adder__add_sem': False, 'imputer__strategy': 'median', 'lgbm__boosting_type': 'gbdt', 'lgbm__num_leaves': 13, 'lgbm__max_depth': 1, 'lgbm__learning_rate': 0.8758635076909104, 'lgbm__n_estimators': 462, 'lgbm__reg_alpha': 21.162195564569927, 'lgbm__reg_lambda': 15.671097839338788}. Best is trial 95 with value: 0.814172456478399.\u001b[0m\n",
      "\u001b[32m[I 2021-09-30 12:22:47,949]\u001b[0m Trial 120 finished with value: 0.8011490788693892 and parameters: {'attr_adder__add_sum': True, 'attr_adder__add_num_nan': True, 'attr_adder__add_abs_sum': False, 'attr_adder__add_sem': False, 'imputer__strategy': 'median', 'lgbm__boosting_type': 'gbdt', 'lgbm__num_leaves': 13, 'lgbm__max_depth': 0, 'lgbm__learning_rate': 0.8784751928360428, 'lgbm__n_estimators': 461, 'lgbm__reg_alpha': 22.38825201983302, 'lgbm__reg_lambda': 9.64465454987838}. Best is trial 95 with value: 0.814172456478399.\u001b[0m\n",
      "\u001b[32m[I 2021-09-30 12:24:10,391]\u001b[0m Trial 121 finished with value: 0.8137237186191161 and parameters: {'attr_adder__add_sum': True, 'attr_adder__add_num_nan': True, 'attr_adder__add_abs_sum': False, 'attr_adder__add_sem': False, 'imputer__strategy': 'median', 'lgbm__boosting_type': 'gbdt', 'lgbm__num_leaves': 8, 'lgbm__max_depth': 1, 'lgbm__learning_rate': 0.958155343798178, 'lgbm__n_estimators': 482, 'lgbm__reg_alpha': 14.484248958073634, 'lgbm__reg_lambda': 16.765366186529857}. Best is trial 95 with value: 0.814172456478399.\u001b[0m\n",
      "\u001b[32m[I 2021-09-30 12:26:05,220]\u001b[0m Trial 122 finished with value: 0.8038260700346395 and parameters: {'attr_adder__add_sum': True, 'attr_adder__add_num_nan': True, 'attr_adder__add_abs_sum': False, 'attr_adder__add_sem': False, 'imputer__strategy': 'median', 'lgbm__boosting_type': 'gbdt', 'lgbm__num_leaves': 8, 'lgbm__max_depth': -1, 'lgbm__learning_rate': 0.960153528307655, 'lgbm__n_estimators': 468, 'lgbm__reg_alpha': 14.799501925843904, 'lgbm__reg_lambda': 16.19555230506679}. Best is trial 95 with value: 0.814172456478399.\u001b[0m\n",
      "\u001b[32m[I 2021-09-30 12:27:29,297]\u001b[0m Trial 123 finished with value: 0.8138378003966211 and parameters: {'attr_adder__add_sum': True, 'attr_adder__add_num_nan': True, 'attr_adder__add_abs_sum': False, 'attr_adder__add_sem': False, 'imputer__strategy': 'median', 'lgbm__boosting_type': 'gbdt', 'lgbm__num_leaves': 143, 'lgbm__max_depth': 1, 'lgbm__learning_rate': 0.9145639321667289, 'lgbm__n_estimators': 485, 'lgbm__reg_alpha': 20.102278740762692, 'lgbm__reg_lambda': 19.511976317888422}. Best is trial 95 with value: 0.814172456478399.\u001b[0m\n",
      "\u001b[32m[I 2021-09-30 12:28:52,146]\u001b[0m Trial 124 finished with value: 0.8136511570603605 and parameters: {'attr_adder__add_sum': True, 'attr_adder__add_num_nan': True, 'attr_adder__add_abs_sum': False, 'attr_adder__add_sem': False, 'imputer__strategy': 'median', 'lgbm__boosting_type': 'gbdt', 'lgbm__num_leaves': 154, 'lgbm__max_depth': 1, 'lgbm__learning_rate': 0.9548614509062268, 'lgbm__n_estimators': 482, 'lgbm__reg_alpha': 9.09911978617972, 'lgbm__reg_lambda': 22.01100163761131}. Best is trial 95 with value: 0.814172456478399.\u001b[0m\n",
      "\u001b[32m[I 2021-09-30 12:30:27,691]\u001b[0m Trial 125 finished with value: 0.811390682271131 and parameters: {'attr_adder__add_sum': True, 'attr_adder__add_num_nan': True, 'attr_adder__add_abs_sum': False, 'attr_adder__add_sem': False, 'imputer__strategy': 'median', 'lgbm__boosting_type': 'gbdt', 'lgbm__num_leaves': 151, 'lgbm__max_depth': 2, 'lgbm__learning_rate': 0.9576468510600051, 'lgbm__n_estimators': 492, 'lgbm__reg_alpha': 9.695695540569062, 'lgbm__reg_lambda': 22.086626010029445}. Best is trial 95 with value: 0.814172456478399.\u001b[0m\n",
      "\u001b[32m[I 2021-09-30 12:36:47,928]\u001b[0m Trial 126 finished with value: 0.7667755404622092 and parameters: {'attr_adder__add_sum': True, 'attr_adder__add_num_nan': True, 'attr_adder__add_abs_sum': False, 'attr_adder__add_sem': False, 'imputer__strategy': 'median', 'lgbm__boosting_type': 'gbdt', 'lgbm__num_leaves': 167, 'lgbm__max_depth': 0, 'lgbm__learning_rate': 0.9850628306044599, 'lgbm__n_estimators': 483, 'lgbm__reg_alpha': 20.822615933417346, 'lgbm__reg_lambda': 17.700263279975232}. Best is trial 95 with value: 0.814172456478399.\u001b[0m\n",
      "\u001b[32m[I 2021-09-30 12:40:44,457]\u001b[0m Trial 127 finished with value: 0.595596038612135 and parameters: {'attr_adder__add_sum': True, 'attr_adder__add_num_nan': False, 'attr_adder__add_abs_sum': False, 'attr_adder__add_sem': False, 'imputer__strategy': 'median', 'lgbm__boosting_type': 'goss', 'lgbm__num_leaves': 142, 'lgbm__max_depth': 36, 'lgbm__learning_rate': 0.894689305717353, 'lgbm__n_estimators': 498, 'lgbm__reg_alpha': 14.947833657833417, 'lgbm__reg_lambda': 26.590214182505317}. Best is trial 95 with value: 0.814172456478399.\u001b[0m\n",
      "\u001b[32m[I 2021-09-30 12:42:33,975]\u001b[0m Trial 128 finished with value: 0.808417524054325 and parameters: {'attr_adder__add_sum': True, 'attr_adder__add_num_nan': True, 'attr_adder__add_abs_sum': False, 'attr_adder__add_sem': False, 'imputer__strategy': 'median', 'lgbm__boosting_type': 'gbdt', 'lgbm__num_leaves': 131, 'lgbm__max_depth': 3, 'lgbm__learning_rate': 0.8452816584675781, 'lgbm__n_estimators': 480, 'lgbm__reg_alpha': 25.184277663229114, 'lgbm__reg_lambda': 20.052251338285043}. Best is trial 95 with value: 0.814172456478399.\u001b[0m\n",
      "\u001b[32m[I 2021-09-30 12:43:52,944]\u001b[0m Trial 129 finished with value: 0.8136436227616439 and parameters: {'attr_adder__add_sum': True, 'attr_adder__add_num_nan': True, 'attr_adder__add_abs_sum': False, 'attr_adder__add_sem': False, 'imputer__strategy': 'median', 'lgbm__boosting_type': 'gbdt', 'lgbm__num_leaves': 177, 'lgbm__max_depth': 1, 'lgbm__learning_rate': 0.9512058743950472, 'lgbm__n_estimators': 451, 'lgbm__reg_alpha': 29.1476980871285, 'lgbm__reg_lambda': 23.06528811069028}. Best is trial 95 with value: 0.814172456478399.\u001b[0m\n",
      "\u001b[32m[I 2021-09-30 12:45:10,215]\u001b[0m Trial 130 finished with value: 0.8136402883866962 and parameters: {'attr_adder__add_sum': True, 'attr_adder__add_num_nan': True, 'attr_adder__add_abs_sum': False, 'attr_adder__add_sem': False, 'imputer__strategy': 'median', 'lgbm__boosting_type': 'gbdt', 'lgbm__num_leaves': 172, 'lgbm__max_depth': 1, 'lgbm__learning_rate': 0.9537619831014003, 'lgbm__n_estimators': 449, 'lgbm__reg_alpha': 29.531590877933947, 'lgbm__reg_lambda': 43.37663819682122}. Best is trial 95 with value: 0.814172456478399.\u001b[0m\n",
      "\u001b[32m[I 2021-09-30 12:46:29,985]\u001b[0m Trial 131 finished with value: 0.8135983516685935 and parameters: {'attr_adder__add_sum': True, 'attr_adder__add_num_nan': True, 'attr_adder__add_abs_sum': False, 'attr_adder__add_sem': False, 'imputer__strategy': 'median', 'lgbm__boosting_type': 'gbdt', 'lgbm__num_leaves': 175, 'lgbm__max_depth': 1, 'lgbm__learning_rate': 0.9708927014859712, 'lgbm__n_estimators': 452, 'lgbm__reg_alpha': 31.15941049177962, 'lgbm__reg_lambda': 46.023346873459495}. Best is trial 95 with value: 0.814172456478399.\u001b[0m\n",
      "\u001b[32m[I 2021-09-30 12:52:13,052]\u001b[0m Trial 132 finished with value: 0.7703980338910383 and parameters: {'attr_adder__add_sum': True, 'attr_adder__add_num_nan': True, 'attr_adder__add_abs_sum': False, 'attr_adder__add_sem': False, 'imputer__strategy': 'median', 'lgbm__boosting_type': 'gbdt', 'lgbm__num_leaves': 175, 'lgbm__max_depth': -1, 'lgbm__learning_rate': 0.9438027661764427, 'lgbm__n_estimators': 464, 'lgbm__reg_alpha': 34.423408118419644, 'lgbm__reg_lambda': 40.514134895539875}. Best is trial 95 with value: 0.814172456478399.\u001b[0m\n",
      "\u001b[32m[I 2021-09-30 12:53:37,353]\u001b[0m Trial 133 finished with value: 0.8137075630649531 and parameters: {'attr_adder__add_sum': True, 'attr_adder__add_num_nan': True, 'attr_adder__add_abs_sum': False, 'attr_adder__add_sem': False, 'imputer__strategy': 'median', 'lgbm__boosting_type': 'gbdt', 'lgbm__num_leaves': 183, 'lgbm__max_depth': 1, 'lgbm__learning_rate': 0.9982121425935266, 'lgbm__n_estimators': 477, 'lgbm__reg_alpha': 50.966879285475414, 'lgbm__reg_lambda': 23.880870786256402}. Best is trial 95 with value: 0.814172456478399.\u001b[0m\n",
      "\u001b[32m[I 2021-09-30 12:55:15,142]\u001b[0m Trial 134 finished with value: 0.8125670431188708 and parameters: {'attr_adder__add_sum': True, 'attr_adder__add_num_nan': True, 'attr_adder__add_abs_sum': False, 'attr_adder__add_sem': False, 'imputer__strategy': 'median', 'lgbm__boosting_type': 'gbdt', 'lgbm__num_leaves': 196, 'lgbm__max_depth': 2, 'lgbm__learning_rate': 0.994095074622367, 'lgbm__n_estimators': 476, 'lgbm__reg_alpha': 65.37398258883164, 'lgbm__reg_lambda': 26.128876054569325}. Best is trial 95 with value: 0.814172456478399.\u001b[0m\n",
      "\u001b[32m[I 2021-09-30 13:00:35,628]\u001b[0m Trial 135 finished with value: 0.7745746169218392 and parameters: {'attr_adder__add_sum': True, 'attr_adder__add_num_nan': True, 'attr_adder__add_abs_sum': False, 'attr_adder__add_sem': False, 'imputer__strategy': 'median', 'lgbm__boosting_type': 'gbdt', 'lgbm__num_leaves': 154, 'lgbm__max_depth': 0, 'lgbm__learning_rate': 0.8725260677571596, 'lgbm__n_estimators': 489, 'lgbm__reg_alpha': 50.05669650647852, 'lgbm__reg_lambda': 11.89541187753797}. Best is trial 95 with value: 0.814172456478399.\u001b[0m\n",
      "\u001b[32m[I 2021-09-30 13:06:39,839]\u001b[0m Trial 136 finished with value: 0.7699830044977006 and parameters: {'attr_adder__add_sum': True, 'attr_adder__add_num_nan': True, 'attr_adder__add_abs_sum': False, 'attr_adder__add_sem': False, 'imputer__strategy': 'median', 'lgbm__boosting_type': 'gbdt', 'lgbm__num_leaves': 189, 'lgbm__max_depth': -1, 'lgbm__learning_rate': 0.9096301634433144, 'lgbm__n_estimators': 439, 'lgbm__reg_alpha': 20.01534459805672, 'lgbm__reg_lambda': 22.343467684455096}. Best is trial 95 with value: 0.814172456478399.\u001b[0m\n",
      "\u001b[32m[I 2021-09-30 13:08:54,240]\u001b[0m Trial 137 finished with value: 0.802347041441161 and parameters: {'attr_adder__add_sum': True, 'attr_adder__add_num_nan': True, 'attr_adder__add_abs_sum': False, 'attr_adder__add_sem': False, 'imputer__strategy': 'median', 'lgbm__boosting_type': 'gbdt', 'lgbm__num_leaves': 179, 'lgbm__max_depth': 4, 'lgbm__learning_rate': 0.8881539540138038, 'lgbm__n_estimators': 500, 'lgbm__reg_alpha': 36.27215154061163, 'lgbm__reg_lambda': 16.623702492870077}. Best is trial 95 with value: 0.814172456478399.\u001b[0m\n",
      "\u001b[32m[I 2021-09-30 13:10:16,587]\u001b[0m Trial 138 finished with value: 0.813751116390782 and parameters: {'attr_adder__add_sum': True, 'attr_adder__add_num_nan': True, 'attr_adder__add_abs_sum': False, 'attr_adder__add_sem': False, 'imputer__strategy': 'median', 'lgbm__boosting_type': 'gbdt', 'lgbm__num_leaves': 163, 'lgbm__max_depth': 1, 'lgbm__learning_rate': 0.6195858056718595, 'lgbm__n_estimators': 482, 'lgbm__reg_alpha': 44.59257891118123, 'lgbm__reg_lambda': 10.01263970197375}. Best is trial 95 with value: 0.814172456478399.\u001b[0m\n",
      "\u001b[32m[I 2021-09-30 13:11:49,623]\u001b[0m Trial 139 finished with value: 0.8144132964742495 and parameters: {'attr_adder__add_sum': True, 'attr_adder__add_num_nan': True, 'attr_adder__add_abs_sum': False, 'attr_adder__add_sem': False, 'imputer__strategy': 'median', 'lgbm__boosting_type': 'gbdt', 'lgbm__num_leaves': 161, 'lgbm__max_depth': 2, 'lgbm__learning_rate': 0.47451434325137315, 'lgbm__n_estimators': 476, 'lgbm__reg_alpha': 85.55678900038365, 'lgbm__reg_lambda': 28.530721729435296}. Best is trial 139 with value: 0.8144132964742495.\u001b[0m\n",
      "\u001b[32m[I 2021-09-30 13:13:40,742]\u001b[0m Trial 140 finished with value: 0.8133391315817803 and parameters: {'attr_adder__add_sum': True, 'attr_adder__add_num_nan': True, 'attr_adder__add_abs_sum': False, 'attr_adder__add_sem': False, 'imputer__strategy': 'median', 'lgbm__boosting_type': 'gbdt', 'lgbm__num_leaves': 158, 'lgbm__max_depth': 3, 'lgbm__learning_rate': 0.5224848417239143, 'lgbm__n_estimators': 479, 'lgbm__reg_alpha': 94.56974596345928, 'lgbm__reg_lambda': 27.639732804335516}. Best is trial 139 with value: 0.8144132964742495.\u001b[0m\n",
      "\u001b[32m[I 2021-09-30 13:15:01,109]\u001b[0m Trial 141 finished with value: 0.8137005817607257 and parameters: {'attr_adder__add_sum': True, 'attr_adder__add_num_nan': True, 'attr_adder__add_abs_sum': False, 'attr_adder__add_sem': False, 'imputer__strategy': 'median', 'lgbm__boosting_type': 'gbdt', 'lgbm__num_leaves': 163, 'lgbm__max_depth': 1, 'lgbm__learning_rate': 0.6515393537629705, 'lgbm__n_estimators': 465, 'lgbm__reg_alpha': 59.344891042142095, 'lgbm__reg_lambda': 21.898673817387174}. Best is trial 139 with value: 0.8144132964742495.\u001b[0m\n",
      "\u001b[32m[I 2021-09-30 13:16:37,904]\u001b[0m Trial 142 finished with value: 0.8142681511902282 and parameters: {'attr_adder__add_sum': True, 'attr_adder__add_num_nan': True, 'attr_adder__add_abs_sum': False, 'attr_adder__add_sem': False, 'imputer__strategy': 'median', 'lgbm__boosting_type': 'gbdt', 'lgbm__num_leaves': 163, 'lgbm__max_depth': 2, 'lgbm__learning_rate': 0.635213388075212, 'lgbm__n_estimators': 471, 'lgbm__reg_alpha': 79.37110589773789, 'lgbm__reg_lambda': 52.52804917773494}. Best is trial 139 with value: 0.8144132964742495.\u001b[0m\n",
      "\u001b[32m[I 2021-09-30 13:18:18,316]\u001b[0m Trial 143 finished with value: 0.8141954960656964 and parameters: {'attr_adder__add_sum': True, 'attr_adder__add_num_nan': True, 'attr_adder__add_abs_sum': False, 'attr_adder__add_sem': False, 'imputer__strategy': 'median', 'lgbm__boosting_type': 'gbdt', 'lgbm__num_leaves': 163, 'lgbm__max_depth': 2, 'lgbm__learning_rate': 0.6238810820167752, 'lgbm__n_estimators': 470, 'lgbm__reg_alpha': 90.4244387462013, 'lgbm__reg_lambda': 54.19000324423813}. Best is trial 139 with value: 0.8144132964742495.\u001b[0m\n",
      "\u001b[32m[I 2021-09-30 13:20:36,495]\u001b[0m Trial 144 finished with value: 0.8095869972420798 and parameters: {'attr_adder__add_sum': True, 'attr_adder__add_num_nan': True, 'attr_adder__add_abs_sum': False, 'attr_adder__add_sem': False, 'imputer__strategy': 'median', 'lgbm__boosting_type': 'gbdt', 'lgbm__num_leaves': 164, 'lgbm__max_depth': 4, 'lgbm__learning_rate': 0.6339334289429382, 'lgbm__n_estimators': 469, 'lgbm__reg_alpha': 86.35340286613668, 'lgbm__reg_lambda': 50.78713039177601}. Best is trial 139 with value: 0.8144132964742495.\u001b[0m\n"
     ]
    }
   ],
   "metadata": {}
  },
  {
   "cell_type": "markdown",
   "source": [
    "# Visualize Results\r\n",
    "\r\n",
    "Optuna provides some really interesting visuals baked right into the study object.  Most are built with plotly, meaning you get a little interactivity to play with.\r\n",
    "\r\n",
    "## Hyperparameter Importance"
   ],
   "metadata": {}
  },
  {
   "cell_type": "code",
   "execution_count": 7,
   "source": [
    "import plotly\r\n",
    "optuna.visualization.plot_param_importances(study)"
   ],
   "outputs": [
    {
     "output_type": "display_data",
     "data": {
      "application/vnd.plotly.v1+json": {
       "config": {
        "plotlyServerURL": "https://plot.ly"
       },
       "data": [
        {
         "cliponaxis": false,
         "hovertemplate": [
          "attr_adder__add_sum (CategoricalDistribution): 0.0009323309599080005<extra></extra>",
          "attr_adder__add_sem (CategoricalDistribution): 0.0014536612045768368<extra></extra>",
          "lgbm__reg_alpha (LogUniformDistribution): 0.002133233317053132<extra></extra>",
          "attr_adder__add_abs_sum (CategoricalDistribution): 0.004208748838509061<extra></extra>",
          "lgbm__reg_lambda (LogUniformDistribution): 0.006200570572701376<extra></extra>",
          "lgbm__learning_rate (UniformDistribution): 0.021083507077664026<extra></extra>",
          "imputer__strategy (CategoricalDistribution): 0.036409767878614496<extra></extra>",
          "lgbm__boosting_type (CategoricalDistribution): 0.04338404270656858<extra></extra>",
          "lgbm__num_leaves (IntUniformDistribution): 0.05237421467879312<extra></extra>",
          "lgbm__max_depth (IntUniformDistribution): 0.060345331551333724<extra></extra>",
          "lgbm__n_estimators (IntUniformDistribution): 0.09921589719413462<extra></extra>",
          "attr_adder__add_num_nan (CategoricalDistribution): 0.6722586940201432<extra></extra>"
         ],
         "marker": {
          "color": "rgb(66,146,198)"
         },
         "orientation": "h",
         "text": [
          "0.0009323309599080005",
          "0.0014536612045768368",
          "0.002133233317053132",
          "0.004208748838509061",
          "0.006200570572701376",
          "0.021083507077664026",
          "0.036409767878614496",
          "0.04338404270656858",
          "0.05237421467879312",
          "0.060345331551333724",
          "0.09921589719413462",
          "0.6722586940201432"
         ],
         "textposition": "outside",
         "texttemplate": "%{text:.2f}",
         "type": "bar",
         "x": [
          0.0009323309599080005,
          0.0014536612045768368,
          0.002133233317053132,
          0.004208748838509061,
          0.006200570572701376,
          0.021083507077664026,
          0.036409767878614496,
          0.04338404270656858,
          0.05237421467879312,
          0.060345331551333724,
          0.09921589719413462,
          0.6722586940201432
         ],
         "y": [
          "attr_adder__add_sum",
          "attr_adder__add_sem",
          "lgbm__reg_alpha",
          "attr_adder__add_abs_sum",
          "lgbm__reg_lambda",
          "lgbm__learning_rate",
          "imputer__strategy",
          "lgbm__boosting_type",
          "lgbm__num_leaves",
          "lgbm__max_depth",
          "lgbm__n_estimators",
          "attr_adder__add_num_nan"
         ]
        }
       ],
       "layout": {
        "showlegend": false,
        "template": {
         "data": {
          "bar": [
           {
            "error_x": {
             "color": "#2a3f5f"
            },
            "error_y": {
             "color": "#2a3f5f"
            },
            "marker": {
             "line": {
              "color": "#E5ECF6",
              "width": 0.5
             },
             "pattern": {
              "fillmode": "overlay",
              "size": 10,
              "solidity": 0.2
             }
            },
            "type": "bar"
           }
          ],
          "barpolar": [
           {
            "marker": {
             "line": {
              "color": "#E5ECF6",
              "width": 0.5
             },
             "pattern": {
              "fillmode": "overlay",
              "size": 10,
              "solidity": 0.2
             }
            },
            "type": "barpolar"
           }
          ],
          "carpet": [
           {
            "aaxis": {
             "endlinecolor": "#2a3f5f",
             "gridcolor": "white",
             "linecolor": "white",
             "minorgridcolor": "white",
             "startlinecolor": "#2a3f5f"
            },
            "baxis": {
             "endlinecolor": "#2a3f5f",
             "gridcolor": "white",
             "linecolor": "white",
             "minorgridcolor": "white",
             "startlinecolor": "#2a3f5f"
            },
            "type": "carpet"
           }
          ],
          "choropleth": [
           {
            "colorbar": {
             "outlinewidth": 0,
             "ticks": ""
            },
            "type": "choropleth"
           }
          ],
          "contour": [
           {
            "colorbar": {
             "outlinewidth": 0,
             "ticks": ""
            },
            "colorscale": [
             [
              0,
              "#0d0887"
             ],
             [
              0.1111111111111111,
              "#46039f"
             ],
             [
              0.2222222222222222,
              "#7201a8"
             ],
             [
              0.3333333333333333,
              "#9c179e"
             ],
             [
              0.4444444444444444,
              "#bd3786"
             ],
             [
              0.5555555555555556,
              "#d8576b"
             ],
             [
              0.6666666666666666,
              "#ed7953"
             ],
             [
              0.7777777777777778,
              "#fb9f3a"
             ],
             [
              0.8888888888888888,
              "#fdca26"
             ],
             [
              1,
              "#f0f921"
             ]
            ],
            "type": "contour"
           }
          ],
          "contourcarpet": [
           {
            "colorbar": {
             "outlinewidth": 0,
             "ticks": ""
            },
            "type": "contourcarpet"
           }
          ],
          "heatmap": [
           {
            "colorbar": {
             "outlinewidth": 0,
             "ticks": ""
            },
            "colorscale": [
             [
              0,
              "#0d0887"
             ],
             [
              0.1111111111111111,
              "#46039f"
             ],
             [
              0.2222222222222222,
              "#7201a8"
             ],
             [
              0.3333333333333333,
              "#9c179e"
             ],
             [
              0.4444444444444444,
              "#bd3786"
             ],
             [
              0.5555555555555556,
              "#d8576b"
             ],
             [
              0.6666666666666666,
              "#ed7953"
             ],
             [
              0.7777777777777778,
              "#fb9f3a"
             ],
             [
              0.8888888888888888,
              "#fdca26"
             ],
             [
              1,
              "#f0f921"
             ]
            ],
            "type": "heatmap"
           }
          ],
          "heatmapgl": [
           {
            "colorbar": {
             "outlinewidth": 0,
             "ticks": ""
            },
            "colorscale": [
             [
              0,
              "#0d0887"
             ],
             [
              0.1111111111111111,
              "#46039f"
             ],
             [
              0.2222222222222222,
              "#7201a8"
             ],
             [
              0.3333333333333333,
              "#9c179e"
             ],
             [
              0.4444444444444444,
              "#bd3786"
             ],
             [
              0.5555555555555556,
              "#d8576b"
             ],
             [
              0.6666666666666666,
              "#ed7953"
             ],
             [
              0.7777777777777778,
              "#fb9f3a"
             ],
             [
              0.8888888888888888,
              "#fdca26"
             ],
             [
              1,
              "#f0f921"
             ]
            ],
            "type": "heatmapgl"
           }
          ],
          "histogram": [
           {
            "marker": {
             "pattern": {
              "fillmode": "overlay",
              "size": 10,
              "solidity": 0.2
             }
            },
            "type": "histogram"
           }
          ],
          "histogram2d": [
           {
            "colorbar": {
             "outlinewidth": 0,
             "ticks": ""
            },
            "colorscale": [
             [
              0,
              "#0d0887"
             ],
             [
              0.1111111111111111,
              "#46039f"
             ],
             [
              0.2222222222222222,
              "#7201a8"
             ],
             [
              0.3333333333333333,
              "#9c179e"
             ],
             [
              0.4444444444444444,
              "#bd3786"
             ],
             [
              0.5555555555555556,
              "#d8576b"
             ],
             [
              0.6666666666666666,
              "#ed7953"
             ],
             [
              0.7777777777777778,
              "#fb9f3a"
             ],
             [
              0.8888888888888888,
              "#fdca26"
             ],
             [
              1,
              "#f0f921"
             ]
            ],
            "type": "histogram2d"
           }
          ],
          "histogram2dcontour": [
           {
            "colorbar": {
             "outlinewidth": 0,
             "ticks": ""
            },
            "colorscale": [
             [
              0,
              "#0d0887"
             ],
             [
              0.1111111111111111,
              "#46039f"
             ],
             [
              0.2222222222222222,
              "#7201a8"
             ],
             [
              0.3333333333333333,
              "#9c179e"
             ],
             [
              0.4444444444444444,
              "#bd3786"
             ],
             [
              0.5555555555555556,
              "#d8576b"
             ],
             [
              0.6666666666666666,
              "#ed7953"
             ],
             [
              0.7777777777777778,
              "#fb9f3a"
             ],
             [
              0.8888888888888888,
              "#fdca26"
             ],
             [
              1,
              "#f0f921"
             ]
            ],
            "type": "histogram2dcontour"
           }
          ],
          "mesh3d": [
           {
            "colorbar": {
             "outlinewidth": 0,
             "ticks": ""
            },
            "type": "mesh3d"
           }
          ],
          "parcoords": [
           {
            "line": {
             "colorbar": {
              "outlinewidth": 0,
              "ticks": ""
             }
            },
            "type": "parcoords"
           }
          ],
          "pie": [
           {
            "automargin": true,
            "type": "pie"
           }
          ],
          "scatter": [
           {
            "marker": {
             "colorbar": {
              "outlinewidth": 0,
              "ticks": ""
             }
            },
            "type": "scatter"
           }
          ],
          "scatter3d": [
           {
            "line": {
             "colorbar": {
              "outlinewidth": 0,
              "ticks": ""
             }
            },
            "marker": {
             "colorbar": {
              "outlinewidth": 0,
              "ticks": ""
             }
            },
            "type": "scatter3d"
           }
          ],
          "scattercarpet": [
           {
            "marker": {
             "colorbar": {
              "outlinewidth": 0,
              "ticks": ""
             }
            },
            "type": "scattercarpet"
           }
          ],
          "scattergeo": [
           {
            "marker": {
             "colorbar": {
              "outlinewidth": 0,
              "ticks": ""
             }
            },
            "type": "scattergeo"
           }
          ],
          "scattergl": [
           {
            "marker": {
             "colorbar": {
              "outlinewidth": 0,
              "ticks": ""
             }
            },
            "type": "scattergl"
           }
          ],
          "scattermapbox": [
           {
            "marker": {
             "colorbar": {
              "outlinewidth": 0,
              "ticks": ""
             }
            },
            "type": "scattermapbox"
           }
          ],
          "scatterpolar": [
           {
            "marker": {
             "colorbar": {
              "outlinewidth": 0,
              "ticks": ""
             }
            },
            "type": "scatterpolar"
           }
          ],
          "scatterpolargl": [
           {
            "marker": {
             "colorbar": {
              "outlinewidth": 0,
              "ticks": ""
             }
            },
            "type": "scatterpolargl"
           }
          ],
          "scatterternary": [
           {
            "marker": {
             "colorbar": {
              "outlinewidth": 0,
              "ticks": ""
             }
            },
            "type": "scatterternary"
           }
          ],
          "surface": [
           {
            "colorbar": {
             "outlinewidth": 0,
             "ticks": ""
            },
            "colorscale": [
             [
              0,
              "#0d0887"
             ],
             [
              0.1111111111111111,
              "#46039f"
             ],
             [
              0.2222222222222222,
              "#7201a8"
             ],
             [
              0.3333333333333333,
              "#9c179e"
             ],
             [
              0.4444444444444444,
              "#bd3786"
             ],
             [
              0.5555555555555556,
              "#d8576b"
             ],
             [
              0.6666666666666666,
              "#ed7953"
             ],
             [
              0.7777777777777778,
              "#fb9f3a"
             ],
             [
              0.8888888888888888,
              "#fdca26"
             ],
             [
              1,
              "#f0f921"
             ]
            ],
            "type": "surface"
           }
          ],
          "table": [
           {
            "cells": {
             "fill": {
              "color": "#EBF0F8"
             },
             "line": {
              "color": "white"
             }
            },
            "header": {
             "fill": {
              "color": "#C8D4E3"
             },
             "line": {
              "color": "white"
             }
            },
            "type": "table"
           }
          ]
         },
         "layout": {
          "annotationdefaults": {
           "arrowcolor": "#2a3f5f",
           "arrowhead": 0,
           "arrowwidth": 1
          },
          "autotypenumbers": "strict",
          "coloraxis": {
           "colorbar": {
            "outlinewidth": 0,
            "ticks": ""
           }
          },
          "colorscale": {
           "diverging": [
            [
             0,
             "#8e0152"
            ],
            [
             0.1,
             "#c51b7d"
            ],
            [
             0.2,
             "#de77ae"
            ],
            [
             0.3,
             "#f1b6da"
            ],
            [
             0.4,
             "#fde0ef"
            ],
            [
             0.5,
             "#f7f7f7"
            ],
            [
             0.6,
             "#e6f5d0"
            ],
            [
             0.7,
             "#b8e186"
            ],
            [
             0.8,
             "#7fbc41"
            ],
            [
             0.9,
             "#4d9221"
            ],
            [
             1,
             "#276419"
            ]
           ],
           "sequential": [
            [
             0,
             "#0d0887"
            ],
            [
             0.1111111111111111,
             "#46039f"
            ],
            [
             0.2222222222222222,
             "#7201a8"
            ],
            [
             0.3333333333333333,
             "#9c179e"
            ],
            [
             0.4444444444444444,
             "#bd3786"
            ],
            [
             0.5555555555555556,
             "#d8576b"
            ],
            [
             0.6666666666666666,
             "#ed7953"
            ],
            [
             0.7777777777777778,
             "#fb9f3a"
            ],
            [
             0.8888888888888888,
             "#fdca26"
            ],
            [
             1,
             "#f0f921"
            ]
           ],
           "sequentialminus": [
            [
             0,
             "#0d0887"
            ],
            [
             0.1111111111111111,
             "#46039f"
            ],
            [
             0.2222222222222222,
             "#7201a8"
            ],
            [
             0.3333333333333333,
             "#9c179e"
            ],
            [
             0.4444444444444444,
             "#bd3786"
            ],
            [
             0.5555555555555556,
             "#d8576b"
            ],
            [
             0.6666666666666666,
             "#ed7953"
            ],
            [
             0.7777777777777778,
             "#fb9f3a"
            ],
            [
             0.8888888888888888,
             "#fdca26"
            ],
            [
             1,
             "#f0f921"
            ]
           ]
          },
          "colorway": [
           "#636efa",
           "#EF553B",
           "#00cc96",
           "#ab63fa",
           "#FFA15A",
           "#19d3f3",
           "#FF6692",
           "#B6E880",
           "#FF97FF",
           "#FECB52"
          ],
          "font": {
           "color": "#2a3f5f"
          },
          "geo": {
           "bgcolor": "white",
           "lakecolor": "white",
           "landcolor": "#E5ECF6",
           "showlakes": true,
           "showland": true,
           "subunitcolor": "white"
          },
          "hoverlabel": {
           "align": "left"
          },
          "hovermode": "closest",
          "mapbox": {
           "style": "light"
          },
          "paper_bgcolor": "white",
          "plot_bgcolor": "#E5ECF6",
          "polar": {
           "angularaxis": {
            "gridcolor": "white",
            "linecolor": "white",
            "ticks": ""
           },
           "bgcolor": "#E5ECF6",
           "radialaxis": {
            "gridcolor": "white",
            "linecolor": "white",
            "ticks": ""
           }
          },
          "scene": {
           "xaxis": {
            "backgroundcolor": "#E5ECF6",
            "gridcolor": "white",
            "gridwidth": 2,
            "linecolor": "white",
            "showbackground": true,
            "ticks": "",
            "zerolinecolor": "white"
           },
           "yaxis": {
            "backgroundcolor": "#E5ECF6",
            "gridcolor": "white",
            "gridwidth": 2,
            "linecolor": "white",
            "showbackground": true,
            "ticks": "",
            "zerolinecolor": "white"
           },
           "zaxis": {
            "backgroundcolor": "#E5ECF6",
            "gridcolor": "white",
            "gridwidth": 2,
            "linecolor": "white",
            "showbackground": true,
            "ticks": "",
            "zerolinecolor": "white"
           }
          },
          "shapedefaults": {
           "line": {
            "color": "#2a3f5f"
           }
          },
          "ternary": {
           "aaxis": {
            "gridcolor": "white",
            "linecolor": "white",
            "ticks": ""
           },
           "baxis": {
            "gridcolor": "white",
            "linecolor": "white",
            "ticks": ""
           },
           "bgcolor": "#E5ECF6",
           "caxis": {
            "gridcolor": "white",
            "linecolor": "white",
            "ticks": ""
           }
          },
          "title": {
           "x": 0.05
          },
          "xaxis": {
           "automargin": true,
           "gridcolor": "white",
           "linecolor": "white",
           "ticks": "",
           "title": {
            "standoff": 15
           },
           "zerolinecolor": "white",
           "zerolinewidth": 2
          },
          "yaxis": {
           "automargin": true,
           "gridcolor": "white",
           "linecolor": "white",
           "ticks": "",
           "title": {
            "standoff": 15
           },
           "zerolinecolor": "white",
           "zerolinewidth": 2
          }
         }
        },
        "title": {
         "text": "Hyperparameter Importances"
        },
        "xaxis": {
         "title": {
          "text": "Importance for Objective Value"
         }
        },
        "yaxis": {
         "title": {
          "text": "Hyperparameter"
         }
        }
       }
      }
     },
     "metadata": {}
    }
   ],
   "metadata": {}
  },
  {
   "cell_type": "markdown",
   "source": [
    "## Optimization History"
   ],
   "metadata": {}
  },
  {
   "cell_type": "code",
   "execution_count": 8,
   "source": [
    "optuna.visualization.plot_optimization_history(study)"
   ],
   "outputs": [
    {
     "output_type": "display_data",
     "data": {
      "application/vnd.plotly.v1+json": {
       "config": {
        "plotlyServerURL": "https://plot.ly"
       },
       "data": [
        {
         "mode": "markers",
         "name": "Objective Value",
         "type": "scatter",
         "x": [
          0,
          1,
          2,
          3,
          4,
          5,
          6,
          7,
          8,
          9,
          10,
          11,
          12,
          13,
          14,
          15,
          16,
          17,
          18,
          19,
          20,
          21,
          22,
          23,
          24,
          25,
          26,
          27,
          28,
          29,
          30,
          31,
          32,
          33,
          34,
          35,
          36,
          37,
          38,
          39,
          40,
          41,
          42,
          43,
          44,
          45,
          46,
          47,
          48,
          49,
          50,
          51,
          52,
          53,
          54,
          55,
          56,
          57,
          58,
          59,
          60,
          61,
          62,
          63,
          64,
          65,
          66,
          67,
          68,
          69,
          70,
          71,
          72,
          73,
          74,
          75,
          76,
          77,
          78,
          79,
          80,
          81,
          82,
          83,
          84,
          85,
          86,
          87,
          88,
          89,
          90,
          91,
          92,
          93,
          94,
          95,
          96,
          97,
          98,
          99,
          100,
          101,
          102,
          103,
          104,
          105,
          106,
          107,
          108,
          109,
          110,
          111,
          112,
          113,
          114,
          115,
          116,
          117,
          118,
          119,
          120,
          121,
          122,
          123,
          124,
          125,
          126,
          127,
          128,
          129,
          130,
          131,
          132,
          133,
          134,
          135,
          136,
          137,
          138,
          139,
          140,
          141,
          142,
          143,
          144
         ],
         "y": [
          0.7673510365180414,
          0.7276432144757129,
          0.7262375924405623,
          0.8056343055125654,
          0.7911816984544554,
          0.7051130826223873,
          0.7823086845913428,
          0.6623510420555276,
          0.7919246648701979,
          0.741895123747393,
          0.7961549621240414,
          0.7961549621240414,
          0.800803834815636,
          0.7186022898693036,
          0.7189246899721035,
          0.8033778563381255,
          0.8091861050604212,
          0.7860702263020467,
          0.804858027982464,
          0.7904840111657614,
          0.8094358350910068,
          0.8098390526115063,
          0.8090114619186124,
          0.8111023704074058,
          0.8121521806870876,
          0.8128791572416958,
          0.8124874108269882,
          0.8130849584714895,
          0.8091443154128628,
          0.8053156025460817,
          0.8135475157178522,
          0.8132613004921251,
          0.813130148945575,
          0.8112857159467297,
          0.7947414171373633,
          0.8125648535428207,
          0.8116216603146911,
          0.7765803805452529,
          0.8110396165507502,
          0.7047588481961119,
          0.7925819619308521,
          0.812294508592412,
          0.8091725483192416,
          0.8100232395932992,
          0.8135650163105677,
          0.7934697038618403,
          0.8124271786822215,
          0.8099053562396876,
          0.8118061088438667,
          0.8123672437343404,
          0.6980802214507825,
          0.8130164165881199,
          0.8133556756187459,
          0.8086768364340295,
          0.8136064823663105,
          0.8112470661275741,
          0.8125209193191897,
          0.8080801379695692,
          0.8058636709959125,
          0.8135166373986881,
          0.8134097405521602,
          0.8132835321809646,
          0.811567017691944,
          0.8136086734767976,
          0.8131470824505213,
          0.8130906369908486,
          0.8109270295545291,
          0.8100707805631441,
          0.8080323070521815,
          0.7988651910056929,
          0.8130955174722505,
          0.8135046156349358,
          0.8135762096440502,
          0.8134698274005747,
          0.8135118421221255,
          0.7575706917277485,
          0.8132637386207954,
          0.8135621309981651,
          0.8097936328502657,
          0.8134716661747098,
          0.7833814331593324,
          0.812771921005627,
          0.8138176007773725,
          0.8119738806465187,
          0.8136268363969892,
          0.8131288925251121,
          0.8113823176415353,
          0.779123797052712,
          0.8119030252202916,
          0.8111411181035825,
          0.8134186315197629,
          0.8120162390557774,
          0.8140221948674109,
          0.8125969534742702,
          0.8135454857755487,
          0.814172456478399,
          0.81167027298844,
          0.8141402592802156,
          0.813640730840701,
          0.8098886669368845,
          0.7084290717337487,
          0.8133282210772741,
          0.8136568757279121,
          0.813605532092162,
          0.8136097074257078,
          0.8135447807802648,
          0.7899223236077381,
          0.8042503833073257,
          0.8136036004061297,
          0.8134204710088062,
          0.8121530266587608,
          0.8097978018346432,
          0.8135339790158953,
          0.8137350511199213,
          0.8137226258036271,
          0.8084574009391197,
          0.8014375151445596,
          0.8127898853949691,
          0.7991031460640315,
          0.8137338734308922,
          0.8011490788693892,
          0.8137237186191161,
          0.8038260700346395,
          0.8138378003966211,
          0.8136511570603605,
          0.811390682271131,
          0.7667755404622092,
          0.595596038612135,
          0.808417524054325,
          0.8136436227616439,
          0.8136402883866962,
          0.8135983516685935,
          0.7703980338910383,
          0.8137075630649531,
          0.8125670431188708,
          0.7745746169218392,
          0.7699830044977006,
          0.802347041441161,
          0.813751116390782,
          0.8144132964742495,
          0.8133391315817803,
          0.8137005817607257,
          0.8142681511902282,
          0.8141954960656964,
          0.8095869972420798
         ]
        },
        {
         "name": "Best Value",
         "type": "scatter",
         "x": [
          0,
          1,
          2,
          3,
          4,
          5,
          6,
          7,
          8,
          9,
          10,
          11,
          12,
          13,
          14,
          15,
          16,
          17,
          18,
          19,
          20,
          21,
          22,
          23,
          24,
          25,
          26,
          27,
          28,
          29,
          30,
          31,
          32,
          33,
          34,
          35,
          36,
          37,
          38,
          39,
          40,
          41,
          42,
          43,
          44,
          45,
          46,
          47,
          48,
          49,
          50,
          51,
          52,
          53,
          54,
          55,
          56,
          57,
          58,
          59,
          60,
          61,
          62,
          63,
          64,
          65,
          66,
          67,
          68,
          69,
          70,
          71,
          72,
          73,
          74,
          75,
          76,
          77,
          78,
          79,
          80,
          81,
          82,
          83,
          84,
          85,
          86,
          87,
          88,
          89,
          90,
          91,
          92,
          93,
          94,
          95,
          96,
          97,
          98,
          99,
          100,
          101,
          102,
          103,
          104,
          105,
          106,
          107,
          108,
          109,
          110,
          111,
          112,
          113,
          114,
          115,
          116,
          117,
          118,
          119,
          120,
          121,
          122,
          123,
          124,
          125,
          126,
          127,
          128,
          129,
          130,
          131,
          132,
          133,
          134,
          135,
          136,
          137,
          138,
          139,
          140,
          141,
          142,
          143,
          144
         ],
         "y": [
          0.7673510365180414,
          0.7673510365180414,
          0.7673510365180414,
          0.8056343055125654,
          0.8056343055125654,
          0.8056343055125654,
          0.8056343055125654,
          0.8056343055125654,
          0.8056343055125654,
          0.8056343055125654,
          0.8056343055125654,
          0.8056343055125654,
          0.8056343055125654,
          0.8056343055125654,
          0.8056343055125654,
          0.8056343055125654,
          0.8091861050604212,
          0.8091861050604212,
          0.8091861050604212,
          0.8091861050604212,
          0.8094358350910068,
          0.8098390526115063,
          0.8098390526115063,
          0.8111023704074058,
          0.8121521806870876,
          0.8128791572416958,
          0.8128791572416958,
          0.8130849584714895,
          0.8130849584714895,
          0.8130849584714895,
          0.8135475157178522,
          0.8135475157178522,
          0.8135475157178522,
          0.8135475157178522,
          0.8135475157178522,
          0.8135475157178522,
          0.8135475157178522,
          0.8135475157178522,
          0.8135475157178522,
          0.8135475157178522,
          0.8135475157178522,
          0.8135475157178522,
          0.8135475157178522,
          0.8135475157178522,
          0.8135650163105677,
          0.8135650163105677,
          0.8135650163105677,
          0.8135650163105677,
          0.8135650163105677,
          0.8135650163105677,
          0.8135650163105677,
          0.8135650163105677,
          0.8135650163105677,
          0.8135650163105677,
          0.8136064823663105,
          0.8136064823663105,
          0.8136064823663105,
          0.8136064823663105,
          0.8136064823663105,
          0.8136064823663105,
          0.8136064823663105,
          0.8136064823663105,
          0.8136064823663105,
          0.8136086734767976,
          0.8136086734767976,
          0.8136086734767976,
          0.8136086734767976,
          0.8136086734767976,
          0.8136086734767976,
          0.8136086734767976,
          0.8136086734767976,
          0.8136086734767976,
          0.8136086734767976,
          0.8136086734767976,
          0.8136086734767976,
          0.8136086734767976,
          0.8136086734767976,
          0.8136086734767976,
          0.8136086734767976,
          0.8136086734767976,
          0.8136086734767976,
          0.8136086734767976,
          0.8138176007773725,
          0.8138176007773725,
          0.8138176007773725,
          0.8138176007773725,
          0.8138176007773725,
          0.8138176007773725,
          0.8138176007773725,
          0.8138176007773725,
          0.8138176007773725,
          0.8138176007773725,
          0.8140221948674109,
          0.8140221948674109,
          0.8140221948674109,
          0.814172456478399,
          0.814172456478399,
          0.814172456478399,
          0.814172456478399,
          0.814172456478399,
          0.814172456478399,
          0.814172456478399,
          0.814172456478399,
          0.814172456478399,
          0.814172456478399,
          0.814172456478399,
          0.814172456478399,
          0.814172456478399,
          0.814172456478399,
          0.814172456478399,
          0.814172456478399,
          0.814172456478399,
          0.814172456478399,
          0.814172456478399,
          0.814172456478399,
          0.814172456478399,
          0.814172456478399,
          0.814172456478399,
          0.814172456478399,
          0.814172456478399,
          0.814172456478399,
          0.814172456478399,
          0.814172456478399,
          0.814172456478399,
          0.814172456478399,
          0.814172456478399,
          0.814172456478399,
          0.814172456478399,
          0.814172456478399,
          0.814172456478399,
          0.814172456478399,
          0.814172456478399,
          0.814172456478399,
          0.814172456478399,
          0.814172456478399,
          0.814172456478399,
          0.814172456478399,
          0.814172456478399,
          0.814172456478399,
          0.8144132964742495,
          0.8144132964742495,
          0.8144132964742495,
          0.8144132964742495,
          0.8144132964742495,
          0.8144132964742495
         ]
        }
       ],
       "layout": {
        "template": {
         "data": {
          "bar": [
           {
            "error_x": {
             "color": "#2a3f5f"
            },
            "error_y": {
             "color": "#2a3f5f"
            },
            "marker": {
             "line": {
              "color": "#E5ECF6",
              "width": 0.5
             },
             "pattern": {
              "fillmode": "overlay",
              "size": 10,
              "solidity": 0.2
             }
            },
            "type": "bar"
           }
          ],
          "barpolar": [
           {
            "marker": {
             "line": {
              "color": "#E5ECF6",
              "width": 0.5
             },
             "pattern": {
              "fillmode": "overlay",
              "size": 10,
              "solidity": 0.2
             }
            },
            "type": "barpolar"
           }
          ],
          "carpet": [
           {
            "aaxis": {
             "endlinecolor": "#2a3f5f",
             "gridcolor": "white",
             "linecolor": "white",
             "minorgridcolor": "white",
             "startlinecolor": "#2a3f5f"
            },
            "baxis": {
             "endlinecolor": "#2a3f5f",
             "gridcolor": "white",
             "linecolor": "white",
             "minorgridcolor": "white",
             "startlinecolor": "#2a3f5f"
            },
            "type": "carpet"
           }
          ],
          "choropleth": [
           {
            "colorbar": {
             "outlinewidth": 0,
             "ticks": ""
            },
            "type": "choropleth"
           }
          ],
          "contour": [
           {
            "colorbar": {
             "outlinewidth": 0,
             "ticks": ""
            },
            "colorscale": [
             [
              0,
              "#0d0887"
             ],
             [
              0.1111111111111111,
              "#46039f"
             ],
             [
              0.2222222222222222,
              "#7201a8"
             ],
             [
              0.3333333333333333,
              "#9c179e"
             ],
             [
              0.4444444444444444,
              "#bd3786"
             ],
             [
              0.5555555555555556,
              "#d8576b"
             ],
             [
              0.6666666666666666,
              "#ed7953"
             ],
             [
              0.7777777777777778,
              "#fb9f3a"
             ],
             [
              0.8888888888888888,
              "#fdca26"
             ],
             [
              1,
              "#f0f921"
             ]
            ],
            "type": "contour"
           }
          ],
          "contourcarpet": [
           {
            "colorbar": {
             "outlinewidth": 0,
             "ticks": ""
            },
            "type": "contourcarpet"
           }
          ],
          "heatmap": [
           {
            "colorbar": {
             "outlinewidth": 0,
             "ticks": ""
            },
            "colorscale": [
             [
              0,
              "#0d0887"
             ],
             [
              0.1111111111111111,
              "#46039f"
             ],
             [
              0.2222222222222222,
              "#7201a8"
             ],
             [
              0.3333333333333333,
              "#9c179e"
             ],
             [
              0.4444444444444444,
              "#bd3786"
             ],
             [
              0.5555555555555556,
              "#d8576b"
             ],
             [
              0.6666666666666666,
              "#ed7953"
             ],
             [
              0.7777777777777778,
              "#fb9f3a"
             ],
             [
              0.8888888888888888,
              "#fdca26"
             ],
             [
              1,
              "#f0f921"
             ]
            ],
            "type": "heatmap"
           }
          ],
          "heatmapgl": [
           {
            "colorbar": {
             "outlinewidth": 0,
             "ticks": ""
            },
            "colorscale": [
             [
              0,
              "#0d0887"
             ],
             [
              0.1111111111111111,
              "#46039f"
             ],
             [
              0.2222222222222222,
              "#7201a8"
             ],
             [
              0.3333333333333333,
              "#9c179e"
             ],
             [
              0.4444444444444444,
              "#bd3786"
             ],
             [
              0.5555555555555556,
              "#d8576b"
             ],
             [
              0.6666666666666666,
              "#ed7953"
             ],
             [
              0.7777777777777778,
              "#fb9f3a"
             ],
             [
              0.8888888888888888,
              "#fdca26"
             ],
             [
              1,
              "#f0f921"
             ]
            ],
            "type": "heatmapgl"
           }
          ],
          "histogram": [
           {
            "marker": {
             "pattern": {
              "fillmode": "overlay",
              "size": 10,
              "solidity": 0.2
             }
            },
            "type": "histogram"
           }
          ],
          "histogram2d": [
           {
            "colorbar": {
             "outlinewidth": 0,
             "ticks": ""
            },
            "colorscale": [
             [
              0,
              "#0d0887"
             ],
             [
              0.1111111111111111,
              "#46039f"
             ],
             [
              0.2222222222222222,
              "#7201a8"
             ],
             [
              0.3333333333333333,
              "#9c179e"
             ],
             [
              0.4444444444444444,
              "#bd3786"
             ],
             [
              0.5555555555555556,
              "#d8576b"
             ],
             [
              0.6666666666666666,
              "#ed7953"
             ],
             [
              0.7777777777777778,
              "#fb9f3a"
             ],
             [
              0.8888888888888888,
              "#fdca26"
             ],
             [
              1,
              "#f0f921"
             ]
            ],
            "type": "histogram2d"
           }
          ],
          "histogram2dcontour": [
           {
            "colorbar": {
             "outlinewidth": 0,
             "ticks": ""
            },
            "colorscale": [
             [
              0,
              "#0d0887"
             ],
             [
              0.1111111111111111,
              "#46039f"
             ],
             [
              0.2222222222222222,
              "#7201a8"
             ],
             [
              0.3333333333333333,
              "#9c179e"
             ],
             [
              0.4444444444444444,
              "#bd3786"
             ],
             [
              0.5555555555555556,
              "#d8576b"
             ],
             [
              0.6666666666666666,
              "#ed7953"
             ],
             [
              0.7777777777777778,
              "#fb9f3a"
             ],
             [
              0.8888888888888888,
              "#fdca26"
             ],
             [
              1,
              "#f0f921"
             ]
            ],
            "type": "histogram2dcontour"
           }
          ],
          "mesh3d": [
           {
            "colorbar": {
             "outlinewidth": 0,
             "ticks": ""
            },
            "type": "mesh3d"
           }
          ],
          "parcoords": [
           {
            "line": {
             "colorbar": {
              "outlinewidth": 0,
              "ticks": ""
             }
            },
            "type": "parcoords"
           }
          ],
          "pie": [
           {
            "automargin": true,
            "type": "pie"
           }
          ],
          "scatter": [
           {
            "marker": {
             "colorbar": {
              "outlinewidth": 0,
              "ticks": ""
             }
            },
            "type": "scatter"
           }
          ],
          "scatter3d": [
           {
            "line": {
             "colorbar": {
              "outlinewidth": 0,
              "ticks": ""
             }
            },
            "marker": {
             "colorbar": {
              "outlinewidth": 0,
              "ticks": ""
             }
            },
            "type": "scatter3d"
           }
          ],
          "scattercarpet": [
           {
            "marker": {
             "colorbar": {
              "outlinewidth": 0,
              "ticks": ""
             }
            },
            "type": "scattercarpet"
           }
          ],
          "scattergeo": [
           {
            "marker": {
             "colorbar": {
              "outlinewidth": 0,
              "ticks": ""
             }
            },
            "type": "scattergeo"
           }
          ],
          "scattergl": [
           {
            "marker": {
             "colorbar": {
              "outlinewidth": 0,
              "ticks": ""
             }
            },
            "type": "scattergl"
           }
          ],
          "scattermapbox": [
           {
            "marker": {
             "colorbar": {
              "outlinewidth": 0,
              "ticks": ""
             }
            },
            "type": "scattermapbox"
           }
          ],
          "scatterpolar": [
           {
            "marker": {
             "colorbar": {
              "outlinewidth": 0,
              "ticks": ""
             }
            },
            "type": "scatterpolar"
           }
          ],
          "scatterpolargl": [
           {
            "marker": {
             "colorbar": {
              "outlinewidth": 0,
              "ticks": ""
             }
            },
            "type": "scatterpolargl"
           }
          ],
          "scatterternary": [
           {
            "marker": {
             "colorbar": {
              "outlinewidth": 0,
              "ticks": ""
             }
            },
            "type": "scatterternary"
           }
          ],
          "surface": [
           {
            "colorbar": {
             "outlinewidth": 0,
             "ticks": ""
            },
            "colorscale": [
             [
              0,
              "#0d0887"
             ],
             [
              0.1111111111111111,
              "#46039f"
             ],
             [
              0.2222222222222222,
              "#7201a8"
             ],
             [
              0.3333333333333333,
              "#9c179e"
             ],
             [
              0.4444444444444444,
              "#bd3786"
             ],
             [
              0.5555555555555556,
              "#d8576b"
             ],
             [
              0.6666666666666666,
              "#ed7953"
             ],
             [
              0.7777777777777778,
              "#fb9f3a"
             ],
             [
              0.8888888888888888,
              "#fdca26"
             ],
             [
              1,
              "#f0f921"
             ]
            ],
            "type": "surface"
           }
          ],
          "table": [
           {
            "cells": {
             "fill": {
              "color": "#EBF0F8"
             },
             "line": {
              "color": "white"
             }
            },
            "header": {
             "fill": {
              "color": "#C8D4E3"
             },
             "line": {
              "color": "white"
             }
            },
            "type": "table"
           }
          ]
         },
         "layout": {
          "annotationdefaults": {
           "arrowcolor": "#2a3f5f",
           "arrowhead": 0,
           "arrowwidth": 1
          },
          "autotypenumbers": "strict",
          "coloraxis": {
           "colorbar": {
            "outlinewidth": 0,
            "ticks": ""
           }
          },
          "colorscale": {
           "diverging": [
            [
             0,
             "#8e0152"
            ],
            [
             0.1,
             "#c51b7d"
            ],
            [
             0.2,
             "#de77ae"
            ],
            [
             0.3,
             "#f1b6da"
            ],
            [
             0.4,
             "#fde0ef"
            ],
            [
             0.5,
             "#f7f7f7"
            ],
            [
             0.6,
             "#e6f5d0"
            ],
            [
             0.7,
             "#b8e186"
            ],
            [
             0.8,
             "#7fbc41"
            ],
            [
             0.9,
             "#4d9221"
            ],
            [
             1,
             "#276419"
            ]
           ],
           "sequential": [
            [
             0,
             "#0d0887"
            ],
            [
             0.1111111111111111,
             "#46039f"
            ],
            [
             0.2222222222222222,
             "#7201a8"
            ],
            [
             0.3333333333333333,
             "#9c179e"
            ],
            [
             0.4444444444444444,
             "#bd3786"
            ],
            [
             0.5555555555555556,
             "#d8576b"
            ],
            [
             0.6666666666666666,
             "#ed7953"
            ],
            [
             0.7777777777777778,
             "#fb9f3a"
            ],
            [
             0.8888888888888888,
             "#fdca26"
            ],
            [
             1,
             "#f0f921"
            ]
           ],
           "sequentialminus": [
            [
             0,
             "#0d0887"
            ],
            [
             0.1111111111111111,
             "#46039f"
            ],
            [
             0.2222222222222222,
             "#7201a8"
            ],
            [
             0.3333333333333333,
             "#9c179e"
            ],
            [
             0.4444444444444444,
             "#bd3786"
            ],
            [
             0.5555555555555556,
             "#d8576b"
            ],
            [
             0.6666666666666666,
             "#ed7953"
            ],
            [
             0.7777777777777778,
             "#fb9f3a"
            ],
            [
             0.8888888888888888,
             "#fdca26"
            ],
            [
             1,
             "#f0f921"
            ]
           ]
          },
          "colorway": [
           "#636efa",
           "#EF553B",
           "#00cc96",
           "#ab63fa",
           "#FFA15A",
           "#19d3f3",
           "#FF6692",
           "#B6E880",
           "#FF97FF",
           "#FECB52"
          ],
          "font": {
           "color": "#2a3f5f"
          },
          "geo": {
           "bgcolor": "white",
           "lakecolor": "white",
           "landcolor": "#E5ECF6",
           "showlakes": true,
           "showland": true,
           "subunitcolor": "white"
          },
          "hoverlabel": {
           "align": "left"
          },
          "hovermode": "closest",
          "mapbox": {
           "style": "light"
          },
          "paper_bgcolor": "white",
          "plot_bgcolor": "#E5ECF6",
          "polar": {
           "angularaxis": {
            "gridcolor": "white",
            "linecolor": "white",
            "ticks": ""
           },
           "bgcolor": "#E5ECF6",
           "radialaxis": {
            "gridcolor": "white",
            "linecolor": "white",
            "ticks": ""
           }
          },
          "scene": {
           "xaxis": {
            "backgroundcolor": "#E5ECF6",
            "gridcolor": "white",
            "gridwidth": 2,
            "linecolor": "white",
            "showbackground": true,
            "ticks": "",
            "zerolinecolor": "white"
           },
           "yaxis": {
            "backgroundcolor": "#E5ECF6",
            "gridcolor": "white",
            "gridwidth": 2,
            "linecolor": "white",
            "showbackground": true,
            "ticks": "",
            "zerolinecolor": "white"
           },
           "zaxis": {
            "backgroundcolor": "#E5ECF6",
            "gridcolor": "white",
            "gridwidth": 2,
            "linecolor": "white",
            "showbackground": true,
            "ticks": "",
            "zerolinecolor": "white"
           }
          },
          "shapedefaults": {
           "line": {
            "color": "#2a3f5f"
           }
          },
          "ternary": {
           "aaxis": {
            "gridcolor": "white",
            "linecolor": "white",
            "ticks": ""
           },
           "baxis": {
            "gridcolor": "white",
            "linecolor": "white",
            "ticks": ""
           },
           "bgcolor": "#E5ECF6",
           "caxis": {
            "gridcolor": "white",
            "linecolor": "white",
            "ticks": ""
           }
          },
          "title": {
           "x": 0.05
          },
          "xaxis": {
           "automargin": true,
           "gridcolor": "white",
           "linecolor": "white",
           "ticks": "",
           "title": {
            "standoff": 15
           },
           "zerolinecolor": "white",
           "zerolinewidth": 2
          },
          "yaxis": {
           "automargin": true,
           "gridcolor": "white",
           "linecolor": "white",
           "ticks": "",
           "title": {
            "standoff": 15
           },
           "zerolinecolor": "white",
           "zerolinewidth": 2
          }
         }
        },
        "title": {
         "text": "Optimization History Plot"
        },
        "xaxis": {
         "title": {
          "text": "#Trials"
         }
        },
        "yaxis": {
         "title": {
          "text": "Objective Value"
         }
        }
       }
      }
     },
     "metadata": {}
    }
   ],
   "metadata": {}
  },
  {
   "cell_type": "markdown",
   "source": [
    "## Hyperparameter Slices\r\n",
    "\r\n",
    "The slice plots give you an idea of the affect of each hyperparameter individually on the outcome of the objective."
   ],
   "metadata": {}
  },
  {
   "cell_type": "code",
   "execution_count": 9,
   "source": [
    "optuna.visualization.plot_slice(study)"
   ],
   "outputs": [
    {
     "output_type": "display_data",
     "data": {
      "application/vnd.plotly.v1+json": {
       "config": {
        "plotlyServerURL": "https://plot.ly"
       },
       "data": [
        {
         "marker": {
          "color": [
           0,
           1,
           2,
           3,
           4,
           5,
           6,
           7,
           8,
           9,
           10,
           11,
           12,
           13,
           14,
           15,
           16,
           17,
           18,
           19,
           20,
           21,
           22,
           23,
           24,
           25,
           26,
           27,
           28,
           29,
           30,
           31,
           32,
           33,
           34,
           35,
           36,
           37,
           38,
           39,
           40,
           41,
           42,
           43,
           44,
           45,
           46,
           47,
           48,
           49,
           50,
           51,
           52,
           53,
           54,
           55,
           56,
           57,
           58,
           59,
           60,
           61,
           62,
           63,
           64,
           65,
           66,
           67,
           68,
           69,
           70,
           71,
           72,
           73,
           74,
           75,
           76,
           77,
           78,
           79,
           80,
           81,
           82,
           83,
           84,
           85,
           86,
           87,
           88,
           89,
           90,
           91,
           92,
           93,
           94,
           95,
           96,
           97,
           98,
           99,
           100,
           101,
           102,
           103,
           104,
           105,
           106,
           107,
           108,
           109,
           110,
           111,
           112,
           113,
           114,
           115,
           116,
           117,
           118,
           119,
           120,
           121,
           122,
           123,
           124,
           125,
           126,
           127,
           128,
           129,
           130,
           131,
           132,
           133,
           134,
           135,
           136,
           137,
           138,
           139,
           140,
           141,
           142,
           143,
           144
          ],
          "colorbar": {
           "title": {
            "text": "#Trials"
           },
           "x": 1,
           "xpad": 40
          },
          "colorscale": [
           [
            0,
            "rgb(247,251,255)"
           ],
           [
            0.125,
            "rgb(222,235,247)"
           ],
           [
            0.25,
            "rgb(198,219,239)"
           ],
           [
            0.375,
            "rgb(158,202,225)"
           ],
           [
            0.5,
            "rgb(107,174,214)"
           ],
           [
            0.625,
            "rgb(66,146,198)"
           ],
           [
            0.75,
            "rgb(33,113,181)"
           ],
           [
            0.875,
            "rgb(8,81,156)"
           ],
           [
            1,
            "rgb(8,48,107)"
           ]
          ],
          "line": {
           "color": "Grey",
           "width": 0.5
          },
          "showscale": true
         },
         "mode": "markers",
         "showlegend": false,
         "type": "scatter",
         "x": [
          true,
          true,
          false,
          false,
          true,
          false,
          true,
          false,
          true,
          false,
          false,
          false,
          false,
          false,
          false,
          false,
          false,
          false,
          false,
          false,
          false,
          false,
          false,
          false,
          false,
          false,
          false,
          true,
          true,
          true,
          true,
          true,
          true,
          true,
          true,
          true,
          true,
          true,
          true,
          true,
          true,
          true,
          true,
          true,
          true,
          true,
          true,
          true,
          true,
          true,
          true,
          true,
          true,
          true,
          true,
          true,
          true,
          true,
          true,
          true,
          true,
          true,
          true,
          true,
          true,
          true,
          true,
          true,
          true,
          true,
          true,
          true,
          true,
          true,
          true,
          true,
          true,
          true,
          true,
          true,
          true,
          true,
          true,
          true,
          true,
          true,
          true,
          true,
          true,
          true,
          true,
          true,
          true,
          true,
          true,
          true,
          true,
          true,
          false,
          false,
          false,
          false,
          false,
          false,
          false,
          false,
          false,
          false,
          false,
          false,
          false,
          false,
          false,
          false,
          false,
          false,
          false,
          false,
          false,
          false,
          false,
          false,
          false,
          false,
          false,
          false,
          false,
          false,
          false,
          false,
          false,
          false,
          false,
          false,
          false,
          false,
          false,
          false,
          false,
          false,
          false,
          false,
          false,
          false,
          false
         ],
         "xaxis": "x",
         "y": [
          0.7673510365180414,
          0.7276432144757129,
          0.7262375924405623,
          0.8056343055125654,
          0.7911816984544554,
          0.7051130826223873,
          0.7823086845913428,
          0.6623510420555276,
          0.7919246648701979,
          0.741895123747393,
          0.7961549621240414,
          0.7961549621240414,
          0.800803834815636,
          0.7186022898693036,
          0.7189246899721035,
          0.8033778563381255,
          0.8091861050604212,
          0.7860702263020467,
          0.804858027982464,
          0.7904840111657614,
          0.8094358350910068,
          0.8098390526115063,
          0.8090114619186124,
          0.8111023704074058,
          0.8121521806870876,
          0.8128791572416958,
          0.8124874108269882,
          0.8130849584714895,
          0.8091443154128628,
          0.8053156025460817,
          0.8135475157178522,
          0.8132613004921251,
          0.813130148945575,
          0.8112857159467297,
          0.7947414171373633,
          0.8125648535428207,
          0.8116216603146911,
          0.7765803805452529,
          0.8110396165507502,
          0.7047588481961119,
          0.7925819619308521,
          0.812294508592412,
          0.8091725483192416,
          0.8100232395932992,
          0.8135650163105677,
          0.7934697038618403,
          0.8124271786822215,
          0.8099053562396876,
          0.8118061088438667,
          0.8123672437343404,
          0.6980802214507825,
          0.8130164165881199,
          0.8133556756187459,
          0.8086768364340295,
          0.8136064823663105,
          0.8112470661275741,
          0.8125209193191897,
          0.8080801379695692,
          0.8058636709959125,
          0.8135166373986881,
          0.8134097405521602,
          0.8132835321809646,
          0.811567017691944,
          0.8136086734767976,
          0.8131470824505213,
          0.8130906369908486,
          0.8109270295545291,
          0.8100707805631441,
          0.8080323070521815,
          0.7988651910056929,
          0.8130955174722505,
          0.8135046156349358,
          0.8135762096440502,
          0.8134698274005747,
          0.8135118421221255,
          0.7575706917277485,
          0.8132637386207954,
          0.8135621309981651,
          0.8097936328502657,
          0.8134716661747098,
          0.7833814331593324,
          0.812771921005627,
          0.8138176007773725,
          0.8119738806465187,
          0.8136268363969892,
          0.8131288925251121,
          0.8113823176415353,
          0.779123797052712,
          0.8119030252202916,
          0.8111411181035825,
          0.8134186315197629,
          0.8120162390557774,
          0.8140221948674109,
          0.8125969534742702,
          0.8135454857755487,
          0.814172456478399,
          0.81167027298844,
          0.8141402592802156,
          0.813640730840701,
          0.8098886669368845,
          0.7084290717337487,
          0.8133282210772741,
          0.8136568757279121,
          0.813605532092162,
          0.8136097074257078,
          0.8135447807802648,
          0.7899223236077381,
          0.8042503833073257,
          0.8136036004061297,
          0.8134204710088062,
          0.8121530266587608,
          0.8097978018346432,
          0.8135339790158953,
          0.8137350511199213,
          0.8137226258036271,
          0.8084574009391197,
          0.8014375151445596,
          0.8127898853949691,
          0.7991031460640315,
          0.8137338734308922,
          0.8011490788693892,
          0.8137237186191161,
          0.8038260700346395,
          0.8138378003966211,
          0.8136511570603605,
          0.811390682271131,
          0.7667755404622092,
          0.595596038612135,
          0.808417524054325,
          0.8136436227616439,
          0.8136402883866962,
          0.8135983516685935,
          0.7703980338910383,
          0.8137075630649531,
          0.8125670431188708,
          0.7745746169218392,
          0.7699830044977006,
          0.802347041441161,
          0.813751116390782,
          0.8144132964742495,
          0.8133391315817803,
          0.8137005817607257,
          0.8142681511902282,
          0.8141954960656964,
          0.8095869972420798
         ],
         "yaxis": "y"
        },
        {
         "marker": {
          "color": [
           0,
           1,
           2,
           3,
           4,
           5,
           6,
           7,
           8,
           9,
           10,
           11,
           12,
           13,
           14,
           15,
           16,
           17,
           18,
           19,
           20,
           21,
           22,
           23,
           24,
           25,
           26,
           27,
           28,
           29,
           30,
           31,
           32,
           33,
           34,
           35,
           36,
           37,
           38,
           39,
           40,
           41,
           42,
           43,
           44,
           45,
           46,
           47,
           48,
           49,
           50,
           51,
           52,
           53,
           54,
           55,
           56,
           57,
           58,
           59,
           60,
           61,
           62,
           63,
           64,
           65,
           66,
           67,
           68,
           69,
           70,
           71,
           72,
           73,
           74,
           75,
           76,
           77,
           78,
           79,
           80,
           81,
           82,
           83,
           84,
           85,
           86,
           87,
           88,
           89,
           90,
           91,
           92,
           93,
           94,
           95,
           96,
           97,
           98,
           99,
           100,
           101,
           102,
           103,
           104,
           105,
           106,
           107,
           108,
           109,
           110,
           111,
           112,
           113,
           114,
           115,
           116,
           117,
           118,
           119,
           120,
           121,
           122,
           123,
           124,
           125,
           126,
           127,
           128,
           129,
           130,
           131,
           132,
           133,
           134,
           135,
           136,
           137,
           138,
           139,
           140,
           141,
           142,
           143,
           144
          ],
          "colorbar": {
           "title": {
            "text": "#Trials"
           },
           "x": 1,
           "xpad": 40
          },
          "colorscale": [
           [
            0,
            "rgb(247,251,255)"
           ],
           [
            0.125,
            "rgb(222,235,247)"
           ],
           [
            0.25,
            "rgb(198,219,239)"
           ],
           [
            0.375,
            "rgb(158,202,225)"
           ],
           [
            0.5,
            "rgb(107,174,214)"
           ],
           [
            0.625,
            "rgb(66,146,198)"
           ],
           [
            0.75,
            "rgb(33,113,181)"
           ],
           [
            0.875,
            "rgb(8,81,156)"
           ],
           [
            1,
            "rgb(8,48,107)"
           ]
          ],
          "line": {
           "color": "Grey",
           "width": 0.5
          },
          "showscale": false
         },
         "mode": "markers",
         "showlegend": false,
         "type": "scatter",
         "x": [
          false,
          false,
          false,
          true,
          true,
          false,
          false,
          false,
          true,
          false,
          true,
          true,
          true,
          true,
          true,
          true,
          true,
          true,
          true,
          true,
          true,
          true,
          true,
          true,
          true,
          true,
          true,
          true,
          true,
          true,
          true,
          true,
          true,
          true,
          false,
          true,
          true,
          false,
          true,
          false,
          true,
          true,
          true,
          true,
          true,
          false,
          true,
          true,
          true,
          true,
          false,
          true,
          true,
          true,
          true,
          true,
          true,
          true,
          true,
          true,
          true,
          true,
          true,
          true,
          true,
          true,
          true,
          true,
          true,
          true,
          true,
          true,
          true,
          true,
          true,
          false,
          true,
          true,
          true,
          true,
          true,
          true,
          true,
          true,
          true,
          true,
          true,
          false,
          true,
          true,
          true,
          true,
          true,
          true,
          true,
          true,
          true,
          true,
          true,
          true,
          false,
          true,
          true,
          true,
          true,
          true,
          true,
          true,
          true,
          true,
          true,
          true,
          true,
          true,
          true,
          true,
          true,
          true,
          true,
          true,
          true,
          true,
          true,
          true,
          true,
          true,
          true,
          false,
          true,
          true,
          true,
          true,
          true,
          true,
          true,
          true,
          true,
          true,
          true,
          true,
          true,
          true,
          true,
          true,
          true
         ],
         "xaxis": "x2",
         "y": [
          0.7673510365180414,
          0.7276432144757129,
          0.7262375924405623,
          0.8056343055125654,
          0.7911816984544554,
          0.7051130826223873,
          0.7823086845913428,
          0.6623510420555276,
          0.7919246648701979,
          0.741895123747393,
          0.7961549621240414,
          0.7961549621240414,
          0.800803834815636,
          0.7186022898693036,
          0.7189246899721035,
          0.8033778563381255,
          0.8091861050604212,
          0.7860702263020467,
          0.804858027982464,
          0.7904840111657614,
          0.8094358350910068,
          0.8098390526115063,
          0.8090114619186124,
          0.8111023704074058,
          0.8121521806870876,
          0.8128791572416958,
          0.8124874108269882,
          0.8130849584714895,
          0.8091443154128628,
          0.8053156025460817,
          0.8135475157178522,
          0.8132613004921251,
          0.813130148945575,
          0.8112857159467297,
          0.7947414171373633,
          0.8125648535428207,
          0.8116216603146911,
          0.7765803805452529,
          0.8110396165507502,
          0.7047588481961119,
          0.7925819619308521,
          0.812294508592412,
          0.8091725483192416,
          0.8100232395932992,
          0.8135650163105677,
          0.7934697038618403,
          0.8124271786822215,
          0.8099053562396876,
          0.8118061088438667,
          0.8123672437343404,
          0.6980802214507825,
          0.8130164165881199,
          0.8133556756187459,
          0.8086768364340295,
          0.8136064823663105,
          0.8112470661275741,
          0.8125209193191897,
          0.8080801379695692,
          0.8058636709959125,
          0.8135166373986881,
          0.8134097405521602,
          0.8132835321809646,
          0.811567017691944,
          0.8136086734767976,
          0.8131470824505213,
          0.8130906369908486,
          0.8109270295545291,
          0.8100707805631441,
          0.8080323070521815,
          0.7988651910056929,
          0.8130955174722505,
          0.8135046156349358,
          0.8135762096440502,
          0.8134698274005747,
          0.8135118421221255,
          0.7575706917277485,
          0.8132637386207954,
          0.8135621309981651,
          0.8097936328502657,
          0.8134716661747098,
          0.7833814331593324,
          0.812771921005627,
          0.8138176007773725,
          0.8119738806465187,
          0.8136268363969892,
          0.8131288925251121,
          0.8113823176415353,
          0.779123797052712,
          0.8119030252202916,
          0.8111411181035825,
          0.8134186315197629,
          0.8120162390557774,
          0.8140221948674109,
          0.8125969534742702,
          0.8135454857755487,
          0.814172456478399,
          0.81167027298844,
          0.8141402592802156,
          0.813640730840701,
          0.8098886669368845,
          0.7084290717337487,
          0.8133282210772741,
          0.8136568757279121,
          0.813605532092162,
          0.8136097074257078,
          0.8135447807802648,
          0.7899223236077381,
          0.8042503833073257,
          0.8136036004061297,
          0.8134204710088062,
          0.8121530266587608,
          0.8097978018346432,
          0.8135339790158953,
          0.8137350511199213,
          0.8137226258036271,
          0.8084574009391197,
          0.8014375151445596,
          0.8127898853949691,
          0.7991031460640315,
          0.8137338734308922,
          0.8011490788693892,
          0.8137237186191161,
          0.8038260700346395,
          0.8138378003966211,
          0.8136511570603605,
          0.811390682271131,
          0.7667755404622092,
          0.595596038612135,
          0.808417524054325,
          0.8136436227616439,
          0.8136402883866962,
          0.8135983516685935,
          0.7703980338910383,
          0.8137075630649531,
          0.8125670431188708,
          0.7745746169218392,
          0.7699830044977006,
          0.802347041441161,
          0.813751116390782,
          0.8144132964742495,
          0.8133391315817803,
          0.8137005817607257,
          0.8142681511902282,
          0.8141954960656964,
          0.8095869972420798
         ],
         "yaxis": "y2"
        },
        {
         "marker": {
          "color": [
           0,
           1,
           2,
           3,
           4,
           5,
           6,
           7,
           8,
           9,
           10,
           11,
           12,
           13,
           14,
           15,
           16,
           17,
           18,
           19,
           20,
           21,
           22,
           23,
           24,
           25,
           26,
           27,
           28,
           29,
           30,
           31,
           32,
           33,
           34,
           35,
           36,
           37,
           38,
           39,
           40,
           41,
           42,
           43,
           44,
           45,
           46,
           47,
           48,
           49,
           50,
           51,
           52,
           53,
           54,
           55,
           56,
           57,
           58,
           59,
           60,
           61,
           62,
           63,
           64,
           65,
           66,
           67,
           68,
           69,
           70,
           71,
           72,
           73,
           74,
           75,
           76,
           77,
           78,
           79,
           80,
           81,
           82,
           83,
           84,
           85,
           86,
           87,
           88,
           89,
           90,
           91,
           92,
           93,
           94,
           95,
           96,
           97,
           98,
           99,
           100,
           101,
           102,
           103,
           104,
           105,
           106,
           107,
           108,
           109,
           110,
           111,
           112,
           113,
           114,
           115,
           116,
           117,
           118,
           119,
           120,
           121,
           122,
           123,
           124,
           125,
           126,
           127,
           128,
           129,
           130,
           131,
           132,
           133,
           134,
           135,
           136,
           137,
           138,
           139,
           140,
           141,
           142,
           143,
           144
          ],
          "colorbar": {
           "title": {
            "text": "#Trials"
           },
           "x": 1,
           "xpad": 40
          },
          "colorscale": [
           [
            0,
            "rgb(247,251,255)"
           ],
           [
            0.125,
            "rgb(222,235,247)"
           ],
           [
            0.25,
            "rgb(198,219,239)"
           ],
           [
            0.375,
            "rgb(158,202,225)"
           ],
           [
            0.5,
            "rgb(107,174,214)"
           ],
           [
            0.625,
            "rgb(66,146,198)"
           ],
           [
            0.75,
            "rgb(33,113,181)"
           ],
           [
            0.875,
            "rgb(8,81,156)"
           ],
           [
            1,
            "rgb(8,48,107)"
           ]
          ],
          "line": {
           "color": "Grey",
           "width": 0.5
          },
          "showscale": false
         },
         "mode": "markers",
         "showlegend": false,
         "type": "scatter",
         "x": [
          false,
          true,
          true,
          false,
          false,
          false,
          false,
          false,
          false,
          true,
          false,
          false,
          false,
          false,
          false,
          true,
          true,
          true,
          true,
          true,
          true,
          true,
          true,
          true,
          true,
          true,
          true,
          true,
          true,
          true,
          true,
          true,
          true,
          true,
          true,
          true,
          true,
          true,
          true,
          true,
          true,
          true,
          true,
          true,
          true,
          true,
          true,
          true,
          true,
          false,
          true,
          true,
          true,
          true,
          true,
          false,
          true,
          true,
          true,
          false,
          false,
          false,
          false,
          false,
          false,
          false,
          false,
          false,
          false,
          false,
          false,
          false,
          false,
          false,
          false,
          false,
          false,
          false,
          false,
          false,
          false,
          false,
          false,
          false,
          false,
          false,
          false,
          false,
          false,
          false,
          false,
          false,
          false,
          false,
          false,
          false,
          false,
          false,
          false,
          false,
          false,
          false,
          false,
          false,
          false,
          false,
          false,
          false,
          false,
          false,
          false,
          false,
          false,
          false,
          false,
          false,
          false,
          false,
          false,
          false,
          false,
          false,
          false,
          false,
          false,
          false,
          false,
          false,
          false,
          false,
          false,
          false,
          false,
          false,
          false,
          false,
          false,
          false,
          false,
          false,
          false,
          false,
          false,
          false,
          false
         ],
         "xaxis": "x3",
         "y": [
          0.7673510365180414,
          0.7276432144757129,
          0.7262375924405623,
          0.8056343055125654,
          0.7911816984544554,
          0.7051130826223873,
          0.7823086845913428,
          0.6623510420555276,
          0.7919246648701979,
          0.741895123747393,
          0.7961549621240414,
          0.7961549621240414,
          0.800803834815636,
          0.7186022898693036,
          0.7189246899721035,
          0.8033778563381255,
          0.8091861050604212,
          0.7860702263020467,
          0.804858027982464,
          0.7904840111657614,
          0.8094358350910068,
          0.8098390526115063,
          0.8090114619186124,
          0.8111023704074058,
          0.8121521806870876,
          0.8128791572416958,
          0.8124874108269882,
          0.8130849584714895,
          0.8091443154128628,
          0.8053156025460817,
          0.8135475157178522,
          0.8132613004921251,
          0.813130148945575,
          0.8112857159467297,
          0.7947414171373633,
          0.8125648535428207,
          0.8116216603146911,
          0.7765803805452529,
          0.8110396165507502,
          0.7047588481961119,
          0.7925819619308521,
          0.812294508592412,
          0.8091725483192416,
          0.8100232395932992,
          0.8135650163105677,
          0.7934697038618403,
          0.8124271786822215,
          0.8099053562396876,
          0.8118061088438667,
          0.8123672437343404,
          0.6980802214507825,
          0.8130164165881199,
          0.8133556756187459,
          0.8086768364340295,
          0.8136064823663105,
          0.8112470661275741,
          0.8125209193191897,
          0.8080801379695692,
          0.8058636709959125,
          0.8135166373986881,
          0.8134097405521602,
          0.8132835321809646,
          0.811567017691944,
          0.8136086734767976,
          0.8131470824505213,
          0.8130906369908486,
          0.8109270295545291,
          0.8100707805631441,
          0.8080323070521815,
          0.7988651910056929,
          0.8130955174722505,
          0.8135046156349358,
          0.8135762096440502,
          0.8134698274005747,
          0.8135118421221255,
          0.7575706917277485,
          0.8132637386207954,
          0.8135621309981651,
          0.8097936328502657,
          0.8134716661747098,
          0.7833814331593324,
          0.812771921005627,
          0.8138176007773725,
          0.8119738806465187,
          0.8136268363969892,
          0.8131288925251121,
          0.8113823176415353,
          0.779123797052712,
          0.8119030252202916,
          0.8111411181035825,
          0.8134186315197629,
          0.8120162390557774,
          0.8140221948674109,
          0.8125969534742702,
          0.8135454857755487,
          0.814172456478399,
          0.81167027298844,
          0.8141402592802156,
          0.813640730840701,
          0.8098886669368845,
          0.7084290717337487,
          0.8133282210772741,
          0.8136568757279121,
          0.813605532092162,
          0.8136097074257078,
          0.8135447807802648,
          0.7899223236077381,
          0.8042503833073257,
          0.8136036004061297,
          0.8134204710088062,
          0.8121530266587608,
          0.8097978018346432,
          0.8135339790158953,
          0.8137350511199213,
          0.8137226258036271,
          0.8084574009391197,
          0.8014375151445596,
          0.8127898853949691,
          0.7991031460640315,
          0.8137338734308922,
          0.8011490788693892,
          0.8137237186191161,
          0.8038260700346395,
          0.8138378003966211,
          0.8136511570603605,
          0.811390682271131,
          0.7667755404622092,
          0.595596038612135,
          0.808417524054325,
          0.8136436227616439,
          0.8136402883866962,
          0.8135983516685935,
          0.7703980338910383,
          0.8137075630649531,
          0.8125670431188708,
          0.7745746169218392,
          0.7699830044977006,
          0.802347041441161,
          0.813751116390782,
          0.8144132964742495,
          0.8133391315817803,
          0.8137005817607257,
          0.8142681511902282,
          0.8141954960656964,
          0.8095869972420798
         ],
         "yaxis": "y3"
        },
        {
         "marker": {
          "color": [
           0,
           1,
           2,
           3,
           4,
           5,
           6,
           7,
           8,
           9,
           10,
           11,
           12,
           13,
           14,
           15,
           16,
           17,
           18,
           19,
           20,
           21,
           22,
           23,
           24,
           25,
           26,
           27,
           28,
           29,
           30,
           31,
           32,
           33,
           34,
           35,
           36,
           37,
           38,
           39,
           40,
           41,
           42,
           43,
           44,
           45,
           46,
           47,
           48,
           49,
           50,
           51,
           52,
           53,
           54,
           55,
           56,
           57,
           58,
           59,
           60,
           61,
           62,
           63,
           64,
           65,
           66,
           67,
           68,
           69,
           70,
           71,
           72,
           73,
           74,
           75,
           76,
           77,
           78,
           79,
           80,
           81,
           82,
           83,
           84,
           85,
           86,
           87,
           88,
           89,
           90,
           91,
           92,
           93,
           94,
           95,
           96,
           97,
           98,
           99,
           100,
           101,
           102,
           103,
           104,
           105,
           106,
           107,
           108,
           109,
           110,
           111,
           112,
           113,
           114,
           115,
           116,
           117,
           118,
           119,
           120,
           121,
           122,
           123,
           124,
           125,
           126,
           127,
           128,
           129,
           130,
           131,
           132,
           133,
           134,
           135,
           136,
           137,
           138,
           139,
           140,
           141,
           142,
           143,
           144
          ],
          "colorbar": {
           "title": {
            "text": "#Trials"
           },
           "x": 1,
           "xpad": 40
          },
          "colorscale": [
           [
            0,
            "rgb(247,251,255)"
           ],
           [
            0.125,
            "rgb(222,235,247)"
           ],
           [
            0.25,
            "rgb(198,219,239)"
           ],
           [
            0.375,
            "rgb(158,202,225)"
           ],
           [
            0.5,
            "rgb(107,174,214)"
           ],
           [
            0.625,
            "rgb(66,146,198)"
           ],
           [
            0.75,
            "rgb(33,113,181)"
           ],
           [
            0.875,
            "rgb(8,81,156)"
           ],
           [
            1,
            "rgb(8,48,107)"
           ]
          ],
          "line": {
           "color": "Grey",
           "width": 0.5
          },
          "showscale": false
         },
         "mode": "markers",
         "showlegend": false,
         "type": "scatter",
         "x": [
          false,
          false,
          false,
          true,
          false,
          true,
          true,
          false,
          true,
          true,
          true,
          true,
          true,
          true,
          true,
          true,
          true,
          true,
          true,
          true,
          true,
          true,
          true,
          true,
          true,
          true,
          true,
          false,
          false,
          false,
          false,
          false,
          false,
          false,
          false,
          false,
          false,
          false,
          false,
          false,
          false,
          false,
          false,
          false,
          false,
          false,
          false,
          false,
          false,
          false,
          false,
          false,
          false,
          false,
          false,
          false,
          false,
          false,
          false,
          false,
          false,
          false,
          false,
          false,
          false,
          false,
          false,
          false,
          false,
          false,
          false,
          false,
          false,
          false,
          false,
          false,
          false,
          false,
          false,
          false,
          false,
          false,
          false,
          false,
          false,
          false,
          false,
          false,
          false,
          false,
          false,
          false,
          false,
          false,
          false,
          false,
          false,
          false,
          true,
          true,
          true,
          true,
          true,
          true,
          true,
          true,
          true,
          true,
          true,
          true,
          true,
          true,
          true,
          true,
          true,
          true,
          true,
          true,
          true,
          true,
          true,
          true,
          true,
          true,
          true,
          true,
          true,
          true,
          true,
          true,
          true,
          true,
          true,
          true,
          true,
          true,
          true,
          true,
          true,
          true,
          true,
          true,
          true,
          true,
          true
         ],
         "xaxis": "x4",
         "y": [
          0.7673510365180414,
          0.7276432144757129,
          0.7262375924405623,
          0.8056343055125654,
          0.7911816984544554,
          0.7051130826223873,
          0.7823086845913428,
          0.6623510420555276,
          0.7919246648701979,
          0.741895123747393,
          0.7961549621240414,
          0.7961549621240414,
          0.800803834815636,
          0.7186022898693036,
          0.7189246899721035,
          0.8033778563381255,
          0.8091861050604212,
          0.7860702263020467,
          0.804858027982464,
          0.7904840111657614,
          0.8094358350910068,
          0.8098390526115063,
          0.8090114619186124,
          0.8111023704074058,
          0.8121521806870876,
          0.8128791572416958,
          0.8124874108269882,
          0.8130849584714895,
          0.8091443154128628,
          0.8053156025460817,
          0.8135475157178522,
          0.8132613004921251,
          0.813130148945575,
          0.8112857159467297,
          0.7947414171373633,
          0.8125648535428207,
          0.8116216603146911,
          0.7765803805452529,
          0.8110396165507502,
          0.7047588481961119,
          0.7925819619308521,
          0.812294508592412,
          0.8091725483192416,
          0.8100232395932992,
          0.8135650163105677,
          0.7934697038618403,
          0.8124271786822215,
          0.8099053562396876,
          0.8118061088438667,
          0.8123672437343404,
          0.6980802214507825,
          0.8130164165881199,
          0.8133556756187459,
          0.8086768364340295,
          0.8136064823663105,
          0.8112470661275741,
          0.8125209193191897,
          0.8080801379695692,
          0.8058636709959125,
          0.8135166373986881,
          0.8134097405521602,
          0.8132835321809646,
          0.811567017691944,
          0.8136086734767976,
          0.8131470824505213,
          0.8130906369908486,
          0.8109270295545291,
          0.8100707805631441,
          0.8080323070521815,
          0.7988651910056929,
          0.8130955174722505,
          0.8135046156349358,
          0.8135762096440502,
          0.8134698274005747,
          0.8135118421221255,
          0.7575706917277485,
          0.8132637386207954,
          0.8135621309981651,
          0.8097936328502657,
          0.8134716661747098,
          0.7833814331593324,
          0.812771921005627,
          0.8138176007773725,
          0.8119738806465187,
          0.8136268363969892,
          0.8131288925251121,
          0.8113823176415353,
          0.779123797052712,
          0.8119030252202916,
          0.8111411181035825,
          0.8134186315197629,
          0.8120162390557774,
          0.8140221948674109,
          0.8125969534742702,
          0.8135454857755487,
          0.814172456478399,
          0.81167027298844,
          0.8141402592802156,
          0.813640730840701,
          0.8098886669368845,
          0.7084290717337487,
          0.8133282210772741,
          0.8136568757279121,
          0.813605532092162,
          0.8136097074257078,
          0.8135447807802648,
          0.7899223236077381,
          0.8042503833073257,
          0.8136036004061297,
          0.8134204710088062,
          0.8121530266587608,
          0.8097978018346432,
          0.8135339790158953,
          0.8137350511199213,
          0.8137226258036271,
          0.8084574009391197,
          0.8014375151445596,
          0.8127898853949691,
          0.7991031460640315,
          0.8137338734308922,
          0.8011490788693892,
          0.8137237186191161,
          0.8038260700346395,
          0.8138378003966211,
          0.8136511570603605,
          0.811390682271131,
          0.7667755404622092,
          0.595596038612135,
          0.808417524054325,
          0.8136436227616439,
          0.8136402883866962,
          0.8135983516685935,
          0.7703980338910383,
          0.8137075630649531,
          0.8125670431188708,
          0.7745746169218392,
          0.7699830044977006,
          0.802347041441161,
          0.813751116390782,
          0.8144132964742495,
          0.8133391315817803,
          0.8137005817607257,
          0.8142681511902282,
          0.8141954960656964,
          0.8095869972420798
         ],
         "yaxis": "y4"
        },
        {
         "marker": {
          "color": [
           0,
           1,
           2,
           3,
           4,
           5,
           6,
           7,
           8,
           9,
           10,
           11,
           12,
           13,
           14,
           15,
           16,
           17,
           18,
           19,
           20,
           21,
           22,
           23,
           24,
           25,
           26,
           27,
           28,
           29,
           30,
           31,
           32,
           33,
           34,
           35,
           36,
           37,
           38,
           39,
           40,
           41,
           42,
           43,
           44,
           45,
           46,
           47,
           48,
           49,
           50,
           51,
           52,
           53,
           54,
           55,
           56,
           57,
           58,
           59,
           60,
           61,
           62,
           63,
           64,
           65,
           66,
           67,
           68,
           69,
           70,
           71,
           72,
           73,
           74,
           75,
           76,
           77,
           78,
           79,
           80,
           81,
           82,
           83,
           84,
           85,
           86,
           87,
           88,
           89,
           90,
           91,
           92,
           93,
           94,
           95,
           96,
           97,
           98,
           99,
           100,
           101,
           102,
           103,
           104,
           105,
           106,
           107,
           108,
           109,
           110,
           111,
           112,
           113,
           114,
           115,
           116,
           117,
           118,
           119,
           120,
           121,
           122,
           123,
           124,
           125,
           126,
           127,
           128,
           129,
           130,
           131,
           132,
           133,
           134,
           135,
           136,
           137,
           138,
           139,
           140,
           141,
           142,
           143,
           144
          ],
          "colorbar": {
           "title": {
            "text": "#Trials"
           },
           "x": 1,
           "xpad": 40
          },
          "colorscale": [
           [
            0,
            "rgb(247,251,255)"
           ],
           [
            0.125,
            "rgb(222,235,247)"
           ],
           [
            0.25,
            "rgb(198,219,239)"
           ],
           [
            0.375,
            "rgb(158,202,225)"
           ],
           [
            0.5,
            "rgb(107,174,214)"
           ],
           [
            0.625,
            "rgb(66,146,198)"
           ],
           [
            0.75,
            "rgb(33,113,181)"
           ],
           [
            0.875,
            "rgb(8,81,156)"
           ],
           [
            1,
            "rgb(8,48,107)"
           ]
          ],
          "line": {
           "color": "Grey",
           "width": 0.5
          },
          "showscale": false
         },
         "mode": "markers",
         "showlegend": false,
         "type": "scatter",
         "x": [
          "mean",
          "median",
          "most_frequent",
          "most_frequent",
          "median",
          "constant",
          "mean",
          "median",
          "mean",
          "median",
          "most_frequent",
          "most_frequent",
          "most_frequent",
          "most_frequent",
          "most_frequent",
          "constant",
          "constant",
          "constant",
          "constant",
          "constant",
          "constant",
          "constant",
          "constant",
          "constant",
          "constant",
          "constant",
          "constant",
          "constant",
          "constant",
          "mean",
          "constant",
          "constant",
          "constant",
          "constant",
          "constant",
          "constant",
          "median",
          "mean",
          "constant",
          "constant",
          "median",
          "constant",
          "constant",
          "constant",
          "mean",
          "mean",
          "mean",
          "mean",
          "mean",
          "median",
          "mean",
          "constant",
          "constant",
          "most_frequent",
          "constant",
          "constant",
          "constant",
          "most_frequent",
          "constant",
          "mean",
          "mean",
          "mean",
          "mean",
          "mean",
          "mean",
          "mean",
          "mean",
          "mean",
          "mean",
          "mean",
          "mean",
          "mean",
          "mean",
          "mean",
          "mean",
          "mean",
          "mean",
          "mean",
          "mean",
          "mean",
          "median",
          "mean",
          "mean",
          "mean",
          "mean",
          "mean",
          "mean",
          "mean",
          "most_frequent",
          "mean",
          "mean",
          "mean",
          "mean",
          "mean",
          "mean",
          "median",
          "median",
          "median",
          "median",
          "median",
          "median",
          "median",
          "median",
          "median",
          "median",
          "median",
          "median",
          "median",
          "median",
          "median",
          "median",
          "median",
          "median",
          "median",
          "median",
          "median",
          "median",
          "median",
          "median",
          "median",
          "median",
          "median",
          "median",
          "median",
          "median",
          "median",
          "median",
          "median",
          "median",
          "median",
          "median",
          "median",
          "median",
          "median",
          "median",
          "median",
          "median",
          "median",
          "median",
          "median",
          "median",
          "median",
          "median",
          "median",
          "median"
         ],
         "xaxis": "x5",
         "y": [
          0.7673510365180414,
          0.7276432144757129,
          0.7262375924405623,
          0.8056343055125654,
          0.7911816984544554,
          0.7051130826223873,
          0.7823086845913428,
          0.6623510420555276,
          0.7919246648701979,
          0.741895123747393,
          0.7961549621240414,
          0.7961549621240414,
          0.800803834815636,
          0.7186022898693036,
          0.7189246899721035,
          0.8033778563381255,
          0.8091861050604212,
          0.7860702263020467,
          0.804858027982464,
          0.7904840111657614,
          0.8094358350910068,
          0.8098390526115063,
          0.8090114619186124,
          0.8111023704074058,
          0.8121521806870876,
          0.8128791572416958,
          0.8124874108269882,
          0.8130849584714895,
          0.8091443154128628,
          0.8053156025460817,
          0.8135475157178522,
          0.8132613004921251,
          0.813130148945575,
          0.8112857159467297,
          0.7947414171373633,
          0.8125648535428207,
          0.8116216603146911,
          0.7765803805452529,
          0.8110396165507502,
          0.7047588481961119,
          0.7925819619308521,
          0.812294508592412,
          0.8091725483192416,
          0.8100232395932992,
          0.8135650163105677,
          0.7934697038618403,
          0.8124271786822215,
          0.8099053562396876,
          0.8118061088438667,
          0.8123672437343404,
          0.6980802214507825,
          0.8130164165881199,
          0.8133556756187459,
          0.8086768364340295,
          0.8136064823663105,
          0.8112470661275741,
          0.8125209193191897,
          0.8080801379695692,
          0.8058636709959125,
          0.8135166373986881,
          0.8134097405521602,
          0.8132835321809646,
          0.811567017691944,
          0.8136086734767976,
          0.8131470824505213,
          0.8130906369908486,
          0.8109270295545291,
          0.8100707805631441,
          0.8080323070521815,
          0.7988651910056929,
          0.8130955174722505,
          0.8135046156349358,
          0.8135762096440502,
          0.8134698274005747,
          0.8135118421221255,
          0.7575706917277485,
          0.8132637386207954,
          0.8135621309981651,
          0.8097936328502657,
          0.8134716661747098,
          0.7833814331593324,
          0.812771921005627,
          0.8138176007773725,
          0.8119738806465187,
          0.8136268363969892,
          0.8131288925251121,
          0.8113823176415353,
          0.779123797052712,
          0.8119030252202916,
          0.8111411181035825,
          0.8134186315197629,
          0.8120162390557774,
          0.8140221948674109,
          0.8125969534742702,
          0.8135454857755487,
          0.814172456478399,
          0.81167027298844,
          0.8141402592802156,
          0.813640730840701,
          0.8098886669368845,
          0.7084290717337487,
          0.8133282210772741,
          0.8136568757279121,
          0.813605532092162,
          0.8136097074257078,
          0.8135447807802648,
          0.7899223236077381,
          0.8042503833073257,
          0.8136036004061297,
          0.8134204710088062,
          0.8121530266587608,
          0.8097978018346432,
          0.8135339790158953,
          0.8137350511199213,
          0.8137226258036271,
          0.8084574009391197,
          0.8014375151445596,
          0.8127898853949691,
          0.7991031460640315,
          0.8137338734308922,
          0.8011490788693892,
          0.8137237186191161,
          0.8038260700346395,
          0.8138378003966211,
          0.8136511570603605,
          0.811390682271131,
          0.7667755404622092,
          0.595596038612135,
          0.808417524054325,
          0.8136436227616439,
          0.8136402883866962,
          0.8135983516685935,
          0.7703980338910383,
          0.8137075630649531,
          0.8125670431188708,
          0.7745746169218392,
          0.7699830044977006,
          0.802347041441161,
          0.813751116390782,
          0.8144132964742495,
          0.8133391315817803,
          0.8137005817607257,
          0.8142681511902282,
          0.8141954960656964,
          0.8095869972420798
         ],
         "yaxis": "y5"
        },
        {
         "marker": {
          "color": [
           0,
           1,
           2,
           3,
           4,
           5,
           6,
           7,
           8,
           9,
           10,
           11,
           12,
           13,
           14,
           15,
           16,
           17,
           18,
           19,
           20,
           21,
           22,
           23,
           24,
           25,
           26,
           27,
           28,
           29,
           30,
           31,
           32,
           33,
           34,
           35,
           36,
           37,
           38,
           39,
           40,
           41,
           42,
           43,
           44,
           45,
           46,
           47,
           48,
           49,
           50,
           51,
           52,
           53,
           54,
           55,
           56,
           57,
           58,
           59,
           60,
           61,
           62,
           63,
           64,
           65,
           66,
           67,
           68,
           69,
           70,
           71,
           72,
           73,
           74,
           75,
           76,
           77,
           78,
           79,
           80,
           81,
           82,
           83,
           84,
           85,
           86,
           87,
           88,
           89,
           90,
           91,
           92,
           93,
           94,
           95,
           96,
           97,
           98,
           99,
           100,
           101,
           102,
           103,
           104,
           105,
           106,
           107,
           108,
           109,
           110,
           111,
           112,
           113,
           114,
           115,
           116,
           117,
           118,
           119,
           120,
           121,
           122,
           123,
           124,
           125,
           126,
           127,
           128,
           129,
           130,
           131,
           132,
           133,
           134,
           135,
           136,
           137,
           138,
           139,
           140,
           141,
           142,
           143,
           144
          ],
          "colorbar": {
           "title": {
            "text": "#Trials"
           },
           "x": 1,
           "xpad": 40
          },
          "colorscale": [
           [
            0,
            "rgb(247,251,255)"
           ],
           [
            0.125,
            "rgb(222,235,247)"
           ],
           [
            0.25,
            "rgb(198,219,239)"
           ],
           [
            0.375,
            "rgb(158,202,225)"
           ],
           [
            0.5,
            "rgb(107,174,214)"
           ],
           [
            0.625,
            "rgb(66,146,198)"
           ],
           [
            0.75,
            "rgb(33,113,181)"
           ],
           [
            0.875,
            "rgb(8,81,156)"
           ],
           [
            1,
            "rgb(8,48,107)"
           ]
          ],
          "line": {
           "color": "Grey",
           "width": 0.5
          },
          "showscale": false
         },
         "mode": "markers",
         "showlegend": false,
         "type": "scatter",
         "x": [
          "gbdt",
          "gbdt",
          "gbdt",
          "gbdt",
          "gbdt",
          "goss",
          "gbdt",
          "goss",
          "gbdt",
          "gbdt",
          "goss",
          "goss",
          "goss",
          "goss",
          "goss",
          "goss",
          "gbdt",
          "gbdt",
          "gbdt",
          "gbdt",
          "gbdt",
          "gbdt",
          "gbdt",
          "gbdt",
          "gbdt",
          "gbdt",
          "gbdt",
          "gbdt",
          "gbdt",
          "gbdt",
          "gbdt",
          "gbdt",
          "gbdt",
          "gbdt",
          "gbdt",
          "gbdt",
          "gbdt",
          "gbdt",
          "gbdt",
          "gbdt",
          "gbdt",
          "gbdt",
          "gbdt",
          "gbdt",
          "gbdt",
          "gbdt",
          "gbdt",
          "goss",
          "gbdt",
          "gbdt",
          "goss",
          "gbdt",
          "gbdt",
          "gbdt",
          "gbdt",
          "gbdt",
          "gbdt",
          "gbdt",
          "goss",
          "gbdt",
          "gbdt",
          "gbdt",
          "gbdt",
          "gbdt",
          "gbdt",
          "gbdt",
          "gbdt",
          "gbdt",
          "goss",
          "gbdt",
          "gbdt",
          "gbdt",
          "gbdt",
          "gbdt",
          "gbdt",
          "gbdt",
          "gbdt",
          "gbdt",
          "gbdt",
          "gbdt",
          "gbdt",
          "gbdt",
          "gbdt",
          "gbdt",
          "gbdt",
          "gbdt",
          "gbdt",
          "goss",
          "gbdt",
          "gbdt",
          "gbdt",
          "gbdt",
          "gbdt",
          "gbdt",
          "gbdt",
          "gbdt",
          "gbdt",
          "gbdt",
          "gbdt",
          "gbdt",
          "gbdt",
          "gbdt",
          "gbdt",
          "gbdt",
          "gbdt",
          "gbdt",
          "goss",
          "gbdt",
          "gbdt",
          "gbdt",
          "gbdt",
          "gbdt",
          "gbdt",
          "gbdt",
          "gbdt",
          "gbdt",
          "gbdt",
          "gbdt",
          "gbdt",
          "gbdt",
          "gbdt",
          "gbdt",
          "gbdt",
          "gbdt",
          "gbdt",
          "gbdt",
          "gbdt",
          "goss",
          "gbdt",
          "gbdt",
          "gbdt",
          "gbdt",
          "gbdt",
          "gbdt",
          "gbdt",
          "gbdt",
          "gbdt",
          "gbdt",
          "gbdt",
          "gbdt",
          "gbdt",
          "gbdt",
          "gbdt",
          "gbdt",
          "gbdt"
         ],
         "xaxis": "x6",
         "y": [
          0.7673510365180414,
          0.7276432144757129,
          0.7262375924405623,
          0.8056343055125654,
          0.7911816984544554,
          0.7051130826223873,
          0.7823086845913428,
          0.6623510420555276,
          0.7919246648701979,
          0.741895123747393,
          0.7961549621240414,
          0.7961549621240414,
          0.800803834815636,
          0.7186022898693036,
          0.7189246899721035,
          0.8033778563381255,
          0.8091861050604212,
          0.7860702263020467,
          0.804858027982464,
          0.7904840111657614,
          0.8094358350910068,
          0.8098390526115063,
          0.8090114619186124,
          0.8111023704074058,
          0.8121521806870876,
          0.8128791572416958,
          0.8124874108269882,
          0.8130849584714895,
          0.8091443154128628,
          0.8053156025460817,
          0.8135475157178522,
          0.8132613004921251,
          0.813130148945575,
          0.8112857159467297,
          0.7947414171373633,
          0.8125648535428207,
          0.8116216603146911,
          0.7765803805452529,
          0.8110396165507502,
          0.7047588481961119,
          0.7925819619308521,
          0.812294508592412,
          0.8091725483192416,
          0.8100232395932992,
          0.8135650163105677,
          0.7934697038618403,
          0.8124271786822215,
          0.8099053562396876,
          0.8118061088438667,
          0.8123672437343404,
          0.6980802214507825,
          0.8130164165881199,
          0.8133556756187459,
          0.8086768364340295,
          0.8136064823663105,
          0.8112470661275741,
          0.8125209193191897,
          0.8080801379695692,
          0.8058636709959125,
          0.8135166373986881,
          0.8134097405521602,
          0.8132835321809646,
          0.811567017691944,
          0.8136086734767976,
          0.8131470824505213,
          0.8130906369908486,
          0.8109270295545291,
          0.8100707805631441,
          0.8080323070521815,
          0.7988651910056929,
          0.8130955174722505,
          0.8135046156349358,
          0.8135762096440502,
          0.8134698274005747,
          0.8135118421221255,
          0.7575706917277485,
          0.8132637386207954,
          0.8135621309981651,
          0.8097936328502657,
          0.8134716661747098,
          0.7833814331593324,
          0.812771921005627,
          0.8138176007773725,
          0.8119738806465187,
          0.8136268363969892,
          0.8131288925251121,
          0.8113823176415353,
          0.779123797052712,
          0.8119030252202916,
          0.8111411181035825,
          0.8134186315197629,
          0.8120162390557774,
          0.8140221948674109,
          0.8125969534742702,
          0.8135454857755487,
          0.814172456478399,
          0.81167027298844,
          0.8141402592802156,
          0.813640730840701,
          0.8098886669368845,
          0.7084290717337487,
          0.8133282210772741,
          0.8136568757279121,
          0.813605532092162,
          0.8136097074257078,
          0.8135447807802648,
          0.7899223236077381,
          0.8042503833073257,
          0.8136036004061297,
          0.8134204710088062,
          0.8121530266587608,
          0.8097978018346432,
          0.8135339790158953,
          0.8137350511199213,
          0.8137226258036271,
          0.8084574009391197,
          0.8014375151445596,
          0.8127898853949691,
          0.7991031460640315,
          0.8137338734308922,
          0.8011490788693892,
          0.8137237186191161,
          0.8038260700346395,
          0.8138378003966211,
          0.8136511570603605,
          0.811390682271131,
          0.7667755404622092,
          0.595596038612135,
          0.808417524054325,
          0.8136436227616439,
          0.8136402883866962,
          0.8135983516685935,
          0.7703980338910383,
          0.8137075630649531,
          0.8125670431188708,
          0.7745746169218392,
          0.7699830044977006,
          0.802347041441161,
          0.813751116390782,
          0.8144132964742495,
          0.8133391315817803,
          0.8137005817607257,
          0.8142681511902282,
          0.8141954960656964,
          0.8095869972420798
         ],
         "yaxis": "y6"
        },
        {
         "marker": {
          "color": [
           0,
           1,
           2,
           3,
           4,
           5,
           6,
           7,
           8,
           9,
           10,
           11,
           12,
           13,
           14,
           15,
           16,
           17,
           18,
           19,
           20,
           21,
           22,
           23,
           24,
           25,
           26,
           27,
           28,
           29,
           30,
           31,
           32,
           33,
           34,
           35,
           36,
           37,
           38,
           39,
           40,
           41,
           42,
           43,
           44,
           45,
           46,
           47,
           48,
           49,
           50,
           51,
           52,
           53,
           54,
           55,
           56,
           57,
           58,
           59,
           60,
           61,
           62,
           63,
           64,
           65,
           66,
           67,
           68,
           69,
           70,
           71,
           72,
           73,
           74,
           75,
           76,
           77,
           78,
           79,
           80,
           81,
           82,
           83,
           84,
           85,
           86,
           87,
           88,
           89,
           90,
           91,
           92,
           93,
           94,
           95,
           96,
           97,
           98,
           99,
           100,
           101,
           102,
           103,
           104,
           105,
           106,
           107,
           108,
           109,
           110,
           111,
           112,
           113,
           114,
           115,
           116,
           117,
           118,
           119,
           120,
           121,
           122,
           123,
           124,
           125,
           126,
           127,
           128,
           129,
           130,
           131,
           132,
           133,
           134,
           135,
           136,
           137,
           138,
           139,
           140,
           141,
           142,
           143,
           144
          ],
          "colorbar": {
           "title": {
            "text": "#Trials"
           },
           "x": 1,
           "xpad": 40
          },
          "colorscale": [
           [
            0,
            "rgb(247,251,255)"
           ],
           [
            0.125,
            "rgb(222,235,247)"
           ],
           [
            0.25,
            "rgb(198,219,239)"
           ],
           [
            0.375,
            "rgb(158,202,225)"
           ],
           [
            0.5,
            "rgb(107,174,214)"
           ],
           [
            0.625,
            "rgb(66,146,198)"
           ],
           [
            0.75,
            "rgb(33,113,181)"
           ],
           [
            0.875,
            "rgb(8,81,156)"
           ],
           [
            1,
            "rgb(8,48,107)"
           ]
          ],
          "line": {
           "color": "Grey",
           "width": 0.5
          },
          "showscale": false
         },
         "mode": "markers",
         "showlegend": false,
         "type": "scatter",
         "x": [
          0.5380267755835213,
          0.4845814080886115,
          0.8509495279169017,
          0.8812249187288045,
          0.6403423918708918,
          0.5039944976154377,
          0.8948501226812009,
          0.2555745016286542,
          0.4521228269547619,
          0.3081977573636695,
          0.04685379284201513,
          0.05419861727859543,
          0.02617869704733936,
          0.7348710751288283,
          0.9686329679316699,
          0.18683257839406414,
          0.18292171910264343,
          0.7867829237833903,
          0.3643549410677219,
          0.6570397219064138,
          0.18530103684628177,
          0.15374524046647942,
          0.17887326329570016,
          0.14831374924531313,
          0.12339256218413341,
          0.09378573281147412,
          0.11141799685987772,
          0.09542946407352634,
          0.27319263636243485,
          0.38984831451046287,
          0.11463432289749975,
          0.09087650691546345,
          0.07765449807240173,
          0.02176897379690343,
          0.2513893877996277,
          0.09651610551159708,
          0.313606457556422,
          0.21854475556126934,
          0.0733828582271801,
          0.013664374380923675,
          0.5640397562414403,
          0.10254977844632206,
          0.23383717186462671,
          0.06216390614485022,
          0.12545592859911264,
          0.3028862413900848,
          0.1359347016259771,
          0.45296123686296563,
          0.21153732542874554,
          0.058434236588049485,
          0.33969098404360587,
          0.08229160870111851,
          0.053476999190696504,
          0.013173959599376707,
          0.14938096583920565,
          0.15415891257229278,
          0.04779846094403191,
          0.19507180387575246,
          0.13945185343370303,
          0.166935995680487,
          0.16869821444744562,
          0.16449756027518944,
          0.27321441471648333,
          0.1636986166387343,
          0.2278361827518393,
          0.1305315184415223,
          0.1806348324482034,
          0.4113737160220394,
          0.27469374464519225,
          0.5677468926983331,
          0.9756965925994805,
          0.16982791194951535,
          0.11604265826377487,
          0.2017795018135132,
          0.11752214564290676,
          0.11272960243670013,
          0.12853311478980262,
          0.24003875822365484,
          0.2451586598342046,
          0.11251169528784616,
          0.6994991635346829,
          0.15699198183703333,
          0.20742584179301313,
          0.19851722977497238,
          0.3034561224776356,
          0.29287561936813755,
          0.3387858781010621,
          0.25802929539290276,
          0.22256040798788043,
          0.3347088353771965,
          0.040099414056907895,
          0.0797955040759906,
          0.1410109068211029,
          0.1496938970931631,
          0.20864279244718478,
          0.21209934144861917,
          0.2394122338735972,
          0.18508183273788875,
          0.8140225181389507,
          0.8247674581956237,
          0.7682828755809701,
          0.18764568037614174,
          0.8756881825512292,
          0.9058389666446754,
          0.920264201567267,
          0.9434950395506081,
          0.8912455282403843,
          0.9330692795629151,
          0.8592727237204285,
          0.9954319862535673,
          0.9104932409490911,
          0.8601605852390538,
          0.8115197438790858,
          0.8594321344969966,
          0.9228374544351203,
          0.9294472302693038,
          0.8322803521561889,
          0.7878886526718063,
          0.8655723168566081,
          0.8758635076909104,
          0.8784751928360428,
          0.958155343798178,
          0.960153528307655,
          0.9145639321667289,
          0.9548614509062268,
          0.9576468510600051,
          0.9850628306044599,
          0.894689305717353,
          0.8452816584675781,
          0.9512058743950472,
          0.9537619831014003,
          0.9708927014859712,
          0.9438027661764427,
          0.9982121425935266,
          0.994095074622367,
          0.8725260677571596,
          0.9096301634433144,
          0.8881539540138038,
          0.6195858056718595,
          0.47451434325137315,
          0.5224848417239143,
          0.6515393537629705,
          0.635213388075212,
          0.6238810820167752,
          0.6339334289429382
         ],
         "xaxis": "x7",
         "y": [
          0.7673510365180414,
          0.7276432144757129,
          0.7262375924405623,
          0.8056343055125654,
          0.7911816984544554,
          0.7051130826223873,
          0.7823086845913428,
          0.6623510420555276,
          0.7919246648701979,
          0.741895123747393,
          0.7961549621240414,
          0.7961549621240414,
          0.800803834815636,
          0.7186022898693036,
          0.7189246899721035,
          0.8033778563381255,
          0.8091861050604212,
          0.7860702263020467,
          0.804858027982464,
          0.7904840111657614,
          0.8094358350910068,
          0.8098390526115063,
          0.8090114619186124,
          0.8111023704074058,
          0.8121521806870876,
          0.8128791572416958,
          0.8124874108269882,
          0.8130849584714895,
          0.8091443154128628,
          0.8053156025460817,
          0.8135475157178522,
          0.8132613004921251,
          0.813130148945575,
          0.8112857159467297,
          0.7947414171373633,
          0.8125648535428207,
          0.8116216603146911,
          0.7765803805452529,
          0.8110396165507502,
          0.7047588481961119,
          0.7925819619308521,
          0.812294508592412,
          0.8091725483192416,
          0.8100232395932992,
          0.8135650163105677,
          0.7934697038618403,
          0.8124271786822215,
          0.8099053562396876,
          0.8118061088438667,
          0.8123672437343404,
          0.6980802214507825,
          0.8130164165881199,
          0.8133556756187459,
          0.8086768364340295,
          0.8136064823663105,
          0.8112470661275741,
          0.8125209193191897,
          0.8080801379695692,
          0.8058636709959125,
          0.8135166373986881,
          0.8134097405521602,
          0.8132835321809646,
          0.811567017691944,
          0.8136086734767976,
          0.8131470824505213,
          0.8130906369908486,
          0.8109270295545291,
          0.8100707805631441,
          0.8080323070521815,
          0.7988651910056929,
          0.8130955174722505,
          0.8135046156349358,
          0.8135762096440502,
          0.8134698274005747,
          0.8135118421221255,
          0.7575706917277485,
          0.8132637386207954,
          0.8135621309981651,
          0.8097936328502657,
          0.8134716661747098,
          0.7833814331593324,
          0.812771921005627,
          0.8138176007773725,
          0.8119738806465187,
          0.8136268363969892,
          0.8131288925251121,
          0.8113823176415353,
          0.779123797052712,
          0.8119030252202916,
          0.8111411181035825,
          0.8134186315197629,
          0.8120162390557774,
          0.8140221948674109,
          0.8125969534742702,
          0.8135454857755487,
          0.814172456478399,
          0.81167027298844,
          0.8141402592802156,
          0.813640730840701,
          0.8098886669368845,
          0.7084290717337487,
          0.8133282210772741,
          0.8136568757279121,
          0.813605532092162,
          0.8136097074257078,
          0.8135447807802648,
          0.7899223236077381,
          0.8042503833073257,
          0.8136036004061297,
          0.8134204710088062,
          0.8121530266587608,
          0.8097978018346432,
          0.8135339790158953,
          0.8137350511199213,
          0.8137226258036271,
          0.8084574009391197,
          0.8014375151445596,
          0.8127898853949691,
          0.7991031460640315,
          0.8137338734308922,
          0.8011490788693892,
          0.8137237186191161,
          0.8038260700346395,
          0.8138378003966211,
          0.8136511570603605,
          0.811390682271131,
          0.7667755404622092,
          0.595596038612135,
          0.808417524054325,
          0.8136436227616439,
          0.8136402883866962,
          0.8135983516685935,
          0.7703980338910383,
          0.8137075630649531,
          0.8125670431188708,
          0.7745746169218392,
          0.7699830044977006,
          0.802347041441161,
          0.813751116390782,
          0.8144132964742495,
          0.8133391315817803,
          0.8137005817607257,
          0.8142681511902282,
          0.8141954960656964,
          0.8095869972420798
         ],
         "yaxis": "y7"
        },
        {
         "marker": {
          "color": [
           0,
           1,
           2,
           3,
           4,
           5,
           6,
           7,
           8,
           9,
           10,
           11,
           12,
           13,
           14,
           15,
           16,
           17,
           18,
           19,
           20,
           21,
           22,
           23,
           24,
           25,
           26,
           27,
           28,
           29,
           30,
           31,
           32,
           33,
           34,
           35,
           36,
           37,
           38,
           39,
           40,
           41,
           42,
           43,
           44,
           45,
           46,
           47,
           48,
           49,
           50,
           51,
           52,
           53,
           54,
           55,
           56,
           57,
           58,
           59,
           60,
           61,
           62,
           63,
           64,
           65,
           66,
           67,
           68,
           69,
           70,
           71,
           72,
           73,
           74,
           75,
           76,
           77,
           78,
           79,
           80,
           81,
           82,
           83,
           84,
           85,
           86,
           87,
           88,
           89,
           90,
           91,
           92,
           93,
           94,
           95,
           96,
           97,
           98,
           99,
           100,
           101,
           102,
           103,
           104,
           105,
           106,
           107,
           108,
           109,
           110,
           111,
           112,
           113,
           114,
           115,
           116,
           117,
           118,
           119,
           120,
           121,
           122,
           123,
           124,
           125,
           126,
           127,
           128,
           129,
           130,
           131,
           132,
           133,
           134,
           135,
           136,
           137,
           138,
           139,
           140,
           141,
           142,
           143,
           144
          ],
          "colorbar": {
           "title": {
            "text": "#Trials"
           },
           "x": 1,
           "xpad": 40
          },
          "colorscale": [
           [
            0,
            "rgb(247,251,255)"
           ],
           [
            0.125,
            "rgb(222,235,247)"
           ],
           [
            0.25,
            "rgb(198,219,239)"
           ],
           [
            0.375,
            "rgb(158,202,225)"
           ],
           [
            0.5,
            "rgb(107,174,214)"
           ],
           [
            0.625,
            "rgb(66,146,198)"
           ],
           [
            0.75,
            "rgb(33,113,181)"
           ],
           [
            0.875,
            "rgb(8,81,156)"
           ],
           [
            1,
            "rgb(8,48,107)"
           ]
          ],
          "line": {
           "color": "Grey",
           "width": 0.5
          },
          "showscale": false
         },
         "mode": "markers",
         "showlegend": false,
         "type": "scatter",
         "x": [
          33,
          15,
          24,
          34,
          8,
          39,
          3,
          36,
          46,
          10,
          22,
          23,
          27,
          31,
          48,
          29,
          40,
          42,
          44,
          39,
          18,
          16,
          17,
          17,
          17,
          9,
          -1,
          -1,
          -1,
          -1,
          4,
          5,
          6,
          6,
          3,
          12,
          4,
          12,
          2,
          6,
          7,
          9,
          13,
          2,
          5,
          5,
          20,
          2,
          1,
          14,
          11,
          9,
          7,
          5,
          7,
          7,
          8,
          26,
          10,
          4,
          4,
          5,
          1,
          4,
          34,
          3,
          1,
          4,
          8,
          15,
          11,
          4,
          7,
          0,
          0,
          3,
          0,
          3,
          1,
          6,
          -1,
          50,
          3,
          2,
          3,
          9,
          7,
          3,
          6,
          4,
          10,
          3,
          0,
          2,
          5,
          5,
          7,
          0,
          0,
          -1,
          0,
          2,
          1,
          1,
          1,
          1,
          0,
          30,
          -1,
          1,
          2,
          -1,
          0,
          1,
          1,
          3,
          5,
          2,
          21,
          1,
          0,
          1,
          -1,
          1,
          1,
          2,
          0,
          36,
          3,
          1,
          1,
          1,
          -1,
          1,
          2,
          0,
          -1,
          4,
          1,
          2,
          3,
          1,
          2,
          2,
          4
         ],
         "xaxis": "x8",
         "y": [
          0.7673510365180414,
          0.7276432144757129,
          0.7262375924405623,
          0.8056343055125654,
          0.7911816984544554,
          0.7051130826223873,
          0.7823086845913428,
          0.6623510420555276,
          0.7919246648701979,
          0.741895123747393,
          0.7961549621240414,
          0.7961549621240414,
          0.800803834815636,
          0.7186022898693036,
          0.7189246899721035,
          0.8033778563381255,
          0.8091861050604212,
          0.7860702263020467,
          0.804858027982464,
          0.7904840111657614,
          0.8094358350910068,
          0.8098390526115063,
          0.8090114619186124,
          0.8111023704074058,
          0.8121521806870876,
          0.8128791572416958,
          0.8124874108269882,
          0.8130849584714895,
          0.8091443154128628,
          0.8053156025460817,
          0.8135475157178522,
          0.8132613004921251,
          0.813130148945575,
          0.8112857159467297,
          0.7947414171373633,
          0.8125648535428207,
          0.8116216603146911,
          0.7765803805452529,
          0.8110396165507502,
          0.7047588481961119,
          0.7925819619308521,
          0.812294508592412,
          0.8091725483192416,
          0.8100232395932992,
          0.8135650163105677,
          0.7934697038618403,
          0.8124271786822215,
          0.8099053562396876,
          0.8118061088438667,
          0.8123672437343404,
          0.6980802214507825,
          0.8130164165881199,
          0.8133556756187459,
          0.8086768364340295,
          0.8136064823663105,
          0.8112470661275741,
          0.8125209193191897,
          0.8080801379695692,
          0.8058636709959125,
          0.8135166373986881,
          0.8134097405521602,
          0.8132835321809646,
          0.811567017691944,
          0.8136086734767976,
          0.8131470824505213,
          0.8130906369908486,
          0.8109270295545291,
          0.8100707805631441,
          0.8080323070521815,
          0.7988651910056929,
          0.8130955174722505,
          0.8135046156349358,
          0.8135762096440502,
          0.8134698274005747,
          0.8135118421221255,
          0.7575706917277485,
          0.8132637386207954,
          0.8135621309981651,
          0.8097936328502657,
          0.8134716661747098,
          0.7833814331593324,
          0.812771921005627,
          0.8138176007773725,
          0.8119738806465187,
          0.8136268363969892,
          0.8131288925251121,
          0.8113823176415353,
          0.779123797052712,
          0.8119030252202916,
          0.8111411181035825,
          0.8134186315197629,
          0.8120162390557774,
          0.8140221948674109,
          0.8125969534742702,
          0.8135454857755487,
          0.814172456478399,
          0.81167027298844,
          0.8141402592802156,
          0.813640730840701,
          0.8098886669368845,
          0.7084290717337487,
          0.8133282210772741,
          0.8136568757279121,
          0.813605532092162,
          0.8136097074257078,
          0.8135447807802648,
          0.7899223236077381,
          0.8042503833073257,
          0.8136036004061297,
          0.8134204710088062,
          0.8121530266587608,
          0.8097978018346432,
          0.8135339790158953,
          0.8137350511199213,
          0.8137226258036271,
          0.8084574009391197,
          0.8014375151445596,
          0.8127898853949691,
          0.7991031460640315,
          0.8137338734308922,
          0.8011490788693892,
          0.8137237186191161,
          0.8038260700346395,
          0.8138378003966211,
          0.8136511570603605,
          0.811390682271131,
          0.7667755404622092,
          0.595596038612135,
          0.808417524054325,
          0.8136436227616439,
          0.8136402883866962,
          0.8135983516685935,
          0.7703980338910383,
          0.8137075630649531,
          0.8125670431188708,
          0.7745746169218392,
          0.7699830044977006,
          0.802347041441161,
          0.813751116390782,
          0.8144132964742495,
          0.8133391315817803,
          0.8137005817607257,
          0.8142681511902282,
          0.8141954960656964,
          0.8095869972420798
         ],
         "yaxis": "y8"
        },
        {
         "marker": {
          "color": [
           0,
           1,
           2,
           3,
           4,
           5,
           6,
           7,
           8,
           9,
           10,
           11,
           12,
           13,
           14,
           15,
           16,
           17,
           18,
           19,
           20,
           21,
           22,
           23,
           24,
           25,
           26,
           27,
           28,
           29,
           30,
           31,
           32,
           33,
           34,
           35,
           36,
           37,
           38,
           39,
           40,
           41,
           42,
           43,
           44,
           45,
           46,
           47,
           48,
           49,
           50,
           51,
           52,
           53,
           54,
           55,
           56,
           57,
           58,
           59,
           60,
           61,
           62,
           63,
           64,
           65,
           66,
           67,
           68,
           69,
           70,
           71,
           72,
           73,
           74,
           75,
           76,
           77,
           78,
           79,
           80,
           81,
           82,
           83,
           84,
           85,
           86,
           87,
           88,
           89,
           90,
           91,
           92,
           93,
           94,
           95,
           96,
           97,
           98,
           99,
           100,
           101,
           102,
           103,
           104,
           105,
           106,
           107,
           108,
           109,
           110,
           111,
           112,
           113,
           114,
           115,
           116,
           117,
           118,
           119,
           120,
           121,
           122,
           123,
           124,
           125,
           126,
           127,
           128,
           129,
           130,
           131,
           132,
           133,
           134,
           135,
           136,
           137,
           138,
           139,
           140,
           141,
           142,
           143,
           144
          ],
          "colorbar": {
           "title": {
            "text": "#Trials"
           },
           "x": 1,
           "xpad": 40
          },
          "colorscale": [
           [
            0,
            "rgb(247,251,255)"
           ],
           [
            0.125,
            "rgb(222,235,247)"
           ],
           [
            0.25,
            "rgb(198,219,239)"
           ],
           [
            0.375,
            "rgb(158,202,225)"
           ],
           [
            0.5,
            "rgb(107,174,214)"
           ],
           [
            0.625,
            "rgb(66,146,198)"
           ],
           [
            0.75,
            "rgb(33,113,181)"
           ],
           [
            0.875,
            "rgb(8,81,156)"
           ],
           [
            1,
            "rgb(8,48,107)"
           ]
          ],
          "line": {
           "color": "Grey",
           "width": 0.5
          },
          "showscale": false
         },
         "mode": "markers",
         "showlegend": false,
         "type": "scatter",
         "x": [
          412,
          369,
          186,
          10,
          486,
          168,
          304,
          483,
          239,
          383,
          33,
          21,
          13,
          99,
          104,
          87,
          103,
          173,
          75,
          134,
          218,
          255,
          252,
          279,
          301,
          304,
          303,
          314,
          352,
          426,
          334,
          327,
          340,
          351,
          412,
          330,
          395,
          456,
          335,
          203,
          280,
          365,
          324,
          281,
          381,
          447,
          382,
          407,
          369,
          323,
          231,
          348,
          357,
          364,
          390,
          431,
          393,
          474,
          385,
          286,
          275,
          289,
          265,
          291,
          243,
          268,
          297,
          312,
          218,
          499,
          368,
          288,
          261,
          266,
          252,
          193,
          243,
          226,
          148,
          232,
          216,
          254,
          315,
          178,
          317,
          298,
          314,
          310,
          337,
          412,
          345,
          258,
          325,
          322,
          376,
          385,
          400,
          359,
          426,
          359,
          445,
          388,
          435,
          431,
          432,
          426,
          460,
          434,
          419,
          440,
          469,
          420,
          401,
          456,
          459,
          456,
          487,
          473,
          450,
          462,
          461,
          482,
          468,
          485,
          482,
          492,
          483,
          498,
          480,
          451,
          449,
          452,
          464,
          477,
          476,
          489,
          439,
          500,
          482,
          476,
          479,
          465,
          471,
          470,
          469
         ],
         "xaxis": "x9",
         "y": [
          0.7673510365180414,
          0.7276432144757129,
          0.7262375924405623,
          0.8056343055125654,
          0.7911816984544554,
          0.7051130826223873,
          0.7823086845913428,
          0.6623510420555276,
          0.7919246648701979,
          0.741895123747393,
          0.7961549621240414,
          0.7961549621240414,
          0.800803834815636,
          0.7186022898693036,
          0.7189246899721035,
          0.8033778563381255,
          0.8091861050604212,
          0.7860702263020467,
          0.804858027982464,
          0.7904840111657614,
          0.8094358350910068,
          0.8098390526115063,
          0.8090114619186124,
          0.8111023704074058,
          0.8121521806870876,
          0.8128791572416958,
          0.8124874108269882,
          0.8130849584714895,
          0.8091443154128628,
          0.8053156025460817,
          0.8135475157178522,
          0.8132613004921251,
          0.813130148945575,
          0.8112857159467297,
          0.7947414171373633,
          0.8125648535428207,
          0.8116216603146911,
          0.7765803805452529,
          0.8110396165507502,
          0.7047588481961119,
          0.7925819619308521,
          0.812294508592412,
          0.8091725483192416,
          0.8100232395932992,
          0.8135650163105677,
          0.7934697038618403,
          0.8124271786822215,
          0.8099053562396876,
          0.8118061088438667,
          0.8123672437343404,
          0.6980802214507825,
          0.8130164165881199,
          0.8133556756187459,
          0.8086768364340295,
          0.8136064823663105,
          0.8112470661275741,
          0.8125209193191897,
          0.8080801379695692,
          0.8058636709959125,
          0.8135166373986881,
          0.8134097405521602,
          0.8132835321809646,
          0.811567017691944,
          0.8136086734767976,
          0.8131470824505213,
          0.8130906369908486,
          0.8109270295545291,
          0.8100707805631441,
          0.8080323070521815,
          0.7988651910056929,
          0.8130955174722505,
          0.8135046156349358,
          0.8135762096440502,
          0.8134698274005747,
          0.8135118421221255,
          0.7575706917277485,
          0.8132637386207954,
          0.8135621309981651,
          0.8097936328502657,
          0.8134716661747098,
          0.7833814331593324,
          0.812771921005627,
          0.8138176007773725,
          0.8119738806465187,
          0.8136268363969892,
          0.8131288925251121,
          0.8113823176415353,
          0.779123797052712,
          0.8119030252202916,
          0.8111411181035825,
          0.8134186315197629,
          0.8120162390557774,
          0.8140221948674109,
          0.8125969534742702,
          0.8135454857755487,
          0.814172456478399,
          0.81167027298844,
          0.8141402592802156,
          0.813640730840701,
          0.8098886669368845,
          0.7084290717337487,
          0.8133282210772741,
          0.8136568757279121,
          0.813605532092162,
          0.8136097074257078,
          0.8135447807802648,
          0.7899223236077381,
          0.8042503833073257,
          0.8136036004061297,
          0.8134204710088062,
          0.8121530266587608,
          0.8097978018346432,
          0.8135339790158953,
          0.8137350511199213,
          0.8137226258036271,
          0.8084574009391197,
          0.8014375151445596,
          0.8127898853949691,
          0.7991031460640315,
          0.8137338734308922,
          0.8011490788693892,
          0.8137237186191161,
          0.8038260700346395,
          0.8138378003966211,
          0.8136511570603605,
          0.811390682271131,
          0.7667755404622092,
          0.595596038612135,
          0.808417524054325,
          0.8136436227616439,
          0.8136402883866962,
          0.8135983516685935,
          0.7703980338910383,
          0.8137075630649531,
          0.8125670431188708,
          0.7745746169218392,
          0.7699830044977006,
          0.802347041441161,
          0.813751116390782,
          0.8144132964742495,
          0.8133391315817803,
          0.8137005817607257,
          0.8142681511902282,
          0.8141954960656964,
          0.8095869972420798
         ],
         "yaxis": "y9"
        },
        {
         "marker": {
          "color": [
           0,
           1,
           2,
           3,
           4,
           5,
           6,
           7,
           8,
           9,
           10,
           11,
           12,
           13,
           14,
           15,
           16,
           17,
           18,
           19,
           20,
           21,
           22,
           23,
           24,
           25,
           26,
           27,
           28,
           29,
           30,
           31,
           32,
           33,
           34,
           35,
           36,
           37,
           38,
           39,
           40,
           41,
           42,
           43,
           44,
           45,
           46,
           47,
           48,
           49,
           50,
           51,
           52,
           53,
           54,
           55,
           56,
           57,
           58,
           59,
           60,
           61,
           62,
           63,
           64,
           65,
           66,
           67,
           68,
           69,
           70,
           71,
           72,
           73,
           74,
           75,
           76,
           77,
           78,
           79,
           80,
           81,
           82,
           83,
           84,
           85,
           86,
           87,
           88,
           89,
           90,
           91,
           92,
           93,
           94,
           95,
           96,
           97,
           98,
           99,
           100,
           101,
           102,
           103,
           104,
           105,
           106,
           107,
           108,
           109,
           110,
           111,
           112,
           113,
           114,
           115,
           116,
           117,
           118,
           119,
           120,
           121,
           122,
           123,
           124,
           125,
           126,
           127,
           128,
           129,
           130,
           131,
           132,
           133,
           134,
           135,
           136,
           137,
           138,
           139,
           140,
           141,
           142,
           143,
           144
          ],
          "colorbar": {
           "title": {
            "text": "#Trials"
           },
           "x": 1,
           "xpad": 40
          },
          "colorscale": [
           [
            0,
            "rgb(247,251,255)"
           ],
           [
            0.125,
            "rgb(222,235,247)"
           ],
           [
            0.25,
            "rgb(198,219,239)"
           ],
           [
            0.375,
            "rgb(158,202,225)"
           ],
           [
            0.5,
            "rgb(107,174,214)"
           ],
           [
            0.625,
            "rgb(66,146,198)"
           ],
           [
            0.75,
            "rgb(33,113,181)"
           ],
           [
            0.875,
            "rgb(8,81,156)"
           ],
           [
            1,
            "rgb(8,48,107)"
           ]
          ],
          "line": {
           "color": "Grey",
           "width": 0.5
          },
          "showscale": false
         },
         "mode": "markers",
         "showlegend": false,
         "type": "scatter",
         "x": [
          32,
          130,
          75,
          97,
          65,
          116,
          38,
          198,
          184,
          173,
          2,
          2,
          137,
          145,
          94,
          153,
          162,
          100,
          167,
          117,
          64,
          68,
          65,
          44,
          37,
          36,
          30,
          25,
          23,
          22,
          50,
          52,
          51,
          51,
          84,
          54,
          14,
          84,
          51,
          16,
          79,
          44,
          31,
          58,
          12,
          8,
          25,
          43,
          10,
          111,
          73,
          33,
          19,
          17,
          6,
          2,
          7,
          60,
          43,
          17,
          18,
          19,
          27,
          17,
          12,
          6,
          19,
          36,
          13,
          28,
          2,
          20,
          21,
          10,
          24,
          24,
          40,
          33,
          36,
          28,
          189,
          31,
          13,
          6,
          12,
          12,
          14,
          6,
          33,
          15,
          22,
          25,
          8,
          4,
          10,
          9,
          47,
          9,
          2,
          6,
          125,
          11,
          3,
          3,
          2,
          2,
          7,
          9,
          2,
          16,
          14,
          5,
          2,
          9,
          9,
          9,
          16,
          10,
          19,
          13,
          13,
          8,
          8,
          143,
          154,
          151,
          167,
          142,
          131,
          177,
          172,
          175,
          175,
          183,
          196,
          154,
          189,
          179,
          163,
          161,
          158,
          163,
          163,
          163,
          164
         ],
         "xaxis": "x10",
         "y": [
          0.7673510365180414,
          0.7276432144757129,
          0.7262375924405623,
          0.8056343055125654,
          0.7911816984544554,
          0.7051130826223873,
          0.7823086845913428,
          0.6623510420555276,
          0.7919246648701979,
          0.741895123747393,
          0.7961549621240414,
          0.7961549621240414,
          0.800803834815636,
          0.7186022898693036,
          0.7189246899721035,
          0.8033778563381255,
          0.8091861050604212,
          0.7860702263020467,
          0.804858027982464,
          0.7904840111657614,
          0.8094358350910068,
          0.8098390526115063,
          0.8090114619186124,
          0.8111023704074058,
          0.8121521806870876,
          0.8128791572416958,
          0.8124874108269882,
          0.8130849584714895,
          0.8091443154128628,
          0.8053156025460817,
          0.8135475157178522,
          0.8132613004921251,
          0.813130148945575,
          0.8112857159467297,
          0.7947414171373633,
          0.8125648535428207,
          0.8116216603146911,
          0.7765803805452529,
          0.8110396165507502,
          0.7047588481961119,
          0.7925819619308521,
          0.812294508592412,
          0.8091725483192416,
          0.8100232395932992,
          0.8135650163105677,
          0.7934697038618403,
          0.8124271786822215,
          0.8099053562396876,
          0.8118061088438667,
          0.8123672437343404,
          0.6980802214507825,
          0.8130164165881199,
          0.8133556756187459,
          0.8086768364340295,
          0.8136064823663105,
          0.8112470661275741,
          0.8125209193191897,
          0.8080801379695692,
          0.8058636709959125,
          0.8135166373986881,
          0.8134097405521602,
          0.8132835321809646,
          0.811567017691944,
          0.8136086734767976,
          0.8131470824505213,
          0.8130906369908486,
          0.8109270295545291,
          0.8100707805631441,
          0.8080323070521815,
          0.7988651910056929,
          0.8130955174722505,
          0.8135046156349358,
          0.8135762096440502,
          0.8134698274005747,
          0.8135118421221255,
          0.7575706917277485,
          0.8132637386207954,
          0.8135621309981651,
          0.8097936328502657,
          0.8134716661747098,
          0.7833814331593324,
          0.812771921005627,
          0.8138176007773725,
          0.8119738806465187,
          0.8136268363969892,
          0.8131288925251121,
          0.8113823176415353,
          0.779123797052712,
          0.8119030252202916,
          0.8111411181035825,
          0.8134186315197629,
          0.8120162390557774,
          0.8140221948674109,
          0.8125969534742702,
          0.8135454857755487,
          0.814172456478399,
          0.81167027298844,
          0.8141402592802156,
          0.813640730840701,
          0.8098886669368845,
          0.7084290717337487,
          0.8133282210772741,
          0.8136568757279121,
          0.813605532092162,
          0.8136097074257078,
          0.8135447807802648,
          0.7899223236077381,
          0.8042503833073257,
          0.8136036004061297,
          0.8134204710088062,
          0.8121530266587608,
          0.8097978018346432,
          0.8135339790158953,
          0.8137350511199213,
          0.8137226258036271,
          0.8084574009391197,
          0.8014375151445596,
          0.8127898853949691,
          0.7991031460640315,
          0.8137338734308922,
          0.8011490788693892,
          0.8137237186191161,
          0.8038260700346395,
          0.8138378003966211,
          0.8136511570603605,
          0.811390682271131,
          0.7667755404622092,
          0.595596038612135,
          0.808417524054325,
          0.8136436227616439,
          0.8136402883866962,
          0.8135983516685935,
          0.7703980338910383,
          0.8137075630649531,
          0.8125670431188708,
          0.7745746169218392,
          0.7699830044977006,
          0.802347041441161,
          0.813751116390782,
          0.8144132964742495,
          0.8133391315817803,
          0.8137005817607257,
          0.8142681511902282,
          0.8141954960656964,
          0.8095869972420798
         ],
         "yaxis": "y10"
        },
        {
         "marker": {
          "color": [
           0,
           1,
           2,
           3,
           4,
           5,
           6,
           7,
           8,
           9,
           10,
           11,
           12,
           13,
           14,
           15,
           16,
           17,
           18,
           19,
           20,
           21,
           22,
           23,
           24,
           25,
           26,
           27,
           28,
           29,
           30,
           31,
           32,
           33,
           34,
           35,
           36,
           37,
           38,
           39,
           40,
           41,
           42,
           43,
           44,
           45,
           46,
           47,
           48,
           49,
           50,
           51,
           52,
           53,
           54,
           55,
           56,
           57,
           58,
           59,
           60,
           61,
           62,
           63,
           64,
           65,
           66,
           67,
           68,
           69,
           70,
           71,
           72,
           73,
           74,
           75,
           76,
           77,
           78,
           79,
           80,
           81,
           82,
           83,
           84,
           85,
           86,
           87,
           88,
           89,
           90,
           91,
           92,
           93,
           94,
           95,
           96,
           97,
           98,
           99,
           100,
           101,
           102,
           103,
           104,
           105,
           106,
           107,
           108,
           109,
           110,
           111,
           112,
           113,
           114,
           115,
           116,
           117,
           118,
           119,
           120,
           121,
           122,
           123,
           124,
           125,
           126,
           127,
           128,
           129,
           130,
           131,
           132,
           133,
           134,
           135,
           136,
           137,
           138,
           139,
           140,
           141,
           142,
           143,
           144
          ],
          "colorbar": {
           "title": {
            "text": "#Trials"
           },
           "x": 1,
           "xpad": 40
          },
          "colorscale": [
           [
            0,
            "rgb(247,251,255)"
           ],
           [
            0.125,
            "rgb(222,235,247)"
           ],
           [
            0.25,
            "rgb(198,219,239)"
           ],
           [
            0.375,
            "rgb(158,202,225)"
           ],
           [
            0.5,
            "rgb(107,174,214)"
           ],
           [
            0.625,
            "rgb(66,146,198)"
           ],
           [
            0.75,
            "rgb(33,113,181)"
           ],
           [
            0.875,
            "rgb(8,81,156)"
           ],
           [
            1,
            "rgb(8,48,107)"
           ]
          ],
          "line": {
           "color": "Grey",
           "width": 0.5
          },
          "showscale": false
         },
         "mode": "markers",
         "showlegend": false,
         "type": "scatter",
         "x": [
          20.248625850287084,
          0.2223840641433471,
          2.749656236916535,
          17.825047654589575,
          3.956419348213724,
          97.06927135296716,
          6.966744563854174,
          4.612681086452187,
          3.309047472086247,
          0.8249874924637818,
          53.134316120531544,
          61.72253595199875,
          21.600019223998377,
          17.48265086862227,
          23.911106801788097,
          11.357132700453123,
          1.3649339608272046,
          1.0815970312535805,
          0.10196528651842948,
          1.0247204707195554,
          0.4533539692733736,
          0.4019416690133097,
          0.4131618018096192,
          0.3908963705586139,
          0.3631523744288472,
          0.14437981443920067,
          0.10377317015234704,
          0.11124162336271096,
          0.1063713850293904,
          0.17479711540589088,
          0.1857265560523445,
          0.1639469705218204,
          0.20386252123935245,
          0.27730275073173877,
          0.2087226876425404,
          0.7216516939120482,
          0.2449181893170085,
          2.146448953323162,
          0.15087271122501583,
          0.566461624161835,
          0.25310821069225636,
          0.15218189809875166,
          0.1454399084979379,
          0.2755591424503138,
          0.18236644601977284,
          0.19913983649999903,
          0.29733157264357374,
          0.576305197261205,
          0.125035476316805,
          0.19637229139468831,
          0.3233523741396601,
          0.12833333162346325,
          0.1978606154243248,
          0.20818840280029638,
          1.6229797034893978,
          2.0980804795853643,
          0.5643602231726468,
          6.102340378052804,
          12.444220026345148,
          0.4950581418992044,
          0.8025143289387182,
          1.3411539320107473,
          1.130440831363899,
          1.6301998316028306,
          2.2128127369038006,
          1.665417157150863,
          3.5556072346481233,
          0.7209575010248003,
          0.7953429042575102,
          2.8995863333151406,
          0.9508721467336403,
          1.323909580503529,
          1.5930026301937201,
          1.516542268471597,
          1.6534289326654033,
          1.8482749281503597,
          4.225333587590687,
          2.4618292071963457,
          2.5587377191388048,
          5.6310167222331335,
          2.5864528881995823,
          1.386530336639247,
          1.1063376490739907,
          1.7939892534164674,
          3.400092672300886,
          8.40541439950129,
          3.3112046597662017,
          1.142132450440736,
          0.4789274191557299,
          2.295318938252388,
          4.317523892877424,
          0.9468737998342425,
          1.9325648067508663,
          3.199429464180098,
          4.8961599327176994,
          31.574584555036108,
          70.82617436836976,
          20.833878811400286,
          33.373988795366564,
          32.00946760866169,
          31.675511279644283,
          41.077601722408644,
          22.058534884688616,
          18.471294384608857,
          11.912302169088468,
          14.459605202454199,
          20.22122449400383,
          26.9081426241606,
          17.189538904836656,
          8.826373691657084,
          24.251426786361485,
          16.583605969745626,
          40.11505748239464,
          20.09511316960388,
          20.91436785044235,
          48.77244659695611,
          28.549624264309607,
          12.253533220509373,
          38.15087960634576,
          21.162195564569927,
          22.38825201983302,
          14.484248958073634,
          14.799501925843904,
          20.102278740762692,
          9.09911978617972,
          9.695695540569062,
          20.822615933417346,
          14.947833657833417,
          25.184277663229114,
          29.1476980871285,
          29.531590877933947,
          31.15941049177962,
          34.423408118419644,
          50.966879285475414,
          65.37398258883164,
          50.05669650647852,
          20.01534459805672,
          36.27215154061163,
          44.59257891118123,
          85.55678900038365,
          94.56974596345928,
          59.344891042142095,
          79.37110589773789,
          90.4244387462013,
          86.35340286613668
         ],
         "xaxis": "x11",
         "y": [
          0.7673510365180414,
          0.7276432144757129,
          0.7262375924405623,
          0.8056343055125654,
          0.7911816984544554,
          0.7051130826223873,
          0.7823086845913428,
          0.6623510420555276,
          0.7919246648701979,
          0.741895123747393,
          0.7961549621240414,
          0.7961549621240414,
          0.800803834815636,
          0.7186022898693036,
          0.7189246899721035,
          0.8033778563381255,
          0.8091861050604212,
          0.7860702263020467,
          0.804858027982464,
          0.7904840111657614,
          0.8094358350910068,
          0.8098390526115063,
          0.8090114619186124,
          0.8111023704074058,
          0.8121521806870876,
          0.8128791572416958,
          0.8124874108269882,
          0.8130849584714895,
          0.8091443154128628,
          0.8053156025460817,
          0.8135475157178522,
          0.8132613004921251,
          0.813130148945575,
          0.8112857159467297,
          0.7947414171373633,
          0.8125648535428207,
          0.8116216603146911,
          0.7765803805452529,
          0.8110396165507502,
          0.7047588481961119,
          0.7925819619308521,
          0.812294508592412,
          0.8091725483192416,
          0.8100232395932992,
          0.8135650163105677,
          0.7934697038618403,
          0.8124271786822215,
          0.8099053562396876,
          0.8118061088438667,
          0.8123672437343404,
          0.6980802214507825,
          0.8130164165881199,
          0.8133556756187459,
          0.8086768364340295,
          0.8136064823663105,
          0.8112470661275741,
          0.8125209193191897,
          0.8080801379695692,
          0.8058636709959125,
          0.8135166373986881,
          0.8134097405521602,
          0.8132835321809646,
          0.811567017691944,
          0.8136086734767976,
          0.8131470824505213,
          0.8130906369908486,
          0.8109270295545291,
          0.8100707805631441,
          0.8080323070521815,
          0.7988651910056929,
          0.8130955174722505,
          0.8135046156349358,
          0.8135762096440502,
          0.8134698274005747,
          0.8135118421221255,
          0.7575706917277485,
          0.8132637386207954,
          0.8135621309981651,
          0.8097936328502657,
          0.8134716661747098,
          0.7833814331593324,
          0.812771921005627,
          0.8138176007773725,
          0.8119738806465187,
          0.8136268363969892,
          0.8131288925251121,
          0.8113823176415353,
          0.779123797052712,
          0.8119030252202916,
          0.8111411181035825,
          0.8134186315197629,
          0.8120162390557774,
          0.8140221948674109,
          0.8125969534742702,
          0.8135454857755487,
          0.814172456478399,
          0.81167027298844,
          0.8141402592802156,
          0.813640730840701,
          0.8098886669368845,
          0.7084290717337487,
          0.8133282210772741,
          0.8136568757279121,
          0.813605532092162,
          0.8136097074257078,
          0.8135447807802648,
          0.7899223236077381,
          0.8042503833073257,
          0.8136036004061297,
          0.8134204710088062,
          0.8121530266587608,
          0.8097978018346432,
          0.8135339790158953,
          0.8137350511199213,
          0.8137226258036271,
          0.8084574009391197,
          0.8014375151445596,
          0.8127898853949691,
          0.7991031460640315,
          0.8137338734308922,
          0.8011490788693892,
          0.8137237186191161,
          0.8038260700346395,
          0.8138378003966211,
          0.8136511570603605,
          0.811390682271131,
          0.7667755404622092,
          0.595596038612135,
          0.808417524054325,
          0.8136436227616439,
          0.8136402883866962,
          0.8135983516685935,
          0.7703980338910383,
          0.8137075630649531,
          0.8125670431188708,
          0.7745746169218392,
          0.7699830044977006,
          0.802347041441161,
          0.813751116390782,
          0.8144132964742495,
          0.8133391315817803,
          0.8137005817607257,
          0.8142681511902282,
          0.8141954960656964,
          0.8095869972420798
         ],
         "yaxis": "y11"
        },
        {
         "marker": {
          "color": [
           0,
           1,
           2,
           3,
           4,
           5,
           6,
           7,
           8,
           9,
           10,
           11,
           12,
           13,
           14,
           15,
           16,
           17,
           18,
           19,
           20,
           21,
           22,
           23,
           24,
           25,
           26,
           27,
           28,
           29,
           30,
           31,
           32,
           33,
           34,
           35,
           36,
           37,
           38,
           39,
           40,
           41,
           42,
           43,
           44,
           45,
           46,
           47,
           48,
           49,
           50,
           51,
           52,
           53,
           54,
           55,
           56,
           57,
           58,
           59,
           60,
           61,
           62,
           63,
           64,
           65,
           66,
           67,
           68,
           69,
           70,
           71,
           72,
           73,
           74,
           75,
           76,
           77,
           78,
           79,
           80,
           81,
           82,
           83,
           84,
           85,
           86,
           87,
           88,
           89,
           90,
           91,
           92,
           93,
           94,
           95,
           96,
           97,
           98,
           99,
           100,
           101,
           102,
           103,
           104,
           105,
           106,
           107,
           108,
           109,
           110,
           111,
           112,
           113,
           114,
           115,
           116,
           117,
           118,
           119,
           120,
           121,
           122,
           123,
           124,
           125,
           126,
           127,
           128,
           129,
           130,
           131,
           132,
           133,
           134,
           135,
           136,
           137,
           138,
           139,
           140,
           141,
           142,
           143,
           144
          ],
          "colorbar": {
           "title": {
            "text": "#Trials"
           },
           "x": 1,
           "xpad": 40
          },
          "colorscale": [
           [
            0,
            "rgb(247,251,255)"
           ],
           [
            0.125,
            "rgb(222,235,247)"
           ],
           [
            0.25,
            "rgb(198,219,239)"
           ],
           [
            0.375,
            "rgb(158,202,225)"
           ],
           [
            0.5,
            "rgb(107,174,214)"
           ],
           [
            0.625,
            "rgb(66,146,198)"
           ],
           [
            0.75,
            "rgb(33,113,181)"
           ],
           [
            0.875,
            "rgb(8,81,156)"
           ],
           [
            1,
            "rgb(8,48,107)"
           ]
          ],
          "line": {
           "color": "Grey",
           "width": 0.5
          },
          "showscale": false
         },
         "mode": "markers",
         "showlegend": false,
         "type": "scatter",
         "x": [
          3.604256929806227,
          4.911012683746909,
          7.430817852547188,
          21.89867260943545,
          45.00271700345013,
          2.749696281626448,
          1.3505775504900244,
          0.3097750334831438,
          0.613929274449566,
          0.5896691248770605,
          94.99561308769171,
          72.10840463209955,
          21.476392441331132,
          19.30491390016257,
          17.44078868891814,
          18.167757540921052,
          7.648526516735626,
          9.800031891566853,
          39.951846983244685,
          1.3661250886320206,
          0.13862594475666934,
          0.11612430566735722,
          0.11017084966623686,
          0.16887325889988505,
          0.10988357618078116,
          0.21998107079855125,
          0.2681338914179325,
          0.2821755588868324,
          0.29295537463467736,
          0.2657322117505907,
          0.540899507198121,
          0.5488608997257647,
          0.6789138483710414,
          0.5170256633098339,
          1.042640180854397,
          3.043878913390772,
          0.7821967655221078,
          1.9370863250907804,
          0.3788559511072662,
          0.4293271131647964,
          0.7781496987898597,
          0.20111338817686047,
          0.18395889196435622,
          0.9068092257535257,
          0.39431022456776177,
          1.3461013581216783,
          0.3820481948701557,
          4.058841111251535,
          1.9975757332417323,
          0.5750641028647736,
          0.47146217851414723,
          0.20345518190286055,
          0.33080146130559734,
          0.6384373139049626,
          1.228574872291348,
          1.7324039355220706,
          1.0658067985198612,
          0.7299276333653771,
          0.3434701259455807,
          2.496795743588436,
          6.3618704799932235,
          12.065067863295594,
          5.905276230259246,
          13.24208293335452,
          27.96751557178717,
          10.531069896240542,
          2.4365087890557655,
          4.17698431172278,
          6.25390623428455,
          7.981139814277889,
          2.6632150085802957,
          12.958100158538684,
          15.355646841856716,
          15.478581807639483,
          30.823612851015543,
          47.824032111026646,
          23.901963851768507,
          33.660236570902406,
          36.55246640526843,
          62.44343375386033,
          30.055427465057345,
          14.199088010813414,
          20.27414443007006,
          23.954579023997383,
          19.549881776338392,
          44.74605949903476,
          16.6844047525129,
          20.039979224655863,
          62.13623297901107,
          1.440836871334254,
          35.6266131946745,
          31.631111142780167,
          92.87970908556592,
          77.13969623712377,
          8.852717268089055,
          9.296965783370265,
          92.90607846253403,
          11.720180272198938,
          11.878127004194775,
          10.98812788863332,
          9.093352579307119,
          18.658892083881238,
          23.817232979246374,
          14.016875697394113,
          14.456292062671563,
          13.651068568688057,
          24.86730601920705,
          12.219073453421322,
          7.379642817094668,
          20.930497837914103,
          17.27231772300787,
          6.992550329629751,
          5.527001958489898,
          11.365956114407126,
          10.066239384710178,
          10.42256575199613,
          8.382925169302316,
          11.72672502548519,
          4.80463117203312,
          15.671097839338788,
          9.64465454987838,
          16.765366186529857,
          16.19555230506679,
          19.511976317888422,
          22.01100163761131,
          22.086626010029445,
          17.700263279975232,
          26.590214182505317,
          20.052251338285043,
          23.06528811069028,
          43.37663819682122,
          46.023346873459495,
          40.514134895539875,
          23.880870786256402,
          26.128876054569325,
          11.89541187753797,
          22.343467684455096,
          16.623702492870077,
          10.01263970197375,
          28.530721729435296,
          27.639732804335516,
          21.898673817387174,
          52.52804917773494,
          54.19000324423813,
          50.78713039177601
         ],
         "xaxis": "x12",
         "y": [
          0.7673510365180414,
          0.7276432144757129,
          0.7262375924405623,
          0.8056343055125654,
          0.7911816984544554,
          0.7051130826223873,
          0.7823086845913428,
          0.6623510420555276,
          0.7919246648701979,
          0.741895123747393,
          0.7961549621240414,
          0.7961549621240414,
          0.800803834815636,
          0.7186022898693036,
          0.7189246899721035,
          0.8033778563381255,
          0.8091861050604212,
          0.7860702263020467,
          0.804858027982464,
          0.7904840111657614,
          0.8094358350910068,
          0.8098390526115063,
          0.8090114619186124,
          0.8111023704074058,
          0.8121521806870876,
          0.8128791572416958,
          0.8124874108269882,
          0.8130849584714895,
          0.8091443154128628,
          0.8053156025460817,
          0.8135475157178522,
          0.8132613004921251,
          0.813130148945575,
          0.8112857159467297,
          0.7947414171373633,
          0.8125648535428207,
          0.8116216603146911,
          0.7765803805452529,
          0.8110396165507502,
          0.7047588481961119,
          0.7925819619308521,
          0.812294508592412,
          0.8091725483192416,
          0.8100232395932992,
          0.8135650163105677,
          0.7934697038618403,
          0.8124271786822215,
          0.8099053562396876,
          0.8118061088438667,
          0.8123672437343404,
          0.6980802214507825,
          0.8130164165881199,
          0.8133556756187459,
          0.8086768364340295,
          0.8136064823663105,
          0.8112470661275741,
          0.8125209193191897,
          0.8080801379695692,
          0.8058636709959125,
          0.8135166373986881,
          0.8134097405521602,
          0.8132835321809646,
          0.811567017691944,
          0.8136086734767976,
          0.8131470824505213,
          0.8130906369908486,
          0.8109270295545291,
          0.8100707805631441,
          0.8080323070521815,
          0.7988651910056929,
          0.8130955174722505,
          0.8135046156349358,
          0.8135762096440502,
          0.8134698274005747,
          0.8135118421221255,
          0.7575706917277485,
          0.8132637386207954,
          0.8135621309981651,
          0.8097936328502657,
          0.8134716661747098,
          0.7833814331593324,
          0.812771921005627,
          0.8138176007773725,
          0.8119738806465187,
          0.8136268363969892,
          0.8131288925251121,
          0.8113823176415353,
          0.779123797052712,
          0.8119030252202916,
          0.8111411181035825,
          0.8134186315197629,
          0.8120162390557774,
          0.8140221948674109,
          0.8125969534742702,
          0.8135454857755487,
          0.814172456478399,
          0.81167027298844,
          0.8141402592802156,
          0.813640730840701,
          0.8098886669368845,
          0.7084290717337487,
          0.8133282210772741,
          0.8136568757279121,
          0.813605532092162,
          0.8136097074257078,
          0.8135447807802648,
          0.7899223236077381,
          0.8042503833073257,
          0.8136036004061297,
          0.8134204710088062,
          0.8121530266587608,
          0.8097978018346432,
          0.8135339790158953,
          0.8137350511199213,
          0.8137226258036271,
          0.8084574009391197,
          0.8014375151445596,
          0.8127898853949691,
          0.7991031460640315,
          0.8137338734308922,
          0.8011490788693892,
          0.8137237186191161,
          0.8038260700346395,
          0.8138378003966211,
          0.8136511570603605,
          0.811390682271131,
          0.7667755404622092,
          0.595596038612135,
          0.808417524054325,
          0.8136436227616439,
          0.8136402883866962,
          0.8135983516685935,
          0.7703980338910383,
          0.8137075630649531,
          0.8125670431188708,
          0.7745746169218392,
          0.7699830044977006,
          0.802347041441161,
          0.813751116390782,
          0.8144132964742495,
          0.8133391315817803,
          0.8137005817607257,
          0.8142681511902282,
          0.8141954960656964,
          0.8095869972420798
         ],
         "yaxis": "y12"
        }
       ],
       "layout": {
        "template": {
         "data": {
          "bar": [
           {
            "error_x": {
             "color": "#2a3f5f"
            },
            "error_y": {
             "color": "#2a3f5f"
            },
            "marker": {
             "line": {
              "color": "#E5ECF6",
              "width": 0.5
             },
             "pattern": {
              "fillmode": "overlay",
              "size": 10,
              "solidity": 0.2
             }
            },
            "type": "bar"
           }
          ],
          "barpolar": [
           {
            "marker": {
             "line": {
              "color": "#E5ECF6",
              "width": 0.5
             },
             "pattern": {
              "fillmode": "overlay",
              "size": 10,
              "solidity": 0.2
             }
            },
            "type": "barpolar"
           }
          ],
          "carpet": [
           {
            "aaxis": {
             "endlinecolor": "#2a3f5f",
             "gridcolor": "white",
             "linecolor": "white",
             "minorgridcolor": "white",
             "startlinecolor": "#2a3f5f"
            },
            "baxis": {
             "endlinecolor": "#2a3f5f",
             "gridcolor": "white",
             "linecolor": "white",
             "minorgridcolor": "white",
             "startlinecolor": "#2a3f5f"
            },
            "type": "carpet"
           }
          ],
          "choropleth": [
           {
            "colorbar": {
             "outlinewidth": 0,
             "ticks": ""
            },
            "type": "choropleth"
           }
          ],
          "contour": [
           {
            "colorbar": {
             "outlinewidth": 0,
             "ticks": ""
            },
            "colorscale": [
             [
              0,
              "#0d0887"
             ],
             [
              0.1111111111111111,
              "#46039f"
             ],
             [
              0.2222222222222222,
              "#7201a8"
             ],
             [
              0.3333333333333333,
              "#9c179e"
             ],
             [
              0.4444444444444444,
              "#bd3786"
             ],
             [
              0.5555555555555556,
              "#d8576b"
             ],
             [
              0.6666666666666666,
              "#ed7953"
             ],
             [
              0.7777777777777778,
              "#fb9f3a"
             ],
             [
              0.8888888888888888,
              "#fdca26"
             ],
             [
              1,
              "#f0f921"
             ]
            ],
            "type": "contour"
           }
          ],
          "contourcarpet": [
           {
            "colorbar": {
             "outlinewidth": 0,
             "ticks": ""
            },
            "type": "contourcarpet"
           }
          ],
          "heatmap": [
           {
            "colorbar": {
             "outlinewidth": 0,
             "ticks": ""
            },
            "colorscale": [
             [
              0,
              "#0d0887"
             ],
             [
              0.1111111111111111,
              "#46039f"
             ],
             [
              0.2222222222222222,
              "#7201a8"
             ],
             [
              0.3333333333333333,
              "#9c179e"
             ],
             [
              0.4444444444444444,
              "#bd3786"
             ],
             [
              0.5555555555555556,
              "#d8576b"
             ],
             [
              0.6666666666666666,
              "#ed7953"
             ],
             [
              0.7777777777777778,
              "#fb9f3a"
             ],
             [
              0.8888888888888888,
              "#fdca26"
             ],
             [
              1,
              "#f0f921"
             ]
            ],
            "type": "heatmap"
           }
          ],
          "heatmapgl": [
           {
            "colorbar": {
             "outlinewidth": 0,
             "ticks": ""
            },
            "colorscale": [
             [
              0,
              "#0d0887"
             ],
             [
              0.1111111111111111,
              "#46039f"
             ],
             [
              0.2222222222222222,
              "#7201a8"
             ],
             [
              0.3333333333333333,
              "#9c179e"
             ],
             [
              0.4444444444444444,
              "#bd3786"
             ],
             [
              0.5555555555555556,
              "#d8576b"
             ],
             [
              0.6666666666666666,
              "#ed7953"
             ],
             [
              0.7777777777777778,
              "#fb9f3a"
             ],
             [
              0.8888888888888888,
              "#fdca26"
             ],
             [
              1,
              "#f0f921"
             ]
            ],
            "type": "heatmapgl"
           }
          ],
          "histogram": [
           {
            "marker": {
             "pattern": {
              "fillmode": "overlay",
              "size": 10,
              "solidity": 0.2
             }
            },
            "type": "histogram"
           }
          ],
          "histogram2d": [
           {
            "colorbar": {
             "outlinewidth": 0,
             "ticks": ""
            },
            "colorscale": [
             [
              0,
              "#0d0887"
             ],
             [
              0.1111111111111111,
              "#46039f"
             ],
             [
              0.2222222222222222,
              "#7201a8"
             ],
             [
              0.3333333333333333,
              "#9c179e"
             ],
             [
              0.4444444444444444,
              "#bd3786"
             ],
             [
              0.5555555555555556,
              "#d8576b"
             ],
             [
              0.6666666666666666,
              "#ed7953"
             ],
             [
              0.7777777777777778,
              "#fb9f3a"
             ],
             [
              0.8888888888888888,
              "#fdca26"
             ],
             [
              1,
              "#f0f921"
             ]
            ],
            "type": "histogram2d"
           }
          ],
          "histogram2dcontour": [
           {
            "colorbar": {
             "outlinewidth": 0,
             "ticks": ""
            },
            "colorscale": [
             [
              0,
              "#0d0887"
             ],
             [
              0.1111111111111111,
              "#46039f"
             ],
             [
              0.2222222222222222,
              "#7201a8"
             ],
             [
              0.3333333333333333,
              "#9c179e"
             ],
             [
              0.4444444444444444,
              "#bd3786"
             ],
             [
              0.5555555555555556,
              "#d8576b"
             ],
             [
              0.6666666666666666,
              "#ed7953"
             ],
             [
              0.7777777777777778,
              "#fb9f3a"
             ],
             [
              0.8888888888888888,
              "#fdca26"
             ],
             [
              1,
              "#f0f921"
             ]
            ],
            "type": "histogram2dcontour"
           }
          ],
          "mesh3d": [
           {
            "colorbar": {
             "outlinewidth": 0,
             "ticks": ""
            },
            "type": "mesh3d"
           }
          ],
          "parcoords": [
           {
            "line": {
             "colorbar": {
              "outlinewidth": 0,
              "ticks": ""
             }
            },
            "type": "parcoords"
           }
          ],
          "pie": [
           {
            "automargin": true,
            "type": "pie"
           }
          ],
          "scatter": [
           {
            "marker": {
             "colorbar": {
              "outlinewidth": 0,
              "ticks": ""
             }
            },
            "type": "scatter"
           }
          ],
          "scatter3d": [
           {
            "line": {
             "colorbar": {
              "outlinewidth": 0,
              "ticks": ""
             }
            },
            "marker": {
             "colorbar": {
              "outlinewidth": 0,
              "ticks": ""
             }
            },
            "type": "scatter3d"
           }
          ],
          "scattercarpet": [
           {
            "marker": {
             "colorbar": {
              "outlinewidth": 0,
              "ticks": ""
             }
            },
            "type": "scattercarpet"
           }
          ],
          "scattergeo": [
           {
            "marker": {
             "colorbar": {
              "outlinewidth": 0,
              "ticks": ""
             }
            },
            "type": "scattergeo"
           }
          ],
          "scattergl": [
           {
            "marker": {
             "colorbar": {
              "outlinewidth": 0,
              "ticks": ""
             }
            },
            "type": "scattergl"
           }
          ],
          "scattermapbox": [
           {
            "marker": {
             "colorbar": {
              "outlinewidth": 0,
              "ticks": ""
             }
            },
            "type": "scattermapbox"
           }
          ],
          "scatterpolar": [
           {
            "marker": {
             "colorbar": {
              "outlinewidth": 0,
              "ticks": ""
             }
            },
            "type": "scatterpolar"
           }
          ],
          "scatterpolargl": [
           {
            "marker": {
             "colorbar": {
              "outlinewidth": 0,
              "ticks": ""
             }
            },
            "type": "scatterpolargl"
           }
          ],
          "scatterternary": [
           {
            "marker": {
             "colorbar": {
              "outlinewidth": 0,
              "ticks": ""
             }
            },
            "type": "scatterternary"
           }
          ],
          "surface": [
           {
            "colorbar": {
             "outlinewidth": 0,
             "ticks": ""
            },
            "colorscale": [
             [
              0,
              "#0d0887"
             ],
             [
              0.1111111111111111,
              "#46039f"
             ],
             [
              0.2222222222222222,
              "#7201a8"
             ],
             [
              0.3333333333333333,
              "#9c179e"
             ],
             [
              0.4444444444444444,
              "#bd3786"
             ],
             [
              0.5555555555555556,
              "#d8576b"
             ],
             [
              0.6666666666666666,
              "#ed7953"
             ],
             [
              0.7777777777777778,
              "#fb9f3a"
             ],
             [
              0.8888888888888888,
              "#fdca26"
             ],
             [
              1,
              "#f0f921"
             ]
            ],
            "type": "surface"
           }
          ],
          "table": [
           {
            "cells": {
             "fill": {
              "color": "#EBF0F8"
             },
             "line": {
              "color": "white"
             }
            },
            "header": {
             "fill": {
              "color": "#C8D4E3"
             },
             "line": {
              "color": "white"
             }
            },
            "type": "table"
           }
          ]
         },
         "layout": {
          "annotationdefaults": {
           "arrowcolor": "#2a3f5f",
           "arrowhead": 0,
           "arrowwidth": 1
          },
          "autotypenumbers": "strict",
          "coloraxis": {
           "colorbar": {
            "outlinewidth": 0,
            "ticks": ""
           }
          },
          "colorscale": {
           "diverging": [
            [
             0,
             "#8e0152"
            ],
            [
             0.1,
             "#c51b7d"
            ],
            [
             0.2,
             "#de77ae"
            ],
            [
             0.3,
             "#f1b6da"
            ],
            [
             0.4,
             "#fde0ef"
            ],
            [
             0.5,
             "#f7f7f7"
            ],
            [
             0.6,
             "#e6f5d0"
            ],
            [
             0.7,
             "#b8e186"
            ],
            [
             0.8,
             "#7fbc41"
            ],
            [
             0.9,
             "#4d9221"
            ],
            [
             1,
             "#276419"
            ]
           ],
           "sequential": [
            [
             0,
             "#0d0887"
            ],
            [
             0.1111111111111111,
             "#46039f"
            ],
            [
             0.2222222222222222,
             "#7201a8"
            ],
            [
             0.3333333333333333,
             "#9c179e"
            ],
            [
             0.4444444444444444,
             "#bd3786"
            ],
            [
             0.5555555555555556,
             "#d8576b"
            ],
            [
             0.6666666666666666,
             "#ed7953"
            ],
            [
             0.7777777777777778,
             "#fb9f3a"
            ],
            [
             0.8888888888888888,
             "#fdca26"
            ],
            [
             1,
             "#f0f921"
            ]
           ],
           "sequentialminus": [
            [
             0,
             "#0d0887"
            ],
            [
             0.1111111111111111,
             "#46039f"
            ],
            [
             0.2222222222222222,
             "#7201a8"
            ],
            [
             0.3333333333333333,
             "#9c179e"
            ],
            [
             0.4444444444444444,
             "#bd3786"
            ],
            [
             0.5555555555555556,
             "#d8576b"
            ],
            [
             0.6666666666666666,
             "#ed7953"
            ],
            [
             0.7777777777777778,
             "#fb9f3a"
            ],
            [
             0.8888888888888888,
             "#fdca26"
            ],
            [
             1,
             "#f0f921"
            ]
           ]
          },
          "colorway": [
           "#636efa",
           "#EF553B",
           "#00cc96",
           "#ab63fa",
           "#FFA15A",
           "#19d3f3",
           "#FF6692",
           "#B6E880",
           "#FF97FF",
           "#FECB52"
          ],
          "font": {
           "color": "#2a3f5f"
          },
          "geo": {
           "bgcolor": "white",
           "lakecolor": "white",
           "landcolor": "#E5ECF6",
           "showlakes": true,
           "showland": true,
           "subunitcolor": "white"
          },
          "hoverlabel": {
           "align": "left"
          },
          "hovermode": "closest",
          "mapbox": {
           "style": "light"
          },
          "paper_bgcolor": "white",
          "plot_bgcolor": "#E5ECF6",
          "polar": {
           "angularaxis": {
            "gridcolor": "white",
            "linecolor": "white",
            "ticks": ""
           },
           "bgcolor": "#E5ECF6",
           "radialaxis": {
            "gridcolor": "white",
            "linecolor": "white",
            "ticks": ""
           }
          },
          "scene": {
           "xaxis": {
            "backgroundcolor": "#E5ECF6",
            "gridcolor": "white",
            "gridwidth": 2,
            "linecolor": "white",
            "showbackground": true,
            "ticks": "",
            "zerolinecolor": "white"
           },
           "yaxis": {
            "backgroundcolor": "#E5ECF6",
            "gridcolor": "white",
            "gridwidth": 2,
            "linecolor": "white",
            "showbackground": true,
            "ticks": "",
            "zerolinecolor": "white"
           },
           "zaxis": {
            "backgroundcolor": "#E5ECF6",
            "gridcolor": "white",
            "gridwidth": 2,
            "linecolor": "white",
            "showbackground": true,
            "ticks": "",
            "zerolinecolor": "white"
           }
          },
          "shapedefaults": {
           "line": {
            "color": "#2a3f5f"
           }
          },
          "ternary": {
           "aaxis": {
            "gridcolor": "white",
            "linecolor": "white",
            "ticks": ""
           },
           "baxis": {
            "gridcolor": "white",
            "linecolor": "white",
            "ticks": ""
           },
           "bgcolor": "#E5ECF6",
           "caxis": {
            "gridcolor": "white",
            "linecolor": "white",
            "ticks": ""
           }
          },
          "title": {
           "x": 0.05
          },
          "xaxis": {
           "automargin": true,
           "gridcolor": "white",
           "linecolor": "white",
           "ticks": "",
           "title": {
            "standoff": 15
           },
           "zerolinecolor": "white",
           "zerolinewidth": 2
          },
          "yaxis": {
           "automargin": true,
           "gridcolor": "white",
           "linecolor": "white",
           "ticks": "",
           "title": {
            "standoff": 15
           },
           "zerolinecolor": "white",
           "zerolinewidth": 2
          }
         }
        },
        "title": {
         "text": "Slice Plot"
        },
        "width": 3600,
        "xaxis": {
         "anchor": "y",
         "domain": [
          0,
          0.06805555555555555
         ],
         "title": {
          "text": "attr_adder__add_abs_sum"
         }
        },
        "xaxis10": {
         "anchor": "y10",
         "domain": [
          0.7625,
          0.8305555555555555
         ],
         "title": {
          "text": "lgbm__num_leaves"
         }
        },
        "xaxis11": {
         "anchor": "y11",
         "domain": [
          0.8472222222222221,
          0.9152777777777776
         ],
         "title": {
          "text": "lgbm__reg_alpha"
         },
         "type": "log"
        },
        "xaxis12": {
         "anchor": "y12",
         "domain": [
          0.9319444444444444,
          0.9999999999999999
         ],
         "title": {
          "text": "lgbm__reg_lambda"
         },
         "type": "log"
        },
        "xaxis2": {
         "anchor": "y2",
         "domain": [
          0.08472222222222221,
          0.15277777777777776
         ],
         "title": {
          "text": "attr_adder__add_num_nan"
         }
        },
        "xaxis3": {
         "anchor": "y3",
         "domain": [
          0.16944444444444443,
          0.2375
         ],
         "title": {
          "text": "attr_adder__add_sem"
         }
        },
        "xaxis4": {
         "anchor": "y4",
         "domain": [
          0.25416666666666665,
          0.3222222222222222
         ],
         "title": {
          "text": "attr_adder__add_sum"
         }
        },
        "xaxis5": {
         "anchor": "y5",
         "domain": [
          0.33888888888888885,
          0.4069444444444444
         ],
         "title": {
          "text": "imputer__strategy"
         }
        },
        "xaxis6": {
         "anchor": "y6",
         "domain": [
          0.42361111111111105,
          0.4916666666666666
         ],
         "title": {
          "text": "lgbm__boosting_type"
         }
        },
        "xaxis7": {
         "anchor": "y7",
         "domain": [
          0.5083333333333333,
          0.5763888888888888
         ],
         "title": {
          "text": "lgbm__learning_rate"
         }
        },
        "xaxis8": {
         "anchor": "y8",
         "domain": [
          0.5930555555555554,
          0.661111111111111
         ],
         "title": {
          "text": "lgbm__max_depth"
         }
        },
        "xaxis9": {
         "anchor": "y9",
         "domain": [
          0.6777777777777777,
          0.7458333333333332
         ],
         "title": {
          "text": "lgbm__n_estimators"
         }
        },
        "yaxis": {
         "anchor": "x",
         "domain": [
          0,
          1
         ],
         "title": {
          "text": "Objective Value"
         }
        },
        "yaxis10": {
         "anchor": "x10",
         "domain": [
          0,
          1
         ],
         "matches": "y",
         "showticklabels": false
        },
        "yaxis11": {
         "anchor": "x11",
         "domain": [
          0,
          1
         ],
         "matches": "y",
         "showticklabels": false
        },
        "yaxis12": {
         "anchor": "x12",
         "domain": [
          0,
          1
         ],
         "matches": "y",
         "showticklabels": false
        },
        "yaxis2": {
         "anchor": "x2",
         "domain": [
          0,
          1
         ],
         "matches": "y",
         "showticklabels": false
        },
        "yaxis3": {
         "anchor": "x3",
         "domain": [
          0,
          1
         ],
         "matches": "y",
         "showticklabels": false
        },
        "yaxis4": {
         "anchor": "x4",
         "domain": [
          0,
          1
         ],
         "matches": "y",
         "showticklabels": false
        },
        "yaxis5": {
         "anchor": "x5",
         "domain": [
          0,
          1
         ],
         "matches": "y",
         "showticklabels": false
        },
        "yaxis6": {
         "anchor": "x6",
         "domain": [
          0,
          1
         ],
         "matches": "y",
         "showticklabels": false
        },
        "yaxis7": {
         "anchor": "x7",
         "domain": [
          0,
          1
         ],
         "matches": "y",
         "showticklabels": false
        },
        "yaxis8": {
         "anchor": "x8",
         "domain": [
          0,
          1
         ],
         "matches": "y",
         "showticklabels": false
        },
        "yaxis9": {
         "anchor": "x9",
         "domain": [
          0,
          1
         ],
         "matches": "y",
         "showticklabels": false
        }
       }
      }
     },
     "metadata": {}
    }
   ],
   "metadata": {}
  },
  {
   "cell_type": "markdown",
   "source": [
    "Or you can look at hyperparameters individually."
   ],
   "metadata": {}
  },
  {
   "cell_type": "code",
   "execution_count": 10,
   "source": [
    "optuna.visualization.plot_slice(study, ['lgbm__learning_rate'])"
   ],
   "outputs": [
    {
     "output_type": "display_data",
     "data": {
      "application/vnd.plotly.v1+json": {
       "config": {
        "plotlyServerURL": "https://plot.ly"
       },
       "data": [
        {
         "marker": {
          "color": [
           0,
           1,
           2,
           3,
           4,
           5,
           6,
           7,
           8,
           9,
           10,
           11,
           12,
           13,
           14,
           15,
           16,
           17,
           18,
           19,
           20,
           21,
           22,
           23,
           24,
           25,
           26,
           27,
           28,
           29,
           30,
           31,
           32,
           33,
           34,
           35,
           36,
           37,
           38,
           39,
           40,
           41,
           42,
           43,
           44,
           45,
           46,
           47,
           48,
           49,
           50,
           51,
           52,
           53,
           54,
           55,
           56,
           57,
           58,
           59,
           60,
           61,
           62,
           63,
           64,
           65,
           66,
           67,
           68,
           69,
           70,
           71,
           72,
           73,
           74,
           75,
           76,
           77,
           78,
           79,
           80,
           81,
           82,
           83,
           84,
           85,
           86,
           87,
           88,
           89,
           90,
           91,
           92,
           93,
           94,
           95,
           96,
           97,
           98,
           99,
           100,
           101,
           102,
           103,
           104,
           105,
           106,
           107,
           108,
           109,
           110,
           111,
           112,
           113,
           114,
           115,
           116,
           117,
           118,
           119,
           120,
           121,
           122,
           123,
           124,
           125,
           126,
           127,
           128,
           129,
           130,
           131,
           132,
           133,
           134,
           135,
           136,
           137,
           138,
           139,
           140,
           141,
           142,
           143,
           144
          ],
          "colorbar": {
           "title": {
            "text": "#Trials"
           },
           "x": 1,
           "xpad": 40
          },
          "colorscale": [
           [
            0,
            "rgb(247,251,255)"
           ],
           [
            0.125,
            "rgb(222,235,247)"
           ],
           [
            0.25,
            "rgb(198,219,239)"
           ],
           [
            0.375,
            "rgb(158,202,225)"
           ],
           [
            0.5,
            "rgb(107,174,214)"
           ],
           [
            0.625,
            "rgb(66,146,198)"
           ],
           [
            0.75,
            "rgb(33,113,181)"
           ],
           [
            0.875,
            "rgb(8,81,156)"
           ],
           [
            1,
            "rgb(8,48,107)"
           ]
          ],
          "line": {
           "color": "Grey",
           "width": 0.5
          }
         },
         "mode": "markers",
         "showlegend": false,
         "type": "scatter",
         "x": [
          0.5380267755835213,
          0.4845814080886115,
          0.8509495279169017,
          0.8812249187288045,
          0.6403423918708918,
          0.5039944976154377,
          0.8948501226812009,
          0.2555745016286542,
          0.4521228269547619,
          0.3081977573636695,
          0.04685379284201513,
          0.05419861727859543,
          0.02617869704733936,
          0.7348710751288283,
          0.9686329679316699,
          0.18683257839406414,
          0.18292171910264343,
          0.7867829237833903,
          0.3643549410677219,
          0.6570397219064138,
          0.18530103684628177,
          0.15374524046647942,
          0.17887326329570016,
          0.14831374924531313,
          0.12339256218413341,
          0.09378573281147412,
          0.11141799685987772,
          0.09542946407352634,
          0.27319263636243485,
          0.38984831451046287,
          0.11463432289749975,
          0.09087650691546345,
          0.07765449807240173,
          0.02176897379690343,
          0.2513893877996277,
          0.09651610551159708,
          0.313606457556422,
          0.21854475556126934,
          0.0733828582271801,
          0.013664374380923675,
          0.5640397562414403,
          0.10254977844632206,
          0.23383717186462671,
          0.06216390614485022,
          0.12545592859911264,
          0.3028862413900848,
          0.1359347016259771,
          0.45296123686296563,
          0.21153732542874554,
          0.058434236588049485,
          0.33969098404360587,
          0.08229160870111851,
          0.053476999190696504,
          0.013173959599376707,
          0.14938096583920565,
          0.15415891257229278,
          0.04779846094403191,
          0.19507180387575246,
          0.13945185343370303,
          0.166935995680487,
          0.16869821444744562,
          0.16449756027518944,
          0.27321441471648333,
          0.1636986166387343,
          0.2278361827518393,
          0.1305315184415223,
          0.1806348324482034,
          0.4113737160220394,
          0.27469374464519225,
          0.5677468926983331,
          0.9756965925994805,
          0.16982791194951535,
          0.11604265826377487,
          0.2017795018135132,
          0.11752214564290676,
          0.11272960243670013,
          0.12853311478980262,
          0.24003875822365484,
          0.2451586598342046,
          0.11251169528784616,
          0.6994991635346829,
          0.15699198183703333,
          0.20742584179301313,
          0.19851722977497238,
          0.3034561224776356,
          0.29287561936813755,
          0.3387858781010621,
          0.25802929539290276,
          0.22256040798788043,
          0.3347088353771965,
          0.040099414056907895,
          0.0797955040759906,
          0.1410109068211029,
          0.1496938970931631,
          0.20864279244718478,
          0.21209934144861917,
          0.2394122338735972,
          0.18508183273788875,
          0.8140225181389507,
          0.8247674581956237,
          0.7682828755809701,
          0.18764568037614174,
          0.8756881825512292,
          0.9058389666446754,
          0.920264201567267,
          0.9434950395506081,
          0.8912455282403843,
          0.9330692795629151,
          0.8592727237204285,
          0.9954319862535673,
          0.9104932409490911,
          0.8601605852390538,
          0.8115197438790858,
          0.8594321344969966,
          0.9228374544351203,
          0.9294472302693038,
          0.8322803521561889,
          0.7878886526718063,
          0.8655723168566081,
          0.8758635076909104,
          0.8784751928360428,
          0.958155343798178,
          0.960153528307655,
          0.9145639321667289,
          0.9548614509062268,
          0.9576468510600051,
          0.9850628306044599,
          0.894689305717353,
          0.8452816584675781,
          0.9512058743950472,
          0.9537619831014003,
          0.9708927014859712,
          0.9438027661764427,
          0.9982121425935266,
          0.994095074622367,
          0.8725260677571596,
          0.9096301634433144,
          0.8881539540138038,
          0.6195858056718595,
          0.47451434325137315,
          0.5224848417239143,
          0.6515393537629705,
          0.635213388075212,
          0.6238810820167752,
          0.6339334289429382
         ],
         "y": [
          0.7673510365180414,
          0.7276432144757129,
          0.7262375924405623,
          0.8056343055125654,
          0.7911816984544554,
          0.7051130826223873,
          0.7823086845913428,
          0.6623510420555276,
          0.7919246648701979,
          0.741895123747393,
          0.7961549621240414,
          0.7961549621240414,
          0.800803834815636,
          0.7186022898693036,
          0.7189246899721035,
          0.8033778563381255,
          0.8091861050604212,
          0.7860702263020467,
          0.804858027982464,
          0.7904840111657614,
          0.8094358350910068,
          0.8098390526115063,
          0.8090114619186124,
          0.8111023704074058,
          0.8121521806870876,
          0.8128791572416958,
          0.8124874108269882,
          0.8130849584714895,
          0.8091443154128628,
          0.8053156025460817,
          0.8135475157178522,
          0.8132613004921251,
          0.813130148945575,
          0.8112857159467297,
          0.7947414171373633,
          0.8125648535428207,
          0.8116216603146911,
          0.7765803805452529,
          0.8110396165507502,
          0.7047588481961119,
          0.7925819619308521,
          0.812294508592412,
          0.8091725483192416,
          0.8100232395932992,
          0.8135650163105677,
          0.7934697038618403,
          0.8124271786822215,
          0.8099053562396876,
          0.8118061088438667,
          0.8123672437343404,
          0.6980802214507825,
          0.8130164165881199,
          0.8133556756187459,
          0.8086768364340295,
          0.8136064823663105,
          0.8112470661275741,
          0.8125209193191897,
          0.8080801379695692,
          0.8058636709959125,
          0.8135166373986881,
          0.8134097405521602,
          0.8132835321809646,
          0.811567017691944,
          0.8136086734767976,
          0.8131470824505213,
          0.8130906369908486,
          0.8109270295545291,
          0.8100707805631441,
          0.8080323070521815,
          0.7988651910056929,
          0.8130955174722505,
          0.8135046156349358,
          0.8135762096440502,
          0.8134698274005747,
          0.8135118421221255,
          0.7575706917277485,
          0.8132637386207954,
          0.8135621309981651,
          0.8097936328502657,
          0.8134716661747098,
          0.7833814331593324,
          0.812771921005627,
          0.8138176007773725,
          0.8119738806465187,
          0.8136268363969892,
          0.8131288925251121,
          0.8113823176415353,
          0.779123797052712,
          0.8119030252202916,
          0.8111411181035825,
          0.8134186315197629,
          0.8120162390557774,
          0.8140221948674109,
          0.8125969534742702,
          0.8135454857755487,
          0.814172456478399,
          0.81167027298844,
          0.8141402592802156,
          0.813640730840701,
          0.8098886669368845,
          0.7084290717337487,
          0.8133282210772741,
          0.8136568757279121,
          0.813605532092162,
          0.8136097074257078,
          0.8135447807802648,
          0.7899223236077381,
          0.8042503833073257,
          0.8136036004061297,
          0.8134204710088062,
          0.8121530266587608,
          0.8097978018346432,
          0.8135339790158953,
          0.8137350511199213,
          0.8137226258036271,
          0.8084574009391197,
          0.8014375151445596,
          0.8127898853949691,
          0.7991031460640315,
          0.8137338734308922,
          0.8011490788693892,
          0.8137237186191161,
          0.8038260700346395,
          0.8138378003966211,
          0.8136511570603605,
          0.811390682271131,
          0.7667755404622092,
          0.595596038612135,
          0.808417524054325,
          0.8136436227616439,
          0.8136402883866962,
          0.8135983516685935,
          0.7703980338910383,
          0.8137075630649531,
          0.8125670431188708,
          0.7745746169218392,
          0.7699830044977006,
          0.802347041441161,
          0.813751116390782,
          0.8144132964742495,
          0.8133391315817803,
          0.8137005817607257,
          0.8142681511902282,
          0.8141954960656964,
          0.8095869972420798
         ]
        }
       ],
       "layout": {
        "template": {
         "data": {
          "bar": [
           {
            "error_x": {
             "color": "#2a3f5f"
            },
            "error_y": {
             "color": "#2a3f5f"
            },
            "marker": {
             "line": {
              "color": "#E5ECF6",
              "width": 0.5
             },
             "pattern": {
              "fillmode": "overlay",
              "size": 10,
              "solidity": 0.2
             }
            },
            "type": "bar"
           }
          ],
          "barpolar": [
           {
            "marker": {
             "line": {
              "color": "#E5ECF6",
              "width": 0.5
             },
             "pattern": {
              "fillmode": "overlay",
              "size": 10,
              "solidity": 0.2
             }
            },
            "type": "barpolar"
           }
          ],
          "carpet": [
           {
            "aaxis": {
             "endlinecolor": "#2a3f5f",
             "gridcolor": "white",
             "linecolor": "white",
             "minorgridcolor": "white",
             "startlinecolor": "#2a3f5f"
            },
            "baxis": {
             "endlinecolor": "#2a3f5f",
             "gridcolor": "white",
             "linecolor": "white",
             "minorgridcolor": "white",
             "startlinecolor": "#2a3f5f"
            },
            "type": "carpet"
           }
          ],
          "choropleth": [
           {
            "colorbar": {
             "outlinewidth": 0,
             "ticks": ""
            },
            "type": "choropleth"
           }
          ],
          "contour": [
           {
            "colorbar": {
             "outlinewidth": 0,
             "ticks": ""
            },
            "colorscale": [
             [
              0,
              "#0d0887"
             ],
             [
              0.1111111111111111,
              "#46039f"
             ],
             [
              0.2222222222222222,
              "#7201a8"
             ],
             [
              0.3333333333333333,
              "#9c179e"
             ],
             [
              0.4444444444444444,
              "#bd3786"
             ],
             [
              0.5555555555555556,
              "#d8576b"
             ],
             [
              0.6666666666666666,
              "#ed7953"
             ],
             [
              0.7777777777777778,
              "#fb9f3a"
             ],
             [
              0.8888888888888888,
              "#fdca26"
             ],
             [
              1,
              "#f0f921"
             ]
            ],
            "type": "contour"
           }
          ],
          "contourcarpet": [
           {
            "colorbar": {
             "outlinewidth": 0,
             "ticks": ""
            },
            "type": "contourcarpet"
           }
          ],
          "heatmap": [
           {
            "colorbar": {
             "outlinewidth": 0,
             "ticks": ""
            },
            "colorscale": [
             [
              0,
              "#0d0887"
             ],
             [
              0.1111111111111111,
              "#46039f"
             ],
             [
              0.2222222222222222,
              "#7201a8"
             ],
             [
              0.3333333333333333,
              "#9c179e"
             ],
             [
              0.4444444444444444,
              "#bd3786"
             ],
             [
              0.5555555555555556,
              "#d8576b"
             ],
             [
              0.6666666666666666,
              "#ed7953"
             ],
             [
              0.7777777777777778,
              "#fb9f3a"
             ],
             [
              0.8888888888888888,
              "#fdca26"
             ],
             [
              1,
              "#f0f921"
             ]
            ],
            "type": "heatmap"
           }
          ],
          "heatmapgl": [
           {
            "colorbar": {
             "outlinewidth": 0,
             "ticks": ""
            },
            "colorscale": [
             [
              0,
              "#0d0887"
             ],
             [
              0.1111111111111111,
              "#46039f"
             ],
             [
              0.2222222222222222,
              "#7201a8"
             ],
             [
              0.3333333333333333,
              "#9c179e"
             ],
             [
              0.4444444444444444,
              "#bd3786"
             ],
             [
              0.5555555555555556,
              "#d8576b"
             ],
             [
              0.6666666666666666,
              "#ed7953"
             ],
             [
              0.7777777777777778,
              "#fb9f3a"
             ],
             [
              0.8888888888888888,
              "#fdca26"
             ],
             [
              1,
              "#f0f921"
             ]
            ],
            "type": "heatmapgl"
           }
          ],
          "histogram": [
           {
            "marker": {
             "pattern": {
              "fillmode": "overlay",
              "size": 10,
              "solidity": 0.2
             }
            },
            "type": "histogram"
           }
          ],
          "histogram2d": [
           {
            "colorbar": {
             "outlinewidth": 0,
             "ticks": ""
            },
            "colorscale": [
             [
              0,
              "#0d0887"
             ],
             [
              0.1111111111111111,
              "#46039f"
             ],
             [
              0.2222222222222222,
              "#7201a8"
             ],
             [
              0.3333333333333333,
              "#9c179e"
             ],
             [
              0.4444444444444444,
              "#bd3786"
             ],
             [
              0.5555555555555556,
              "#d8576b"
             ],
             [
              0.6666666666666666,
              "#ed7953"
             ],
             [
              0.7777777777777778,
              "#fb9f3a"
             ],
             [
              0.8888888888888888,
              "#fdca26"
             ],
             [
              1,
              "#f0f921"
             ]
            ],
            "type": "histogram2d"
           }
          ],
          "histogram2dcontour": [
           {
            "colorbar": {
             "outlinewidth": 0,
             "ticks": ""
            },
            "colorscale": [
             [
              0,
              "#0d0887"
             ],
             [
              0.1111111111111111,
              "#46039f"
             ],
             [
              0.2222222222222222,
              "#7201a8"
             ],
             [
              0.3333333333333333,
              "#9c179e"
             ],
             [
              0.4444444444444444,
              "#bd3786"
             ],
             [
              0.5555555555555556,
              "#d8576b"
             ],
             [
              0.6666666666666666,
              "#ed7953"
             ],
             [
              0.7777777777777778,
              "#fb9f3a"
             ],
             [
              0.8888888888888888,
              "#fdca26"
             ],
             [
              1,
              "#f0f921"
             ]
            ],
            "type": "histogram2dcontour"
           }
          ],
          "mesh3d": [
           {
            "colorbar": {
             "outlinewidth": 0,
             "ticks": ""
            },
            "type": "mesh3d"
           }
          ],
          "parcoords": [
           {
            "line": {
             "colorbar": {
              "outlinewidth": 0,
              "ticks": ""
             }
            },
            "type": "parcoords"
           }
          ],
          "pie": [
           {
            "automargin": true,
            "type": "pie"
           }
          ],
          "scatter": [
           {
            "marker": {
             "colorbar": {
              "outlinewidth": 0,
              "ticks": ""
             }
            },
            "type": "scatter"
           }
          ],
          "scatter3d": [
           {
            "line": {
             "colorbar": {
              "outlinewidth": 0,
              "ticks": ""
             }
            },
            "marker": {
             "colorbar": {
              "outlinewidth": 0,
              "ticks": ""
             }
            },
            "type": "scatter3d"
           }
          ],
          "scattercarpet": [
           {
            "marker": {
             "colorbar": {
              "outlinewidth": 0,
              "ticks": ""
             }
            },
            "type": "scattercarpet"
           }
          ],
          "scattergeo": [
           {
            "marker": {
             "colorbar": {
              "outlinewidth": 0,
              "ticks": ""
             }
            },
            "type": "scattergeo"
           }
          ],
          "scattergl": [
           {
            "marker": {
             "colorbar": {
              "outlinewidth": 0,
              "ticks": ""
             }
            },
            "type": "scattergl"
           }
          ],
          "scattermapbox": [
           {
            "marker": {
             "colorbar": {
              "outlinewidth": 0,
              "ticks": ""
             }
            },
            "type": "scattermapbox"
           }
          ],
          "scatterpolar": [
           {
            "marker": {
             "colorbar": {
              "outlinewidth": 0,
              "ticks": ""
             }
            },
            "type": "scatterpolar"
           }
          ],
          "scatterpolargl": [
           {
            "marker": {
             "colorbar": {
              "outlinewidth": 0,
              "ticks": ""
             }
            },
            "type": "scatterpolargl"
           }
          ],
          "scatterternary": [
           {
            "marker": {
             "colorbar": {
              "outlinewidth": 0,
              "ticks": ""
             }
            },
            "type": "scatterternary"
           }
          ],
          "surface": [
           {
            "colorbar": {
             "outlinewidth": 0,
             "ticks": ""
            },
            "colorscale": [
             [
              0,
              "#0d0887"
             ],
             [
              0.1111111111111111,
              "#46039f"
             ],
             [
              0.2222222222222222,
              "#7201a8"
             ],
             [
              0.3333333333333333,
              "#9c179e"
             ],
             [
              0.4444444444444444,
              "#bd3786"
             ],
             [
              0.5555555555555556,
              "#d8576b"
             ],
             [
              0.6666666666666666,
              "#ed7953"
             ],
             [
              0.7777777777777778,
              "#fb9f3a"
             ],
             [
              0.8888888888888888,
              "#fdca26"
             ],
             [
              1,
              "#f0f921"
             ]
            ],
            "type": "surface"
           }
          ],
          "table": [
           {
            "cells": {
             "fill": {
              "color": "#EBF0F8"
             },
             "line": {
              "color": "white"
             }
            },
            "header": {
             "fill": {
              "color": "#C8D4E3"
             },
             "line": {
              "color": "white"
             }
            },
            "type": "table"
           }
          ]
         },
         "layout": {
          "annotationdefaults": {
           "arrowcolor": "#2a3f5f",
           "arrowhead": 0,
           "arrowwidth": 1
          },
          "autotypenumbers": "strict",
          "coloraxis": {
           "colorbar": {
            "outlinewidth": 0,
            "ticks": ""
           }
          },
          "colorscale": {
           "diverging": [
            [
             0,
             "#8e0152"
            ],
            [
             0.1,
             "#c51b7d"
            ],
            [
             0.2,
             "#de77ae"
            ],
            [
             0.3,
             "#f1b6da"
            ],
            [
             0.4,
             "#fde0ef"
            ],
            [
             0.5,
             "#f7f7f7"
            ],
            [
             0.6,
             "#e6f5d0"
            ],
            [
             0.7,
             "#b8e186"
            ],
            [
             0.8,
             "#7fbc41"
            ],
            [
             0.9,
             "#4d9221"
            ],
            [
             1,
             "#276419"
            ]
           ],
           "sequential": [
            [
             0,
             "#0d0887"
            ],
            [
             0.1111111111111111,
             "#46039f"
            ],
            [
             0.2222222222222222,
             "#7201a8"
            ],
            [
             0.3333333333333333,
             "#9c179e"
            ],
            [
             0.4444444444444444,
             "#bd3786"
            ],
            [
             0.5555555555555556,
             "#d8576b"
            ],
            [
             0.6666666666666666,
             "#ed7953"
            ],
            [
             0.7777777777777778,
             "#fb9f3a"
            ],
            [
             0.8888888888888888,
             "#fdca26"
            ],
            [
             1,
             "#f0f921"
            ]
           ],
           "sequentialminus": [
            [
             0,
             "#0d0887"
            ],
            [
             0.1111111111111111,
             "#46039f"
            ],
            [
             0.2222222222222222,
             "#7201a8"
            ],
            [
             0.3333333333333333,
             "#9c179e"
            ],
            [
             0.4444444444444444,
             "#bd3786"
            ],
            [
             0.5555555555555556,
             "#d8576b"
            ],
            [
             0.6666666666666666,
             "#ed7953"
            ],
            [
             0.7777777777777778,
             "#fb9f3a"
            ],
            [
             0.8888888888888888,
             "#fdca26"
            ],
            [
             1,
             "#f0f921"
            ]
           ]
          },
          "colorway": [
           "#636efa",
           "#EF553B",
           "#00cc96",
           "#ab63fa",
           "#FFA15A",
           "#19d3f3",
           "#FF6692",
           "#B6E880",
           "#FF97FF",
           "#FECB52"
          ],
          "font": {
           "color": "#2a3f5f"
          },
          "geo": {
           "bgcolor": "white",
           "lakecolor": "white",
           "landcolor": "#E5ECF6",
           "showlakes": true,
           "showland": true,
           "subunitcolor": "white"
          },
          "hoverlabel": {
           "align": "left"
          },
          "hovermode": "closest",
          "mapbox": {
           "style": "light"
          },
          "paper_bgcolor": "white",
          "plot_bgcolor": "#E5ECF6",
          "polar": {
           "angularaxis": {
            "gridcolor": "white",
            "linecolor": "white",
            "ticks": ""
           },
           "bgcolor": "#E5ECF6",
           "radialaxis": {
            "gridcolor": "white",
            "linecolor": "white",
            "ticks": ""
           }
          },
          "scene": {
           "xaxis": {
            "backgroundcolor": "#E5ECF6",
            "gridcolor": "white",
            "gridwidth": 2,
            "linecolor": "white",
            "showbackground": true,
            "ticks": "",
            "zerolinecolor": "white"
           },
           "yaxis": {
            "backgroundcolor": "#E5ECF6",
            "gridcolor": "white",
            "gridwidth": 2,
            "linecolor": "white",
            "showbackground": true,
            "ticks": "",
            "zerolinecolor": "white"
           },
           "zaxis": {
            "backgroundcolor": "#E5ECF6",
            "gridcolor": "white",
            "gridwidth": 2,
            "linecolor": "white",
            "showbackground": true,
            "ticks": "",
            "zerolinecolor": "white"
           }
          },
          "shapedefaults": {
           "line": {
            "color": "#2a3f5f"
           }
          },
          "ternary": {
           "aaxis": {
            "gridcolor": "white",
            "linecolor": "white",
            "ticks": ""
           },
           "baxis": {
            "gridcolor": "white",
            "linecolor": "white",
            "ticks": ""
           },
           "bgcolor": "#E5ECF6",
           "caxis": {
            "gridcolor": "white",
            "linecolor": "white",
            "ticks": ""
           }
          },
          "title": {
           "x": 0.05
          },
          "xaxis": {
           "automargin": true,
           "gridcolor": "white",
           "linecolor": "white",
           "ticks": "",
           "title": {
            "standoff": 15
           },
           "zerolinecolor": "white",
           "zerolinewidth": 2
          },
          "yaxis": {
           "automargin": true,
           "gridcolor": "white",
           "linecolor": "white",
           "ticks": "",
           "title": {
            "standoff": 15
           },
           "zerolinecolor": "white",
           "zerolinewidth": 2
          }
         }
        },
        "title": {
         "text": "Slice Plot"
        },
        "xaxis": {
         "title": {
          "text": "lgbm__learning_rate"
         }
        },
        "yaxis": {
         "title": {
          "text": "Objective Value"
         }
        }
       }
      }
     },
     "metadata": {}
    }
   ],
   "metadata": {}
  },
  {
   "cell_type": "markdown",
   "source": [
    "# Evaluation\r\n",
    "\r\n",
    "Now to predict the test set with the final model and submit predictions."
   ],
   "metadata": {}
  },
  {
   "cell_type": "code",
   "execution_count": 11,
   "source": [
    "final_mod = model.set_params(**study.best_params)\r\n",
    "final_mod.fit(X_train, y_train)\r\n",
    "\r\n",
    "# Preprocessing of test data, get predictions\r\n",
    "X_test_ids = test.id\r\n",
    "X_test = test.drop('id', axis=1)\r\n",
    "preds = final_mod.predict_proba(X_test)\r\n",
    "preds = preds[:,1].reshape(len(preds))\r\n",
    "\r\n",
    "#export predictions\r\n",
    "output = pd.DataFrame({'id': X_test_ids,\r\n",
    "                       'claim': preds})\r\n",
    "output.to_csv('submission.csv', index=False)"
   ],
   "outputs": [
    {
     "output_type": "stream",
     "name": "stdout",
     "text": [
      "[LightGBM] [Info] Number of positive: 477515, number of negative: 480404\n",
      "[LightGBM] [Warning] Auto-choosing col-wise multi-threading, the overhead of testing was 0.194563 seconds.\n",
      "You can set `force_col_wise=true` to remove the overhead.\n",
      "[LightGBM] [Info] Total Bins 30276\n",
      "[LightGBM] [Info] Number of data points in the train set: 957919, number of used features: 120\n",
      "[LightGBM] [Info] [binary:BoostFromScore]: pavg=0.498492 -> initscore=-0.006032\n",
      "[LightGBM] [Info] Start training from score -0.006032\n",
      "[LightGBM] [Warning] No further splits with positive gain, best gain: -inf\n",
      "[LightGBM] [Warning] No further splits with positive gain, best gain: -inf\n",
      "[LightGBM] [Warning] No further splits with positive gain, best gain: -inf\n"
     ]
    }
   ],
   "metadata": {}
  }
 ],
 "metadata": {
  "orig_nbformat": 4,
  "language_info": {
   "name": "python",
   "version": "3.9.4",
   "mimetype": "text/x-python",
   "codemirror_mode": {
    "name": "ipython",
    "version": 3
   },
   "pygments_lexer": "ipython3",
   "nbconvert_exporter": "python",
   "file_extension": ".py"
  },
  "kernelspec": {
   "name": "python3",
   "display_name": "Python 3.9.4 64-bit ('test-env': conda)"
  },
  "interpreter": {
   "hash": "217afb6d47e1ecfe9bc2bb1d008138758dfc335ae7a13eb273c90375d6240835"
  }
 },
 "nbformat": 4,
 "nbformat_minor": 2
}