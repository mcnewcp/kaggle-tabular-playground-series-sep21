{
  "nbformat": 4,
  "nbformat_minor": 0,
  "metadata": {
    "colab": {
      "name": "kaggle-sep2021-tab-playground.ipynb",
      "provenance": [],
      "collapsed_sections": [
        "4lDqf5veZeYn",
        "z_hl6voDpgZG"
      ],
      "toc_visible": true,
      "authorship_tag": "ABX9TyNI1iKVhI8d2NAft+2BXTb5",
      "include_colab_link": true
    },
    "kernelspec": {
      "display_name": "Python 3",
      "name": "python3"
    },
    "language_info": {
      "name": "python"
    }
  },
  "cells": [
    {
      "cell_type": "markdown",
      "metadata": {
        "id": "view-in-github",
        "colab_type": "text"
      },
      "source": [
        "<a href=\"https://colab.research.google.com/github/mcnewcp/kaggle-tabular-playground-series-sep21/blob/ajayi-begins/kaggle_sep2021_tab_playground.ipynb\" target=\"_parent\"><img src=\"https://colab.research.google.com/assets/colab-badge.svg\" alt=\"Open In Colab\"/></a>"
      ]
    },
    {
      "cell_type": "markdown",
      "metadata": {
        "id": "JiteHNb9I4ar"
      },
      "source": [
        "# Tabular Playground | September 2021\n",
        "This notebook produces a machine learning model to meet the rules and specifications of the [tabular playground](https://www.kaggle.com/c/tabular-playground-series-sep-2021/overview) September 2021 competition. \n",
        "\n",
        "From the overview page, the associated dataset was originally used to predict whether or not a customer filed an insurance claim. The data has been anonymized and generated through th [CTGAN](https://github.com/sdv-dev/CTGAN) deep learning synthetic data generation process.  \n",
        "\n",
        "On this competition, Coy McNew and Evan Amway are collaborating with me."
      ]
    },
    {
      "cell_type": "markdown",
      "metadata": {
        "id": "OvY-g_hwXe8t"
      },
      "source": [
        "_Format text wrapping in notebook_"
      ]
    },
    {
      "cell_type": "code",
      "metadata": {
        "id": "e5RJuf0JOYln"
      },
      "source": [
        "# Formatting Colab Output to Wrap Text\n",
        "from IPython.display import HTML, display\n",
        "\n",
        "def set_css():\n",
        "  display(HTML('''\n",
        "  <style>\n",
        "    pre {\n",
        "        white-space: pre-wrap;\n",
        "    }\n",
        "  </style>\n",
        "  '''))\n",
        "get_ipython().events.register('pre_run_cell', set_css)"
      ],
      "execution_count": null,
      "outputs": []
    },
    {
      "cell_type": "markdown",
      "metadata": {
        "id": "PW8YReGXMwAx"
      },
      "source": [
        "## Data Setup\n",
        "To get started, we will import the required data-related files through the [Kaggle API](https://www.kaggle.com/docs/api). However, first, we will connect to Google Drive where the data will be housed after it has been extracted from Kaggle."
      ]
    },
    {
      "cell_type": "markdown",
      "metadata": {
        "id": "pQzOUbGINbKn"
      },
      "source": [
        "### Connect to to Google Drive\n"
      ]
    },
    {
      "cell_type": "code",
      "metadata": {
        "colab": {
          "base_uri": "https://localhost:8080/",
          "height": 34
        },
        "id": "zGU910x4Ilqu",
        "outputId": "cda09614-608c-49a5-bd2a-f1f83c2be9e4"
      },
      "source": [
        "from google.colab import drive\n",
        "drive.mount('/content/gdrive')"
      ],
      "execution_count": null,
      "outputs": [
        {
          "output_type": "display_data",
          "data": {
            "text/html": [
              "\n",
              "  <style>\n",
              "    pre {\n",
              "        white-space: pre-wrap;\n",
              "    }\n",
              "  </style>\n",
              "  "
            ],
            "text/plain": [
              "<IPython.core.display.HTML object>"
            ]
          },
          "metadata": {}
        },
        {
          "output_type": "stream",
          "name": "stdout",
          "text": [
            "Mounted at /content/gdrive\n"
          ]
        }
      ]
    },
    {
      "cell_type": "code",
      "metadata": {
        "colab": {
          "base_uri": "https://localhost:8080/",
          "height": 17
        },
        "id": "7JWSC2MXNp3E",
        "outputId": "f673b16d-8141-4be7-a70c-a1ed2fe277a0"
      },
      "source": [
        "import os\n",
        "os.environ['KAGGLE_CONFIG_DIR'] = \"/content/gdrive/My Drive/Colab Notebooks/Kaggle\""
      ],
      "execution_count": null,
      "outputs": [
        {
          "output_type": "display_data",
          "data": {
            "text/html": [
              "\n",
              "  <style>\n",
              "    pre {\n",
              "        white-space: pre-wrap;\n",
              "    }\n",
              "  </style>\n",
              "  "
            ],
            "text/plain": [
              "<IPython.core.display.HTML object>"
            ]
          },
          "metadata": {}
        }
      ]
    },
    {
      "cell_type": "markdown",
      "metadata": {
        "id": "4Yqo4YFz46Kp"
      },
      "source": [
        "### Point directory towards Kaggle directory in Google Drive\n",
        "Connect to the .json file that contains the Kaggle API information, which is located in Google Drive\n"
      ]
    },
    {
      "cell_type": "code",
      "metadata": {
        "colab": {
          "base_uri": "https://localhost:8080/",
          "height": 34
        },
        "id": "kgH2HCPk5AGR",
        "outputId": "4833dffc-0aaf-4de5-a76b-9b5981d5eec7"
      },
      "source": [
        "%cd /content/gdrive/My Drive/Colab Notebooks/Kaggle"
      ],
      "execution_count": null,
      "outputs": [
        {
          "output_type": "display_data",
          "data": {
            "text/html": [
              "\n",
              "  <style>\n",
              "    pre {\n",
              "        white-space: pre-wrap;\n",
              "    }\n",
              "  </style>\n",
              "  "
            ],
            "text/plain": [
              "<IPython.core.display.HTML object>"
            ]
          },
          "metadata": {}
        },
        {
          "output_type": "stream",
          "name": "stdout",
          "text": [
            "/content/gdrive/My Drive/Colab Notebooks/Kaggle\n"
          ]
        }
      ]
    },
    {
      "cell_type": "code",
      "metadata": {
        "colab": {
          "base_uri": "https://localhost:8080/",
          "height": 208
        },
        "id": "IKNYAHva_jt_",
        "outputId": "612a56b5-e4a8-4821-b833-c1c4ebc2fdf4"
      },
      "source": [
        "# Install Kaggle API\n",
        "!pip install -U kaggle"
      ],
      "execution_count": null,
      "outputs": [
        {
          "output_type": "display_data",
          "data": {
            "text/html": [
              "\n",
              "  <style>\n",
              "    pre {\n",
              "        white-space: pre-wrap;\n",
              "    }\n",
              "  </style>\n",
              "  "
            ],
            "text/plain": [
              "<IPython.core.display.HTML object>"
            ]
          },
          "metadata": {}
        },
        {
          "output_type": "stream",
          "name": "stdout",
          "text": [
            "Requirement already satisfied: kaggle in /usr/local/lib/python3.7/dist-packages (1.5.12)\n",
            "Requirement already satisfied: python-slugify in /usr/local/lib/python3.7/dist-packages (from kaggle) (5.0.2)\n",
            "Requirement already satisfied: tqdm in /usr/local/lib/python3.7/dist-packages (from kaggle) (4.62.3)\n",
            "Requirement already satisfied: six>=1.10 in /usr/local/lib/python3.7/dist-packages (from kaggle) (1.15.0)\n",
            "Requirement already satisfied: certifi in /usr/local/lib/python3.7/dist-packages (from kaggle) (2021.5.30)\n",
            "Requirement already satisfied: python-dateutil in /usr/local/lib/python3.7/dist-packages (from kaggle) (2.8.2)\n",
            "Requirement already satisfied: urllib3 in /usr/local/lib/python3.7/dist-packages (from kaggle) (1.24.3)\n",
            "Requirement already satisfied: requests in /usr/local/lib/python3.7/dist-packages (from kaggle) (2.23.0)\n",
            "Requirement already satisfied: text-unidecode>=1.3 in /usr/local/lib/python3.7/dist-packages (from python-slugify->kaggle) (1.3)\n",
            "Requirement already satisfied: chardet<4,>=3.0.2 in /usr/local/lib/python3.7/dist-packages (from requests->kaggle) (3.0.4)\n",
            "Requirement already satisfied: idna<3,>=2.5 in /usr/local/lib/python3.7/dist-packages (from requests->kaggle) (2.10)\n"
          ]
        }
      ]
    },
    {
      "cell_type": "markdown",
      "metadata": {
        "id": "sUjxyrnpf9Ul"
      },
      "source": [
        "#### Acquire dataset for competition\n",
        "Take a moment to confirm you are pointed toward the correct working directory, and then take a glance at the available files provided by the competition."
      ]
    },
    {
      "cell_type": "code",
      "metadata": {
        "colab": {
          "base_uri": "https://localhost:8080/",
          "height": 34
        },
        "id": "vzHE3OdQ5N3e",
        "outputId": "ead1eb64-6bca-4e14-8c0c-930cc5604ea0"
      },
      "source": [
        "# Confirm working directory\n",
        "!pwd"
      ],
      "execution_count": null,
      "outputs": [
        {
          "output_type": "display_data",
          "data": {
            "text/html": [
              "\n",
              "  <style>\n",
              "    pre {\n",
              "        white-space: pre-wrap;\n",
              "    }\n",
              "  </style>\n",
              "  "
            ],
            "text/plain": [
              "<IPython.core.display.HTML object>"
            ]
          },
          "metadata": {}
        },
        {
          "output_type": "stream",
          "name": "stdout",
          "text": [
            "/content/gdrive/My Drive/Colab Notebooks/Kaggle\n"
          ]
        }
      ]
    },
    {
      "cell_type": "code",
      "metadata": {
        "colab": {
          "base_uri": "https://localhost:8080/",
          "height": 121
        },
        "id": "PvSKY4JLPs6f",
        "outputId": "63885115-c6dd-4448-c8c1-eece1f6a198a"
      },
      "source": [
        "# Examine the files available for the tabular playground competition\n",
        "!kaggle competitions files tabular-playground-series-sep-2021"
      ],
      "execution_count": null,
      "outputs": [
        {
          "data": {
            "text/html": [
              "\n",
              "  <style>\n",
              "    pre {\n",
              "        white-space: pre-wrap;\n",
              "    }\n",
              "  </style>\n",
              "  "
            ],
            "text/plain": [
              "<IPython.core.display.HTML object>"
            ]
          },
          "metadata": {},
          "output_type": "display_data"
        },
        {
          "name": "stdout",
          "output_type": "stream",
          "text": [
            "Warning: Looks like you're using an outdated API Version, please consider updating (server 1.5.12 / client 1.5.4)\n",
            "name                  size  creationDate         \n",
            "-------------------  -----  -------------------  \n",
            "sample_solution.csv    6MB  2021-08-26 14:16:48  \n",
            "train.csv            862MB  2021-08-26 14:16:48  \n",
            "test.csv             444MB  2021-08-26 14:16:48  \n"
          ]
        }
      ]
    },
    {
      "cell_type": "markdown",
      "metadata": {
        "id": "h9rE5ZDyj8Je"
      },
      "source": [
        "Download .csv file from the competition website API. Upon visual inspection, you will see that the file is downloaded as a zipped .csv file (.csv.zip). Fortunately, pandas is capable of reading zipped .csv files."
      ]
    },
    {
      "cell_type": "code",
      "metadata": {
        "colab": {
          "base_uri": "https://localhost:8080/",
          "height": 69
        },
        "id": "2NHhiRIeizr-",
        "outputId": "b6ea1500-970d-40f4-838a-915116d2ca22"
      },
      "source": [
        "# Download the zipped .csv files from competition API to file path in Google Drive\n",
        "\n",
        "## sample solution .csv\n",
        "!kaggle competitions download tabular-playground-series-sep-2021 --file sample_solution.csv --path \"/content/gdrive/My Drive/Colab Notebooks/Kaggle/competitions/tabular-playground-sep2021\"\n",
        "\n",
        "## training set\n",
        "!kaggle competitions download tabular-playground-series-sep-2021 --file train.csv --path \"/content/gdrive/My Drive/Colab Notebooks/Kaggle/competitions/tabular-playground-sep2021\"\n",
        "\n",
        "## test set\n",
        "!kaggle competitions download tabular-playground-series-sep-2021 --file test.csv --path \"/content/gdrive/My Drive/Colab Notebooks/Kaggle/competitions/tabular-playground-sep2021\""
      ],
      "execution_count": null,
      "outputs": [
        {
          "output_type": "display_data",
          "data": {
            "text/html": [
              "\n",
              "  <style>\n",
              "    pre {\n",
              "        white-space: pre-wrap;\n",
              "    }\n",
              "  </style>\n",
              "  "
            ],
            "text/plain": [
              "<IPython.core.display.HTML object>"
            ]
          },
          "metadata": {}
        },
        {
          "output_type": "stream",
          "name": "stdout",
          "text": [
            "sample_solution.csv.zip: Skipping, found more recently modified local copy (use --force to force download)\n",
            "train.csv.zip: Skipping, found more recently modified local copy (use --force to force download)\n",
            "test.csv.zip: Skipping, found more recently modified local copy (use --force to force download)\n"
          ]
        }
      ]
    },
    {
      "cell_type": "markdown",
      "metadata": {
        "id": "_cvWoaCdX680"
      },
      "source": [
        "### Import Necessary Preprocessing Modules\n"
      ]
    },
    {
      "cell_type": "code",
      "metadata": {
        "colab": {
          "base_uri": "https://localhost:8080/",
          "height": 17
        },
        "id": "abpRR2D8YOcz",
        "outputId": "e22cfefd-534d-4b66-9a4b-6737d9a9299e"
      },
      "source": [
        "import pandas as pd\n",
        "import numpy as np\n",
        "import seaborn as sns\n",
        "import matplotlib.pyplot as plt\n",
        "\n",
        "import os"
      ],
      "execution_count": null,
      "outputs": [
        {
          "output_type": "display_data",
          "data": {
            "text/html": [
              "\n",
              "  <style>\n",
              "    pre {\n",
              "        white-space: pre-wrap;\n",
              "    }\n",
              "  </style>\n",
              "  "
            ],
            "text/plain": [
              "<IPython.core.display.HTML object>"
            ]
          },
          "metadata": {}
        }
      ]
    },
    {
      "cell_type": "markdown",
      "metadata": {
        "id": "1ad1hZJYYsMU"
      },
      "source": [
        "### Prepare training and test sets\n",
        "To prepare the data sets for EDA, we will need to clean and process the datasets to allow for EDA to be helpful. \n",
        "\n",
        "First, let's take a look at the size of the training and test sets. "
      ]
    },
    {
      "cell_type": "code",
      "metadata": {
        "colab": {
          "base_uri": "https://localhost:8080/",
          "height": 17
        },
        "id": "vNIeOAHGi3La",
        "outputId": "b54e808e-6bfd-4bb6-e683-edb17bbccede"
      },
      "source": [
        "# Import training data from competition .csv\n",
        "df_main_train = pd.read_csv(\"/content/gdrive/My Drive/Colab Notebooks/Kaggle/competitions/tabular-playground-sep2021/train.csv.zip\")\n",
        "\n",
        "# Import test data from competition .csv\n",
        "df_main_test = pd.read_csv(\"/content/gdrive/My Drive/Colab Notebooks/Kaggle/competitions/tabular-playground-sep2021/test.csv.zip\")\n"
      ],
      "execution_count": null,
      "outputs": [
        {
          "output_type": "display_data",
          "data": {
            "text/html": [
              "\n",
              "  <style>\n",
              "    pre {\n",
              "        white-space: pre-wrap;\n",
              "    }\n",
              "  </style>\n",
              "  "
            ],
            "text/plain": [
              "<IPython.core.display.HTML object>"
            ]
          },
          "metadata": {}
        }
      ]
    },
    {
      "cell_type": "code",
      "metadata": {
        "colab": {
          "base_uri": "https://localhost:8080/",
          "height": 52
        },
        "id": "v-P-fpj4cCOf",
        "outputId": "5553fc40-727e-4e4c-b898-734f80e59845"
      },
      "source": [
        "# Take a look at the dimensions of the freshly imported dataframe.\n",
        "print(\"There are {} rows and {} columns in the training set.\".format(df_main_train.shape[0], df_main_train.shape[1]))\n",
        "print(\"There are {} rows and {} columns in the test set.\".format(df_main_test.shape[0], df_main_test.shape[1]))"
      ],
      "execution_count": null,
      "outputs": [
        {
          "output_type": "display_data",
          "data": {
            "text/html": [
              "\n",
              "  <style>\n",
              "    pre {\n",
              "        white-space: pre-wrap;\n",
              "    }\n",
              "  </style>\n",
              "  "
            ],
            "text/plain": [
              "<IPython.core.display.HTML object>"
            ]
          },
          "metadata": {}
        },
        {
          "output_type": "stream",
          "name": "stdout",
          "text": [
            "There are 957919 rows and 120 columns in the training set.\n",
            "There are 493474 rows and 119 columns in the test set.\n"
          ]
        }
      ]
    },
    {
      "cell_type": "markdown",
      "metadata": {
        "id": "bAypq_CddbLQ"
      },
      "source": [
        "Get information on the any differences between the columns of the test and training sets"
      ]
    },
    {
      "cell_type": "code",
      "metadata": {
        "colab": {
          "base_uri": "https://localhost:8080/",
          "height": 34
        },
        "id": "Z_1F6hrjc9p7",
        "outputId": "3369f207-d218-461d-b600-2a1054155146"
      },
      "source": [
        "def listDiff(li1, li2):\n",
        "    return list(set(li1) - set(li2)) + list(set(li2) - set(li1))\n",
        "\n",
        "coltrain = df_main_train.columns\n",
        "coltest = df_main_test.columns\n",
        "\n",
        "colDiff = listDiff(coltrain, coltest)\n",
        "print(\"The following column(s) is(are) different betweeen the training and test: {}\".format(colDiff))"
      ],
      "execution_count": null,
      "outputs": [
        {
          "data": {
            "text/html": [
              "\n",
              "  <style>\n",
              "    pre {\n",
              "        white-space: pre-wrap;\n",
              "    }\n",
              "  </style>\n",
              "  "
            ],
            "text/plain": [
              "<IPython.core.display.HTML object>"
            ]
          },
          "metadata": {},
          "output_type": "display_data"
        },
        {
          "name": "stdout",
          "output_type": "stream",
          "text": [
            "The following column(s) is(are) different betweeen the training and test: ['claim']\n"
          ]
        }
      ]
    },
    {
      "cell_type": "markdown",
      "metadata": {
        "id": "BmU6wmMBd-bq"
      },
      "source": [
        "According to this exercise, there is only one column that differs between the test and and trianing set. This column is called `claim`. The reason it is omitted form the test set is because it will be predicted and submitted to Kaggle for the competition as a probability. We will split the training set to test it before making predictions with the `test.csv` provided by the competition. "
      ]
    },
    {
      "cell_type": "markdown",
      "metadata": {
        "id": "LA-xADave-Gx"
      },
      "source": [
        "Next, let's examine the training set more closely by learning about the datatypes of each column"
      ]
    },
    {
      "cell_type": "code",
      "metadata": {
        "colab": {
          "base_uri": "https://localhost:8080/",
          "height": 69
        },
        "id": "syU3SUdgdh0a",
        "outputId": "116db1e4-90e5-42c6-bbdb-6b6b05f59466"
      },
      "source": [
        "lst_train_dtypes = df_main_train.dtypes.value_counts()\n",
        "print(lst_train_dtypes)"
      ],
      "execution_count": null,
      "outputs": [
        {
          "data": {
            "text/html": [
              "\n",
              "  <style>\n",
              "    pre {\n",
              "        white-space: pre-wrap;\n",
              "    }\n",
              "  </style>\n",
              "  "
            ],
            "text/plain": [
              "<IPython.core.display.HTML object>"
            ]
          },
          "metadata": {},
          "output_type": "display_data"
        },
        {
          "name": "stdout",
          "output_type": "stream",
          "text": [
            "float64    118\n",
            "int64        2\n",
            "dtype: int64\n"
          ]
        }
      ]
    },
    {
      "cell_type": "markdown",
      "metadata": {
        "id": "wjYJ0sGPfsmo"
      },
      "source": [
        "The results show that almost all of the datatypes are floats except for two. These two exceptions are the `id` and the `claim` columns. Thus, working with mixed datatypes will not be an issue for this workbook. \n",
        "\n",
        "The next step will be to visualize these features to get a better understanding of how they will play in the model. Following thay step, the missing data will be analyzed. \n"
      ]
    },
    {
      "cell_type": "markdown",
      "metadata": {
        "id": "orqy880TYUpI"
      },
      "source": [
        "## Exploratory Data Analysis\n",
        "Now with the data organized and arranged properly, we can explore the training set for trends and patterns. A specific effort with the EDA in this project is to select the best features for the model. Second, to engineer features that may enhance the potency of the modeling process.\n",
        "\n",
        "EDA\n",
        "- PCA (?)\n",
        "- Feature selection\n",
        "  * Chi-Squared test\n",
        "  * [SelectKBest](https://www.datacamp.com/community/tutorials/feature-selection-python)\n",
        "  * [Recursive Feature Elimination](https://machinelearningmastery.com/feature-selection-machine-learning-python/)\n",
        "  * Feature Importance: subsample a tiny amount of data and run a tree-based model and assess feature importantce"
      ]
    },
    {
      "cell_type": "markdown",
      "metadata": {
        "id": "4lDqf5veZeYn"
      },
      "source": [
        "### Feature Selection\n",
        "This data set has 119 features, a number that is difficult to glean simple patterns from. Similarly, fitting a model to all 119 features can lead to overfitting and poor performance when the model is deployed in the wild. \n",
        "\n",
        "- filter method\n",
        "- wrapper method\n",
        "[feature selection](https://towardsdatascience.com/feature-selection-techniques-1bfab5fe0784)"
      ]
    },
    {
      "cell_type": "markdown",
      "metadata": {
        "id": "emIIyaqvbEAg"
      },
      "source": [
        "#### Filter Method | Feature Selection"
      ]
    },
    {
      "cell_type": "code",
      "metadata": {
        "colab": {
          "base_uri": "https://localhost:8080/",
          "height": 17
        },
        "id": "OeeGsURil9bn",
        "outputId": "0ab9bcd0-e437-4e5e-eec1-1a9d7f216012"
      },
      "source": [
        "# Calculate the correlation between columns in the training set\n",
        "corr_vals = df_main_train.corr()"
      ],
      "execution_count": null,
      "outputs": [
        {
          "data": {
            "text/html": [
              "\n",
              "  <style>\n",
              "    pre {\n",
              "        white-space: pre-wrap;\n",
              "    }\n",
              "  </style>\n",
              "  "
            ],
            "text/plain": [
              "<IPython.core.display.HTML object>"
            ]
          },
          "metadata": {},
          "output_type": "display_data"
        }
      ]
    },
    {
      "cell_type": "markdown",
      "metadata": {
        "id": "BKLL43J_z7l9"
      },
      "source": [
        "Obtain a list of the features that have high correlations with the target variable. Work not shown demonstrates that these correlations, even the higher ones, are not great in magnitude $(<0.1)$. Nonetheless, this exercise provides information on how these features are correlated with the target variable. Greater correlation indicates the feature has a greater _linear_ influence on the magnitude on the target vice versa for the opposite."
      ]
    },
    {
      "cell_type": "code",
      "metadata": {
        "colab": {
          "base_uri": "https://localhost:8080/",
          "height": 306
        },
        "id": "ulRwEYaMae7-",
        "outputId": "b74b2c5f-3dc1-4436-e73d-4b4896f4fd21"
      },
      "source": [
        "# Get the correlation values of the features with respect to the target\n",
        "corr_claim= abs(corr_vals[\"claim\"])\n",
        "# Filter for relationships that excceed the given threshold\n",
        "corr_claim_high = corr_claim[(corr_claim >= 0.01) & (corr_claim < 1.0) |\n",
        "                             (corr_claim <= -0.01) & (corr_claim > -1.0)]\n",
        "# Sort\n",
        "corr_claim_high.sort_values(ascending=False)"
      ],
      "execution_count": null,
      "outputs": [
        {
          "data": {
            "text/html": [
              "\n",
              "  <style>\n",
              "    pre {\n",
              "        white-space: pre-wrap;\n",
              "    }\n",
              "  </style>\n",
              "  "
            ],
            "text/plain": [
              "<IPython.core.display.HTML object>"
            ]
          },
          "metadata": {},
          "output_type": "display_data"
        },
        {
          "data": {
            "text/plain": [
              "f34    0.021505\n",
              "f57    0.017977\n",
              "f45    0.017692\n",
              "f95    0.014771\n",
              "f21    0.014342\n",
              "f8     0.014311\n",
              "f31    0.013903\n",
              "f35    0.013777\n",
              "f52    0.012356\n",
              "f3     0.012016\n",
              "f48    0.011988\n",
              "f32    0.011715\n",
              "f36    0.011640\n",
              "f71    0.011572\n",
              "f47    0.010279\n",
              "f6     0.010200\n",
              "Name: claim, dtype: float64"
            ]
          },
          "execution_count": 15,
          "metadata": {},
          "output_type": "execute_result"
        }
      ]
    },
    {
      "cell_type": "markdown",
      "metadata": {
        "id": "XGlvIJ3Ezcqe"
      },
      "source": [
        "After collecting the features that demonstrated the greatest magnitude of correlation between themselves and the target variable, let's analyze the strength of the relationship between these high-_er_ correlated features."
      ]
    },
    {
      "cell_type": "code",
      "metadata": {
        "colab": {
          "base_uri": "https://localhost:8080/",
          "height": 747
        },
        "id": "dAJfYq1KlQ-O",
        "outputId": "96e4c074-8bb8-4d61-f37e-5362788bf6f8"
      },
      "source": [
        "# Get names of features with high correlation\n",
        "corr_high_feats = corr_claim_high.index.tolist()\n",
        "# Correlate important features with each other\n",
        "corr_high_ = df_main_train[corr_high_feats].corr()\n",
        "\n",
        "# Visualize\n",
        "plt.figure(figsize=(12, 10), dpi=300, facecolor='w', edgecolor='k')\n",
        "sns.clustermap(corr_high_, annot=True, fmt=\".3f\", linewidths=0.75, linecolor='k',\n",
        "            vmin=-0.01, vmax=0.03)\n",
        "plt.show()"
      ],
      "execution_count": null,
      "outputs": [
        {
          "data": {
            "text/html": [
              "\n",
              "  <style>\n",
              "    pre {\n",
              "        white-space: pre-wrap;\n",
              "    }\n",
              "  </style>\n",
              "  "
            ],
            "text/plain": [
              "<IPython.core.display.HTML object>"
            ]
          },
          "metadata": {},
          "output_type": "display_data"
        },
        {
          "data": {
            "text/plain": [
              "<Figure size 3600x3000 with 0 Axes>"
            ]
          },
          "metadata": {},
          "output_type": "display_data"
        },
        {
          "data": {
            "image/png": "[encoded data removed]",
            "text/plain": [
              "<Figure size 720x720 with 4 Axes>"
            ]
          },
          "metadata": {},
          "output_type": "display_data"
        }
      ]
    },
    {
      "cell_type": "markdown",
      "metadata": {
        "id": "14re7k_V07It"
      },
      "source": [
        "This heatmap shows that there is little relationship between the features. At best they are related in trios with weak magnitudes of correlation. \n",
        "\n",
        "Overall, this exercise has not shown great correlation between the features and target, nor the between the _highly_ correlated feature. However, as mentioned in this [SO discussion](https://stackoverflow.com/questions/45917979/why-do-we-use-correlation-coefficient-for-feature-selection) under the selected answer, a lack of correlation does not portend poor data. Rather this merely means one cannot reduce some of the features upfront -- prior to the modeling. More importantly, **the lack of strongly correlated features may suggest that the relationships are in fact _non-linear_**.\n",
        "\n",
        "However, we will conduct one more feature selection step to attmempt to reduce the dimensionality: Recursive Feature Elimination (RFE). -be sure to comment on the Darst et al. (2018) [paper](https://bmcgenomdata.biomedcentral.com/track/pdf/10.1186/s12863-018-0633-8.pdf)-. "
      ]
    },
    {
      "cell_type": "markdown",
      "metadata": {
        "id": "slvJ3ZGVAfrB"
      },
      "source": [
        "#### Wraper Method | Feature Selection\n",
        "[RFE](https://scikit-learn.org/stable/modules/generated/sklearn.feature_selection.RFE.html) is used in this exercise to practice feature selection through a _sklearn_ wrapper. \n",
        "\n",
        "Specifically, a RFE continuously fits models to the data using a smaller and smaller set of features. This assists in the ability to glean what features are the most important."
      ]
    },
    {
      "cell_type": "code",
      "metadata": {
        "colab": {
          "base_uri": "https://localhost:8080/",
          "height": 357
        },
        "id": "_k49dtEsmxEc",
        "outputId": "77e6e4d6-ca7a-4414-be19-c03d2f962584"
      },
      "source": [
        "from sklearn.feature_selection import RFE\n",
        "from sklearn.tree import ExtraTreeClassifier as ETC\n",
        "from sklearn.pipeline import Pipeline\n",
        "\n",
        "# Randomly sample an equal amount of rows from the training set to reduce initial computation time\n",
        "df_main_train_subsample = df_main_train.sample(frac=0.9, random_state=0)\n",
        "df_main_train_subsample.dropna(inplace=True)\n",
        "\n",
        "# Separate features from target\n",
        "X = df_main_train_subsample.iloc[:,1:-1]\n",
        "y = df_main_train_subsample.iloc[:,-1]\n",
        "\n",
        "# Instantiate Model\n",
        "extra_tree_clf = ETC(max_depth=8, min_samples_split=4,\n",
        "                     max_features=\"sqrt\", random_state=0)\n",
        "# Instantiate RFE object\n",
        "rfe_selector = RFE(estimator= extra_tree_clf,\n",
        "                   step=0.03,\n",
        "                   verbose=3)\n",
        "# Create Pipeline\n",
        "pipe = Pipeline(steps=[\n",
        "                       ('selector',rfe_selector),\n",
        "                       ('mdl', extra_tree_clf)\n",
        "])\n",
        "# Fit pipeline to data\n",
        "fit_rslt = rfe_selector.fit(X,y)\n"
      ],
      "execution_count": null,
      "outputs": [
        {
          "data": {
            "text/html": [
              "\n",
              "  <style>\n",
              "    pre {\n",
              "        white-space: pre-wrap;\n",
              "    }\n",
              "  </style>\n",
              "  "
            ],
            "text/plain": [
              "<IPython.core.display.HTML object>"
            ]
          },
          "metadata": {},
          "output_type": "display_data"
        },
        {
          "name": "stdout",
          "output_type": "stream",
          "text": [
            "Fitting estimator with 118 features.\n",
            "Fitting estimator with 115 features.\n",
            "Fitting estimator with 112 features.\n",
            "Fitting estimator with 109 features.\n",
            "Fitting estimator with 106 features.\n",
            "Fitting estimator with 103 features.\n",
            "Fitting estimator with 100 features.\n",
            "Fitting estimator with 97 features.\n",
            "Fitting estimator with 94 features.\n",
            "Fitting estimator with 91 features.\n",
            "Fitting estimator with 88 features.\n",
            "Fitting estimator with 85 features.\n",
            "Fitting estimator with 82 features.\n",
            "Fitting estimator with 79 features.\n",
            "Fitting estimator with 76 features.\n",
            "Fitting estimator with 73 features.\n",
            "Fitting estimator with 70 features.\n",
            "Fitting estimator with 67 features.\n",
            "Fitting estimator with 64 features.\n",
            "Fitting estimator with 61 features.\n"
          ]
        }
      ]
    },
    {
      "cell_type": "code",
      "metadata": {
        "colab": {
          "base_uri": "https://localhost:8080/",
          "height": 289
        },
        "id": "p8n9PuVvJGTa",
        "outputId": "25568453-5443-49e5-a555-2af4224fc604"
      },
      "source": [
        "# Print Results\n",
        "print(\"Num Features: %s\" % (fit_rslt.n_features_))\n",
        "print(\"Selected Features: %s\" % (fit_rslt.support_))\n",
        "print(\"Feature Ranking: %s\" % (fit_rslt.ranking_))"
      ],
      "execution_count": null,
      "outputs": [
        {
          "data": {
            "text/html": [
              "\n",
              "  <style>\n",
              "    pre {\n",
              "        white-space: pre-wrap;\n",
              "    }\n",
              "  </style>\n",
              "  "
            ],
            "text/plain": [
              "<IPython.core.display.HTML object>"
            ]
          },
          "metadata": {},
          "output_type": "display_data"
        },
        {
          "name": "stdout",
          "output_type": "stream",
          "text": [
            "Num Features: 59\n",
            "Selected Features: [False False  True  True False False  True  True  True  True  True False\n",
            " False  True  True  True  True  True  True False  True  True False False\n",
            "  True False False  True  True False  True False False  True  True False\n",
            " False False False False False False False  True  True False  True  True\n",
            " False False  True  True False False False  True False  True False  True\n",
            "  True  True  True False False False  True False  True  True False  True\n",
            "  True False  True False False False  True  True False False  True False\n",
            "  True False  True  True False  True  True  True False  True  True False\n",
            "  True  True False  True False  True False False  True False  True  True\n",
            " False False False False  True False  True False False False]\n",
            "Feature Ranking: [19 17  1  1 14  8  1  1  1  1  1  2  3  1  1  1  1  1  1 16  1  1 19  6\n",
            "  1  7  5  1  1 15  1 21 20  1  1 21 14 17 17 21  3 18 19  1  1  7  1  1\n",
            "  9 16  1  1  7  8 12  1 11  1 11  1  1  1  1 12 13 12  1 13  1  1 18  1\n",
            "  1 13  1  4 15  4  1  1 10 11  1  5  1  4  1  1 18  1  1  1  5  1  1 15\n",
            "  1  1 20  1  6  1  8 16  1  6  1  1  9 10 14  9  1  2  1 10  3 20]\n"
          ]
        }
      ]
    },
    {
      "cell_type": "code",
      "metadata": {
        "colab": {
          "base_uri": "https://localhost:8080/",
          "height": 68
        },
        "id": "bS4aNeRROvqH",
        "outputId": "93bbaef9-4cc1-42bf-c10c-7a0c29dc6ef0"
      },
      "source": [
        "from itertools import compress\n",
        "\n",
        "# Retrieve the features selected from RFE\n",
        "feats = X.columns.tolist()\n",
        "feats_RFE_select = list(compress(feats, fit_rslt.support_))\n",
        "\n",
        "# Compare RFE selected features to \"highly\" correlated features\n",
        "colDiff = listDiff(feats_RFE_select, corr_high_feats)\n",
        "print(\"The following column(s) is(are) different betweeen the training and test: {}\".format(colDiff))\n",
        "print(\"There are {} features that are in the 'highly' correlated group that are not in the RFE set of features.\".format(len(colDiff)))"
      ],
      "execution_count": null,
      "outputs": [
        {
          "data": {
            "text/html": [
              "\n",
              "  <style>\n",
              "    pre {\n",
              "        white-space: pre-wrap;\n",
              "    }\n",
              "  </style>\n",
              "  "
            ],
            "text/plain": [
              "<IPython.core.display.HTML object>"
            ]
          },
          "metadata": {},
          "output_type": "display_data"
        },
        {
          "name": "stdout",
          "output_type": "stream",
          "text": [
            "The following column(s) is(are) different betweeen the training and test: ['f56', 'f51', 'f98', 'f94', 'f108', 'f75', 'f70', 'f80', 'f63', 'f18', 'f11', 'f7', 'f15', 'f107', 'f29', 'f83', 'f115', 'f105', 'f60', 'f113', 'f67', 'f14', 'f10', 'f44', 'f72', 'f58', 'f90', 'f73', 'f79', 'f85', 'f62', 'f28', 'f100', 'f102', 'f17', 'f69', 'f87', 'f97', 'f4', 'f19', 'f92', 'f16', 'f88', 'f22', 'f25', 'f91', 'f61', 'f9', 'f6', 'f71', 'f36', 'f57', 'f32']\n",
            "There are 53 features that are in the 'highly' correlated group that are not in the RFE set of features.\n"
          ]
        }
      ]
    },
    {
      "cell_type": "markdown",
      "metadata": {
        "id": "Ax63dhRUZsYQ"
      },
      "source": [
        "## Machine Learning\n",
        "The modeling takes place in this section. First, the missing values are treated through a process of imputation and scaling. Next, the ML experiments are run. \n",
        "\n",
        "These experiments are separated by each subsection."
      ]
    },
    {
      "cell_type": "markdown",
      "metadata": {
        "id": "nNmpuCBASvMJ"
      },
      "source": [
        "### Impute Missing Information\n",
        "Using the median values per feature, fill in the missing rows. "
      ]
    },
    {
      "cell_type": "code",
      "metadata": {
        "colab": {
          "base_uri": "https://localhost:8080/",
          "height": 17
        },
        "id": "BK8XF75VO809",
        "outputId": "13f541ac-cf5b-44e7-a85f-6936971281ac"
      },
      "source": [
        "from sklearn.impute import SimpleImputer\n",
        "\n",
        "# Instantiate Imputer\n",
        "imp_med = SimpleImputer(missing_values=np.nan, strategy=\"median\", verbose=3)\n"
      ],
      "execution_count": null,
      "outputs": [
        {
          "output_type": "display_data",
          "data": {
            "text/html": [
              "\n",
              "  <style>\n",
              "    pre {\n",
              "        white-space: pre-wrap;\n",
              "    }\n",
              "  </style>\n",
              "  "
            ],
            "text/plain": [
              "<IPython.core.display.HTML object>"
            ]
          },
          "metadata": {}
        }
      ]
    },
    {
      "cell_type": "code",
      "metadata": {
        "id": "Ub0u-AzGxaKC"
      },
      "source": [
        "# Extract the subsection of training data that contains the RFE selected features\n",
        "dmy = [\"claim\"]\n",
        "feats_RFE_select_w_target = [*feats_RFE_select, *dmy]\n",
        "df_relev = df_main_train[feats_RFE_select_w_target]\n",
        "\n",
        "# Fit imputer to relevant data\n",
        "imp_med = imp_med.fit(df_relev)\n",
        "\n",
        "# Impute the fitted result\n",
        "df_relev = imp_med.transform(df_relev)"
      ],
      "execution_count": null,
      "outputs": []
    },
    {
      "cell_type": "markdown",
      "metadata": {
        "id": "gjsGH8UHNGPG"
      },
      "source": [
        "### Normalize Information and Engineer Features\n",
        "\n",
        "In addition to filing in the missing information with the median value, a standard [scaler function](https://scikit-learn.org/stable/modules/generated/sklearn.preprocessing.StandardScaler.html) from `scikit-learn` will provide a way to norm the data for better comparison across features.\n",
        "\n",
        "_Borrowed the `CombinedAttributesAdder` from [Evan and Coy ](https://github.com/mcnewcp/kaggle-tabular-playground-series-sep21/blob/coy/evan-notebook-ohe-nan.ipynb)_. In short, the `CombinedAttributesAdder` aquires the sum of (normalized) values across the rows (excl. missing values) and number of missing values within each row. \n",
        "\n",
        "These methods will be used in a pipeline that will be used within the ML Experiments section (e.g., ml-2.3.1)."
      ]
    },
    {
      "cell_type": "code",
      "metadata": {
        "colab": {
          "base_uri": "https://localhost:8080/",
          "height": 17
        },
        "id": "jIbDcoqUNoSN",
        "outputId": "13825a43-a44a-4641-c536-0fcb5f08832e"
      },
      "source": [
        "from sklearn.base import BaseEstimator, TransformerMixin\n",
        "from sklearn.preprocessing import StandardScaler\n",
        "\n",
        "# Instantiate Standard Scaler\n",
        "scaler = StandardScaler()\n",
        "\n",
        "class CombinedAttributesAdder(BaseEstimator, TransformerMixin):\n",
        "    #one hyperparameter per new feature\n",
        "    def __init__(self, add_sum = True, add_num_nan = True): #no *args or **kargs\n",
        "        self.add_sum = add_sum\n",
        "        self.add_num_nan = add_num_nan\n",
        "    def fit(self, X, y=None):\n",
        "        return self #nothing to fit\n",
        "    def transform(self, X):\n",
        "        #generate additional features\n",
        "        if self.add_sum:\n",
        "            std_scaler = StandardScaler()\n",
        "            sum_col = X.copy()\n",
        "            sum_col[np.isnan(sum_col)] = 0\n",
        "            sum_col = std_scaler.fit_transform(sum_col)\n",
        "            sum_col = sum_col.sum(axis=1)\n",
        "            X = np.c_[X, sum_col]\n",
        "        if self.add_num_nan:\n",
        "            num_nan = np.isnan(X).sum(axis=1)\n",
        "            X = np.c_[X, num_nan]\n",
        "        return X"
      ],
      "execution_count": null,
      "outputs": [
        {
          "output_type": "display_data",
          "data": {
            "text/html": [
              "\n",
              "  <style>\n",
              "    pre {\n",
              "        white-space: pre-wrap;\n",
              "    }\n",
              "  </style>\n",
              "  "
            ],
            "text/plain": [
              "<IPython.core.display.HTML object>"
            ]
          },
          "metadata": {}
        }
      ]
    },
    {
      "cell_type": "markdown",
      "metadata": {
        "id": "6fDXlnqNtZas"
      },
      "source": [
        "### Final data preparation - RFE\n",
        "Prepare data for modeling by:\n",
        "- Separating target from features\n",
        "- splitting training and testing data (most useful for non-cross-validated methods)"
      ]
    },
    {
      "cell_type": "code",
      "metadata": {
        "colab": {
          "base_uri": "https://localhost:8080/",
          "height": 17
        },
        "id": "oJGQJGyWtVWY",
        "outputId": "399cf7df-55e3-41b6-9d80-6500c7ba9896"
      },
      "source": [
        "# Prepare data for modeling\n",
        "## Separate target from features\n",
        "X = df_relev[:,0:-1]\n",
        "y = df_relev[:,-1]"
      ],
      "execution_count": null,
      "outputs": [
        {
          "data": {
            "text/html": [
              "\n",
              "  <style>\n",
              "    pre {\n",
              "        white-space: pre-wrap;\n",
              "    }\n",
              "  </style>\n",
              "  "
            ],
            "text/plain": [
              "<IPython.core.display.HTML object>"
            ]
          },
          "metadata": {},
          "output_type": "display_data"
        }
      ]
    },
    {
      "cell_type": "code",
      "metadata": {
        "colab": {
          "base_uri": "https://localhost:8080/",
          "height": 17
        },
        "id": "3HvbAd8PwHyf",
        "outputId": "7153e607-883f-4259-8a2c-60c110a7b3a4"
      },
      "source": [
        "from sklearn.model_selection import train_test_split\n",
        "\n",
        "X_train, X_test, y_train, y_test = train_test_split(X, y, \n",
        "                                                    test_size=0.33, \n",
        "                                                    random_state=0)"
      ],
      "execution_count": null,
      "outputs": [
        {
          "data": {
            "text/html": [
              "\n",
              "  <style>\n",
              "    pre {\n",
              "        white-space: pre-wrap;\n",
              "    }\n",
              "  </style>\n",
              "  "
            ],
            "text/plain": [
              "<IPython.core.display.HTML object>"
            ]
          },
          "metadata": {},
          "output_type": "display_data"
        }
      ]
    },
    {
      "cell_type": "markdown",
      "metadata": {
        "id": "n4fFnSpXUVD2"
      },
      "source": [
        "### Final data preparation - no RFE"
      ]
    },
    {
      "cell_type": "markdown",
      "metadata": {
        "id": "IqGb1spcpIrf"
      },
      "source": [
        "### ML Experiments \n",
        "\n",
        "Versions:\n",
        "- n.#.#: $n$ represents the type of features selected any major preprocessing steps\n",
        "  * 1: RFE features and median imputing was used\n",
        "  * 2: No RFE features were used, but scaling and imputing were used in addition to feature engineering\n",
        "- #.n.#: Each $n$ represents a differnt model type:\n",
        "  * 0: Linear Regression\n",
        "  * 1: Random Forest Classifier\n",
        "  * 2: SVC\n",
        "  * 3: LightGradient Boosting\n",
        "  * 4: XGBoost\n",
        "  * 5: Naive Bayes Classifier\n",
        "- #.#.n: Each $n$ highlights the type or set of parameters used for the ML algorithm\n",
        "  * 0: Using default parameters\n",
        "  * 1: Randomized Grid Search\n",
        "\n",
        "\n"
      ]
    },
    {
      "cell_type": "markdown",
      "metadata": {
        "id": "z_hl6voDpgZG"
      },
      "source": [
        "#### ml-1.1.0 | RFE | Random Forest | Default Params"
      ]
    },
    {
      "cell_type": "code",
      "metadata": {
        "colab": {
          "base_uri": "https://localhost:8080/",
          "height": 1000
        },
        "id": "jGFhVXQWpIR_",
        "outputId": "33502736-cf16-4807-df44-8428c8572b4c"
      },
      "source": [
        "from sklearn.ensemble import RandomForestClassifier as RFC \n",
        "\n",
        "# Instantiate RF Classifier\n",
        "rfc = RFC(verbose=3, random_state=0, n_jobs=-1)\n",
        "\n",
        "rfc.fit(X_train, y_train)"
      ],
      "execution_count": null,
      "outputs": [
        {
          "data": {
            "text/html": [
              "\n",
              "  <style>\n",
              "    pre {\n",
              "        white-space: pre-wrap;\n",
              "    }\n",
              "  </style>\n",
              "  "
            ],
            "text/plain": [
              "<IPython.core.display.HTML object>"
            ]
          },
          "metadata": {},
          "output_type": "display_data"
        },
        {
          "name": "stderr",
          "output_type": "stream",
          "text": [
            "[Parallel(n_jobs=-1)]: Using backend ThreadingBackend with 2 concurrent workers.\n"
          ]
        },
        {
          "name": "stdout",
          "output_type": "stream",
          "text": [
            "building tree 1 of 100\n",
            "building tree 2 of 100\n",
            "building tree 3 of 100\n",
            "building tree 4 of 100\n",
            "building tree 5 of 100\n",
            "building tree 6 of 100\n",
            "building tree 7 of 100\n",
            "building tree 8 of 100\n",
            "building tree 9 of 100\n",
            "building tree 10 of 100\n",
            "building tree 11 of 100\n",
            "building tree 12 of 100\n",
            "building tree 13 of 100\n",
            "building tree 14 of 100\n",
            "building tree 15 of 100\n",
            "building tree 16 of 100\n",
            "building tree 17 of 100\n",
            "building tree 18 of 100\n",
            "building tree 19 of 100\n",
            "building tree 20 of 100\n",
            "building tree 21 of 100\n",
            "building tree 22 of 100\n",
            "building tree 23 of 100\n",
            "building tree 24 of 100\n",
            "building tree 25 of 100\n",
            "building tree 26 of 100\n",
            "building tree 27 of 100\n",
            "building tree 28 of 100\n",
            "building tree 29 of 100\n"
          ]
        },
        {
          "name": "stderr",
          "output_type": "stream",
          "text": [
            "[Parallel(n_jobs=-1)]: Done  28 tasks      | elapsed:  3.6min\n"
          ]
        },
        {
          "name": "stdout",
          "output_type": "stream",
          "text": [
            "building tree 30 of 100\n",
            "building tree 31 of 100\n",
            "building tree 32 of 100\n",
            "building tree 33 of 100\n",
            "building tree 34 of 100\n",
            "building tree 35 of 100\n",
            "building tree 36 of 100\n",
            "building tree 37 of 100\n",
            "building tree 38 of 100\n",
            "building tree 39 of 100\n",
            "building tree 40 of 100\n",
            "building tree 41 of 100\n",
            "building tree 42 of 100\n",
            "building tree 43 of 100\n",
            "building tree 44 of 100\n",
            "building tree 45 of 100\n",
            "building tree 46 of 100\n",
            "building tree 47 of 100\n",
            "building tree 48 of 100\n",
            "building tree 49 of 100\n",
            "building tree 50 of 100\n",
            "building tree 51 of 100\n",
            "building tree 52 of 100\n",
            "building tree 53 of 100\n",
            "building tree 54 of 100\n",
            "building tree 55 of 100\n",
            "building tree 56 of 100\n",
            "building tree 57 of 100\n",
            "building tree 58 of 100\n",
            "building tree 59 of 100\n",
            "building tree 60 of 100\n",
            "building tree 61 of 100\n",
            "building tree 62 of 100\n",
            "building tree 63 of 100\n",
            "building tree 64 of 100\n",
            "building tree 65 of 100\n",
            "building tree 66 of 100\n",
            "building tree 67 of 100\n",
            "building tree 68 of 100\n",
            "building tree 69 of 100\n",
            "building tree 70 of 100\n",
            "building tree 71 of 100\n",
            "building tree 72 of 100\n",
            "building tree 73 of 100\n",
            "building tree 74 of 100\n",
            "building tree 75 of 100\n",
            "building tree 76 of 100\n",
            "building tree 77 of 100\n",
            "building tree 78 of 100\n",
            "building tree 79 of 100\n",
            "building tree 80 of 100\n",
            "building tree 81 of 100\n",
            "building tree 82 of 100\n",
            "building tree 83 of 100\n",
            "building tree 84 of 100\n",
            "building tree 85 of 100\n",
            "building tree 86 of 100\n",
            "building tree 87 of 100\n",
            "building tree 88 of 100\n",
            "building tree 89 of 100\n",
            "building tree 90 of 100\n",
            "building tree 91 of 100\n",
            "building tree 92 of 100\n",
            "building tree 93 of 100\n",
            "building tree 94 of 100\n",
            "building tree 95 of 100\n",
            "building tree 96 of 100\n",
            "building tree 97 of 100\n",
            "building tree 98 of 100\n",
            "building tree 99 of 100\n",
            "building tree 100 of 100\n"
          ]
        },
        {
          "name": "stderr",
          "output_type": "stream",
          "text": [
            "[Parallel(n_jobs=-1)]: Done 100 out of 100 | elapsed: 12.8min finished\n"
          ]
        },
        {
          "data": {
            "text/plain": [
              "RandomForestClassifier(bootstrap=True, ccp_alpha=0.0, class_weight=None,\n",
              "                       criterion='gini', max_depth=None, max_features='auto',\n",
              "                       max_leaf_nodes=None, max_samples=None,\n",
              "                       min_impurity_decrease=0.0, min_impurity_split=None,\n",
              "                       min_samples_leaf=1, min_samples_split=2,\n",
              "                       min_weight_fraction_leaf=0.0, n_estimators=100,\n",
              "                       n_jobs=-1, oob_score=False, random_state=0, verbose=3,\n",
              "                       warm_start=False)"
            ]
          },
          "execution_count": 52,
          "metadata": {},
          "output_type": "execute_result"
        }
      ]
    },
    {
      "cell_type": "markdown",
      "metadata": {
        "id": "sch0GG2Dw-Dk"
      },
      "source": [
        "Save model with `pickle` module. This is essential when executing long model runs on Google Colab and the model needs to be saved "
      ]
    },
    {
      "cell_type": "code",
      "metadata": {
        "colab": {
          "base_uri": "https://localhost:8080/",
          "height": 17
        },
        "id": "YBrOUH16w9GG",
        "outputId": "a0095451-2448-44a3-a094-4754be797335"
      },
      "source": [
        "import pickle\n",
        "\n",
        "# Establish model path\n",
        "mdl_file_path = \"/content/gdrive/My Drive/Colab Notebooks/Kaggle/competitions/tabular-playground-sep2021/\"\n",
        "# Dump model into pickled file\n",
        "with open(mdl_file_path+\"mdl_1.1.0.pickle\", \"wb\") as file:\n",
        "  pickle.dump(rfc, file)"
      ],
      "execution_count": null,
      "outputs": [
        {
          "data": {
            "text/html": [
              "\n",
              "  <style>\n",
              "    pre {\n",
              "        white-space: pre-wrap;\n",
              "    }\n",
              "  </style>\n",
              "  "
            ],
            "text/plain": [
              "<IPython.core.display.HTML object>"
            ]
          },
          "metadata": {},
          "output_type": "display_data"
        }
      ]
    },
    {
      "cell_type": "markdown",
      "metadata": {
        "id": "J2CoUv5jKbHS"
      },
      "source": [
        "Load pickled model \\\n",
        "_The code below can be commented out, but it is a good idea to leave it to ensure that the model was picked properly_"
      ]
    },
    {
      "cell_type": "code",
      "metadata": {
        "colab": {
          "base_uri": "https://localhost:8080/",
          "height": 17
        },
        "id": "OWTgx-IbKp_N",
        "outputId": "6a68bbfb-3c23-44ee-d169-db4bd4840213"
      },
      "source": [
        "import pickle\n",
        "\n",
        "# Establish model path\n",
        "mdl_file_path = \"/content/gdrive/My Drive/Colab Notebooks/Kaggle/competitions/tabular-playground-sep2021/\"\n",
        "\n",
        "# Load Pickle Model\n",
        "with open(mdl_file_path+\"mdl_1.1.0.pickle\", \"rb\") as file:\n",
        "  rfc = pickle.load(file)"
      ],
      "execution_count": null,
      "outputs": [
        {
          "data": {
            "text/html": [
              "\n",
              "  <style>\n",
              "    pre {\n",
              "        white-space: pre-wrap;\n",
              "    }\n",
              "  </style>\n",
              "  "
            ],
            "text/plain": [
              "<IPython.core.display.HTML object>"
            ]
          },
          "metadata": {},
          "output_type": "display_data"
        }
      ]
    },
    {
      "cell_type": "markdown",
      "metadata": {
        "id": "LTuAbFSjLbqF"
      },
      "source": [
        "Evaluate the model by predicting the probability of claim being filed using the test data (i.e., test data that was split from the training set)."
      ]
    },
    {
      "cell_type": "code",
      "metadata": {
        "colab": {
          "base_uri": "https://localhost:8080/",
          "height": 68
        },
        "id": "j64e0D0JWlC9",
        "outputId": "afeb381b-da84-4f7e-bcea-c97250a95bf3"
      },
      "source": [
        "# Make Predictions\n",
        "y_pred = rfc.predict(X_test)"
      ],
      "execution_count": null,
      "outputs": [
        {
          "data": {
            "text/html": [
              "\n",
              "  <style>\n",
              "    pre {\n",
              "        white-space: pre-wrap;\n",
              "    }\n",
              "  </style>\n",
              "  "
            ],
            "text/plain": [
              "<IPython.core.display.HTML object>"
            ]
          },
          "metadata": {},
          "output_type": "display_data"
        },
        {
          "name": "stderr",
          "output_type": "stream",
          "text": [
            "[Parallel(n_jobs=2)]: Using backend ThreadingBackend with 2 concurrent workers.\n",
            "[Parallel(n_jobs=2)]: Done  28 tasks      | elapsed:    4.0s\n",
            "[Parallel(n_jobs=2)]: Done 100 out of 100 | elapsed:   13.6s finished\n"
          ]
        }
      ]
    },
    {
      "cell_type": "markdown",
      "metadata": {
        "id": "kTaToWK7l-K1"
      },
      "source": [
        "Examine the classification report for performance. First, "
      ]
    },
    {
      "cell_type": "code",
      "metadata": {
        "colab": {
          "base_uri": "https://localhost:8080/",
          "height": 170
        },
        "id": "418BcH-NVB6a",
        "outputId": "c4644e57-faed-430d-f278-cb2d30c741fc"
      },
      "source": [
        "from sklearn.metrics import classification_report, accuracy_score, confusion_matrix\n",
        "%matplotlib inline\n",
        "\n",
        "# Classification Report\n",
        "print(classification_report(y_test, y_pred))"
      ],
      "execution_count": null,
      "outputs": [
        {
          "data": {
            "text/html": [
              "\n",
              "  <style>\n",
              "    pre {\n",
              "        white-space: pre-wrap;\n",
              "    }\n",
              "  </style>\n",
              "  "
            ],
            "text/plain": [
              "<IPython.core.display.HTML object>"
            ]
          },
          "metadata": {},
          "output_type": "display_data"
        },
        {
          "name": "stdout",
          "output_type": "stream",
          "text": [
            "              precision    recall  f1-score   support\n",
            "\n",
            "         0.0       0.54      0.59      0.56    158165\n",
            "         1.0       0.55      0.49      0.52    157949\n",
            "\n",
            "    accuracy                           0.54    316114\n",
            "   macro avg       0.54      0.54      0.54    316114\n",
            "weighted avg       0.54      0.54      0.54    316114\n",
            "\n"
          ]
        }
      ]
    },
    {
      "cell_type": "code",
      "metadata": {
        "colab": {
          "base_uri": "https://localhost:8080/",
          "height": 364
        },
        "id": "3J_MNYD2ltpH",
        "outputId": "21ca6d1e-fae5-4271-b3da-39d3e77ea633"
      },
      "source": [
        "from sklearn.metrics import plot_roc_curve\n",
        "import time\n",
        "\n",
        "# Establish model path\n",
        "mdl_file_path = \"/content/gdrive/My Drive/Colab Notebooks/Kaggle/competitions/tabular-playground-sep2021/\"\n",
        "\n",
        "# ROC curve\n",
        "fig = plt.figure(dpi=300)\n",
        "plot_roc_curve(rfc, X_test, y_test)\n",
        "plt.grid(True)\n",
        "plt.show()\n",
        "roc_file_name = \"roc_rfc_1.1.0_{}.png\".format(time.strftime(\"%Y-%m-%d\"))\n",
        "plt.savefig(mdl_file_path+roc_file_name)"
      ],
      "execution_count": null,
      "outputs": [
        {
          "data": {
            "text/html": [
              "\n",
              "  <style>\n",
              "    pre {\n",
              "        white-space: pre-wrap;\n",
              "    }\n",
              "  </style>\n",
              "  "
            ],
            "text/plain": [
              "<IPython.core.display.HTML object>"
            ]
          },
          "metadata": {},
          "output_type": "display_data"
        },
        {
          "name": "stderr",
          "output_type": "stream",
          "text": [
            "[Parallel(n_jobs=2)]: Using backend ThreadingBackend with 2 concurrent workers.\n",
            "[Parallel(n_jobs=2)]: Done  28 tasks      | elapsed:    4.6s\n",
            "[Parallel(n_jobs=2)]: Done 100 out of 100 | elapsed:   16.4s finished\n"
          ]
        },
        {
          "data": {
            "text/plain": [
              "<Figure size 1800x1200 with 0 Axes>"
            ]
          },
          "metadata": {},
          "output_type": "display_data"
        },
        {
          "data": {
            "image/png": "[encoded data removed]",
            "text/plain": [
              "<Figure size 432x288 with 1 Axes>"
            ]
          },
          "metadata": {},
          "output_type": "display_data"
        },
        {
          "data": {
            "text/plain": [
              "<Figure size 432x288 with 0 Axes>"
            ]
          },
          "metadata": {},
          "output_type": "display_data"
        }
      ]
    },
    {
      "cell_type": "markdown",
      "metadata": {
        "id": "BsGyaX_rvGT6"
      },
      "source": [
        "Calculate the probability that a claim has been filed against the hold out data set, or what Kaggle calls the `test.csv`."
      ]
    },
    {
      "cell_type": "code",
      "metadata": {
        "colab": {
          "base_uri": "https://localhost:8080/",
          "height": 17
        },
        "id": "nXTi4yIxrHca",
        "outputId": "ae473a48-165d-4481-a168-332a2dca76c4"
      },
      "source": [
        "# Filter for the appropriate filters to match the input for rfc_1.1.0\n",
        "df_hold_out_relev = df_main_test[feats_RFE_select]\n",
        "\n",
        "# Use fitted (median) imputer\n",
        "## Fit imputer to relevant data\n",
        "imp_med = imp_med.fit(df_hold_out_relev)\n",
        "## Impute the fitted result\n",
        "df_hold_out_relev = imp_med.transform(df_hold_out_relev)"
      ],
      "execution_count": null,
      "outputs": [
        {
          "data": {
            "text/html": [
              "\n",
              "  <style>\n",
              "    pre {\n",
              "        white-space: pre-wrap;\n",
              "    }\n",
              "  </style>\n",
              "  "
            ],
            "text/plain": [
              "<IPython.core.display.HTML object>"
            ]
          },
          "metadata": {},
          "output_type": "display_data"
        }
      ]
    },
    {
      "cell_type": "code",
      "metadata": {
        "colab": {
          "base_uri": "https://localhost:8080/",
          "height": 68
        },
        "id": "VrXsBHYQu15S",
        "outputId": "2b3a4b7c-392f-4890-eb89-9390a139dda2"
      },
      "source": [
        "# Use the trained model against the hold out data set\n",
        "submission = rfc.predict_proba(df_hold_out_relev)"
      ],
      "execution_count": null,
      "outputs": [
        {
          "data": {
            "text/html": [
              "\n",
              "  <style>\n",
              "    pre {\n",
              "        white-space: pre-wrap;\n",
              "    }\n",
              "  </style>\n",
              "  "
            ],
            "text/plain": [
              "<IPython.core.display.HTML object>"
            ]
          },
          "metadata": {},
          "output_type": "display_data"
        },
        {
          "name": "stderr",
          "output_type": "stream",
          "text": [
            "[Parallel(n_jobs=2)]: Using backend ThreadingBackend with 2 concurrent workers.\n",
            "[Parallel(n_jobs=2)]: Done  28 tasks      | elapsed:    7.8s\n",
            "[Parallel(n_jobs=2)]: Done 100 out of 100 | elapsed:   25.7s finished\n"
          ]
        }
      ]
    },
    {
      "cell_type": "code",
      "metadata": {
        "colab": {
          "base_uri": "https://localhost:8080/",
          "height": 51
        },
        "id": "iyLb-ZoYu5Mu",
        "outputId": "2869b145-3c9d-4dd0-c8c0-a9ed27444f98"
      },
      "source": [
        "# Get the probabilities that a claim has been made\n",
        "submission_claim_pred = submission[:,1]\n",
        "\n",
        "# Obtain the appropriate `id`s from the hold out data set and convert to numpy array\n",
        "submission_ids = np.array(df_main_test.id)\n",
        "\n",
        "# Horizontally concatenate the ids and submission probabilities\n",
        "submission_for_csv = np.concatenate((submission_ids, submission_claim_pred),\n",
        "                                    axis=1)\n",
        "\n",
        "# Send to CSV\n",
        "submission_for_csv = pd.DataFrame(submission_for_csv, columns=[\"id\", \"claim\"])"
      ],
      "execution_count": null,
      "outputs": [
        {
          "data": {
            "text/html": [
              "\n",
              "  <style>\n",
              "    pre {\n",
              "        white-space: pre-wrap;\n",
              "    }\n",
              "  </style>\n",
              "  "
            ],
            "text/plain": [
              "<IPython.core.display.HTML object>"
            ]
          },
          "metadata": {},
          "output_type": "display_data"
        },
        {
          "data": {
            "text/plain": [
              "array([0.54, 0.54, 0.52, 0.62, 0.45, 0.48, 0.54, 0.47, 0.54, 0.6 , 0.44,\n",
              "       0.47, 0.45, 0.42, 0.54, 0.51])"
            ]
          },
          "execution_count": 47,
          "metadata": {},
          "output_type": "execute_result"
        }
      ]
    },
    {
      "cell_type": "code",
      "metadata": {
        "colab": {
          "base_uri": "https://localhost:8080/",
          "height": 17
        },
        "id": "BA9-5zdvwKUI",
        "outputId": "3a931d85-f0e4-4061-a284-52a54e1352a3"
      },
      "source": [
        "# Get the probabilities that a claim has been made\n",
        "submission_claim_pred = submission[:,1].reshape(len(submission), 1)\n",
        "\n",
        "# Obtain the appropriate `id`s from the hold out data set and convert to numpy array\n",
        "submission_ids = np.array(df_main_test.id).reshape(len(df_main_test.id), 1)\n",
        "\n",
        "# Horizontally concatenate the ids and submission probabilities\n",
        "submission_for_csv = np.concatenate((submission_ids, submission_claim_pred),\n",
        "                                    axis=1)\n",
        "\n",
        "\n",
        "# Convert to dataframe and export to csv\n",
        "## Establish model path\n",
        "mdl_file_path = \"/content/gdrive/My Drive/Colab Notebooks/Kaggle/competitions/tabular-playground-sep2021/\"\n",
        "mdl_fldr_path = \"1.1.0\"\n",
        "## Convert\n",
        "submission_for_csv = pd.DataFrame(submission_for_csv, columns=[\"id\", \"claim\"])\n",
        "submission_for_csv[\"id\"] = submission_for_csv[\"id\"].astype(np.int32)\n",
        "## Get Dynamic Filename\n",
        "submission_filename = \"rfc_1.1.0_submission-{}.csv\".format(time.strftime(\"%Y-%m-%d_%H%M%S\"))\n",
        "## Print to .csv\n",
        "submission_for_csv.to_csv(mdl_file_path+submission_filename, index=False)"
      ],
      "execution_count": null,
      "outputs": [
        {
          "data": {
            "text/html": [
              "\n",
              "  <style>\n",
              "    pre {\n",
              "        white-space: pre-wrap;\n",
              "    }\n",
              "  </style>\n",
              "  "
            ],
            "text/plain": [
              "<IPython.core.display.HTML object>"
            ]
          },
          "metadata": {},
          "output_type": "display_data"
        }
      ]
    },
    {
      "cell_type": "markdown",
      "metadata": {
        "id": "ZRurIs-53o7-"
      },
      "source": [
        "Submit to Kaggle competition\\\n",
        "_check paths to include model folder_"
      ]
    },
    {
      "cell_type": "code",
      "metadata": {
        "colab": {
          "base_uri": "https://localhost:8080/",
          "height": 68
        },
        "id": "tnL04v3d5naR",
        "outputId": "157d8e81-477c-46be-8d7c-994d7501f5f5"
      },
      "source": [
        "submission_for_csv.dtypes"
      ],
      "execution_count": null,
      "outputs": [
        {
          "data": {
            "text/html": [
              "\n",
              "  <style>\n",
              "    pre {\n",
              "        white-space: pre-wrap;\n",
              "    }\n",
              "  </style>\n",
              "  "
            ],
            "text/plain": [
              "<IPython.core.display.HTML object>"
            ]
          },
          "metadata": {},
          "output_type": "display_data"
        },
        {
          "data": {
            "text/plain": [
              "id         int32\n",
              "claim    float64\n",
              "dtype: object"
            ]
          },
          "execution_count": 84,
          "metadata": {},
          "output_type": "execute_result"
        }
      ]
    },
    {
      "cell_type": "markdown",
      "metadata": {
        "id": "ODmM2IQJLWyS"
      },
      "source": [
        "Use the Kaggle API to make the submission"
      ]
    },
    {
      "cell_type": "code",
      "metadata": {
        "colab": {
          "base_uri": "https://localhost:8080/",
          "height": 68
        },
        "id": "ZfnVakax1liX",
        "outputId": "3c0ba823-2291-4aef-d5a0-be6dc78b7376"
      },
      "source": [
        "!kaggle competitions submit -f \"/content/gdrive/My Drive/Colab Notebooks/Kaggle/competitions/tabular-playground-sep2021/rfc_1.1.0_submission-2021-09-20_063433.csv\" -m \"submitting subpar model as first pass. used RFE to select features. corrected first submission so that the `id` column is a int32 datatype\"  tabular-playground-series-sep-2021"
      ],
      "execution_count": null,
      "outputs": [
        {
          "data": {
            "text/html": [
              "\n",
              "  <style>\n",
              "    pre {\n",
              "        white-space: pre-wrap;\n",
              "    }\n",
              "  </style>\n",
              "  "
            ],
            "text/plain": [
              "<IPython.core.display.HTML object>"
            ]
          },
          "metadata": {},
          "output_type": "display_data"
        },
        {
          "name": "stdout",
          "output_type": "stream",
          "text": [
            "Warning: Looks like you're using an outdated API Version, please consider updating (server 1.5.12 / client 1.5.4)\n",
            "100% 6.03M/6.03M [00:00<00:00, 17.2MB/s]\n",
            "Successfully submitted to Tabular Playground Series - Sep 2021"
          ]
        }
      ]
    },
    {
      "cell_type": "markdown",
      "metadata": {
        "id": "QBczU62Wdjh9"
      },
      "source": [
        ""
      ]
    },
    {
      "cell_type": "markdown",
      "metadata": {
        "id": "RWSOhIMhrgfB"
      },
      "source": [
        "#### ml-2.2.1 | No RFE | Support Vector Classifier (SVC) | RandomGridSearchCV\n",
        "\n",
        "Instead of using the RFE feature selection processs to reduce the width of the dataset, this \"no RFE\" pathway will incorporate all features.\n",
        "\n",
        "To prepare the data, we will implement a pipeline that will:\n",
        "- create a new feature that sums the missing value across and another feature that sums the normalized values across each row\n",
        "- imputes the missing data with the median value\n",
        "- scales (normalizes) data within each column/feature\n",
        "\n",
        "_Keep in mind, to use this subsection, be sure to execute cells within the \"Normalize Information and Engineer Features\" subsection_"
      ]
    },
    {
      "cell_type": "markdown",
      "metadata": {
        "id": "QT22zHIit7Wd"
      },
      "source": [
        "##### Create a Pipeline | GridSearch Inside Pipeline\n",
        "\n",
        "A [pipeline](https://medium.com/vickdata/a-simple-guide-to-scikit-learn-pipelines-4ac0d974bdcf) will connect preprocessing steps to the implementation of the machine learning model. \n",
        "\n",
        "As described above, imputation, normalization, and light feature engineering are incorporated into the pipeline. Additionally, a [Support Vector Classifier (SVC)]() will also be added to the pipeline. The parameters for the SVC will be randomly drawn and the model runs will be cross-valdidated with the [`RandomizedSearchCV()`](https://scikit-learn.org/stable/modules/generated/sklearn.model_selection.RandomizedSearchCV.html). \n",
        "\n",
        "SVC, a member of the Support Vector Machine (SVM) family, is a discriminative classifier that uses labeled training data and ouputs an optimal hyperplane to categorize new examples. In other words, the line(s) separating the labelled classes in the trained model are used to categorize incoming data."
      ]
    },
    {
      "cell_type": "code",
      "metadata": {
        "colab": {
          "base_uri": "https://localhost:8080/",
          "height": 17
        },
        "id": "vEy5a1oHtRPh",
        "outputId": "325dd74e-d357-4665-d1c7-18a742fca2cf"
      },
      "source": [
        "from sklearn.pipeline import make_pipeline\n",
        "from sklearn.model_selection import RandomizedSearchCV\n",
        "from sklearn.svm import SVC\n",
        "from sklearn.metrics import f1_score, make_scorer\n",
        "\n",
        "# SVMClassifier\n",
        "svc_clf = SVC(random_state=0, verbose=True)\n",
        "\n",
        "# Design Scoring Function\n",
        "f1_scorer = make_scorer(f1_score, average=\"binary\")\n",
        "\n",
        "# Parameter Grid\n",
        "param_grid = {\n",
        "    \"kernel\":[\"rbf\", \"linear\"],\n",
        "    \"C\":[int(x) for x in np.linspace(0.01, 100, num = 15)]\n",
        "    }\n",
        "\n",
        "# Create a pipeline to train a model with the preprocessing steps mentioned in \"Normalization Information and Engineer Features\" section\n",
        "svc_rnd_grid = make_pipeline(CombinedAttributesAdder(),\n",
        "                             imp_med,\n",
        "                             scaler,\n",
        "                             RandomizedSearchCV(estimator = svc_clf,\n",
        "                                                param_distributions = param_grid,\n",
        "                                                n_iter = 12,\n",
        "                                                cv = 3,\n",
        "                                                scoring = f1_scorer,\n",
        "                                                random_state = 0,\n",
        "                                                verbose=3)\n",
        ")\n",
        "\n",
        "# Corrected version of make_pipeline https://stackoverflow.com/questions/40708077/what-is-the-difference-between-pipeline-and-make-pipeline-in-scikit\n",
        "svc_rnd_grid = make_pipeline(\n",
        "    CombinedAttributesAdder(),\n",
        "    imp_med,\n",
        "    scaler,\n",
        "    svc_clf\n",
        ")"
      ],
      "execution_count": null,
      "outputs": [
        {
          "output_type": "display_data",
          "data": {
            "text/html": [
              "\n",
              "  <style>\n",
              "    pre {\n",
              "        white-space: pre-wrap;\n",
              "    }\n",
              "  </style>\n",
              "  "
            ],
            "text/plain": [
              "<IPython.core.display.HTML object>"
            ]
          },
          "metadata": {}
        }
      ]
    },
    {
      "cell_type": "markdown",
      "metadata": {
        "id": "UXMvhcIx_tjC"
      },
      "source": [
        "###### Prepare the data for fitting\n",
        "\n",
        "Since we will be running a cross-fold validation (cv), we will not split the training data into train and test. This is a little risky because we will not be able to evaluate the training data as well if we made the split; however, we can view the cv results to understand how well the fits for each partition are scored.\n",
        "\n",
        "The features will include all of the variables except the `id` and the `claim`. Of course, the target will include just the `claim` as a series."
      ]
    },
    {
      "cell_type": "code",
      "metadata": {
        "colab": {
          "base_uri": "https://localhost:8080/",
          "height": 17
        },
        "id": "6VBYorz0_pzS",
        "outputId": "c4423803-949a-43eb-ee6f-e99d34f4e8af"
      },
      "source": [
        "# Prepare data for modeling\n",
        "## Separate target from features (i.e. remove the \"id\" and the \"claim\" from the feature set)\n",
        "X = df_main_train.iloc[:,1:-1]\n",
        "## Isolate \"claim\" as the target variable\n",
        "y = df_main_train.iloc[:,-1]"
      ],
      "execution_count": null,
      "outputs": [
        {
          "output_type": "display_data",
          "data": {
            "text/html": [
              "\n",
              "  <style>\n",
              "    pre {\n",
              "        white-space: pre-wrap;\n",
              "    }\n",
              "  </style>\n",
              "  "
            ],
            "text/plain": [
              "<IPython.core.display.HTML object>"
            ]
          },
          "metadata": {}
        }
      ]
    },
    {
      "cell_type": "markdown",
      "metadata": {
        "id": "6iolE8fYAaTw"
      },
      "source": [
        "###### Fit the pipeline to the prepped data"
      ]
    },
    {
      "cell_type": "code",
      "metadata": {
        "colab": {
          "background_save": true,
          "base_uri": "https://localhost:8080/",
          "height": 34
        },
        "id": "Fz_qI0s6DljJ",
        "outputId": "7b535e8a-a4bd-4613-da2a-b9b0c271da5e"
      },
      "source": [
        "svc_rnd_grid.fit(X, y)"
      ],
      "execution_count": null,
      "outputs": [
        {
          "output_type": "display_data",
          "data": {
            "text/html": [
              "\n",
              "  <style>\n",
              "    pre {\n",
              "        white-space: pre-wrap;\n",
              "    }\n",
              "  </style>\n",
              "  "
            ],
            "text/plain": [
              "<IPython.core.display.HTML object>"
            ]
          },
          "metadata": {}
        },
        {
          "output_type": "stream",
          "name": "stdout",
          "text": [
            "[LibSVM]"
          ]
        }
      ]
    },
    {
      "cell_type": "markdown",
      "metadata": {
        "id": "yznbfC7iAyPb"
      },
      "source": [
        "###### Pickle pipeline for later\n",
        "\n",
        "Save the fitted pipeline to be used at a later date"
      ]
    },
    {
      "cell_type": "code",
      "metadata": {
        "id": "rzZ6ojanAyPj"
      },
      "source": [
        "import pickle\n",
        "\n",
        "# Establish model path\n",
        "mdl_file_path = \"/content/gdrive/My Drive/Colab Notebooks/Kaggle/competitions/tabular-playground-sep2021/\"\n",
        "# Dump model into pickled file\n",
        "with open(mdl_file_path+\"mdl_2.2.1-pipe.pickle\", \"wb\") as file:\n",
        "  pickle.dump(svc_rnd_grid, file)"
      ],
      "execution_count": null,
      "outputs": []
    },
    {
      "cell_type": "markdown",
      "metadata": {
        "id": "Y3Ex6lC3AyPk"
      },
      "source": [
        "###### Create submission | GridSearch in Pipeline\n",
        "\n",
        "In order to submit to the competition, use the fitted pipeline to predict the unknown claims using the hold out feature set. This should create a two column `.csv` file that will be uploaded to the Kaggle competition."
      ]
    },
    {
      "cell_type": "code",
      "metadata": {
        "id": "lRnO4V15B8wt"
      },
      "source": [
        "# Prepare data for modeling\n",
        "## Separate target from features (i.e. remove the \"id\" and the \"claim\" from the feature set)\n",
        "X_hold_out = df_main_test.iloc[:,1:]"
      ],
      "execution_count": null,
      "outputs": []
    },
    {
      "cell_type": "code",
      "metadata": {
        "id": "0x2nLMNGAyPk"
      },
      "source": [
        "submission = svc_rnd_grid.predict_proba(X_hold_out)"
      ],
      "execution_count": null,
      "outputs": []
    },
    {
      "cell_type": "code",
      "metadata": {
        "id": "orkuHHFdAyPk"
      },
      "source": [
        "import time\n",
        "\n",
        "# Get the probabilities that a claim has been made\n",
        "submission_claim_pred = submission[:,1].reshape(len(submission), 1)\n",
        "\n",
        "# Obtain the appropriate `id`s from the hold out data set and convert to numpy array\n",
        "submission_ids = np.array(df_main_test.id).reshape(len(df_main_test.id), 1)\n",
        "\n",
        "# Horizontally concatenate the ids and submission probabilities\n",
        "submission_for_csv = np.concatenate((submission_ids, submission_claim_pred),\n",
        "                                    axis=1)\n",
        "\n",
        "\n",
        "# Convert to dataframe and export to csv\n",
        "## Establish model path\n",
        "mdl_file_path = \"/content/gdrive/My Drive/Colab Notebooks/Kaggle/competitions/tabular-playground-sep2021/\"\n",
        "mdl_fldr_path = \"2.2.1\"\n",
        "## Convert\n",
        "submission_for_csv = pd.DataFrame(submission_for_csv, columns=[\"id\", \"claim\"])\n",
        "submission_for_csv[\"id\"] = submission_for_csv[\"id\"].astype(np.int32)\n",
        "## Get Dynamic Filename\n",
        "submission_filename = \"svm_clf.2.2.1_submission-{}.csv\".format(time.strftime(\"%Y-%m-%d_%H%M%S\"))\n",
        "## Print to .csv\n",
        "submission_for_csv.to_csv(mdl_file_path+submission_filename, index=False)"
      ],
      "execution_count": null,
      "outputs": []
    },
    {
      "cell_type": "markdown",
      "metadata": {
        "id": "Z5FVjR00AyPk"
      },
      "source": [
        "###### Submit results | GridSearch in Pipeline\n",
        "\n",
        "Submit results from hold out data prediction to the Kaggle competition through the API"
      ]
    },
    {
      "cell_type": "code",
      "metadata": {
        "colab": {
          "base_uri": "https://localhost:8080/"
        },
        "id": "hsgS2XaxAyPk",
        "outputId": "954fb0b7-6a1e-4132-92c4-8e31e66ea189"
      },
      "source": [
        "!kaggle competitions submit -f \"/content/gdrive/My Drive/Colab Notebooks/Kaggle/competitions/tabular-playground-sep2021/light_gbm_clf.2.1.3_submission-2021-09-27_165748.csv\" -m \"submitting blindly since model will finish while at work. this is a lightgbm model using some fe and median imputer\"  tabular-playground-series-sep-2021"
      ],
      "execution_count": null,
      "outputs": [
        {
          "name": "stdout",
          "output_type": "stream",
          "text": [
            "Warning: Looks like you're using an outdated API Version, please consider updating (server 1.5.12 / client 1.5.4)\n",
            "100% 12.8M/12.8M [00:00<00:00, 25.9MB/s]\n",
            "Successfully submitted to Tabular Playground Series - Sep 2021"
          ]
        }
      ]
    },
    {
      "cell_type": "code",
      "metadata": {
        "id": "9wNYbz2oAaTx"
      },
      "source": [
        "svc_rnd_grid.fit(X, y)"
      ],
      "execution_count": null,
      "outputs": []
    },
    {
      "cell_type": "markdown",
      "metadata": {
        "id": "y8W23sypd3We"
      },
      "source": [
        "#### ml-2.3.1 | No RFE | LightGradient Boosting | RandomGridSearchCV\n",
        "Instead of using the RFE feature selection processs to reduce the width of the dataset, this \"no RFE\" pathway will incorporate all features.\n",
        "\n",
        "To prepare the data, we will implement a pipeline that will:\n",
        "- create a new feature that sums the missing value across and another feature that sums the normalized values across each row\n",
        "- imputes the missing data with the median value\n",
        "- scales (normalizes) data within each column/feature\n",
        "\n",
        "_Keep in mind, to use this subsection, be sure to execute cells within the \"Normalize Information and Engineer Features\" subsection_"
      ]
    },
    {
      "cell_type": "code",
      "metadata": {
        "colab": {
          "base_uri": "https://localhost:8080/"
        },
        "id": "-SaiiJRJi4oL",
        "outputId": "2fa572a6-3c71-4705-9e6a-e8a90a00108a"
      },
      "source": [
        "!pip install lightgbm"
      ],
      "execution_count": null,
      "outputs": [
        {
          "name": "stdout",
          "output_type": "stream",
          "text": [
            "Requirement already satisfied: lightgbm in /usr/local/lib/python3.7/dist-packages (2.2.3)\n",
            "Requirement already satisfied: scipy in /usr/local/lib/python3.7/dist-packages (from lightgbm) (1.4.1)\n",
            "Requirement already satisfied: scikit-learn in /usr/local/lib/python3.7/dist-packages (from lightgbm) (0.22.2.post1)\n",
            "Requirement already satisfied: numpy in /usr/local/lib/python3.7/dist-packages (from lightgbm) (1.19.5)\n",
            "Requirement already satisfied: joblib>=0.11 in /usr/local/lib/python3.7/dist-packages (from scikit-learn->lightgbm) (1.0.1)\n"
          ]
        }
      ]
    },
    {
      "cell_type": "markdown",
      "metadata": {
        "id": "vziEuaREs2l9"
      },
      "source": [
        "##### Create the Pipeline | GridSearch in Pipeline\n",
        "\n",
        "A [pipeline](https://medium.com/vickdata/a-simple-guide-to-scikit-learn-pipelines-4ac0d974bdcf) will connect preprocessing steps to the implementation of the machine learning model. \n",
        "\n",
        "As described above, imputation, normalization, and light feature engineering are incorporated into the pipeline. Additionally, a [Light GBM Classifier](https://papers.nips.cc/paper/2017/file/6449f44a102fde848669bdd9eb6b76fa-Paper.pdf), which was recently developed by Mircrosoft, enhances the performance of a gradient boosting decision tree (GBDT). _-add more text here about LightGBM-_"
      ]
    },
    {
      "cell_type": "code",
      "metadata": {
        "id": "oypro0FEfq0l"
      },
      "source": [
        "from sklearn.pipeline import make_pipeline\n",
        "from sklearn.model_selection import RandomizedSearchCV\n",
        "from lightgbm import LGBMClassifier\n",
        "from sklearn.metrics import f1_score, make_scorer\n",
        "\n",
        "# LightGBM Classifier\n",
        "lightGB_clf = LGBMClassifier(random_state=0, \n",
        "                             silent=False, \n",
        "                             objective=\"binary\")\n",
        "\n",
        "# Design Scoring Function\n",
        "f1_scorer = make_scorer(f1_score, average=\"binary\")\n",
        "\n",
        "# Parameter Grid\n",
        "param_grid = {\n",
        "    \"boosting_type\":[\"gbdt\", \"goss\"],\n",
        "    \"num_leaves\":[int(x) for x in np.linspace(10, 110, num = 11)],\n",
        "    \"max_depth\":[int(x) for x in np.linspace(-1, 11, num = 5)],\n",
        "    \"learning_rate\":[x for x in np.linspace(0.1, 0.5, num = 3)],\n",
        "    \"n_estimators\":[int(x) for x in np.linspace(50, 250, num = 5)]\n",
        "    }\n",
        "\n",
        "# Create a pipeline to train a model with the preprocessing steps mentioned in \"Normalization Information and Engineer Features\" section\n",
        "lightGB_rnd_grid = make_pipeline(CombinedAttributesAdder(),\n",
        "                                 imp_med,\n",
        "                                 scaler,\n",
        "                                 RandomizedSearchCV(estimator = lightGB_clf,\n",
        "                                                    param_distributions = param_grid,\n",
        "                                                    n_iter = 12,\n",
        "                                                    cv = 3,\n",
        "                                                    scoring = f1_scorer,\n",
        "                                                    random_state = 0,\n",
        "                                                    verbose=3)\n",
        ")\n",
        "\n",
        "# Corrected version of make_pipeline https://stackoverflow.com/questions/40708077/what-is-the-difference-between-pipeline-and-make-pipeline-in-scikit\n",
        "lightGB_rnd_pipe = make_pipeline(\n",
        "    CombinedAttributesAdder(),\n",
        "    imp_med,\n",
        "    scaler,\n",
        "    lightGB_clf\n",
        ")"
      ],
      "execution_count": null,
      "outputs": []
    },
    {
      "cell_type": "markdown",
      "metadata": {
        "id": "FEJb9vdJqufa"
      },
      "source": [
        "###### Prepare the data for fitting\n",
        "\n",
        "Since we will be running a cross-fold validation (cv), we will not split the training data into train and test. This is a little risky because we will not be able to evaluate the training data as well if we made the split; however, we can view the cv results to understand how well the fits for each partition are scored.\n",
        "\n",
        "The features will include all of the variables except the `id` and the `claim`. Of course, the target will include just the `claim` as a series."
      ]
    },
    {
      "cell_type": "code",
      "metadata": {
        "id": "bCfq47BUu5QL"
      },
      "source": [
        "# Prepare data for modeling\n",
        "## Separate target from features (i.e. remove the \"id\" and the \"claim\" from the feature set)\n",
        "X = df_main_train.iloc[:,1:-1]\n",
        "## Isolate \"claim\" as the target variable\n",
        "y = df_main_train.iloc[:,-1]\n"
      ],
      "execution_count": null,
      "outputs": []
    },
    {
      "cell_type": "markdown",
      "metadata": {
        "id": "TdCCxzx7s8hT"
      },
      "source": [
        "###### Fit the pipeline to the prepped data"
      ]
    },
    {
      "cell_type": "code",
      "metadata": {
        "colab": {
          "base_uri": "https://localhost:8080/"
        },
        "id": "q1p7hdvWnQPv",
        "outputId": "e6aad99c-2158-4d36-8d9e-575b8c3f9c24"
      },
      "source": [
        "lightGB_rnd_grid.fit(X, y)"
      ],
      "execution_count": null,
      "outputs": [
        {
          "name": "stdout",
          "output_type": "stream",
          "text": [
            "Fitting 3 folds for each of 12 candidates, totalling 36 fits\n",
            "[CV] num_leaves=30, n_estimators=150, max_depth=5, learning_rate=0.5, boosting_type=gbdt \n"
          ]
        },
        {
          "name": "stderr",
          "output_type": "stream",
          "text": [
            "[Parallel(n_jobs=1)]: Using backend SequentialBackend with 1 concurrent workers.\n"
          ]
        },
        {
          "name": "stdout",
          "output_type": "stream",
          "text": [
            "[CV]  num_leaves=30, n_estimators=150, max_depth=5, learning_rate=0.5, boosting_type=gbdt, score=0.790, total=  54.3s\n",
            "[CV] num_leaves=30, n_estimators=150, max_depth=5, learning_rate=0.5, boosting_type=gbdt \n"
          ]
        },
        {
          "name": "stderr",
          "output_type": "stream",
          "text": [
            "[Parallel(n_jobs=1)]: Done   1 out of   1 | elapsed:   54.4s remaining:    0.0s\n"
          ]
        },
        {
          "name": "stdout",
          "output_type": "stream",
          "text": [
            "[CV]  num_leaves=30, n_estimators=150, max_depth=5, learning_rate=0.5, boosting_type=gbdt, score=0.788, total=  53.0s\n",
            "[CV] num_leaves=30, n_estimators=150, max_depth=5, learning_rate=0.5, boosting_type=gbdt \n"
          ]
        },
        {
          "name": "stderr",
          "output_type": "stream",
          "text": [
            "[Parallel(n_jobs=1)]: Done   2 out of   2 | elapsed:  1.8min remaining:    0.0s\n"
          ]
        },
        {
          "name": "stdout",
          "output_type": "stream",
          "text": [
            "[CV]  num_leaves=30, n_estimators=150, max_depth=5, learning_rate=0.5, boosting_type=gbdt, score=0.789, total=  53.7s\n",
            "[CV] num_leaves=100, n_estimators=50, max_depth=-1, learning_rate=0.5, boosting_type=gbdt \n",
            "[CV]  num_leaves=100, n_estimators=50, max_depth=-1, learning_rate=0.5, boosting_type=gbdt, score=0.786, total=  34.7s\n",
            "[CV] num_leaves=100, n_estimators=50, max_depth=-1, learning_rate=0.5, boosting_type=gbdt \n",
            "[CV]  num_leaves=100, n_estimators=50, max_depth=-1, learning_rate=0.5, boosting_type=gbdt, score=0.785, total=  35.0s\n",
            "[CV] num_leaves=100, n_estimators=50, max_depth=-1, learning_rate=0.5, boosting_type=gbdt \n",
            "[CV]  num_leaves=100, n_estimators=50, max_depth=-1, learning_rate=0.5, boosting_type=gbdt, score=0.785, total=  35.0s\n",
            "[CV] num_leaves=70, n_estimators=50, max_depth=5, learning_rate=0.30000000000000004, boosting_type=goss \n",
            "[CV]  num_leaves=70, n_estimators=50, max_depth=5, learning_rate=0.30000000000000004, boosting_type=goss, score=0.793, total=  18.1s\n",
            "[CV] num_leaves=70, n_estimators=50, max_depth=5, learning_rate=0.30000000000000004, boosting_type=goss \n",
            "[CV]  num_leaves=70, n_estimators=50, max_depth=5, learning_rate=0.30000000000000004, boosting_type=goss, score=0.792, total=  18.1s\n",
            "[CV] num_leaves=70, n_estimators=50, max_depth=5, learning_rate=0.30000000000000004, boosting_type=goss \n",
            "[CV]  num_leaves=70, n_estimators=50, max_depth=5, learning_rate=0.30000000000000004, boosting_type=goss, score=0.792, total=  18.1s\n",
            "[CV] num_leaves=110, n_estimators=50, max_depth=-1, learning_rate=0.1, boosting_type=goss \n",
            "[CV]  num_leaves=110, n_estimators=50, max_depth=-1, learning_rate=0.1, boosting_type=goss, score=0.795, total=  28.6s\n",
            "[CV] num_leaves=110, n_estimators=50, max_depth=-1, learning_rate=0.1, boosting_type=goss \n",
            "[CV]  num_leaves=110, n_estimators=50, max_depth=-1, learning_rate=0.1, boosting_type=goss, score=0.794, total=  28.7s\n",
            "[CV] num_leaves=110, n_estimators=50, max_depth=-1, learning_rate=0.1, boosting_type=goss \n",
            "[CV]  num_leaves=110, n_estimators=50, max_depth=-1, learning_rate=0.1, boosting_type=goss, score=0.795, total=  28.7s\n",
            "[CV] num_leaves=50, n_estimators=250, max_depth=8, learning_rate=0.5, boosting_type=gbdt \n",
            "[CV]  num_leaves=50, n_estimators=250, max_depth=8, learning_rate=0.5, boosting_type=gbdt, score=0.777, total= 1.4min\n",
            "[CV] num_leaves=50, n_estimators=250, max_depth=8, learning_rate=0.5, boosting_type=gbdt \n",
            "[CV]  num_leaves=50, n_estimators=250, max_depth=8, learning_rate=0.5, boosting_type=gbdt, score=0.776, total= 1.4min\n",
            "[CV] num_leaves=50, n_estimators=250, max_depth=8, learning_rate=0.5, boosting_type=gbdt \n",
            "[CV]  num_leaves=50, n_estimators=250, max_depth=8, learning_rate=0.5, boosting_type=gbdt, score=0.777, total= 1.4min\n",
            "[CV] num_leaves=90, n_estimators=50, max_depth=-1, learning_rate=0.5, boosting_type=goss \n",
            "[CV]  num_leaves=90, n_estimators=50, max_depth=-1, learning_rate=0.5, boosting_type=goss, score=0.774, total=  21.0s\n",
            "[CV] num_leaves=90, n_estimators=50, max_depth=-1, learning_rate=0.5, boosting_type=goss \n",
            "[CV]  num_leaves=90, n_estimators=50, max_depth=-1, learning_rate=0.5, boosting_type=goss, score=0.764, total=  21.0s\n",
            "[CV] num_leaves=90, n_estimators=50, max_depth=-1, learning_rate=0.5, boosting_type=goss \n",
            "[CV]  num_leaves=90, n_estimators=50, max_depth=-1, learning_rate=0.5, boosting_type=goss, score=0.767, total=  21.2s\n",
            "[CV] num_leaves=110, n_estimators=200, max_depth=8, learning_rate=0.1, boosting_type=goss \n",
            "[CV]  num_leaves=110, n_estimators=200, max_depth=8, learning_rate=0.1, boosting_type=goss, score=0.789, total= 1.3min\n",
            "[CV] num_leaves=110, n_estimators=200, max_depth=8, learning_rate=0.1, boosting_type=goss \n",
            "[CV]  num_leaves=110, n_estimators=200, max_depth=8, learning_rate=0.1, boosting_type=goss, score=0.789, total= 1.3min\n",
            "[CV] num_leaves=110, n_estimators=200, max_depth=8, learning_rate=0.1, boosting_type=goss \n",
            "[CV]  num_leaves=110, n_estimators=200, max_depth=8, learning_rate=0.1, boosting_type=goss, score=0.789, total= 1.3min\n",
            "[CV] num_leaves=30, n_estimators=50, max_depth=-1, learning_rate=0.30000000000000004, boosting_type=gbdt \n",
            "[CV]  num_leaves=30, n_estimators=50, max_depth=-1, learning_rate=0.30000000000000004, boosting_type=gbdt, score=0.796, total=  29.5s\n",
            "[CV] num_leaves=30, n_estimators=50, max_depth=-1, learning_rate=0.30000000000000004, boosting_type=gbdt \n",
            "[CV]  num_leaves=30, n_estimators=50, max_depth=-1, learning_rate=0.30000000000000004, boosting_type=gbdt, score=0.795, total=  29.7s\n",
            "[CV] num_leaves=30, n_estimators=50, max_depth=-1, learning_rate=0.30000000000000004, boosting_type=gbdt \n",
            "[CV]  num_leaves=30, n_estimators=50, max_depth=-1, learning_rate=0.30000000000000004, boosting_type=gbdt, score=0.795, total=  29.8s\n",
            "[CV] num_leaves=60, n_estimators=250, max_depth=-1, learning_rate=0.5, boosting_type=gbdt \n",
            "[CV]  num_leaves=60, n_estimators=250, max_depth=-1, learning_rate=0.5, boosting_type=gbdt, score=0.772, total= 1.5min\n",
            "[CV] num_leaves=60, n_estimators=250, max_depth=-1, learning_rate=0.5, boosting_type=gbdt \n",
            "[CV]  num_leaves=60, n_estimators=250, max_depth=-1, learning_rate=0.5, boosting_type=gbdt, score=0.771, total= 1.5min\n",
            "[CV] num_leaves=60, n_estimators=250, max_depth=-1, learning_rate=0.5, boosting_type=gbdt \n",
            "[CV]  num_leaves=60, n_estimators=250, max_depth=-1, learning_rate=0.5, boosting_type=gbdt, score=0.772, total= 1.5min\n",
            "[CV] num_leaves=60, n_estimators=250, max_depth=11, learning_rate=0.1, boosting_type=goss \n",
            "[CV]  num_leaves=60, n_estimators=250, max_depth=11, learning_rate=0.1, boosting_type=goss, score=0.792, total= 1.3min\n",
            "[CV] num_leaves=60, n_estimators=250, max_depth=11, learning_rate=0.1, boosting_type=goss \n",
            "[CV]  num_leaves=60, n_estimators=250, max_depth=11, learning_rate=0.1, boosting_type=goss, score=0.791, total= 1.3min\n",
            "[CV] num_leaves=60, n_estimators=250, max_depth=11, learning_rate=0.1, boosting_type=goss \n",
            "[CV]  num_leaves=60, n_estimators=250, max_depth=11, learning_rate=0.1, boosting_type=goss, score=0.792, total= 1.3min\n",
            "[CV] num_leaves=10, n_estimators=100, max_depth=5, learning_rate=0.5, boosting_type=goss \n",
            "[CV]  num_leaves=10, n_estimators=100, max_depth=5, learning_rate=0.5, boosting_type=goss, score=0.789, total=  23.5s\n",
            "[CV] num_leaves=10, n_estimators=100, max_depth=5, learning_rate=0.5, boosting_type=goss \n",
            "[CV]  num_leaves=10, n_estimators=100, max_depth=5, learning_rate=0.5, boosting_type=goss, score=0.789, total=  23.4s\n",
            "[CV] num_leaves=10, n_estimators=100, max_depth=5, learning_rate=0.5, boosting_type=goss \n",
            "[CV]  num_leaves=10, n_estimators=100, max_depth=5, learning_rate=0.5, boosting_type=goss, score=0.790, total=  23.8s\n",
            "[CV] num_leaves=70, n_estimators=250, max_depth=-1, learning_rate=0.5, boosting_type=gbdt \n",
            "[CV]  num_leaves=70, n_estimators=250, max_depth=-1, learning_rate=0.5, boosting_type=gbdt, score=0.770, total= 1.6min\n",
            "[CV] num_leaves=70, n_estimators=250, max_depth=-1, learning_rate=0.5, boosting_type=gbdt \n",
            "[CV]  num_leaves=70, n_estimators=250, max_depth=-1, learning_rate=0.5, boosting_type=gbdt, score=0.769, total= 1.5min\n",
            "[CV] num_leaves=70, n_estimators=250, max_depth=-1, learning_rate=0.5, boosting_type=gbdt \n",
            "[CV]  num_leaves=70, n_estimators=250, max_depth=-1, learning_rate=0.5, boosting_type=gbdt, score=0.769, total= 1.5min\n"
          ]
        },
        {
          "name": "stderr",
          "output_type": "stream",
          "text": [
            "[Parallel(n_jobs=1)]: Done  36 out of  36 | elapsed: 31.6min finished\n"
          ]
        },
        {
          "data": {
            "text/plain": [
              "Pipeline(memory=None,\n",
              "         steps=[('combinedattributesadder',\n",
              "                 CombinedAttributesAdder(add_num_nan=True, add_sum=True)),\n",
              "                ('simpleimputer',\n",
              "                 SimpleImputer(add_indicator=False, copy=True, fill_value=None,\n",
              "                               missing_values=nan, strategy='median',\n",
              "                               verbose=3)),\n",
              "                ('standardscaler',\n",
              "                 StandardScaler(copy=True, with_mean=True, with_std=True)),\n",
              "                ('randomizedsearchcv',\n",
              "                 RandomizedSearchC...\n",
              "                                    param_distributions={'boosting_type': ['gbdt',\n",
              "                                                                           'goss'],\n",
              "                                                         'learning_rate': [0.1,\n",
              "                                                                           0.30000000000000004,\n",
              "                                                                           0.5],\n",
              "                                                         'max_depth': [-1, 2, 5,\n",
              "                                                                       8, 11],\n",
              "                                                         'n_estimators': [50,\n",
              "                                                                          100,\n",
              "                                                                          150,\n",
              "                                                                          200,\n",
              "                                                                          250],\n",
              "                                                         'num_leaves': [10, 20,\n",
              "                                                                        30, 40,\n",
              "                                                                        50, 60,\n",
              "                                                                        70, 80,\n",
              "                                                                        90, 100,\n",
              "                                                                        110]},\n",
              "                                    pre_dispatch='2*n_jobs', random_state=0,\n",
              "                                    refit=True, return_train_score=False,\n",
              "                                    scoring=make_scorer(f1_score, average=binary),\n",
              "                                    verbose=3))],\n",
              "         verbose=False)"
            ]
          },
          "execution_count": 32,
          "metadata": {},
          "output_type": "execute_result"
        }
      ]
    },
    {
      "cell_type": "markdown",
      "metadata": {
        "id": "rtVbwCu8voL-"
      },
      "source": [
        "###### Pickle pipeline for later\n",
        "\n",
        "Save the fitted pipeline to be used at a later date"
      ]
    },
    {
      "cell_type": "code",
      "metadata": {
        "id": "EEb-UBJsnfEq"
      },
      "source": [
        "import pickle\n",
        "\n",
        "# Establish model path\n",
        "mdl_file_path = \"/content/gdrive/My Drive/Colab Notebooks/Kaggle/competitions/tabular-playground-sep2021/\"\n",
        "# Dump model into pickled file\n",
        "with open(mdl_file_path+\"mdl_2.3.1-pipe.pickle\", \"wb\") as file:\n",
        "  pickle.dump(lightGB_rnd_grid, file)"
      ],
      "execution_count": null,
      "outputs": []
    },
    {
      "cell_type": "markdown",
      "metadata": {
        "id": "tdhr3BOfwg7e"
      },
      "source": [
        "###### Create submission | GridSearch in Pipeline\n",
        "\n",
        "In order to submit to the competition, use the fitted pipeline to predict the unknown claims using the hold out feature set. This should create a two column `.csv` file that will be uploaded to the Kaggle competition."
      ]
    },
    {
      "cell_type": "code",
      "metadata": {
        "id": "gKuhOY3ifCl3"
      },
      "source": [
        "# Prepare data for modeling\n",
        "## Separate target from features (i.e. remove the \"id\" and the \"claim\" from the feature set)\n",
        "X_hold_out = df_main_test.iloc[:,1:]"
      ],
      "execution_count": null,
      "outputs": []
    },
    {
      "cell_type": "code",
      "metadata": {
        "id": "NVlN-8IZh3UL"
      },
      "source": [
        "submission = lightGB_rnd_grid.predict_proba(X_hold_out)"
      ],
      "execution_count": null,
      "outputs": []
    },
    {
      "cell_type": "code",
      "metadata": {
        "id": "Ei5D58mhISpS"
      },
      "source": [
        "import time\n",
        "\n",
        "# Get the probabilities that a claim has been made\n",
        "submission_claim_pred = submission[:,1].reshape(len(submission), 1)\n",
        "\n",
        "# Obtain the appropriate `id`s from the hold out data set and convert to numpy array\n",
        "submission_ids = np.array(df_main_test.id).reshape(len(df_main_test.id), 1)\n",
        "\n",
        "# Horizontally concatenate the ids and submission probabilities\n",
        "submission_for_csv = np.concatenate((submission_ids, submission_claim_pred),\n",
        "                                    axis=1)\n",
        "\n",
        "\n",
        "# Convert to dataframe and export to csv\n",
        "## Establish model path\n",
        "mdl_file_path = \"/content/gdrive/My Drive/Colab Notebooks/Kaggle/competitions/tabular-playground-sep2021/\"\n",
        "mdl_fldr_path = \"2.3.1\"\n",
        "## Convert\n",
        "submission_for_csv = pd.DataFrame(submission_for_csv, columns=[\"id\", \"claim\"])\n",
        "submission_for_csv[\"id\"] = submission_for_csv[\"id\"].astype(np.int32)\n",
        "## Get Dynamic Filename\n",
        "submission_filename = \"light_gbm_clf.2.1.3_submission-{}.csv\".format(time.strftime(\"%Y-%m-%d_%H%M%S\"))\n",
        "## Print to .csv\n",
        "submission_for_csv.to_csv(mdl_file_path+submission_filename, index=False)"
      ],
      "execution_count": null,
      "outputs": []
    },
    {
      "cell_type": "markdown",
      "metadata": {
        "id": "fD6aCNxhNZjj"
      },
      "source": [
        "###### Submit results | GridSearch in Pipeline\n",
        "\n",
        "Submit results from hold out data prediction to the Kaggle competition through the API"
      ]
    },
    {
      "cell_type": "code",
      "metadata": {
        "colab": {
          "base_uri": "https://localhost:8080/"
        },
        "id": "-RiaC_3CMVpi",
        "outputId": "954fb0b7-6a1e-4132-92c4-8e31e66ea189"
      },
      "source": [
        "!kaggle competitions submit -f \"/content/gdrive/My Drive/Colab Notebooks/Kaggle/competitions/tabular-playground-sep2021/light_gbm_clf.2.1.3_submission-2021-09-27_165748.csv\" -m \"submitting blindly since model will finish while at work. this is a lightgbm model using some fe and median imputer\"  tabular-playground-series-sep-2021"
      ],
      "execution_count": null,
      "outputs": [
        {
          "name": "stdout",
          "output_type": "stream",
          "text": [
            "Warning: Looks like you're using an outdated API Version, please consider updating (server 1.5.12 / client 1.5.4)\n",
            "100% 12.8M/12.8M [00:00<00:00, 25.9MB/s]\n",
            "Successfully submitted to Tabular Playground Series - Sep 2021"
          ]
        }
      ]
    },
    {
      "cell_type": "markdown",
      "metadata": {
        "id": "5GU_vxKpvznO"
      },
      "source": [
        "##### Create the Pipeline | GridSearch Outside Pipeline\n",
        "\n",
        "This method is not used for the competition but an exploration on how to use an alternative style of pipeline"
      ]
    },
    {
      "cell_type": "code",
      "metadata": {
        "colab": {
          "base_uri": "https://localhost:8080/",
          "height": 727
        },
        "id": "WbNyCLPUnK6f",
        "outputId": "4b91ada1-6639-4dae-81ff-8b38500954c7"
      },
      "source": [
        "# Fit the random grid search model\n",
        "lightGB_rnd_gs = RandomizedSearchCV(\n",
        "    lightGB_rnd_pipe,\n",
        "    param_distributions = param_grid,\n",
        "    n_iter = 12,\n",
        "    cv = 3,\n",
        "    scoring = f1_scorer,\n",
        "    random_state = 0,\n",
        "    verbose=3\n",
        ")\n",
        "\n",
        "lightGB_rnd_gs.fit(X,y)"
      ],
      "execution_count": null,
      "outputs": [
        {
          "name": "stdout",
          "output_type": "stream",
          "text": [
            "Fitting 3 folds for each of 12 candidates, totalling 36 fits\n",
            "[CV] num_leaves=30, n_estimators=150, max_depth=5, learning_rate=0.5, boosting_type=gbdt \n"
          ]
        },
        {
          "name": "stderr",
          "output_type": "stream",
          "text": [
            "[Parallel(n_jobs=1)]: Using backend SequentialBackend with 1 concurrent workers.\n"
          ]
        },
        {
          "ename": "ValueError",
          "evalue": "ignored",
          "output_type": "error",
          "traceback": [
            "\u001b[0;31m---------------------------------------------------------------------------\u001b[0m",
            "\u001b[0;31mValueError\u001b[0m                                Traceback (most recent call last)",
            "\u001b[0;32m<ipython-input-35-f98f404c265c>\u001b[0m in \u001b[0;36m<module>\u001b[0;34m()\u001b[0m\n\u001b[1;32m     10\u001b[0m )\n\u001b[1;32m     11\u001b[0m \u001b[0;34m\u001b[0m\u001b[0m\n\u001b[0;32m---> 12\u001b[0;31m \u001b[0mlightGB_rnd_gs\u001b[0m\u001b[0;34m.\u001b[0m\u001b[0mfit\u001b[0m\u001b[0;34m(\u001b[0m\u001b[0mX\u001b[0m\u001b[0;34m,\u001b[0m\u001b[0my\u001b[0m\u001b[0;34m)\u001b[0m\u001b[0;34m\u001b[0m\u001b[0;34m\u001b[0m\u001b[0m\n\u001b[0m",
            "\u001b[0;32m/usr/local/lib/python3.7/dist-packages/sklearn/model_selection/_search.py\u001b[0m in \u001b[0;36mfit\u001b[0;34m(self, X, y, groups, **fit_params)\u001b[0m\n\u001b[1;32m    708\u001b[0m                 \u001b[0;32mreturn\u001b[0m \u001b[0mresults\u001b[0m\u001b[0;34m\u001b[0m\u001b[0;34m\u001b[0m\u001b[0m\n\u001b[1;32m    709\u001b[0m \u001b[0;34m\u001b[0m\u001b[0m\n\u001b[0;32m--> 710\u001b[0;31m             \u001b[0mself\u001b[0m\u001b[0;34m.\u001b[0m\u001b[0m_run_search\u001b[0m\u001b[0;34m(\u001b[0m\u001b[0mevaluate_candidates\u001b[0m\u001b[0;34m)\u001b[0m\u001b[0;34m\u001b[0m\u001b[0;34m\u001b[0m\u001b[0m\n\u001b[0m\u001b[1;32m    711\u001b[0m \u001b[0;34m\u001b[0m\u001b[0m\n\u001b[1;32m    712\u001b[0m         \u001b[0;31m# For multi-metric evaluation, store the best_index_, best_params_ and\u001b[0m\u001b[0;34m\u001b[0m\u001b[0;34m\u001b[0m\u001b[0;34m\u001b[0m\u001b[0m\n",
            "\u001b[0;32m/usr/local/lib/python3.7/dist-packages/sklearn/model_selection/_search.py\u001b[0m in \u001b[0;36m_run_search\u001b[0;34m(self, evaluate_candidates)\u001b[0m\n\u001b[1;32m   1482\u001b[0m         evaluate_candidates(ParameterSampler(\n\u001b[1;32m   1483\u001b[0m             \u001b[0mself\u001b[0m\u001b[0;34m.\u001b[0m\u001b[0mparam_distributions\u001b[0m\u001b[0;34m,\u001b[0m \u001b[0mself\u001b[0m\u001b[0;34m.\u001b[0m\u001b[0mn_iter\u001b[0m\u001b[0;34m,\u001b[0m\u001b[0;34m\u001b[0m\u001b[0;34m\u001b[0m\u001b[0m\n\u001b[0;32m-> 1484\u001b[0;31m             random_state=self.random_state))\n\u001b[0m",
            "\u001b[0;32m/usr/local/lib/python3.7/dist-packages/sklearn/model_selection/_search.py\u001b[0m in \u001b[0;36mevaluate_candidates\u001b[0;34m(candidate_params)\u001b[0m\n\u001b[1;32m    687\u001b[0m                                \u001b[0;32mfor\u001b[0m \u001b[0mparameters\u001b[0m\u001b[0;34m,\u001b[0m \u001b[0;34m(\u001b[0m\u001b[0mtrain\u001b[0m\u001b[0;34m,\u001b[0m \u001b[0mtest\u001b[0m\u001b[0;34m)\u001b[0m\u001b[0;34m\u001b[0m\u001b[0;34m\u001b[0m\u001b[0m\n\u001b[1;32m    688\u001b[0m                                in product(candidate_params,\n\u001b[0;32m--> 689\u001b[0;31m                                           cv.split(X, y, groups)))\n\u001b[0m\u001b[1;32m    690\u001b[0m \u001b[0;34m\u001b[0m\u001b[0m\n\u001b[1;32m    691\u001b[0m                 \u001b[0;32mif\u001b[0m \u001b[0mlen\u001b[0m\u001b[0;34m(\u001b[0m\u001b[0mout\u001b[0m\u001b[0;34m)\u001b[0m \u001b[0;34m<\u001b[0m \u001b[0;36m1\u001b[0m\u001b[0;34m:\u001b[0m\u001b[0;34m\u001b[0m\u001b[0;34m\u001b[0m\u001b[0m\n",
            "\u001b[0;32m/usr/local/lib/python3.7/dist-packages/joblib/parallel.py\u001b[0m in \u001b[0;36m__call__\u001b[0;34m(self, iterable)\u001b[0m\n\u001b[1;32m   1039\u001b[0m             \u001b[0;31m# remaining jobs.\u001b[0m\u001b[0;34m\u001b[0m\u001b[0;34m\u001b[0m\u001b[0;34m\u001b[0m\u001b[0m\n\u001b[1;32m   1040\u001b[0m             \u001b[0mself\u001b[0m\u001b[0;34m.\u001b[0m\u001b[0m_iterating\u001b[0m \u001b[0;34m=\u001b[0m \u001b[0;32mFalse\u001b[0m\u001b[0;34m\u001b[0m\u001b[0;34m\u001b[0m\u001b[0m\n\u001b[0;32m-> 1041\u001b[0;31m             \u001b[0;32mif\u001b[0m \u001b[0mself\u001b[0m\u001b[0;34m.\u001b[0m\u001b[0mdispatch_one_batch\u001b[0m\u001b[0;34m(\u001b[0m\u001b[0miterator\u001b[0m\u001b[0;34m)\u001b[0m\u001b[0;34m:\u001b[0m\u001b[0;34m\u001b[0m\u001b[0;34m\u001b[0m\u001b[0m\n\u001b[0m\u001b[1;32m   1042\u001b[0m                 \u001b[0mself\u001b[0m\u001b[0;34m.\u001b[0m\u001b[0m_iterating\u001b[0m \u001b[0;34m=\u001b[0m \u001b[0mself\u001b[0m\u001b[0;34m.\u001b[0m\u001b[0m_original_iterator\u001b[0m \u001b[0;32mis\u001b[0m \u001b[0;32mnot\u001b[0m \u001b[0;32mNone\u001b[0m\u001b[0;34m\u001b[0m\u001b[0;34m\u001b[0m\u001b[0m\n\u001b[1;32m   1043\u001b[0m \u001b[0;34m\u001b[0m\u001b[0m\n",
            "\u001b[0;32m/usr/local/lib/python3.7/dist-packages/joblib/parallel.py\u001b[0m in \u001b[0;36mdispatch_one_batch\u001b[0;34m(self, iterator)\u001b[0m\n\u001b[1;32m    857\u001b[0m                 \u001b[0;32mreturn\u001b[0m \u001b[0;32mFalse\u001b[0m\u001b[0;34m\u001b[0m\u001b[0;34m\u001b[0m\u001b[0m\n\u001b[1;32m    858\u001b[0m             \u001b[0;32melse\u001b[0m\u001b[0;34m:\u001b[0m\u001b[0;34m\u001b[0m\u001b[0;34m\u001b[0m\u001b[0m\n\u001b[0;32m--> 859\u001b[0;31m                 \u001b[0mself\u001b[0m\u001b[0;34m.\u001b[0m\u001b[0m_dispatch\u001b[0m\u001b[0;34m(\u001b[0m\u001b[0mtasks\u001b[0m\u001b[0;34m)\u001b[0m\u001b[0;34m\u001b[0m\u001b[0;34m\u001b[0m\u001b[0m\n\u001b[0m\u001b[1;32m    860\u001b[0m                 \u001b[0;32mreturn\u001b[0m \u001b[0;32mTrue\u001b[0m\u001b[0;34m\u001b[0m\u001b[0;34m\u001b[0m\u001b[0m\n\u001b[1;32m    861\u001b[0m \u001b[0;34m\u001b[0m\u001b[0m\n",
            "\u001b[0;32m/usr/local/lib/python3.7/dist-packages/joblib/parallel.py\u001b[0m in \u001b[0;36m_dispatch\u001b[0;34m(self, batch)\u001b[0m\n\u001b[1;32m    775\u001b[0m         \u001b[0;32mwith\u001b[0m \u001b[0mself\u001b[0m\u001b[0;34m.\u001b[0m\u001b[0m_lock\u001b[0m\u001b[0;34m:\u001b[0m\u001b[0;34m\u001b[0m\u001b[0;34m\u001b[0m\u001b[0m\n\u001b[1;32m    776\u001b[0m             \u001b[0mjob_idx\u001b[0m \u001b[0;34m=\u001b[0m \u001b[0mlen\u001b[0m\u001b[0;34m(\u001b[0m\u001b[0mself\u001b[0m\u001b[0;34m.\u001b[0m\u001b[0m_jobs\u001b[0m\u001b[0;34m)\u001b[0m\u001b[0;34m\u001b[0m\u001b[0;34m\u001b[0m\u001b[0m\n\u001b[0;32m--> 777\u001b[0;31m             \u001b[0mjob\u001b[0m \u001b[0;34m=\u001b[0m \u001b[0mself\u001b[0m\u001b[0;34m.\u001b[0m\u001b[0m_backend\u001b[0m\u001b[0;34m.\u001b[0m\u001b[0mapply_async\u001b[0m\u001b[0;34m(\u001b[0m\u001b[0mbatch\u001b[0m\u001b[0;34m,\u001b[0m \u001b[0mcallback\u001b[0m\u001b[0;34m=\u001b[0m\u001b[0mcb\u001b[0m\u001b[0;34m)\u001b[0m\u001b[0;34m\u001b[0m\u001b[0;34m\u001b[0m\u001b[0m\n\u001b[0m\u001b[1;32m    778\u001b[0m             \u001b[0;31m# A job can complete so quickly than its callback is\u001b[0m\u001b[0;34m\u001b[0m\u001b[0;34m\u001b[0m\u001b[0;34m\u001b[0m\u001b[0m\n\u001b[1;32m    779\u001b[0m             \u001b[0;31m# called before we get here, causing self._jobs to\u001b[0m\u001b[0;34m\u001b[0m\u001b[0;34m\u001b[0m\u001b[0;34m\u001b[0m\u001b[0m\n",
            "\u001b[0;32m/usr/local/lib/python3.7/dist-packages/joblib/_parallel_backends.py\u001b[0m in \u001b[0;36mapply_async\u001b[0;34m(self, func, callback)\u001b[0m\n\u001b[1;32m    206\u001b[0m     \u001b[0;32mdef\u001b[0m \u001b[0mapply_async\u001b[0m\u001b[0;34m(\u001b[0m\u001b[0mself\u001b[0m\u001b[0;34m,\u001b[0m \u001b[0mfunc\u001b[0m\u001b[0;34m,\u001b[0m \u001b[0mcallback\u001b[0m\u001b[0;34m=\u001b[0m\u001b[0;32mNone\u001b[0m\u001b[0;34m)\u001b[0m\u001b[0;34m:\u001b[0m\u001b[0;34m\u001b[0m\u001b[0;34m\u001b[0m\u001b[0m\n\u001b[1;32m    207\u001b[0m         \u001b[0;34m\"\"\"Schedule a func to be run\"\"\"\u001b[0m\u001b[0;34m\u001b[0m\u001b[0;34m\u001b[0m\u001b[0m\n\u001b[0;32m--> 208\u001b[0;31m         \u001b[0mresult\u001b[0m \u001b[0;34m=\u001b[0m \u001b[0mImmediateResult\u001b[0m\u001b[0;34m(\u001b[0m\u001b[0mfunc\u001b[0m\u001b[0;34m)\u001b[0m\u001b[0;34m\u001b[0m\u001b[0;34m\u001b[0m\u001b[0m\n\u001b[0m\u001b[1;32m    209\u001b[0m         \u001b[0;32mif\u001b[0m \u001b[0mcallback\u001b[0m\u001b[0;34m:\u001b[0m\u001b[0;34m\u001b[0m\u001b[0;34m\u001b[0m\u001b[0m\n\u001b[1;32m    210\u001b[0m             \u001b[0mcallback\u001b[0m\u001b[0;34m(\u001b[0m\u001b[0mresult\u001b[0m\u001b[0;34m)\u001b[0m\u001b[0;34m\u001b[0m\u001b[0;34m\u001b[0m\u001b[0m\n",
            "\u001b[0;32m/usr/local/lib/python3.7/dist-packages/joblib/_parallel_backends.py\u001b[0m in \u001b[0;36m__init__\u001b[0;34m(self, batch)\u001b[0m\n\u001b[1;32m    570\u001b[0m         \u001b[0;31m# Don't delay the application, to avoid keeping the input\u001b[0m\u001b[0;34m\u001b[0m\u001b[0;34m\u001b[0m\u001b[0;34m\u001b[0m\u001b[0m\n\u001b[1;32m    571\u001b[0m         \u001b[0;31m# arguments in memory\u001b[0m\u001b[0;34m\u001b[0m\u001b[0;34m\u001b[0m\u001b[0;34m\u001b[0m\u001b[0m\n\u001b[0;32m--> 572\u001b[0;31m         \u001b[0mself\u001b[0m\u001b[0;34m.\u001b[0m\u001b[0mresults\u001b[0m \u001b[0;34m=\u001b[0m \u001b[0mbatch\u001b[0m\u001b[0;34m(\u001b[0m\u001b[0;34m)\u001b[0m\u001b[0;34m\u001b[0m\u001b[0;34m\u001b[0m\u001b[0m\n\u001b[0m\u001b[1;32m    573\u001b[0m \u001b[0;34m\u001b[0m\u001b[0m\n\u001b[1;32m    574\u001b[0m     \u001b[0;32mdef\u001b[0m \u001b[0mget\u001b[0m\u001b[0;34m(\u001b[0m\u001b[0mself\u001b[0m\u001b[0;34m)\u001b[0m\u001b[0;34m:\u001b[0m\u001b[0;34m\u001b[0m\u001b[0;34m\u001b[0m\u001b[0m\n",
            "\u001b[0;32m/usr/local/lib/python3.7/dist-packages/joblib/parallel.py\u001b[0m in \u001b[0;36m__call__\u001b[0;34m(self)\u001b[0m\n\u001b[1;32m    261\u001b[0m         \u001b[0;32mwith\u001b[0m \u001b[0mparallel_backend\u001b[0m\u001b[0;34m(\u001b[0m\u001b[0mself\u001b[0m\u001b[0;34m.\u001b[0m\u001b[0m_backend\u001b[0m\u001b[0;34m,\u001b[0m \u001b[0mn_jobs\u001b[0m\u001b[0;34m=\u001b[0m\u001b[0mself\u001b[0m\u001b[0;34m.\u001b[0m\u001b[0m_n_jobs\u001b[0m\u001b[0;34m)\u001b[0m\u001b[0;34m:\u001b[0m\u001b[0;34m\u001b[0m\u001b[0;34m\u001b[0m\u001b[0m\n\u001b[1;32m    262\u001b[0m             return [func(*args, **kwargs)\n\u001b[0;32m--> 263\u001b[0;31m                     for func, args, kwargs in self.items]\n\u001b[0m\u001b[1;32m    264\u001b[0m \u001b[0;34m\u001b[0m\u001b[0m\n\u001b[1;32m    265\u001b[0m     \u001b[0;32mdef\u001b[0m \u001b[0m__reduce__\u001b[0m\u001b[0;34m(\u001b[0m\u001b[0mself\u001b[0m\u001b[0;34m)\u001b[0m\u001b[0;34m:\u001b[0m\u001b[0;34m\u001b[0m\u001b[0;34m\u001b[0m\u001b[0m\n",
            "\u001b[0;32m/usr/local/lib/python3.7/dist-packages/joblib/parallel.py\u001b[0m in \u001b[0;36m<listcomp>\u001b[0;34m(.0)\u001b[0m\n\u001b[1;32m    261\u001b[0m         \u001b[0;32mwith\u001b[0m \u001b[0mparallel_backend\u001b[0m\u001b[0;34m(\u001b[0m\u001b[0mself\u001b[0m\u001b[0;34m.\u001b[0m\u001b[0m_backend\u001b[0m\u001b[0;34m,\u001b[0m \u001b[0mn_jobs\u001b[0m\u001b[0;34m=\u001b[0m\u001b[0mself\u001b[0m\u001b[0;34m.\u001b[0m\u001b[0m_n_jobs\u001b[0m\u001b[0;34m)\u001b[0m\u001b[0;34m:\u001b[0m\u001b[0;34m\u001b[0m\u001b[0;34m\u001b[0m\u001b[0m\n\u001b[1;32m    262\u001b[0m             return [func(*args, **kwargs)\n\u001b[0;32m--> 263\u001b[0;31m                     for func, args, kwargs in self.items]\n\u001b[0m\u001b[1;32m    264\u001b[0m \u001b[0;34m\u001b[0m\u001b[0m\n\u001b[1;32m    265\u001b[0m     \u001b[0;32mdef\u001b[0m \u001b[0m__reduce__\u001b[0m\u001b[0;34m(\u001b[0m\u001b[0mself\u001b[0m\u001b[0;34m)\u001b[0m\u001b[0;34m:\u001b[0m\u001b[0;34m\u001b[0m\u001b[0;34m\u001b[0m\u001b[0m\n",
            "\u001b[0;32m/usr/local/lib/python3.7/dist-packages/sklearn/model_selection/_validation.py\u001b[0m in \u001b[0;36m_fit_and_score\u001b[0;34m(estimator, X, y, scorer, train, test, verbose, parameters, fit_params, return_train_score, return_parameters, return_n_test_samples, return_times, return_estimator, error_score)\u001b[0m\n\u001b[1;32m    502\u001b[0m             \u001b[0mcloned_parameters\u001b[0m\u001b[0;34m[\u001b[0m\u001b[0mk\u001b[0m\u001b[0;34m]\u001b[0m \u001b[0;34m=\u001b[0m \u001b[0mclone\u001b[0m\u001b[0;34m(\u001b[0m\u001b[0mv\u001b[0m\u001b[0;34m,\u001b[0m \u001b[0msafe\u001b[0m\u001b[0;34m=\u001b[0m\u001b[0;32mFalse\u001b[0m\u001b[0;34m)\u001b[0m\u001b[0;34m\u001b[0m\u001b[0;34m\u001b[0m\u001b[0m\n\u001b[1;32m    503\u001b[0m \u001b[0;34m\u001b[0m\u001b[0m\n\u001b[0;32m--> 504\u001b[0;31m         \u001b[0mestimator\u001b[0m \u001b[0;34m=\u001b[0m \u001b[0mestimator\u001b[0m\u001b[0;34m.\u001b[0m\u001b[0mset_params\u001b[0m\u001b[0;34m(\u001b[0m\u001b[0;34m**\u001b[0m\u001b[0mcloned_parameters\u001b[0m\u001b[0;34m)\u001b[0m\u001b[0;34m\u001b[0m\u001b[0;34m\u001b[0m\u001b[0m\n\u001b[0m\u001b[1;32m    505\u001b[0m \u001b[0;34m\u001b[0m\u001b[0m\n\u001b[1;32m    506\u001b[0m     \u001b[0mstart_time\u001b[0m \u001b[0;34m=\u001b[0m \u001b[0mtime\u001b[0m\u001b[0;34m.\u001b[0m\u001b[0mtime\u001b[0m\u001b[0;34m(\u001b[0m\u001b[0;34m)\u001b[0m\u001b[0;34m\u001b[0m\u001b[0;34m\u001b[0m\u001b[0m\n",
            "\u001b[0;32m/usr/local/lib/python3.7/dist-packages/sklearn/pipeline.py\u001b[0m in \u001b[0;36mset_params\u001b[0;34m(self, **kwargs)\u001b[0m\n\u001b[1;32m    161\u001b[0m         \u001b[0mself\u001b[0m\u001b[0;34m\u001b[0m\u001b[0;34m\u001b[0m\u001b[0m\n\u001b[1;32m    162\u001b[0m         \"\"\"\n\u001b[0;32m--> 163\u001b[0;31m         \u001b[0mself\u001b[0m\u001b[0;34m.\u001b[0m\u001b[0m_set_params\u001b[0m\u001b[0;34m(\u001b[0m\u001b[0;34m'steps'\u001b[0m\u001b[0;34m,\u001b[0m \u001b[0;34m**\u001b[0m\u001b[0mkwargs\u001b[0m\u001b[0;34m)\u001b[0m\u001b[0;34m\u001b[0m\u001b[0;34m\u001b[0m\u001b[0m\n\u001b[0m\u001b[1;32m    164\u001b[0m         \u001b[0;32mreturn\u001b[0m \u001b[0mself\u001b[0m\u001b[0;34m\u001b[0m\u001b[0;34m\u001b[0m\u001b[0m\n\u001b[1;32m    165\u001b[0m \u001b[0;34m\u001b[0m\u001b[0m\n",
            "\u001b[0;32m/usr/local/lib/python3.7/dist-packages/sklearn/utils/metaestimators.py\u001b[0m in \u001b[0;36m_set_params\u001b[0;34m(self, attr, **params)\u001b[0m\n\u001b[1;32m     48\u001b[0m                 \u001b[0mself\u001b[0m\u001b[0;34m.\u001b[0m\u001b[0m_replace_estimator\u001b[0m\u001b[0;34m(\u001b[0m\u001b[0mattr\u001b[0m\u001b[0;34m,\u001b[0m \u001b[0mname\u001b[0m\u001b[0;34m,\u001b[0m \u001b[0mparams\u001b[0m\u001b[0;34m.\u001b[0m\u001b[0mpop\u001b[0m\u001b[0;34m(\u001b[0m\u001b[0mname\u001b[0m\u001b[0;34m)\u001b[0m\u001b[0;34m)\u001b[0m\u001b[0;34m\u001b[0m\u001b[0;34m\u001b[0m\u001b[0m\n\u001b[1;32m     49\u001b[0m         \u001b[0;31m# 3. Step parameters and other initialisation arguments\u001b[0m\u001b[0;34m\u001b[0m\u001b[0;34m\u001b[0m\u001b[0;34m\u001b[0m\u001b[0m\n\u001b[0;32m---> 50\u001b[0;31m         \u001b[0msuper\u001b[0m\u001b[0;34m(\u001b[0m\u001b[0;34m)\u001b[0m\u001b[0;34m.\u001b[0m\u001b[0mset_params\u001b[0m\u001b[0;34m(\u001b[0m\u001b[0;34m**\u001b[0m\u001b[0mparams\u001b[0m\u001b[0;34m)\u001b[0m\u001b[0;34m\u001b[0m\u001b[0;34m\u001b[0m\u001b[0m\n\u001b[0m\u001b[1;32m     51\u001b[0m         \u001b[0;32mreturn\u001b[0m \u001b[0mself\u001b[0m\u001b[0;34m\u001b[0m\u001b[0;34m\u001b[0m\u001b[0m\n\u001b[1;32m     52\u001b[0m \u001b[0;34m\u001b[0m\u001b[0m\n",
            "\u001b[0;32m/usr/local/lib/python3.7/dist-packages/sklearn/base.py\u001b[0m in \u001b[0;36mset_params\u001b[0;34m(self, **params)\u001b[0m\n\u001b[1;32m    234\u001b[0m                                  \u001b[0;34m'Check the list of available parameters '\u001b[0m\u001b[0;34m\u001b[0m\u001b[0;34m\u001b[0m\u001b[0m\n\u001b[1;32m    235\u001b[0m                                  \u001b[0;34m'with `estimator.get_params().keys()`.'\u001b[0m \u001b[0;34m%\u001b[0m\u001b[0;34m\u001b[0m\u001b[0;34m\u001b[0m\u001b[0m\n\u001b[0;32m--> 236\u001b[0;31m                                  (key, self))\n\u001b[0m\u001b[1;32m    237\u001b[0m \u001b[0;34m\u001b[0m\u001b[0m\n\u001b[1;32m    238\u001b[0m             \u001b[0;32mif\u001b[0m \u001b[0mdelim\u001b[0m\u001b[0;34m:\u001b[0m\u001b[0;34m\u001b[0m\u001b[0;34m\u001b[0m\u001b[0m\n",
            "\u001b[0;31mValueError\u001b[0m: Invalid parameter num_leaves for estimator Pipeline(memory=None,\n         steps=[('combinedattributesadder',\n                 CombinedAttributesAdder(add_num_nan=True, add_sum=True)),\n                ('simpleimputer',\n                 SimpleImputer(add_indicator=False, copy=True, fill_value=None,\n                               missing_values=nan, strategy='median',\n                               verbose=3)),\n                ('standardscaler',\n                 StandardScaler(copy=True, with_mean=True, with_std=True)),\n                ('lgbmclassifier',\n                 LGBMClassifier(boosti...t', class_weight=None,\n                                colsample_bytree=1.0, importance_type='split',\n                                learning_rate=0.1, max_depth=-1,\n                                min_child_samples=20, min_child_weight=0.001,\n                                min_split_gain=0.0, n_estimators=100, n_jobs=-1,\n                                num_leaves=31, objective='binary',\n                                random_state=0, reg_alpha=0.0, reg_lambda=0.0,\n                                silent=False, subsample=1.0,\n                                subsample_for_bin=200000, subsample_freq=0))],\n         verbose=False). Check the list of available parameters with `estimator.get_params().keys()`."
          ]
        }
      ]
    },
    {
      "cell_type": "markdown",
      "metadata": {
        "id": "FQ8asMuBugRr"
      },
      "source": [
        "Save model after it has been trained"
      ]
    },
    {
      "cell_type": "code",
      "metadata": {
        "id": "oa7nSzNiujZc"
      },
      "source": [
        "import pickle\n",
        "\n",
        "# Establish model path\n",
        "mdl_file_path = \"/content/gdrive/My Drive/Colab Notebooks/Kaggle/competitions/tabular-playground-sep2021/\"\n",
        "# Dump model into pickled file\n",
        "with open(mdl_file_path+\"mdl_2.3.1.pickle\", \"wb\") as file:\n",
        "  pickle.dump(lightGB_rnd_gs, file)"
      ],
      "execution_count": null,
      "outputs": []
    },
    {
      "cell_type": "markdown",
      "metadata": {
        "id": "oW7BCSnyaY0e"
      },
      "source": [
        "Load pickled pipeline"
      ]
    },
    {
      "cell_type": "code",
      "metadata": {
        "id": "KMSiMoksaXYW"
      },
      "source": [
        "import pickle\n",
        "\n",
        "# Establish model path\n",
        "mdl_file_path = \"/content/gdrive/My Drive/Colab Notebooks/Kaggle/competitions/tabular-playground-sep2021/\"\n",
        "\n",
        "# Load Pickle Model\n",
        "with open(mdl_file_path+\"mdl_2.3.1.pickle\", \"rb\") as file:\n",
        "  lightGB_rnd_grid = pickle.load(file)"
      ],
      "execution_count": null,
      "outputs": []
    }
  ]
}