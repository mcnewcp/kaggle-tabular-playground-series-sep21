{
 "cells": [
  {
   "cell_type": "markdown",
   "source": [
    "# Tabular Playground September 2021\n",
    "\n",
    "# Load Data"
   ],
   "metadata": {}
  },
  {
   "cell_type": "code",
   "execution_count": 1,
   "source": [
    "import os\n",
    "import numpy as np\n",
    "import pandas as pd\n",
    "test = pd.read_csv('datasets/test.csv')\n",
    "train = pd.read_csv('datasets/train.csv')"
   ],
   "outputs": [],
   "metadata": {}
  },
  {
   "cell_type": "code",
   "execution_count": 2,
   "source": [
    "lst_train_dtypes = train.dtypes.value_counts()\n",
    "print(lst_train_dtypes)"
   ],
   "outputs": [
    {
     "output_type": "stream",
     "name": "stdout",
     "text": [
      "float64    118\n",
      "int64        2\n",
      "dtype: int64\n"
     ]
    }
   ],
   "metadata": {}
  },
  {
   "cell_type": "markdown",
   "source": [
    "All features are float and the index and 'claim' columns are int.  'claim' is the target variable.\n",
    "\n",
    "# EDA\n",
    "\n",
    "## Mutual Information\n",
    "\n",
    "Before splitting the data I'm going to run an analysis of mutual information to see if there is any potentially important feature to use in a stratified split.\n",
    "\n",
    "### Run MI\n",
    "\n",
    "In order to run the intial MI analysis, I need to resolve all NaN values.  Rather than making a decision at this point on how to impute, I'm simply removing all rows with NaN for any feature.  This results in a loss of xxx rows."
   ],
   "metadata": {}
  },
  {
   "cell_type": "code",
   "execution_count": 3,
   "source": [
    "from sklearn.feature_selection import mutual_info_classif\n",
    "def make_mi_scores(X, y):\n",
    "    mi_scores = mutual_info_classif(X, y)\n",
    "    mi_scores = pd.Series(mi_scores, name=\"MI Scores\", index=X.columns)\n",
    "    mi_scores = mi_scores.sort_values(ascending=False)\n",
    "    return mi_scores\n",
    "\n",
    "X_init_mi = train.dropna(axis=0)\n",
    "y_init_mi = X_init_mi.pop('claim')\n",
    "mi_scores = make_mi_scores(X_init_mi, y_init_mi)"
   ],
   "outputs": [],
   "metadata": {}
  },
  {
   "cell_type": "code",
   "execution_count": 4,
   "source": [
    "mi_scores.head(10)"
   ],
   "outputs": [
    {
     "output_type": "execute_result",
     "data": {
      "text/plain": [
       "f97     0.001698\n",
       "f37     0.001328\n",
       "f91     0.000966\n",
       "f117    0.000958\n",
       "f35     0.000943\n",
       "f26     0.000914\n",
       "f31     0.000864\n",
       "f108    0.000856\n",
       "f116    0.000838\n",
       "f42     0.000838\n",
       "Name: MI Scores, dtype: float64"
      ]
     },
     "metadata": {},
     "execution_count": 4
    }
   ],
   "metadata": {}
  },
  {
   "cell_type": "code",
   "execution_count": 5,
   "source": [
    "import matplotlib.pyplot as plt\n",
    "import seaborn as sns\n",
    "def plot_mi_scores(scores):\n",
    "    scores = scores.sort_values(ascending=True)\n",
    "    width = np.arange(len(scores))\n",
    "    ticks = list(scores.index)\n",
    "    plt.barh(width, scores)\n",
    "    plt.yticks(width, ticks)\n",
    "    plt.title(\"Mutual Information Scores\")\n",
    "\n",
    "plot_mi_scores(mi_scores.head(10))"
   ],
   "outputs": [
    {
     "output_type": "display_data",
     "data": {
      "image/png": "[encoded data removed]",
      "text/plain": [
       "<Figure size 432x288 with 1 Axes>"
      ]
     },
     "metadata": {
      "needs_background": "light"
     }
    }
   ],
   "metadata": {}
  },
  {
   "cell_type": "markdown",
   "source": [
    "MI scores are very low for all features.  `f97` has the highest score with 0.001698.  There are quite a few features with MI scores equal to 0 however, suggesting that the target variable is independent of each.  We **may** be able to drop those features."
   ],
   "metadata": {}
  },
  {
   "cell_type": "code",
   "execution_count": 6,
   "source": [
    "zero_mi_scores = mi_scores[mi_scores == 0]\n",
    "zero_mi_scores.shape\n",
    "print(zero_mi_scores.shape[0], \"of the\", mi_scores.shape[0], \"features have MI scores equal to zero\")"
   ],
   "outputs": [
    {
     "output_type": "stream",
     "name": "stdout",
     "text": [
      "51 of the 119 features have MI scores equal to zero\n"
     ]
    }
   ],
   "metadata": {}
  },
  {
   "cell_type": "markdown",
   "source": [
    "### Visualize MI\n",
    "\n",
    "Now taking a look at the three most informative features."
   ],
   "metadata": {}
  },
  {
   "cell_type": "code",
   "execution_count": 7,
   "source": [
    "features = mi_scores.iloc[:3].index.values.tolist()\n",
    "plot_df = train.melt(id_vars='claim', value_vars=features)\n",
    "plot_df['claim'] = plot_df.claim.astype('category')\n",
    "sns.catplot(x=\"value\", y=\"claim\", col=\"variable\", data=plot_df, kind=\"boxen\", sharex=False);"
   ],
   "outputs": [
    {
     "output_type": "display_data",
     "data": {
      "image/png": "[encoded data removed]",
      "text/plain": [
       "<Figure size 1080x360 with 3 Axes>"
      ]
     },
     "metadata": {
      "needs_background": "light"
     }
    }
   ],
   "metadata": {}
  },
  {
   "cell_type": "markdown",
   "source": [
    "None of these features appear to be very informative towards predicting the variation in the target variable.  I may have wasted my time with this analysis.  Oh well, moving on to the PCA.  Maybe I'll have better luck after the PCA."
   ],
   "metadata": {}
  },
  {
   "cell_type": "markdown",
   "source": [
    "# Split Validation Set\n",
    "\n",
    "# PCA & Feature Selection\n",
    "\n",
    "# ML Pipeline\n",
    "\n",
    "# Evaluation\n",
    "\n"
   ],
   "metadata": {}
  }
 ],
 "metadata": {
  "orig_nbformat": 4,
  "language_info": {
   "name": "python",
   "version": "3.9.4",
   "mimetype": "text/x-python",
   "codemirror_mode": {
    "name": "ipython",
    "version": 3
   },
   "pygments_lexer": "ipython3",
   "nbconvert_exporter": "python",
   "file_extension": ".py"
  },
  "kernelspec": {
   "name": "python3",
   "display_name": "Python 3.9.4 64-bit ('test-env': conda)"
  },
  "interpreter": {
   "hash": "90d438c8c31447cd907cd39f7892f296267bc18cf32349d8b24848e9f065823f"
  }
 },
 "nbformat": 4,
 "nbformat_minor": 2
}