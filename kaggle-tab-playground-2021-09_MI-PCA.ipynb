{
 "cells": [
  {
   "cell_type": "markdown",
   "source": [
    "# Tabular Playground September 2021\n",
    "\n",
    "# Load Data"
   ],
   "metadata": {}
  },
  {
   "cell_type": "code",
   "execution_count": 44,
   "source": [
    "import os\n",
    "import numpy as np\n",
    "import pandas as pd\n",
    "test = pd.read_csv('datasets/test.csv')\n",
    "train = pd.read_csv('datasets/train.csv')"
   ],
   "outputs": [],
   "metadata": {}
  },
  {
   "cell_type": "code",
   "execution_count": 45,
   "source": [
    "lst_train_dtypes = train.dtypes.value_counts()\n",
    "print(lst_train_dtypes)"
   ],
   "outputs": [
    {
     "output_type": "stream",
     "name": "stdout",
     "text": [
      "float64    118\n",
      "int64        2\n",
      "dtype: int64\n"
     ]
    }
   ],
   "metadata": {}
  },
  {
   "cell_type": "markdown",
   "source": [
    "All features are float and the index and 'claim' columns are int.  'claim' is the target variable.\n",
    "\n",
    "# EDA\n",
    "\n",
    "## Mutual Information\n",
    "\n",
    "Before splitting the data I'm going to run an analysis of mutual information to see if there is any potentially important feature to use in a stratified split.\n",
    "\n",
    "### Run MI\n",
    "\n",
    "In order to run the intial MI analysis, I need to resolve all NaN values."
   ],
   "metadata": {}
  },
  {
   "cell_type": "code",
   "execution_count": 46,
   "source": [
    "rows_with_na = train.shape[0] - train.dropna(axis=0).shape[0]\n",
    "print(\"There are\", rows_with_na, \"rows with at least one missing value, out of\", train.shape[0], \"total rows in the training set.\")"
   ],
   "outputs": [
    {
     "output_type": "stream",
     "name": "stdout",
     "text": [
      "There are 598455 rows with at least one missing value, out of 957919 total rows in the training set.\n"
     ]
    }
   ],
   "metadata": {}
  },
  {
   "cell_type": "markdown",
   "source": [
    "Since there are so many rows with missing values, I will impute with median values for this initial exploratory MI exercise.  I may reevaluate this decision later when I build the model pipeline.  I will also go ahead and standardize before the MI."
   ],
   "metadata": {}
  },
  {
   "cell_type": "code",
   "execution_count": 55,
   "source": [
    "from sklearn.pipeline import Pipeline\n",
    "from sklearn.impute import SimpleImputer\n",
    "from sklearn.preprocessing import StandardScaler\n",
    "\n",
    "prep_pipeline = Pipeline([\n",
    "    ('imputer', SimpleImputer(strategy=\"median\")),\n",
    "    ('std_scaler', StandardScaler())\n",
    "])\n",
    "\n",
    "y_init_mi = train.claim\n",
    "X_init_mi = prep_pipeline.fit_transform(train.drop(['id', 'claim'], axis=1))\n",
    "X_init_mi = pd.DataFrame(X_init_mi, columns=train.drop(['id', 'claim'], axis=1).columns)"
   ],
   "outputs": [],
   "metadata": {}
  },
  {
   "cell_type": "code",
   "execution_count": 48,
   "source": [
    "from sklearn.feature_selection import mutual_info_classif\n",
    "def make_mi_scores(X, y):\n",
    "    mi_scores = mutual_info_classif(X, y)\n",
    "    mi_scores = pd.Series(mi_scores, name=\"MI Scores\", index=X.columns)\n",
    "    mi_scores = mi_scores.sort_values(ascending=False)\n",
    "    return mi_scores\n",
    "\n",
    "mi_scores = make_mi_scores(X_init_mi, y_init_mi)"
   ],
   "outputs": [
    {
     "output_type": "error",
     "ename": "AttributeError",
     "evalue": "'numpy.ndarray' object has no attribute 'columns'",
     "traceback": [
      "\u001b[0;31m---------------------------------------------------------------------------\u001b[0m",
      "\u001b[0;31mAttributeError\u001b[0m                            Traceback (most recent call last)",
      "\u001b[0;32m<ipython-input-48-47476bf4cb0f>\u001b[0m in \u001b[0;36m<module>\u001b[0;34m\u001b[0m\n\u001b[1;32m      6\u001b[0m     \u001b[0;32mreturn\u001b[0m \u001b[0mmi_scores\u001b[0m\u001b[0;34m\u001b[0m\u001b[0;34m\u001b[0m\u001b[0m\n\u001b[1;32m      7\u001b[0m \u001b[0;34m\u001b[0m\u001b[0m\n\u001b[0;32m----> 8\u001b[0;31m \u001b[0mmi_scores\u001b[0m \u001b[0;34m=\u001b[0m \u001b[0mmake_mi_scores\u001b[0m\u001b[0;34m(\u001b[0m\u001b[0mX_init_mi\u001b[0m\u001b[0;34m,\u001b[0m \u001b[0my_init_mi\u001b[0m\u001b[0;34m)\u001b[0m\u001b[0;34m\u001b[0m\u001b[0;34m\u001b[0m\u001b[0m\n\u001b[0m",
      "\u001b[0;32m<ipython-input-48-47476bf4cb0f>\u001b[0m in \u001b[0;36mmake_mi_scores\u001b[0;34m(X, y)\u001b[0m\n\u001b[1;32m      2\u001b[0m \u001b[0;32mdef\u001b[0m \u001b[0mmake_mi_scores\u001b[0m\u001b[0;34m(\u001b[0m\u001b[0mX\u001b[0m\u001b[0;34m,\u001b[0m \u001b[0my\u001b[0m\u001b[0;34m)\u001b[0m\u001b[0;34m:\u001b[0m\u001b[0;34m\u001b[0m\u001b[0;34m\u001b[0m\u001b[0m\n\u001b[1;32m      3\u001b[0m     \u001b[0mmi_scores\u001b[0m \u001b[0;34m=\u001b[0m \u001b[0mmutual_info_classif\u001b[0m\u001b[0;34m(\u001b[0m\u001b[0mX\u001b[0m\u001b[0;34m,\u001b[0m \u001b[0my\u001b[0m\u001b[0;34m)\u001b[0m\u001b[0;34m\u001b[0m\u001b[0;34m\u001b[0m\u001b[0m\n\u001b[0;32m----> 4\u001b[0;31m     \u001b[0mmi_scores\u001b[0m \u001b[0;34m=\u001b[0m \u001b[0mpd\u001b[0m\u001b[0;34m.\u001b[0m\u001b[0mSeries\u001b[0m\u001b[0;34m(\u001b[0m\u001b[0mmi_scores\u001b[0m\u001b[0;34m,\u001b[0m \u001b[0mname\u001b[0m\u001b[0;34m=\u001b[0m\u001b[0;34m\"MI Scores\"\u001b[0m\u001b[0;34m,\u001b[0m \u001b[0mindex\u001b[0m\u001b[0;34m=\u001b[0m\u001b[0mX\u001b[0m\u001b[0;34m.\u001b[0m\u001b[0mcolumns\u001b[0m\u001b[0;34m)\u001b[0m\u001b[0;34m\u001b[0m\u001b[0;34m\u001b[0m\u001b[0m\n\u001b[0m\u001b[1;32m      5\u001b[0m     \u001b[0mmi_scores\u001b[0m \u001b[0;34m=\u001b[0m \u001b[0mmi_scores\u001b[0m\u001b[0;34m.\u001b[0m\u001b[0msort_values\u001b[0m\u001b[0;34m(\u001b[0m\u001b[0mascending\u001b[0m\u001b[0;34m=\u001b[0m\u001b[0;32mFalse\u001b[0m\u001b[0;34m)\u001b[0m\u001b[0;34m\u001b[0m\u001b[0;34m\u001b[0m\u001b[0m\n\u001b[1;32m      6\u001b[0m     \u001b[0;32mreturn\u001b[0m \u001b[0mmi_scores\u001b[0m\u001b[0;34m\u001b[0m\u001b[0;34m\u001b[0m\u001b[0m\n",
      "\u001b[0;31mAttributeError\u001b[0m: 'numpy.ndarray' object has no attribute 'columns'"
     ]
    }
   ],
   "metadata": {}
  },
  {
   "cell_type": "code",
   "execution_count": null,
   "source": [
    "mi_scores.head(10)"
   ],
   "outputs": [
    {
     "output_type": "execute_result",
     "data": {
      "text/plain": [
       "f37     0.001552\n",
       "f108    0.001329\n",
       "f117    0.001140\n",
       "f87     0.001114\n",
       "f2      0.001046\n",
       "f31     0.001037\n",
       "f78     0.000940\n",
       "f116    0.000858\n",
       "f42     0.000831\n",
       "f97     0.000773\n",
       "Name: MI Scores, dtype: float64"
      ]
     },
     "metadata": {},
     "execution_count": 4
    }
   ],
   "metadata": {}
  },
  {
   "cell_type": "code",
   "execution_count": null,
   "source": [
    "import matplotlib.pyplot as plt\n",
    "import seaborn as sns\n",
    "def plot_mi_scores(scores):\n",
    "    scores = scores.sort_values(ascending=True)\n",
    "    width = np.arange(len(scores))\n",
    "    ticks = list(scores.index)\n",
    "    plt.barh(width, scores)\n",
    "    plt.yticks(width, ticks)\n",
    "    plt.title(\"Mutual Information Scores\")\n",
    "\n",
    "plot_mi_scores(mi_scores.head(10))"
   ],
   "outputs": [
    {
     "output_type": "display_data",
     "data": {
      "image/png": "[encoded data removed]",
      "text/plain": [
       "<Figure size 432x288 with 1 Axes>"
      ]
     },
     "metadata": {
      "needs_background": "light"
     }
    }
   ],
   "metadata": {}
  },
  {
   "cell_type": "markdown",
   "source": [
    "MI scores are very low for all features.  `f97` has the highest score with 0.001698.  There are quite a few features with MI scores equal to 0 however, suggesting that the target variable is independent of each.  We **may** be able to drop those features."
   ],
   "metadata": {}
  },
  {
   "cell_type": "code",
   "execution_count": null,
   "source": [
    "zero_mi_scores = mi_scores[mi_scores == 0]\n",
    "zero_mi_scores.shape\n",
    "print(zero_mi_scores.shape[0], \"of the\", mi_scores.shape[0], \"features have MI scores equal to zero\")"
   ],
   "outputs": [
    {
     "output_type": "stream",
     "name": "stdout",
     "text": [
      "56 of the 119 features have MI scores equal to zero\n"
     ]
    }
   ],
   "metadata": {}
  },
  {
   "cell_type": "markdown",
   "source": [
    "### Visualize MI\n",
    "\n",
    "Now taking a look at the three most informative features."
   ],
   "metadata": {}
  },
  {
   "cell_type": "code",
   "execution_count": null,
   "source": [
    "features = mi_scores.iloc[:3].index.values.tolist()\n",
    "plot_df = train.melt(id_vars='claim', value_vars=features)\n",
    "plot_df['claim'] = plot_df.claim.astype('category')\n",
    "sns.catplot(x=\"value\", y=\"claim\", col=\"variable\", data=plot_df, kind=\"boxen\", sharex=False);"
   ],
   "outputs": [
    {
     "output_type": "display_data",
     "data": {
      "image/png": "[encoded data removed]",
      "text/plain": [
       "<Figure size 1080x360 with 3 Axes>"
      ]
     },
     "metadata": {
      "needs_background": "light"
     }
    }
   ],
   "metadata": {}
  },
  {
   "cell_type": "markdown",
   "source": [
    "None of these features appear to be very informative towards predicting the variation in the target variable.  I may have wasted my time with this analysis.  Oh well, moving on to the PCA.  Maybe I'll have better luck after the PCA."
   ],
   "metadata": {}
  },
  {
   "cell_type": "markdown",
   "source": [
    "## Split Validation Set"
   ],
   "metadata": {}
  },
  {
   "cell_type": "markdown",
   "source": [
    "Since the training set is so large, I'm going to split out a validation set of only 10%. This still equates to nearly 100k observations."
   ],
   "metadata": {}
  },
  {
   "cell_type": "code",
   "execution_count": null,
   "source": [
    "from sklearn.model_selection import train_test_split\n",
    "df_train, df_valid = train_test_split(train, test_size=0.1)"
   ],
   "outputs": [],
   "metadata": {}
  },
  {
   "cell_type": "markdown",
   "source": [
    "# PCA & Feature Selection\n",
    "\n",
    "In an attempt to reduce dimensionality, I'm now going to run a PCA on all of the features.  I'll then select an appropriate number of PCs to include in the final model directly, adding the PCA to my final pipeline."
   ],
   "metadata": {}
  },
  {
   "cell_type": "code",
   "execution_count": null,
   "source": [
    "X_train = df_train.drop(['id', 'claim'], axis=1)\n",
    "y_train = df_train.claim\n",
    "\n",
    "X_train_prep = prep_pipeline.fit_transform(X_train)\n",
    "\n",
    "from sklearn.decomposition import PCA\n",
    "pca = PCA()\n",
    "X_pca = pca.fit_transform(X_train_prep)\n",
    "\n",
    "# Convert to dataframe\n",
    "component_names = [f\"PC{i+1}\" for i in range(X_pca.shape[1])]\n",
    "X_pca = pd.DataFrame(X_pca, columns=component_names)"
   ],
   "outputs": [
    {
     "output_type": "execute_result",
     "data": {
      "text/html": [
       "<div>\n",
       "<style scoped>\n",
       "    .dataframe tbody tr th:only-of-type {\n",
       "        vertical-align: middle;\n",
       "    }\n",
       "\n",
       "    .dataframe tbody tr th {\n",
       "        vertical-align: top;\n",
       "    }\n",
       "\n",
       "    .dataframe thead th {\n",
       "        text-align: right;\n",
       "    }\n",
       "</style>\n",
       "<table border=\"1\" class=\"dataframe\">\n",
       "  <thead>\n",
       "    <tr style=\"text-align: right;\">\n",
       "      <th></th>\n",
       "      <th>PC1</th>\n",
       "      <th>PC2</th>\n",
       "      <th>PC3</th>\n",
       "      <th>PC4</th>\n",
       "      <th>PC5</th>\n",
       "      <th>PC6</th>\n",
       "      <th>PC7</th>\n",
       "      <th>PC8</th>\n",
       "      <th>PC9</th>\n",
       "      <th>PC10</th>\n",
       "      <th>...</th>\n",
       "      <th>PC109</th>\n",
       "      <th>PC110</th>\n",
       "      <th>PC111</th>\n",
       "      <th>PC112</th>\n",
       "      <th>PC113</th>\n",
       "      <th>PC114</th>\n",
       "      <th>PC115</th>\n",
       "      <th>PC116</th>\n",
       "      <th>PC117</th>\n",
       "      <th>PC118</th>\n",
       "    </tr>\n",
       "  </thead>\n",
       "  <tbody>\n",
       "    <tr>\n",
       "      <th>0</th>\n",
       "      <td>0.311308</td>\n",
       "      <td>0.003634</td>\n",
       "      <td>1.998370</td>\n",
       "      <td>1.192138</td>\n",
       "      <td>0.499140</td>\n",
       "      <td>-1.953356</td>\n",
       "      <td>-0.008673</td>\n",
       "      <td>-1.712226</td>\n",
       "      <td>-2.249624</td>\n",
       "      <td>1.431377</td>\n",
       "      <td>...</td>\n",
       "      <td>0.320467</td>\n",
       "      <td>0.769873</td>\n",
       "      <td>1.041940</td>\n",
       "      <td>0.681804</td>\n",
       "      <td>-0.162244</td>\n",
       "      <td>-0.002476</td>\n",
       "      <td>-0.484967</td>\n",
       "      <td>-0.434498</td>\n",
       "      <td>0.054655</td>\n",
       "      <td>0.110388</td>\n",
       "    </tr>\n",
       "    <tr>\n",
       "      <th>1</th>\n",
       "      <td>-0.294490</td>\n",
       "      <td>-0.321537</td>\n",
       "      <td>0.522489</td>\n",
       "      <td>0.345561</td>\n",
       "      <td>0.070141</td>\n",
       "      <td>0.920405</td>\n",
       "      <td>0.279585</td>\n",
       "      <td>-0.363154</td>\n",
       "      <td>-0.561609</td>\n",
       "      <td>-1.222463</td>\n",
       "      <td>...</td>\n",
       "      <td>-0.849154</td>\n",
       "      <td>0.564969</td>\n",
       "      <td>1.708003</td>\n",
       "      <td>0.699332</td>\n",
       "      <td>-0.769989</td>\n",
       "      <td>-0.195199</td>\n",
       "      <td>-0.488542</td>\n",
       "      <td>-0.464750</td>\n",
       "      <td>-0.049334</td>\n",
       "      <td>-2.405211</td>\n",
       "    </tr>\n",
       "    <tr>\n",
       "      <th>2</th>\n",
       "      <td>-0.058662</td>\n",
       "      <td>0.845193</td>\n",
       "      <td>-0.743531</td>\n",
       "      <td>-0.934795</td>\n",
       "      <td>-0.384964</td>\n",
       "      <td>-0.473887</td>\n",
       "      <td>1.349345</td>\n",
       "      <td>0.293159</td>\n",
       "      <td>-1.073627</td>\n",
       "      <td>2.325524</td>\n",
       "      <td>...</td>\n",
       "      <td>0.058249</td>\n",
       "      <td>-0.208583</td>\n",
       "      <td>-1.739408</td>\n",
       "      <td>-0.261688</td>\n",
       "      <td>0.001245</td>\n",
       "      <td>0.961919</td>\n",
       "      <td>1.886468</td>\n",
       "      <td>-2.063301</td>\n",
       "      <td>-1.087867</td>\n",
       "      <td>-0.708634</td>\n",
       "    </tr>\n",
       "    <tr>\n",
       "      <th>3</th>\n",
       "      <td>0.209598</td>\n",
       "      <td>0.345666</td>\n",
       "      <td>-0.217914</td>\n",
       "      <td>-0.246103</td>\n",
       "      <td>-2.104524</td>\n",
       "      <td>0.211272</td>\n",
       "      <td>-1.066653</td>\n",
       "      <td>1.531017</td>\n",
       "      <td>0.564257</td>\n",
       "      <td>-0.029959</td>\n",
       "      <td>...</td>\n",
       "      <td>1.196305</td>\n",
       "      <td>-1.200563</td>\n",
       "      <td>0.894222</td>\n",
       "      <td>-0.174763</td>\n",
       "      <td>1.074447</td>\n",
       "      <td>-0.180368</td>\n",
       "      <td>0.186862</td>\n",
       "      <td>2.775159</td>\n",
       "      <td>-0.454303</td>\n",
       "      <td>0.824843</td>\n",
       "    </tr>\n",
       "    <tr>\n",
       "      <th>4</th>\n",
       "      <td>-1.520491</td>\n",
       "      <td>-1.401503</td>\n",
       "      <td>-0.883346</td>\n",
       "      <td>0.308194</td>\n",
       "      <td>-1.010518</td>\n",
       "      <td>1.383835</td>\n",
       "      <td>-1.262156</td>\n",
       "      <td>-1.077205</td>\n",
       "      <td>-0.467679</td>\n",
       "      <td>2.391070</td>\n",
       "      <td>...</td>\n",
       "      <td>0.760778</td>\n",
       "      <td>0.731832</td>\n",
       "      <td>0.152862</td>\n",
       "      <td>0.020023</td>\n",
       "      <td>-0.126689</td>\n",
       "      <td>-0.068570</td>\n",
       "      <td>-1.015947</td>\n",
       "      <td>1.983258</td>\n",
       "      <td>0.832506</td>\n",
       "      <td>0.563947</td>\n",
       "    </tr>\n",
       "  </tbody>\n",
       "</table>\n",
       "<p>5 rows × 118 columns</p>\n",
       "</div>"
      ],
      "text/plain": [
       "        PC1       PC2       PC3       PC4       PC5       PC6       PC7  \\\n",
       "0  0.311308  0.003634  1.998370  1.192138  0.499140 -1.953356 -0.008673   \n",
       "1 -0.294490 -0.321537  0.522489  0.345561  0.070141  0.920405  0.279585   \n",
       "2 -0.058662  0.845193 -0.743531 -0.934795 -0.384964 -0.473887  1.349345   \n",
       "3  0.209598  0.345666 -0.217914 -0.246103 -2.104524  0.211272 -1.066653   \n",
       "4 -1.520491 -1.401503 -0.883346  0.308194 -1.010518  1.383835 -1.262156   \n",
       "\n",
       "        PC8       PC9      PC10  ...     PC109     PC110     PC111     PC112  \\\n",
       "0 -1.712226 -2.249624  1.431377  ...  0.320467  0.769873  1.041940  0.681804   \n",
       "1 -0.363154 -0.561609 -1.222463  ... -0.849154  0.564969  1.708003  0.699332   \n",
       "2  0.293159 -1.073627  2.325524  ...  0.058249 -0.208583 -1.739408 -0.261688   \n",
       "3  1.531017  0.564257 -0.029959  ...  1.196305 -1.200563  0.894222 -0.174763   \n",
       "4 -1.077205 -0.467679  2.391070  ...  0.760778  0.731832  0.152862  0.020023   \n",
       "\n",
       "      PC113     PC114     PC115     PC116     PC117     PC118  \n",
       "0 -0.162244 -0.002476 -0.484967 -0.434498  0.054655  0.110388  \n",
       "1 -0.769989 -0.195199 -0.488542 -0.464750 -0.049334 -2.405211  \n",
       "2  0.001245  0.961919  1.886468 -2.063301 -1.087867 -0.708634  \n",
       "3  1.074447 -0.180368  0.186862  2.775159 -0.454303  0.824843  \n",
       "4 -0.126689 -0.068570 -1.015947  1.983258  0.832506  0.563947  \n",
       "\n",
       "[5 rows x 118 columns]"
      ]
     },
     "metadata": {},
     "execution_count": 27
    }
   ],
   "metadata": {}
  },
  {
   "cell_type": "code",
   "execution_count": null,
   "source": [
    "#function for plotting explained variance\n",
    "def plot_variance(pca, width=8, dpi=100):\n",
    "    # Create figure\n",
    "    fig, axs = plt.subplots(1, 2)\n",
    "    n = pca.n_components_\n",
    "    grid = np.arange(1, n + 1)\n",
    "    # Explained variance\n",
    "    evr = pca.explained_variance_ratio_\n",
    "    axs[0].bar(grid, evr)\n",
    "    axs[0].set(\n",
    "        xlabel=\"Component\", title=\"% Explained Variance\", ylim=(0.0, 1.0)\n",
    "    )\n",
    "    # Cumulative Variance\n",
    "    cv = np.cumsum(evr)\n",
    "    axs[1].plot(np.r_[0, grid], np.r_[0, cv], \"o-\")\n",
    "    axs[1].set(\n",
    "        xlabel=\"Component\", title=\"% Cumulative Variance\", ylim=(0.0, 1.0)\n",
    "    )\n",
    "    # Set up figure\n",
    "    fig.set(figwidth=8, dpi=100)\n",
    "    return axs"
   ],
   "outputs": [],
   "metadata": {}
  },
  {
   "cell_type": "code",
   "execution_count": null,
   "source": [
    "plot_variance(pca)\n",
    "plt.show()"
   ],
   "outputs": [
    {
     "output_type": "display_data",
     "data": {
      "image/png": "[encoded data removed]",
      "text/plain": [
       "<Figure size 800x400 with 2 Axes>"
      ]
     },
     "metadata": {
      "needs_background": "light"
     }
    }
   ],
   "metadata": {}
  },
  {
   "cell_type": "markdown",
   "source": [
    "I'm quite surprised by the results of the PCA.  The plots above suggest that each PC is extracting the same amount of variance.  This could mean that the features are all orthogonal to each other, though this is hard to believe.  Whatever the explanation, unless I made a mistake above, it appears that the PCA has no value for dimensionality reduction in this case. \n",
    "\n",
    "Could this have something to do with the large amount of imputations I'm doing?  I'll rerun the PCA after dropping all rows with NaN below."
   ],
   "metadata": {}
  },
  {
   "cell_type": "code",
   "execution_count": 58,
   "source": [
    "X_noNA = X_train.dropna()\n",
    "X_train_noNA_prep = prep_pipeline.fit_transform(X_noNA)\n",
    "\n",
    "pca_noNA = PCA()\n",
    "X_pca_noNA = pca_noNA.fit_transform(X_train_noNA_prep)\n",
    "\n",
    "# Convert to dataframe\n",
    "component_names = [f\"PC{i+1}\" for i in range(X_pca_noNA.shape[1])]\n",
    "X_pca_noNA = pd.DataFrame(X_pca_noNA, columns=component_names)\n",
    "\n",
    "#plot results\n",
    "plot_variance(pca_noNA)\n",
    "plt.show()"
   ],
   "outputs": [
    {
     "output_type": "display_data",
     "data": {
      "image/png": "[encoded data removed]",
      "text/plain": [
       "<Figure size 800x400 with 2 Axes>"
      ]
     },
     "metadata": {
      "needs_background": "light"
     }
    }
   ],
   "metadata": {}
  },
  {
   "cell_type": "markdown",
   "source": [
    "Well I can confidently say that's not the issue.  The PCA still seems equally as worthless.  Each component extracts the exact same amount of variance."
   ],
   "metadata": {}
  },
  {
   "cell_type": "markdown",
   "source": [
    "# RFE?\n",
    "\n",
    "# ML Pipeline\n",
    "\n",
    "# Evaluation\n",
    "\n"
   ],
   "metadata": {}
  }
 ],
 "metadata": {
  "orig_nbformat": 4,
  "language_info": {
   "name": "python",
   "version": "3.9.4",
   "mimetype": "text/x-python",
   "codemirror_mode": {
    "name": "ipython",
    "version": 3
   },
   "pygments_lexer": "ipython3",
   "nbconvert_exporter": "python",
   "file_extension": ".py"
  },
  "kernelspec": {
   "name": "python3",
   "display_name": "Python 3.9.4 64-bit ('test-env': conda)"
  },
  "interpreter": {
   "hash": "90d438c8c31447cd907cd39f7892f296267bc18cf32349d8b24848e9f065823f"
  }
 },
 "nbformat": 4,
 "nbformat_minor": 2
}