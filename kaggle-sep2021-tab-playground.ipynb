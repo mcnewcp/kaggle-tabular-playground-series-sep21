{
  "nbformat": 4,
  "nbformat_minor": 0,
  "metadata": {
    "colab": {
      "name": "kaggle-sep2021-tab-playground.ipynb",
      "provenance": [],
      "toc_visible": true,
      "authorship_tag": "ABX9TyOdi27gvFqe5pHFr45f69aq",
      "include_colab_link": true
    },
    "kernelspec": {
      "name": "python3",
      "display_name": "Python 3"
    },
    "language_info": {
      "name": "python"
    }
  },
  "cells": [
    {
      "cell_type": "markdown",
      "metadata": {
        "id": "view-in-github",
        "colab_type": "text"
      },
      "source": [
        "<a href=\"https://colab.research.google.com/github/mcnewcp/kaggle-tabular-playground-series-sep21/blob/ajayi-begins/kaggle-sep2021-tab-playground.ipynb\" target=\"_parent\"><img src=\"https://colab.research.google.com/assets/colab-badge.svg\" alt=\"Open In Colab\"/></a>"
      ]
    },
    {
      "cell_type": "markdown",
      "metadata": {
        "id": "JiteHNb9I4ar"
      },
      "source": [
        "# Tabular Playground | September 2021\n",
        "This notebook produces a machine learning model to meet the rules and specifications of the [tabular playground](https://www.kaggle.com/c/tabular-playground-series-sep-2021/overview) September 2021 competition. \n",
        "\n",
        "From the overview page, the associated dataset was originally used to predict whether or not a customer filed an insurance claim. The data has been anonymized and generated through th [CTGAN](https://github.com/sdv-dev/CTGAN) deep learning synthetic data generation process.  \n",
        "\n",
        "On this competition, Coy McNew and Evan Amway are collaborating with me."
      ]
    },
    {
      "cell_type": "code",
      "metadata": {
        "id": "e5RJuf0JOYln"
      },
      "source": [
        "# Formatting Colab Output to Wrap Text\n",
        "from IPython.display import HTML, display\n",
        "\n",
        "def set_css():\n",
        "  display(HTML('''\n",
        "  <style>\n",
        "    pre {\n",
        "        white-space: pre-wrap;\n",
        "    }\n",
        "  </style>\n",
        "  '''))\n",
        "get_ipython().events.register('pre_run_cell', set_css)"
      ],
      "execution_count": null,
      "outputs": []
    },
    {
      "cell_type": "markdown",
      "metadata": {
        "id": "PW8YReGXMwAx"
      },
      "source": [
        "## Data Setup\n",
        "To get started, we will import the required data-related files through the [Kaggle API](https://www.kaggle.com/docs/api). However, first, we will connect to Google Drive where the data will be housed after it has been extracted from Kaggle."
      ]
    },
    {
      "cell_type": "markdown",
      "metadata": {
        "id": "pQzOUbGINbKn"
      },
      "source": [
        "### Connect to to Google Drive\n"
      ]
    },
    {
      "cell_type": "code",
      "metadata": {
        "colab": {
          "base_uri": "https://localhost:8080/",
          "height": 51
        },
        "id": "zGU910x4Ilqu",
        "outputId": "e23ff83c-ab0b-4619-c891-86175fea8bba"
      },
      "source": [
        "from google.colab import drive\n",
        "drive.mount('/content/gdrive')"
      ],
      "execution_count": null,
      "outputs": [
        {
          "output_type": "display_data",
          "data": {
            "text/html": [
              "\n",
              "  <style>\n",
              "    pre {\n",
              "        white-space: pre-wrap;\n",
              "    }\n",
              "  </style>\n",
              "  "
            ],
            "text/plain": [
              "<IPython.core.display.HTML object>"
            ]
          },
          "metadata": {}
        },
        {
          "output_type": "stream",
          "name": "stdout",
          "text": [
            "Drive already mounted at /content/gdrive; to attempt to forcibly remount, call drive.mount(\"/content/gdrive\", force_remount=True).\n"
          ]
        }
      ]
    },
    {
      "cell_type": "code",
      "metadata": {
        "colab": {
          "base_uri": "https://localhost:8080/",
          "height": 17
        },
        "id": "7JWSC2MXNp3E",
        "outputId": "f4b86398-edb0-4479-fd75-527765820260"
      },
      "source": [
        "import os\n",
        "os.environ['KAGGLE_CONFIG_DIR'] = \"/content/gdrive/My Drive/Colab Notebooks/Kaggle\""
      ],
      "execution_count": null,
      "outputs": [
        {
          "output_type": "display_data",
          "data": {
            "text/html": [
              "\n",
              "  <style>\n",
              "    pre {\n",
              "        white-space: pre-wrap;\n",
              "    }\n",
              "  </style>\n",
              "  "
            ],
            "text/plain": [
              "<IPython.core.display.HTML object>"
            ]
          },
          "metadata": {}
        }
      ]
    },
    {
      "cell_type": "markdown",
      "metadata": {
        "id": "4Yqo4YFz46Kp"
      },
      "source": [
        "### Point directory towards Kaggle directory in Google Drive\n",
        "Connect to the .json file that contains the Kaggle API information, which is located in Google Drive\n"
      ]
    },
    {
      "cell_type": "code",
      "metadata": {
        "colab": {
          "base_uri": "https://localhost:8080/",
          "height": 34
        },
        "id": "kgH2HCPk5AGR",
        "outputId": "19c04199-3011-4f30-a271-778af2f69abf"
      },
      "source": [
        "%cd /content/gdrive/My Drive/Colab Notebooks/Kaggle"
      ],
      "execution_count": null,
      "outputs": [
        {
          "output_type": "display_data",
          "data": {
            "text/html": [
              "\n",
              "  <style>\n",
              "    pre {\n",
              "        white-space: pre-wrap;\n",
              "    }\n",
              "  </style>\n",
              "  "
            ],
            "text/plain": [
              "<IPython.core.display.HTML object>"
            ]
          },
          "metadata": {}
        },
        {
          "output_type": "stream",
          "name": "stdout",
          "text": [
            "/content/gdrive/My Drive/Colab Notebooks/Kaggle\n"
          ]
        }
      ]
    },
    {
      "cell_type": "code",
      "metadata": {
        "id": "IKNYAHva_jt_",
        "colab": {
          "base_uri": "https://localhost:8080/",
          "height": 17
        },
        "outputId": "5f9a0090-6ee3-4def-ebcd-1855d66efa33"
      },
      "source": [
        "# Install Kaggle API\n",
        "!pip install -q kaggle"
      ],
      "execution_count": null,
      "outputs": [
        {
          "output_type": "display_data",
          "data": {
            "text/html": [
              "\n",
              "  <style>\n",
              "    pre {\n",
              "        white-space: pre-wrap;\n",
              "    }\n",
              "  </style>\n",
              "  "
            ],
            "text/plain": [
              "<IPython.core.display.HTML object>"
            ]
          },
          "metadata": {}
        }
      ]
    },
    {
      "cell_type": "markdown",
      "metadata": {
        "id": "sUjxyrnpf9Ul"
      },
      "source": [
        "#### Acquire dataset for competition\n",
        "Take a moment to confirm you are pointed toward the correct working directory, and then take a glance at the available files provided by the competition."
      ]
    },
    {
      "cell_type": "code",
      "metadata": {
        "colab": {
          "base_uri": "https://localhost:8080/",
          "height": 34
        },
        "id": "vzHE3OdQ5N3e",
        "outputId": "50c0effc-0616-4eea-eab9-4ebaa838a45b"
      },
      "source": [
        "# Confirm working directory\n",
        "!pwd"
      ],
      "execution_count": null,
      "outputs": [
        {
          "output_type": "display_data",
          "data": {
            "text/html": [
              "\n",
              "  <style>\n",
              "    pre {\n",
              "        white-space: pre-wrap;\n",
              "    }\n",
              "  </style>\n",
              "  "
            ],
            "text/plain": [
              "<IPython.core.display.HTML object>"
            ]
          },
          "metadata": {}
        },
        {
          "output_type": "stream",
          "name": "stdout",
          "text": [
            "/content/gdrive/My Drive/Colab Notebooks/Kaggle\n"
          ]
        }
      ]
    },
    {
      "cell_type": "code",
      "metadata": {
        "colab": {
          "base_uri": "https://localhost:8080/",
          "height": 136
        },
        "id": "PvSKY4JLPs6f",
        "outputId": "9d7b64e7-aa17-4ccd-e17d-a9c50cc84833"
      },
      "source": [
        "# Examine the files available for the tabular playground competition\n",
        "!kaggle competitions files tabular-playground-series-sep-2021"
      ],
      "execution_count": null,
      "outputs": [
        {
          "output_type": "display_data",
          "data": {
            "text/html": [
              "\n",
              "  <style>\n",
              "    pre {\n",
              "        white-space: pre-wrap;\n",
              "    }\n",
              "  </style>\n",
              "  "
            ],
            "text/plain": [
              "<IPython.core.display.HTML object>"
            ]
          },
          "metadata": {}
        },
        {
          "output_type": "stream",
          "name": "stdout",
          "text": [
            "Warning: Looks like you're using an outdated API Version, please consider updating (server 1.5.12 / client 1.5.4)\n",
            "name                  size  creationDate         \n",
            "-------------------  -----  -------------------  \n",
            "train.csv            862MB  2021-08-26 14:16:48  \n",
            "sample_solution.csv    6MB  2021-08-26 14:16:48  \n",
            "test.csv             444MB  2021-08-26 14:16:48  \n"
          ]
        }
      ]
    },
    {
      "cell_type": "markdown",
      "metadata": {
        "id": "h9rE5ZDyj8Je"
      },
      "source": [
        "Download .csv file from the competition website API. Upon visual inspection, you will see that the file is downloaded as a zipped .csv file (.csv.zip). Fortunately, pandas is capable of reading zipped .csv files."
      ]
    },
    {
      "cell_type": "code",
      "metadata": {
        "id": "2NHhiRIeizr-",
        "colab": {
          "base_uri": "https://localhost:8080/",
          "height": 187
        },
        "outputId": "a900e12c-3e91-482e-ae71-fa343c280077"
      },
      "source": [
        "# Download the zipped .csv files from competition API to file path in Google Drive\n",
        "\n",
        "## sample solution .csv\n",
        "!kaggle competitions download tabular-playground-series-sep-2021 --file sample_solution.csv --path \"/content/gdrive/My Drive/Colab Notebooks/Kaggle/competitions/tabular-playground-sep2021\"\n",
        "\n",
        "## training set\n",
        "!kaggle competitions download tabular-playground-series-sep-2021 --file train.csv --path \"/content/gdrive/My Drive/Colab Notebooks/Kaggle/competitions/tabular-playground-sep2021\"\n",
        "\n",
        "## test set\n",
        "!kaggle competitions download tabular-playground-series-sep-2021 --file test.csv --path \"/content/gdrive/My Drive/Colab Notebooks/Kaggle/competitions/tabular-playground-sep2021\""
      ],
      "execution_count": null,
      "outputs": [
        {
          "output_type": "display_data",
          "data": {
            "text/html": [
              "\n",
              "  <style>\n",
              "    pre {\n",
              "        white-space: pre-wrap;\n",
              "    }\n",
              "  </style>\n",
              "  "
            ],
            "text/plain": [
              "<IPython.core.display.HTML object>"
            ]
          },
          "metadata": {}
        },
        {
          "output_type": "stream",
          "name": "stdout",
          "text": [
            "sample_solution.csv.zip: Skipping, found more recently modified local copy (use --force to force download)\n",
            "Downloading train.csv.zip to /content/gdrive/My Drive/Colab Notebooks/Kaggle/competitions/tabular-playground-sep2021\n",
            " 99% 391M/394M [00:04<00:00, 109MB/s]\n",
            "100% 394M/394M [00:04<00:00, 99.5MB/s]\n",
            "Downloading test.csv.zip to /content/gdrive/My Drive/Colab Notebooks/Kaggle/competitions/tabular-playground-sep2021\n",
            " 99% 201M/203M [00:02<00:00, 102MB/s]\n",
            "100% 203M/203M [00:02<00:00, 95.1MB/s]\n"
          ]
        }
      ]
    },
    {
      "cell_type": "markdown",
      "metadata": {
        "id": "_cvWoaCdX680"
      },
      "source": [
        "### Import Necessary Preprocessing Modules\n"
      ]
    },
    {
      "cell_type": "code",
      "metadata": {
        "colab": {
          "base_uri": "https://localhost:8080/",
          "height": 17
        },
        "id": "abpRR2D8YOcz",
        "outputId": "d9aed6ae-3c83-4e3e-b9d1-2c84be742bed"
      },
      "source": [
        "import pandas as pd\n",
        "import numpy as np\n",
        "import seaborn as sns\n",
        "import matplotlib.pyplot as plt\n",
        "\n",
        "import os"
      ],
      "execution_count": null,
      "outputs": [
        {
          "output_type": "display_data",
          "data": {
            "text/html": [
              "\n",
              "  <style>\n",
              "    pre {\n",
              "        white-space: pre-wrap;\n",
              "    }\n",
              "  </style>\n",
              "  "
            ],
            "text/plain": [
              "<IPython.core.display.HTML object>"
            ]
          },
          "metadata": {}
        }
      ]
    },
    {
      "cell_type": "markdown",
      "metadata": {
        "id": "1ad1hZJYYsMU"
      },
      "source": [
        "### Prepare training and test sets\n",
        "To prepare the data sets for EDA, we will need to clean and process the datasets to allow for EDA to be helpful. \n",
        "\n",
        "First, let's take a look at the size of the training and test sets. "
      ]
    },
    {
      "cell_type": "code",
      "metadata": {
        "colab": {
          "base_uri": "https://localhost:8080/",
          "height": 248
        },
        "id": "vNIeOAHGi3La",
        "outputId": "46a3ed2b-8a50-4c65-e9d1-6a9f05126fc0"
      },
      "source": [
        "# Import training data from competition .csv\n",
        "df_main_trian = pd.read_csv(\"/content/gdrive/My Drive/Colab Notebooks/Kaggle/competitions/tabular-playground-sep2021/train.csv.zip\")\n",
        "\n",
        "# Import test data from competition .csv\n",
        "df_main_test = pd.read_csv(\"/content/gdrive/My Drive/Colab Notebooks/Kaggle/competitions/tabular-playground-sep2021/test.csv.zip\")\n"
      ],
      "execution_count": null,
      "outputs": [
        {
          "output_type": "display_data",
          "data": {
            "text/html": [
              "\n",
              "  <style>\n",
              "    pre {\n",
              "        white-space: pre-wrap;\n",
              "    }\n",
              "  </style>\n",
              "  "
            ],
            "text/plain": [
              "<IPython.core.display.HTML object>"
            ]
          },
          "metadata": {}
        },
        {
          "output_type": "stream",
          "name": "stdout",
          "text": [
            "There are {} rows and {} columns in the training set.\n"
          ]
        },
        {
          "output_type": "error",
          "ename": "AttributeError",
          "evalue": "ignored",
          "traceback": [
            "\u001b[0;31m---------------------------------------------------------------------------\u001b[0m",
            "\u001b[0;31mAttributeError\u001b[0m                            Traceback (most recent call last)",
            "\u001b[0;32m<ipython-input-34-992137ab7ee5>\u001b[0m in \u001b[0;36m<module>\u001b[0;34m()\u001b[0m\n\u001b[1;32m      6\u001b[0m \u001b[0;34m\u001b[0m\u001b[0m\n\u001b[1;32m      7\u001b[0m \u001b[0;31m# Take a look at the dimensions of the freshly imported dataframe.\u001b[0m\u001b[0;34m\u001b[0m\u001b[0;34m\u001b[0m\u001b[0;34m\u001b[0m\u001b[0m\n\u001b[0;32m----> 8\u001b[0;31m \u001b[0mprint\u001b[0m\u001b[0;34m(\u001b[0m\u001b[0;34m\"There are {} rows and {} columns in the training set.\"\u001b[0m\u001b[0;34m)\u001b[0m\u001b[0;34m.\u001b[0m\u001b[0mformat\u001b[0m\u001b[0;34m(\u001b[0m\u001b[0mdf_main_trian\u001b[0m\u001b[0;34m.\u001b[0m\u001b[0mshape\u001b[0m\u001b[0;34m[\u001b[0m\u001b[0;36m0\u001b[0m\u001b[0;34m]\u001b[0m\u001b[0;34m,\u001b[0m \u001b[0mdf_main_trian\u001b[0m\u001b[0;34m.\u001b[0m\u001b[0mshape\u001b[0m\u001b[0;34m[\u001b[0m\u001b[0;36m1\u001b[0m\u001b[0;34m]\u001b[0m\u001b[0;34m)\u001b[0m\u001b[0;34m\u001b[0m\u001b[0;34m\u001b[0m\u001b[0m\n\u001b[0m\u001b[1;32m      9\u001b[0m \u001b[0;31m#print(df_main_test.shape)\u001b[0m\u001b[0;34m\u001b[0m\u001b[0;34m\u001b[0m\u001b[0;34m\u001b[0m\u001b[0m\n",
            "\u001b[0;31mAttributeError\u001b[0m: 'NoneType' object has no attribute 'format'"
          ]
        }
      ]
    },
    {
      "cell_type": "code",
      "metadata": {
        "colab": {
          "base_uri": "https://localhost:8080/",
          "height": 51
        },
        "id": "v-P-fpj4cCOf",
        "outputId": "376c8f21-023d-46ee-c2a9-0771ea2fb4f5"
      },
      "source": [
        "# Take a look at the dimensions of the freshly imported dataframe.\n",
        "print(\"There are {} rows and {} columns in the training set.\".format(df_main_trian.shape[0], df_main_trian.shape[1]))\n",
        "print(\"There are {} rows and {} columns in the training set.\".format(df_main_test.shape[0], df_main_test.shape[1]))"
      ],
      "execution_count": null,
      "outputs": [
        {
          "output_type": "display_data",
          "data": {
            "text/html": [
              "\n",
              "  <style>\n",
              "    pre {\n",
              "        white-space: pre-wrap;\n",
              "    }\n",
              "  </style>\n",
              "  "
            ],
            "text/plain": [
              "<IPython.core.display.HTML object>"
            ]
          },
          "metadata": {}
        },
        {
          "output_type": "stream",
          "name": "stdout",
          "text": [
            "There are 957919 rows and 120 columns in the training set.\n",
            "There are 493474 rows and 119 columns in the training set.\n"
          ]
        }
      ]
    },
    {
      "cell_type": "markdown",
      "metadata": {
        "id": "bAypq_CddbLQ"
      },
      "source": [
        "Get information on the any differences between the columns of the test and training sets"
      ]
    },
    {
      "cell_type": "code",
      "metadata": {
        "colab": {
          "base_uri": "https://localhost:8080/",
          "height": 34
        },
        "id": "Z_1F6hrjc9p7",
        "outputId": "0382138f-a9b1-4076-86f1-b7eeefb8ad27"
      },
      "source": [
        "def listDiff(li1, li2):\n",
        "    return list(set(li1) - set(li2)) + list(set(li2) - set(li1))\n",
        "\n",
        "coltrain = df_main_trian.columns\n",
        "coltest = df_main_test.columns\n",
        "\n",
        "colDiff = listDiff(coltrain, coltest)\n",
        "print(\"The following column(s) is(are) different betweeen the training and test: {}\".format(colDiff))"
      ],
      "execution_count": null,
      "outputs": [
        {
          "output_type": "display_data",
          "data": {
            "text/html": [
              "\n",
              "  <style>\n",
              "    pre {\n",
              "        white-space: pre-wrap;\n",
              "    }\n",
              "  </style>\n",
              "  "
            ],
            "text/plain": [
              "<IPython.core.display.HTML object>"
            ]
          },
          "metadata": {}
        },
        {
          "output_type": "stream",
          "name": "stdout",
          "text": [
            "The following column(s) is(are) different betweeen the training and test: ['claim']\n"
          ]
        }
      ]
    },
    {
      "cell_type": "markdown",
      "metadata": {
        "id": "BmU6wmMBd-bq"
      },
      "source": [
        "According to this exercise, there is only one column that differs between the test and and trianing set. This column is called `claim`. The reason it is omitted form the test set is because it will be predicted and submitted to Kaggle for the competition as a probability. We will split the training set to test it before making predictions with the `test.csv` provided by the competition. "
      ]
    },
    {
      "cell_type": "markdown",
      "metadata": {
        "id": "LA-xADave-Gx"
      },
      "source": [
        "Next, let's examine the training set more closely by learning about the datatypes of each column"
      ]
    },
    {
      "cell_type": "code",
      "metadata": {
        "colab": {
          "base_uri": "https://localhost:8080/",
          "height": 68
        },
        "id": "syU3SUdgdh0a",
        "outputId": "b9b8308d-527f-433f-e420-7985e4d29a90"
      },
      "source": [
        "lst_train_dtypes = df_main_trian.dtypes.value_counts()\n",
        "print(lst_train_dtypes)"
      ],
      "execution_count": null,
      "outputs": [
        {
          "output_type": "display_data",
          "data": {
            "text/html": [
              "\n",
              "  <style>\n",
              "    pre {\n",
              "        white-space: pre-wrap;\n",
              "    }\n",
              "  </style>\n",
              "  "
            ],
            "text/plain": [
              "<IPython.core.display.HTML object>"
            ]
          },
          "metadata": {}
        },
        {
          "output_type": "stream",
          "name": "stdout",
          "text": [
            "float64    118\n",
            "int64        2\n",
            "dtype: int64\n"
          ]
        }
      ]
    },
    {
      "cell_type": "markdown",
      "metadata": {
        "id": "wjYJ0sGPfsmo"
      },
      "source": [
        "The results show that almost all of the datatypes are floats except for two. These two exceptions are the `id` and the `claim` columns. Thus, working with mixed datatypes will not be an issue for this workbook. \n",
        "\n",
        "The next step will be to visualize these features to get a better understanding of how they will play in the model. Following thay step, the missing data will be analyzed. \n",
        "\n",
        "EDA\n",
        "- descriptive stats\n",
        "- find correlations\n",
        "  * heatmap\n",
        "- anticorrelations\n",
        "- PCA (?)\n",
        "- Feature selection\n",
        "  * Chi-Squared test\n",
        "  * [SelectKBest](https://www.datacamp.com/community/tutorials/feature-selection-python)\n",
        "  * [Recursive Feature Elimination](https://machinelearningmastery.com/feature-selection-machine-learning-python/)\n",
        "  * Feature Importance: subsample a tiny amount of data and run a tree-based model and assess feature importantce\n"
      ]
    },
    {
      "cell_type": "markdown",
      "metadata": {
        "id": "orqy880TYUpI"
      },
      "source": [
        "## Exploratory Data Analysis"
      ]
    }
  ]
}